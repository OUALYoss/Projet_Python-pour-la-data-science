{
 "cells": [
  {
   "cell_type": "markdown",
   "metadata": {},
   "source": [
    "# <span style=\"color:#086591;\">Analyse Description de la data</span>"
   ]
  },
  {
   "cell_type": "markdown",
   "metadata": {},
   "source": [
    "## <span style=\"color:white;\">Description des variables</span>"
   ]
  },
  {
   "cell_type": "markdown",
   "metadata": {},
   "source": [
    "- **Carrier Code** : Code abrégé de la compagnie aérienne .\n",
    "- **Date (MM/DD/YYYY)** : Date du vol au format mois/jour/année .\n",
    "- **Flight Number** : Numéro unique du vol, souvent combiné avec le **Carrier Code** pour identifier un vol spécifique.\n",
    "- **Tail Number** : Numéro d'identification unique de l'avion utilisé pour le vol .\n",
    "- **Destination Airport** : Code de l'aéroport de destination, au format IATA (ex. \"JFK\" pour New York John F. Kennedy).\n",
    "- **Scheduled Departure Time** : Heure prévue de départ du vol, en général en heure locale.\n",
    "- **Actual Departure Time** : Heure réelle à laquelle l'avion a quitté la porte d'embarquement.\n",
    "- **Scheduled Elapsed Time (Minutes)** : Durée prévue du vol en minutes (inclut le temps de vol et le temps prévu au sol, comme le taxiing).\n",
    "- **Actual Elapsed Time (Minutes)** : Durée réelle du vol en minutes, mesurée de la porte d'embarquement à la porte d'arrivée.\n",
    "- **Departure Delay (Minutes)** : Retard au départ en minutes, calculé comme :\n",
    "  Actual Departure Time−Scheduled Departure Time\n",
    "- **Wheels-off Time** : Heure à laquelle l'avion a effectivement quitté le sol (lorsque les roues quittent la piste).\n",
    "- **Taxi-Out Time (Minutes)** : Temps écoulé entre le moment où l'avion quitte la porte d'embarquement et le moment où il décolle (roulement au sol).\n",
    "- **Delay Carrier (Minutes)** : Retard causé par la compagnie aérienne, lié à des problèmes internes (ex. maintenance, équipage).\n",
    "- **Delay Weather (Minutes)** : Retard causé par des conditions météorologiques défavorables.\n",
    "- **Delay National Aviation System (Minutes)** : Retard lié à la gestion nationale de l'aviation, comme les restrictions de trafic aérien ou la gestion des aéroports.\n",
    "- **Delay Security (Minutes)** : Retard causé par des problèmes de sécurité (ex. contrôles prolongés).\n",
    "- **Delay Late Aircraft Arrival (Minutes)** : Retard causé par l’arrivée tardive de l’avion précédemment affecté à ce vol."
   ]
  },
  {
   "cell_type": "code",
   "execution_count": 3,
   "metadata": {},
   "outputs": [],
   "source": [
    "#Imporattion des bibliothèques\n",
    "import pandas as pd"
   ]
  },
  {
   "cell_type": "code",
   "execution_count": 5,
   "metadata": {},
   "outputs": [
    {
     "data": {
      "text/plain": [
       "Index(['time', 'temperature_2m (°C)', 'relative_humidity_2m (%)',\n",
       "       'dew_point_2m (°C)', 'apparent_temperature (°C)', 'precipitation (mm)',\n",
       "       'rain (mm)', 'snowfall (cm)', 'snow_depth (m)',\n",
       "       'weather_code (wmo code)', 'pressure_msl (hPa)',\n",
       "       'surface_pressure (hPa)', 'cloud_cover (%)', 'cloud_cover_low (%)',\n",
       "       'cloud_cover_mid (%)', 'cloud_cover_high (%)',\n",
       "       'et0_fao_evapotranspiration (mm)', 'vapour_pressure_deficit (kPa)',\n",
       "       'wind_speed_10m (km/h)', 'wind_speed_100m (km/h)',\n",
       "       'wind_direction_10m (°)', 'wind_direction_100m (°)',\n",
       "       'wind_gusts_10m (km/h)', 'soil_temperature_0_to_7cm (°C)',\n",
       "       'soil_temperature_7_to_28cm (°C)', 'soil_temperature_28_to_100cm (°C)',\n",
       "       'soil_temperature_100_to_255cm (°C)', 'soil_moisture_0_to_7cm (m³/m³)',\n",
       "       'soil_moisture_7_to_28cm (m³/m³)', 'soil_moisture_28_to_100cm (m³/m³)',\n",
       "       'soil_moisture_100_to_255cm (m³/m³)', 'Carrier Code', 'Date',\n",
       "       'Flight Number', 'Tail Number', 'Destination Airport',\n",
       "       'Scheduled departure time', 'Actual departure time',\n",
       "       'Scheduled elapsed time (Minutes)', 'Actual elapsed time (Minutes)',\n",
       "       'Departure delay (Minutes)', 'Wheels-off time',\n",
       "       'Taxi-Out time (Minutes)', 'Delay Carrier (Minutes)',\n",
       "       'Delay Weather (Minutes)', 'Delay National Aviation System (Minutes)',\n",
       "       'Delay Security (Minutes)', 'Delay Late Aircraft Arrival (Minutes)'],\n",
       "      dtype='object')"
      ]
     },
     "execution_count": 5,
     "metadata": {},
     "output_type": "execute_result"
    }
   ],
   "source": [
    "data = pd.read_csv(\"data.csv\")\n",
    "data.columns"
   ]
  },
  {
   "cell_type": "code",
   "execution_count": null,
   "metadata": {},
   "outputs": [],
   "source": []
  },
  {
   "cell_type": "code",
   "execution_count": null,
   "metadata": {},
   "outputs": [],
   "source": []
  }
 ],
 "metadata": {
  "kernelspec": {
   "display_name": "base",
   "language": "python",
   "name": "python3"
  },
  "language_info": {
   "codemirror_mode": {
    "name": "ipython",
    "version": 3
   },
   "file_extension": ".py",
   "mimetype": "text/x-python",
   "name": "python",
   "nbconvert_exporter": "python",
   "pygments_lexer": "ipython3",
   "version": "3.12.7"
  }
 },
 "nbformat": 4,
 "nbformat_minor": 2
}
