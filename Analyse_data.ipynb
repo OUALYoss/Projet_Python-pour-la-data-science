{
 "cells": [
  {
   "cell_type": "markdown",
   "metadata": {},
   "source": [
    "# <span style=\"color:#086591;\">Analyse Description de la data</span>"
   ]
  },
  {
   "cell_type": "markdown",
   "metadata": {},
   "source": [
    "## <span style=\"color:white;\">Description des variables</span>"
   ]
  },
  {
   "cell_type": "markdown",
   "metadata": {},
   "source": [
    "- **Carrier Code** : Code abrégé de la compagnie aérienne .\n",
    "- **Date (MM/DD/YYYY)** : Date du vol au format mois/jour/année .\n",
    "- **Flight Number** : Numéro unique du vol, souvent combiné avec le **Carrier Code** pour identifier un vol spécifique.\n",
    "- **Tail Number** : Numéro d'identification unique de l'avion utilisé pour le vol .\n",
    "- **Destination Airport** : Code de l'aéroport de destination, au format IATA (ex. \"JFK\" pour New York John F. Kennedy).\n",
    "- **Scheduled Departure Time** : Heure prévue de départ du vol, en général en heure locale.\n",
    "- **Actual Departure Time** : Heure réelle à laquelle l'avion a quitté la porte d'embarquement.\n",
    "- **Scheduled Elapsed Time (Minutes)** : Durée prévue du vol en minutes (inclut le temps de vol et le temps prévu au sol, comme le taxiing).\n",
    "- **Actual Elapsed Time (Minutes)** : Durée réelle du vol en minutes, mesurée de la porte d'embarquement à la porte d'arrivée.\n",
    "- **Departure Delay (Minutes)** : Retard au départ en minutes, calculé comme :\n",
    "  Actual Departure Time−Scheduled Departure Time\n",
    "- **Wheels-off Time** : Heure à laquelle l'avion a effectivement quitté le sol (lorsque les roues quittent la piste).\n",
    "- **Taxi-Out Time (Minutes)** : Temps écoulé entre le moment où l'avion quitte la porte d'embarquement et le moment où il décolle (roulement au sol).\n",
    "- **Delay Carrier (Minutes)** : Retard causé par la compagnie aérienne, lié à des problèmes internes (ex. maintenance, équipage).\n",
    "- **Delay Weather (Minutes)** : Retard causé par des conditions météorologiques défavorables.\n",
    "- **Delay National Aviation System (Minutes)** : Retard lié à la gestion nationale de l'aviation, comme les restrictions de trafic aérien ou la gestion des aéroports.\n",
    "- **Delay Security (Minutes)** : Retard causé par des problèmes de sécurité (ex. contrôles prolongés).\n",
    "- **Delay Late Aircraft Arrival (Minutes)** : Retard causé par l’arrivée tardive de l’avion précédemment affecté à ce vol."
   ]
  }
 ],
 "metadata": {
  "kernelspec": {
   "display_name": "base",
   "language": "python",
   "name": "python3"
  },
  "language_info": {
   "codemirror_mode": {
    "name": "ipython",
    "version": 3
   },
   "file_extension": ".py",
   "mimetype": "text/x-python",
   "name": "python",
   "nbconvert_exporter": "python",
   "pygments_lexer": "ipython3",
   "version": "3.12.7"
  }
 },
 "nbformat": 4,
 "nbformat_minor": 2
}
