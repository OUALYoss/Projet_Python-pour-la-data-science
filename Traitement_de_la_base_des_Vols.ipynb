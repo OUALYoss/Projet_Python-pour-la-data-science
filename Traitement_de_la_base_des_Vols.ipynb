{
 "cells": [
  {
   "cell_type": "markdown",
   "metadata": {},
   "source": [
    "<span style=\"color:darkcyan;\">**Téléchargement des bibliothèques**</span>"
   ]
  },
  {
   "cell_type": "code",
   "execution_count": 3,
   "metadata": {},
   "outputs": [],
   "source": [
    "import pandas as pd"
   ]
  },
  {
   "cell_type": "markdown",
   "metadata": {},
   "source": [
    "<span style=\"color:darkcyan;\">**Importation de la base de données et création du data frame**</span>"
   ]
  },
  {
   "cell_type": "code",
   "execution_count": 9,
   "metadata": {},
   "outputs": [
    {
     "name": "stdout",
     "output_type": "stream",
     "text": [
      "  Carrier Code    Date (MM/DD/YYYY)  Flight Number Tail Number  \\\n",
      "0           AA  2020-01-01 00:00:00              1      N110AN   \n",
      "1           AA  2020-01-01 00:00:00              3      N111ZM   \n",
      "2           AA  2020-01-01 00:00:00            111      N663AW   \n",
      "3           AA  2020-01-01 00:00:00            117      N113AN   \n",
      "4           AA  2020-01-01 00:00:00            179      N103NN   \n",
      "\n",
      "  Destination Airport Scheduled departure time Actual departure time  \\\n",
      "0                 LAX                 07:30:00              07:30:00   \n",
      "1                 LAX                 12:30:00              12:24:00   \n",
      "2                 CLT                 12:00:00              13:11:00   \n",
      "3                 LAX                 19:30:00              19:26:00   \n",
      "4                 SFO                 10:30:00              10:25:00   \n",
      "\n",
      "   Scheduled elapsed time (Minutes)  Actual elapsed time (Minutes)  \\\n",
      "0                               393                            404   \n",
      "1                               389                            370   \n",
      "2                               127                            119   \n",
      "3                               402                            379   \n",
      "4                               409                            392   \n",
      "\n",
      "   Departure delay (Minutes) Wheels-off time  Taxi-Out time (Minutes)  \\\n",
      "0                          0        07:57:00                       27   \n",
      "1                         -6        12:38:00                       14   \n",
      "2                         71        13:34:00                       23   \n",
      "3                         -4        19:51:00                       25   \n",
      "4                         -5        10:42:00                       17   \n",
      "\n",
      "   Delay Carrier (Minutes)  Delay Weather (Minutes)  \\\n",
      "0                        0                        0   \n",
      "1                        0                        0   \n",
      "2                       19                        0   \n",
      "3                        0                        0   \n",
      "4                        0                        0   \n",
      "\n",
      "   Delay National Aviation System (Minutes)  Delay Security (Minutes)  \\\n",
      "0                                         0                         0   \n",
      "1                                         0                         0   \n",
      "2                                         0                         0   \n",
      "3                                         0                         0   \n",
      "4                                         0                         0   \n",
      "\n",
      "   Delay Late Aircraft Arrival (Minutes)  \n",
      "0                                      0  \n",
      "1                                      0  \n",
      "2                                     44  \n",
      "3                                      0  \n",
      "4                                      0  \n"
     ]
    }
   ],
   "source": [
    "df = pd.read_excel('/home/onyxia/work/Projet_Python-pour-la-data-science/données_vols.xlsx')\n",
    "# Afficher les 5 premières lignes pour vérifier\n",
    "print(df.head(5))"
   ]
  },
  {
   "cell_type": "code",
   "execution_count": 10,
   "metadata": {},
   "outputs": [
    {
     "name": "stdout",
     "output_type": "stream",
     "text": [
      "True\n"
     ]
    }
   ],
   "source": [
    "# Vérifier si le DataFrame contient des valeurs manquantes\n",
    "print(df.isnull().values.any())"
   ]
  },
  {
   "cell_type": "code",
   "execution_count": 11,
   "metadata": {},
   "outputs": [
    {
     "name": "stdout",
     "output_type": "stream",
     "text": [
      "Carrier Code                                  0\n",
      "Date (MM/DD/YYYY)                             0\n",
      "Flight Number                                 0\n",
      "Tail Number                                 226\n",
      "Destination Airport                           0\n",
      "Scheduled departure time                      0\n",
      "Actual departure time                         0\n",
      "Scheduled elapsed time (Minutes)              0\n",
      "Actual elapsed time (Minutes)                 0\n",
      "Departure delay (Minutes)                     0\n",
      "Wheels-off time                               0\n",
      "Taxi-Out time (Minutes)                       0\n",
      "Delay Carrier (Minutes)                       0\n",
      "Delay Weather (Minutes)                       0\n",
      "Delay National Aviation System (Minutes)      0\n",
      "Delay Security (Minutes)                      0\n",
      "Delay Late Aircraft Arrival (Minutes)         0\n",
      "dtype: int64\n"
     ]
    }
   ],
   "source": [
    "# Nombre de valeurs manquantes par colonne\n",
    "print(df.isnull().sum())"
   ]
  },
  {
   "cell_type": "markdown",
   "metadata": {},
   "source": [
    "<span style=\"color:lightpink;\">**Commentaire de la sortie**</span>\n",
    "\n",
    "<small>La seule variable qui présente des valeurs manquantes est **Tail Number**. Cependant il ne s'agit pas d'une variable explicative dans notre modèle, ainsi ces valeurs manquantes ne nécessite aucun traitement.</small>"
   ]
  },
  {
   "cell_type": "code",
   "execution_count": 8,
   "metadata": {},
   "outputs": [
    {
     "name": "stdout",
     "output_type": "stream",
     "text": [
      "                                      Carrier Code    Date (MM/DD/YYYY)  \\\n",
      "13937                                           AA           03/18/2020   \n",
      "14121                                           AA           03/19/2020   \n",
      "14304                                           AA           03/20/2020   \n",
      "14492                                           AA           03/21/2020   \n",
      "15035                                           AA           03/24/2020   \n",
      "...                                            ...                  ...   \n",
      "35694                                           AA           07/29/2020   \n",
      "35706                                           AA           07/29/2020   \n",
      "49330                                           AA  2021-01-11 00:00:00   \n",
      "57410                                          NaN                  NaN   \n",
      "57411  SOURCE: Bureau of Transportation Statistics                  NaN   \n",
      "\n",
      "       Flight Number Tail Number Destination Airport Scheduled departure time  \\\n",
      "13937          796.0         NaN                 EGE                 10:59:00   \n",
      "14121          796.0         NaN                 EGE                 10:59:00   \n",
      "14304          796.0         NaN                 EGE                 10:59:00   \n",
      "14492          796.0         NaN                 EGE                 10:59:00   \n",
      "15035          177.0         NaN                 SFO                 21:10:00   \n",
      "...              ...         ...                 ...                      ...   \n",
      "35694          250.0         NaN                 MIA                 15:30:00   \n",
      "35706         2452.0         NaN                 MIA                 16:29:00   \n",
      "49330          595.0         NaN                 MIA                 11:10:00   \n",
      "57410            NaN         NaN                 NaN                      NaN   \n",
      "57411            NaN         NaN                 NaN                      NaN   \n",
      "\n",
      "      Actual departure time  Scheduled elapsed time (Minutes)  \\\n",
      "13937              00:00:00                             283.0   \n",
      "14121              00:00:00                             283.0   \n",
      "14304              00:00:00                             283.0   \n",
      "14492              00:00:00                             283.0   \n",
      "15035              00:00:00                             409.0   \n",
      "...                     ...                               ...   \n",
      "35694              00:00:00                             205.0   \n",
      "35706              00:00:00                             203.0   \n",
      "49330              00:00:00                             181.0   \n",
      "57410                   NaN                               NaN   \n",
      "57411                   NaN                               NaN   \n",
      "\n",
      "       Actual elapsed time (Minutes)  Departure delay (Minutes)  \\\n",
      "13937                            0.0                        0.0   \n",
      "14121                            0.0                        0.0   \n",
      "14304                            0.0                        0.0   \n",
      "14492                            0.0                        0.0   \n",
      "15035                            0.0                        0.0   \n",
      "...                              ...                        ...   \n",
      "35694                            0.0                        0.0   \n",
      "35706                            0.0                        0.0   \n",
      "49330                            0.0                        0.0   \n",
      "57410                            NaN                        NaN   \n",
      "57411                            NaN                        NaN   \n",
      "\n",
      "      Wheels-off time  Taxi-Out time (Minutes)  Delay Carrier (Minutes)  \\\n",
      "13937        00:00:00                      0.0                      0.0   \n",
      "14121        00:00:00                      0.0                      0.0   \n",
      "14304        00:00:00                      0.0                      0.0   \n",
      "14492        00:00:00                      0.0                      0.0   \n",
      "15035        00:00:00                      0.0                      0.0   \n",
      "...               ...                      ...                      ...   \n",
      "35694        00:00:00                      0.0                      0.0   \n",
      "35706        00:00:00                      0.0                      0.0   \n",
      "49330        00:00:00                      0.0                      0.0   \n",
      "57410             NaN                      NaN                      NaN   \n",
      "57411             NaN                      NaN                      NaN   \n",
      "\n",
      "       Delay Weather (Minutes)  Delay National Aviation System (Minutes)  \\\n",
      "13937                      0.0                                       0.0   \n",
      "14121                      0.0                                       0.0   \n",
      "14304                      0.0                                       0.0   \n",
      "14492                      0.0                                       0.0   \n",
      "15035                      0.0                                       0.0   \n",
      "...                        ...                                       ...   \n",
      "35694                      0.0                                       0.0   \n",
      "35706                      0.0                                       0.0   \n",
      "49330                      0.0                                       0.0   \n",
      "57410                      NaN                                       NaN   \n",
      "57411                      NaN                                       NaN   \n",
      "\n",
      "       Delay Security (Minutes)  Delay Late Aircraft Arrival (Minutes)  \n",
      "13937                       0.0                                    0.0  \n",
      "14121                       0.0                                    0.0  \n",
      "14304                       0.0                                    0.0  \n",
      "14492                       0.0                                    0.0  \n",
      "15035                       0.0                                    0.0  \n",
      "...                         ...                                    ...  \n",
      "35694                       0.0                                    0.0  \n",
      "35706                       0.0                                    0.0  \n",
      "49330                       0.0                                    0.0  \n",
      "57410                       NaN                                    NaN  \n",
      "57411                       NaN                                    NaN  \n",
      "\n",
      "[228 rows x 17 columns]\n"
     ]
    }
   ],
   "source": [
    "# Filtrer les lignes avec des valeurs manquantes\n",
    "missing_values_rows = df[df.isnull().any(axis=1)]\n",
    "\n",
    "# Afficher les lignes avec des valeurs manquantes\n",
    "print(missing_values_rows)"
   ]
  },
  {
   "cell_type": "markdown",
   "metadata": {},
   "source": [
    "<span style=\"color:darkcyan;\">**Extraction de la date du jour du vol de la colonne Date (MM/DD/YYYY)**</span>"
   ]
  },
  {
   "cell_type": "markdown",
   "metadata": {},
   "source": [
    "<small>D'après la sortie du code précédent, nous pouvons clairement voir que la colonne **Date (MM/DD/YYYY)** ne contient pas uniquement la date du jour du vol mais aussi la chaîne de caractère **00:00:00** qui renvoie à **l'heure du début d'un jour**.</small>"
   ]
  },
  {
   "cell_type": "code",
   "execution_count": 12,
   "metadata": {},
   "outputs": [
    {
     "name": "stdout",
     "output_type": "stream",
     "text": [
      "0        2020-01-01\n",
      "1        2020-01-01\n",
      "2        2020-01-01\n",
      "3        2020-01-01\n",
      "4        2020-01-01\n",
      "            ...    \n",
      "57405    2023-12-31\n",
      "57406    2023-12-31\n",
      "57407    2023-12-31\n",
      "57408    2023-12-31\n",
      "57409    2023-12-31\n",
      "Name: Date, Length: 57410, dtype: object\n"
     ]
    }
   ],
   "source": [
    "# Extraire uniquement la date de la colonne Date (MM/DD/YYYY) dans la nouvelle colonne Date\n",
    "df['Date'] = pd.to_datetime(df['Date (MM/DD/YYYY)']).dt.date  \n",
    "\n",
    "# Afficher la colonne Date\n",
    "print(df.Date)"
   ]
  },
  {
   "cell_type": "markdown",
   "metadata": {},
   "source": [
    "<span style=\"color:darkcyan;\">**Création de la colonne Weekday_Flight**</span>"
   ]
  },
  {
   "cell_type": "markdown",
   "metadata": {},
   "source": [
    "<small>Nous aimerions aussi voir si **le retard d'un vol peut être lié au jour de la semaine où le vol aura lieu**. Pour cela, il est nécessaire de créer une colonne contenant le jour de la semaine **(Monday, Tuesday, Wednesday, Thursday, Friday, Saturday, Sunday)** correspondant à chaque vol de notre data frame.\n",
    "</small>"
   ]
  },
  {
   "cell_type": "code",
   "execution_count": 13,
   "metadata": {},
   "outputs": [
    {
     "name": "stdout",
     "output_type": "stream",
     "text": [
      "            Date Weekday_Flight\n",
      "0     2020-01-01      Wednesday\n",
      "1     2020-01-01      Wednesday\n",
      "2     2020-01-01      Wednesday\n",
      "3     2020-01-01      Wednesday\n",
      "4     2020-01-01      Wednesday\n",
      "...          ...            ...\n",
      "57405 2023-12-31         Sunday\n",
      "57406 2023-12-31         Sunday\n",
      "57407 2023-12-31         Sunday\n",
      "57408 2023-12-31         Sunday\n",
      "57409 2023-12-31         Sunday\n",
      "\n",
      "[57410 rows x 2 columns]\n"
     ]
    }
   ],
   "source": [
    "# Convertir la colonne 'Date' en format datetime \n",
    "df['Date'] = pd.to_datetime(df['Date'])\n",
    "\n",
    "# Créer la colonne Weekday_Flight avec les jours de la semaine correspondant aux dates des vols\n",
    "df['Weekday_Flight'] = df['Date'].dt.day_name()\n",
    "\n",
    "# Afficher Date et Weekday_Flight\n",
    "print(df[['Date','Weekday_Flight']])"
   ]
  },
  {
   "cell_type": "markdown",
   "metadata": {},
   "source": [
    "<span style=\"color:darkcyan;\">**Création de la colonne Season**</span>"
   ]
  },
  {
   "cell_type": "markdown",
   "metadata": {},
   "source": [
    "<small> La variable **\"saison\"** peut influencer les retards des vols en raison des **variations météorologiques** et des **volumes de trafic** spécifiques à chaque période de l'année. Par exemple, l’hiver apporte souvent des conditions difficiles comme la neige ou le brouillard, tandis que l’été, marqué par un trafic élevé, peut être perturbé par des orages ou des surcharges aéroportuaires. Ainsi, en tenant compte des saisons, il devient possible de mieux comprendre et anticiper les facteurs contribuant aux retards. </small>"
   ]
  },
  {
   "cell_type": "code",
   "execution_count": 14,
   "metadata": {},
   "outputs": [
    {
     "name": "stdout",
     "output_type": "stream",
     "text": [
      "1000    Printemps\n",
      "1001    Printemps\n",
      "1002    Printemps\n",
      "1003    Printemps\n",
      "1004    Printemps\n",
      "1005    Printemps\n",
      "1006    Printemps\n",
      "1007    Printemps\n",
      "1008    Printemps\n",
      "1009    Printemps\n",
      "Name: Season, dtype: object\n",
      "2000    Automne\n",
      "2001    Automne\n",
      "2002    Automne\n",
      "2003    Automne\n",
      "2004    Automne\n",
      "2005    Automne\n",
      "2006    Automne\n",
      "2007    Automne\n",
      "2008    Automne\n",
      "2009    Automne\n",
      "Name: Season, dtype: object\n"
     ]
    }
   ],
   "source": [
    "# Définir une fonction qui détermine pour une date données la saison correspondante\n",
    "def get_season(date):\n",
    "    year = date.year\n",
    "    if date >= pd.Timestamp(year=year, month=3, day=21) and date < pd.Timestamp(year=year, month=6, day=21):\n",
    "        return 'Printemps'\n",
    "    elif date >= pd.Timestamp(year=year, month=6, day=21) and date < pd.Timestamp(year=year, month=9, day=23):\n",
    "        return 'Été'\n",
    "    elif date >= pd.Timestamp(year=year, month=9, day=23) and date < pd.Timestamp(year=year, month=12, day=21):\n",
    "        return 'Automne'\n",
    "    else:\n",
    "        return 'Hiver'\n",
    "\n",
    "\n",
    "# Convertir la colonne Date en datetime \n",
    "df['Date'] = pd.to_datetime(df['Date'])\n",
    "\n",
    "# Appliquer la fonction sur la colonne Date du dataframe\n",
    "df['Season'] = df['Date'].apply(get_season)\n",
    "\n",
    "# Afficher  des observations aléatoires du DataFrame\n",
    "print(df.Season[1000:1010])\n",
    "print(df.Season[2000:2010])\n"
   ]
  },
  {
   "cell_type": "markdown",
   "metadata": {},
   "source": [
    "<span style=\"color:darkcyan;\">**Création de notre variable cible Y=Delay**</span>"
   ]
  },
  {
   "cell_type": "markdown",
   "metadata": {},
   "source": [
    "<small> Le **retard d'un vol au départ** se définit comme **l'écart entre l'heure de départ ou d'arrivée prévue d'un vol, telle qu'indiquée dans le programme, et l'heure réelle à laquelle le vol décolle**.. Un vol est souvent considéré en retard si cet écart dépasse un seuil défini, par exemple 5 minutes.\n",
    "</small>"
   ]
  },
  {
   "cell_type": "code",
   "execution_count": 15,
   "metadata": {},
   "outputs": [
    {
     "name": "stdout",
     "output_type": "stream",
     "text": [
      "      Actual departure time Scheduled departure time  Retard\n",
      "0       1900-01-01 07:30:00      1900-01-01 07:30:00       0\n",
      "1       1900-01-01 12:24:00      1900-01-01 12:30:00       0\n",
      "2       1900-01-01 13:11:00      1900-01-01 12:00:00       1\n",
      "3       1900-01-01 19:26:00      1900-01-01 19:30:00       0\n",
      "4       1900-01-01 10:25:00      1900-01-01 10:30:00       0\n",
      "...                     ...                      ...     ...\n",
      "57405   1900-01-01 17:25:00      1900-01-01 17:29:00       0\n",
      "57406   1900-01-01 12:26:00      1900-01-01 12:30:00       0\n",
      "57407   1900-01-01 06:57:00      1900-01-01 06:59:00       0\n",
      "57408   1900-01-01 08:53:00      1900-01-01 08:59:00       0\n",
      "57409   1900-01-01 12:57:00      1900-01-01 12:59:00       0\n",
      "\n",
      "[57410 rows x 3 columns]\n"
     ]
    }
   ],
   "source": [
    "# Convertir les colonnes \"Scheduled departure time\" et \"Actual departure time\" en objets datetime\n",
    "df['Scheduled departure time'] = pd.to_datetime(df['Scheduled departure time'], format='%H:%M:%S')\n",
    "df['Actual departure time'] = pd.to_datetime(df['Actual departure time'], format='%H:%M:%S')\n",
    "\n",
    "# Création de la variable cible \"Retard en calculant la différence en minutes et appliquer la condition\n",
    "df['Retard'] = ((df['Actual departure time'] - df['Scheduled departure time']).dt.total_seconds() / 60 > 5).astype(int)\n",
    "\n",
    "# Afficher les colonnes \"Actual departure time\", \"Scheduled departure time\" et \"Retard\"\n",
    "print(df[['Actual departure time', 'Scheduled departure time', 'Retard']])\n"
   ]
  },
  {
   "cell_type": "code",
   "execution_count": null,
   "metadata": {},
   "outputs": [
    {
     "name": "stdout",
     "output_type": "stream",
     "text": [
      "      Actual departure time Scheduled departure time  Retard\n",
      "0                  07:30:00                 07:30:00       0\n",
      "1                  12:24:00                 12:30:00       0\n",
      "2                  13:11:00                 12:00:00       1\n",
      "3                  19:26:00                 19:30:00       0\n",
      "4                  10:25:00                 10:30:00       0\n",
      "...                     ...                      ...     ...\n",
      "57405              17:25:00                 17:29:00       0\n",
      "57406              12:26:00                 12:30:00       0\n",
      "57407              06:57:00                 06:59:00       0\n",
      "57408              08:53:00                 08:59:00       0\n",
      "57409              12:57:00                 12:59:00       0\n",
      "\n",
      "[57410 rows x 3 columns]\n"
     ]
    }
   ],
   "source": [
    "\n",
    "# Reconvertir les colonnes \"Scheduled departure time\" et \"Actual departure time\" pour ne garder que l'heure \n",
    "df['Scheduled departure time'] = df['Scheduled departure time'].dt.time\n",
    "df['Actual departure time'] = df['Actual departure time'].dt.time\n",
    "\n",
    "# Afficher les colonnes \"Actual departure time\", \"Scheduled departure time\" et \"Retard\"\n",
    "print(df[['Actual departure time', 'Scheduled departure time', 'Retard']])\n",
    "\n"
   ]
  }
 ],
 "metadata": {
  "kernelspec": {
   "display_name": "Python 3",
   "language": "python",
   "name": "python3"
  },
  "language_info": {
   "codemirror_mode": {
    "name": "ipython",
    "version": 3
   },
   "file_extension": ".py",
   "mimetype": "text/x-python",
   "name": "python",
   "nbconvert_exporter": "python",
   "pygments_lexer": "ipython3",
   "version": "3.10.12"
  }
 },
 "nbformat": 4,
 "nbformat_minor": 2
}
