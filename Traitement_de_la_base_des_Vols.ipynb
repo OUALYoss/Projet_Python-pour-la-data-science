{
 "cells": [
  {
   "cell_type": "markdown",
   "metadata": {},
   "source": [
    "<span style=\"color:darkcyan;\">**Téléchargement des bibliothèques**</span>"
   ]
  },
  {
   "cell_type": "code",
   "execution_count": 1,
   "metadata": {},
   "outputs": [
    {
     "name": "stdout",
     "output_type": "stream",
     "text": [
      "Requirement already satisfied: openpyxl in /opt/conda/lib/python3.12/site-packages (3.1.5)\n",
      "Requirement already satisfied: et-xmlfile in /opt/conda/lib/python3.12/site-packages (from openpyxl) (2.0.0)\n"
     ]
    }
   ],
   "source": [
    "import pandas as pd\n",
    "!pip install openpyxl\n"
   ]
  },
  {
   "cell_type": "markdown",
   "metadata": {},
   "source": [
    "<span style=\"color:darkcyan;\">**Importation de la base de données et création du data frame**</span>"
   ]
  },
  {
   "cell_type": "code",
   "execution_count": 2,
   "metadata": {},
   "outputs": [
    {
     "name": "stdout",
     "output_type": "stream",
     "text": [
      "  Carrier Code    Date (MM/DD/YYYY)  Flight Number Tail Number  \\\n",
      "0           AA  2020-01-01 00:00:00              1      N110AN   \n",
      "1           AA  2020-01-01 00:00:00              3      N111ZM   \n",
      "2           AA  2020-01-01 00:00:00            111      N663AW   \n",
      "3           AA  2020-01-01 00:00:00            117      N113AN   \n",
      "4           AA  2020-01-01 00:00:00            179      N103NN   \n",
      "\n",
      "  Destination Airport Scheduled departure time Actual departure time  \\\n",
      "0                 LAX                 07:30:00              07:30:00   \n",
      "1                 LAX                 12:30:00              12:24:00   \n",
      "2                 CLT                 12:00:00              13:11:00   \n",
      "3                 LAX                 19:30:00              19:26:00   \n",
      "4                 SFO                 10:30:00              10:25:00   \n",
      "\n",
      "   Scheduled elapsed time (Minutes)  Actual elapsed time (Minutes)  \\\n",
      "0                               393                            404   \n",
      "1                               389                            370   \n",
      "2                               127                            119   \n",
      "3                               402                            379   \n",
      "4                               409                            392   \n",
      "\n",
      "   Departure delay (Minutes) Wheels-off time  Taxi-Out time (Minutes)  \\\n",
      "0                          0        07:57:00                       27   \n",
      "1                         -6        12:38:00                       14   \n",
      "2                         71        13:34:00                       23   \n",
      "3                         -4        19:51:00                       25   \n",
      "4                         -5        10:42:00                       17   \n",
      "\n",
      "   Delay Carrier (Minutes)  Delay Weather (Minutes)  \\\n",
      "0                        0                        0   \n",
      "1                        0                        0   \n",
      "2                       19                        0   \n",
      "3                        0                        0   \n",
      "4                        0                        0   \n",
      "\n",
      "   Delay National Aviation System (Minutes)  Delay Security (Minutes)  \\\n",
      "0                                         0                         0   \n",
      "1                                         0                         0   \n",
      "2                                         0                         0   \n",
      "3                                         0                         0   \n",
      "4                                         0                         0   \n",
      "\n",
      "   Delay Late Aircraft Arrival (Minutes)  \n",
      "0                                      0  \n",
      "1                                      0  \n",
      "2                                     44  \n",
      "3                                      0  \n",
      "4                                      0  \n"
     ]
    }
   ],
   "source": [
    "df = pd.read_excel('/home/onyxia/work/Projet_Python-pour-la-data-science/données_vols.xlsx')\n",
    "# Afficher les 5 premières lignes pour vérifier\n",
    "print(df.head(5))"
   ]
  },
  {
   "cell_type": "code",
   "execution_count": 3,
   "metadata": {},
   "outputs": [
    {
     "name": "stdout",
     "output_type": "stream",
     "text": [
      "True\n"
     ]
    }
   ],
   "source": [
    "# Vérifier si le DataFrame contient des valeurs manquantes\n",
    "print(df.isnull().values.any())"
   ]
  },
  {
   "cell_type": "code",
   "execution_count": 4,
   "metadata": {},
   "outputs": [
    {
     "name": "stdout",
     "output_type": "stream",
     "text": [
      "Carrier Code                                  0\n",
      "Date (MM/DD/YYYY)                             0\n",
      "Flight Number                                 0\n",
      "Tail Number                                 226\n",
      "Destination Airport                           0\n",
      "Scheduled departure time                      0\n",
      "Actual departure time                         0\n",
      "Scheduled elapsed time (Minutes)              0\n",
      "Actual elapsed time (Minutes)                 0\n",
      "Departure delay (Minutes)                     0\n",
      "Wheels-off time                               0\n",
      "Taxi-Out time (Minutes)                       0\n",
      "Delay Carrier (Minutes)                       0\n",
      "Delay Weather (Minutes)                       0\n",
      "Delay National Aviation System (Minutes)      0\n",
      "Delay Security (Minutes)                      0\n",
      "Delay Late Aircraft Arrival (Minutes)         0\n",
      "dtype: int64\n"
     ]
    }
   ],
   "source": [
    "# Nombre de valeurs manquantes par colonne\n",
    "print(df.isnull().sum())"
   ]
  },
  {
   "cell_type": "markdown",
   "metadata": {},
   "source": [
    "<span style=\"color:lightpink;\">**Commentaire de la sortie**</span>\n",
    "\n",
    "<small>La seule variable qui présente des valeurs manquantes est **Tail Number**. Cependant il ne s'agit pas d'une variable explicative dans notre modèle, ainsi ces valeurs manquantes ne nécessite aucun traitement.</small>"
   ]
  },
  {
   "cell_type": "code",
   "execution_count": 5,
   "metadata": {},
   "outputs": [
    {
     "name": "stdout",
     "output_type": "stream",
     "text": [
      "      Carrier Code    Date (MM/DD/YYYY)  Flight Number Tail Number  \\\n",
      "13937           AA           03/18/2020            796         NaN   \n",
      "14121           AA           03/19/2020            796         NaN   \n",
      "14304           AA           03/20/2020            796         NaN   \n",
      "14492           AA           03/21/2020            796         NaN   \n",
      "15035           AA           03/24/2020            177         NaN   \n",
      "...            ...                  ...            ...         ...   \n",
      "35523           AA           07/28/2020            243         NaN   \n",
      "35524           AA           07/28/2020            250         NaN   \n",
      "35694           AA           07/29/2020            250         NaN   \n",
      "35706           AA           07/29/2020           2452         NaN   \n",
      "49330           AA  2021-01-11 00:00:00            595         NaN   \n",
      "\n",
      "      Destination Airport Scheduled departure time Actual departure time  \\\n",
      "13937                 EGE                 10:59:00              00:00:00   \n",
      "14121                 EGE                 10:59:00              00:00:00   \n",
      "14304                 EGE                 10:59:00              00:00:00   \n",
      "14492                 EGE                 10:59:00              00:00:00   \n",
      "15035                 SFO                 21:10:00              00:00:00   \n",
      "...                   ...                      ...                   ...   \n",
      "35523                 MIA                 13:59:00              00:00:00   \n",
      "35524                 MIA                 15:30:00              00:00:00   \n",
      "35694                 MIA                 15:30:00              00:00:00   \n",
      "35706                 MIA                 16:29:00              00:00:00   \n",
      "49330                 MIA                 11:10:00              00:00:00   \n",
      "\n",
      "       Scheduled elapsed time (Minutes)  Actual elapsed time (Minutes)  \\\n",
      "13937                               283                              0   \n",
      "14121                               283                              0   \n",
      "14304                               283                              0   \n",
      "14492                               283                              0   \n",
      "15035                               409                              0   \n",
      "...                                 ...                            ...   \n",
      "35523                               195                              0   \n",
      "35524                               205                              0   \n",
      "35694                               205                              0   \n",
      "35706                               203                              0   \n",
      "49330                               181                              0   \n",
      "\n",
      "       Departure delay (Minutes) Wheels-off time  Taxi-Out time (Minutes)  \\\n",
      "13937                          0        00:00:00                        0   \n",
      "14121                          0        00:00:00                        0   \n",
      "14304                          0        00:00:00                        0   \n",
      "14492                          0        00:00:00                        0   \n",
      "15035                          0        00:00:00                        0   \n",
      "...                          ...             ...                      ...   \n",
      "35523                          0        00:00:00                        0   \n",
      "35524                          0        00:00:00                        0   \n",
      "35694                          0        00:00:00                        0   \n",
      "35706                          0        00:00:00                        0   \n",
      "49330                          0        00:00:00                        0   \n",
      "\n",
      "       Delay Carrier (Minutes)  Delay Weather (Minutes)  \\\n",
      "13937                        0                        0   \n",
      "14121                        0                        0   \n",
      "14304                        0                        0   \n",
      "14492                        0                        0   \n",
      "15035                        0                        0   \n",
      "...                        ...                      ...   \n",
      "35523                        0                        0   \n",
      "35524                        0                        0   \n",
      "35694                        0                        0   \n",
      "35706                        0                        0   \n",
      "49330                        0                        0   \n",
      "\n",
      "       Delay National Aviation System (Minutes)  Delay Security (Minutes)  \\\n",
      "13937                                         0                         0   \n",
      "14121                                         0                         0   \n",
      "14304                                         0                         0   \n",
      "14492                                         0                         0   \n",
      "15035                                         0                         0   \n",
      "...                                         ...                       ...   \n",
      "35523                                         0                         0   \n",
      "35524                                         0                         0   \n",
      "35694                                         0                         0   \n",
      "35706                                         0                         0   \n",
      "49330                                         0                         0   \n",
      "\n",
      "       Delay Late Aircraft Arrival (Minutes)  \n",
      "13937                                      0  \n",
      "14121                                      0  \n",
      "14304                                      0  \n",
      "14492                                      0  \n",
      "15035                                      0  \n",
      "...                                      ...  \n",
      "35523                                      0  \n",
      "35524                                      0  \n",
      "35694                                      0  \n",
      "35706                                      0  \n",
      "49330                                      0  \n",
      "\n",
      "[226 rows x 17 columns]\n"
     ]
    }
   ],
   "source": [
    "# Filtrer les lignes avec des valeurs manquantes\n",
    "missing_values_rows = df[df.isnull().any(axis=1)]\n",
    "\n",
    "# Afficher les lignes avec des valeurs manquantes\n",
    "print(missing_values_rows)"
   ]
  },
  {
   "cell_type": "markdown",
   "metadata": {},
   "source": [
    "<span style=\"color:darkcyan;\">**Extraction de la date du jour du vol de la colonne Date (MM/DD/YYYY)**</span>"
   ]
  },
  {
   "cell_type": "markdown",
   "metadata": {},
   "source": [
    "<small>D'après la sortie du code précédent, nous pouvons clairement voir que la colonne **Date (MM/DD/YYYY)** ne contient pas uniquement la date du jour du vol mais aussi la chaîne de caractère **00:00:00** qui renvoie à **l'heure du début d'un jour**.</small>"
   ]
  },
  {
   "cell_type": "code",
   "execution_count": 6,
   "metadata": {},
   "outputs": [
    {
     "name": "stdout",
     "output_type": "stream",
     "text": [
      "0        2020-01-01\n",
      "1        2020-01-01\n",
      "2        2020-01-01\n",
      "3        2020-01-01\n",
      "4        2020-01-01\n",
      "            ...    \n",
      "57405    2023-12-31\n",
      "57406    2023-12-31\n",
      "57407    2023-12-31\n",
      "57408    2023-12-31\n",
      "57409    2023-12-31\n",
      "Name: Date, Length: 57410, dtype: object\n"
     ]
    }
   ],
   "source": [
    "# Extraire uniquement la date de la colonne Date (MM/DD/YYYY) dans la nouvelle colonne Date\n",
    "df['Date'] = pd.to_datetime(df['Date (MM/DD/YYYY)'], format='%m/%d/%Y').dt.date\n",
    "\n",
    "# Afficher la colonne Date\n",
    "print(df.Date)"
   ]
  },
  {
   "cell_type": "markdown",
   "metadata": {},
   "source": [
    "<span style=\"color:darkcyan;\">**Création de la colonne Weekday_Flight**</span>"
   ]
  },
  {
   "cell_type": "markdown",
   "metadata": {},
   "source": [
    "<small>Nous aimerions aussi voir si **le retard d'un vol peut être lié au jour de la semaine où le vol aura lieu**. Pour cela, il est nécessaire de créer une colonne contenant le jour de la semaine **(Monday, Tuesday, Wednesday, Thursday, Friday, Saturday, Sunday)** correspondant à chaque vol de notre data frame.\n",
    "</small>"
   ]
  },
  {
   "cell_type": "code",
   "execution_count": 7,
   "metadata": {},
   "outputs": [
    {
     "name": "stdout",
     "output_type": "stream",
     "text": [
      "            Date Weekday_Flight\n",
      "0     2020-01-01      Wednesday\n",
      "1     2020-01-01      Wednesday\n",
      "2     2020-01-01      Wednesday\n",
      "3     2020-01-01      Wednesday\n",
      "4     2020-01-01      Wednesday\n",
      "...          ...            ...\n",
      "57405 2023-12-31         Sunday\n",
      "57406 2023-12-31         Sunday\n",
      "57407 2023-12-31         Sunday\n",
      "57408 2023-12-31         Sunday\n",
      "57409 2023-12-31         Sunday\n",
      "\n",
      "[57410 rows x 2 columns]\n"
     ]
    }
   ],
   "source": [
    "# Convertir la colonne 'Date' en format datetime \n",
    "df['Date'] = pd.to_datetime(df['Date'])\n",
    "\n",
    "# Créer la colonne Weekday_Flight avec les jours de la semaine correspondant aux dates des vols\n",
    "df['Weekday_Flight'] = df['Date'].dt.day_name()\n",
    "\n",
    "# Afficher Date et Weekday_Flight\n",
    "print(df[['Date','Weekday_Flight']])"
   ]
  },
  {
   "cell_type": "markdown",
   "metadata": {},
   "source": [
    "<span style=\"color:darkcyan;\">**Création de la colonne Season**</span>"
   ]
  },
  {
   "cell_type": "markdown",
   "metadata": {},
   "source": [
    "<small> La variable **\"saison\"** peut influencer les retards des vols en raison des **variations météorologiques** et des **volumes de trafic** spécifiques à chaque période de l'année. Par exemple, l’hiver apporte souvent des conditions difficiles comme la neige ou le brouillard, tandis que l’été, marqué par un trafic élevé, peut être perturbé par des orages ou des surcharges aéroportuaires. Ainsi, en tenant compte des saisons, il devient possible de mieux comprendre et anticiper les facteurs contribuant aux retards. </small>"
   ]
  },
  {
   "cell_type": "code",
   "execution_count": 8,
   "metadata": {},
   "outputs": [
    {
     "name": "stdout",
     "output_type": "stream",
     "text": [
      "1000    Printemps\n",
      "1001    Printemps\n",
      "1002    Printemps\n",
      "1003    Printemps\n",
      "1004    Printemps\n",
      "1005    Printemps\n",
      "1006    Printemps\n",
      "1007    Printemps\n",
      "1008    Printemps\n",
      "1009    Printemps\n",
      "Name: Season, dtype: object\n",
      "2000    Automne\n",
      "2001    Automne\n",
      "2002    Automne\n",
      "2003    Automne\n",
      "2004    Automne\n",
      "2005    Automne\n",
      "2006    Automne\n",
      "2007    Automne\n",
      "2008    Automne\n",
      "2009    Automne\n",
      "Name: Season, dtype: object\n"
     ]
    }
   ],
   "source": [
    "# Définir une fonction qui détermine pour une date données la saison correspondante\n",
    "def get_season(date):\n",
    "    year = date.year\n",
    "    if date >= pd.Timestamp(year=year, month=3, day=21) and date < pd.Timestamp(year=year, month=6, day=21):\n",
    "        return 'Printemps'\n",
    "    elif date >= pd.Timestamp(year=year, month=6, day=21) and date < pd.Timestamp(year=year, month=9, day=23):\n",
    "        return 'Été'\n",
    "    elif date >= pd.Timestamp(year=year, month=9, day=23) and date < pd.Timestamp(year=year, month=12, day=21):\n",
    "        return 'Automne'\n",
    "    else:\n",
    "        return 'Hiver'\n",
    "\n",
    "\n",
    "# Convertir la colonne Date en datetime \n",
    "df['Date'] = pd.to_datetime(df['Date'])\n",
    "\n",
    "# Appliquer la fonction sur la colonne Date du dataframe\n",
    "df['Season'] = df['Date'].apply(get_season)\n",
    "\n",
    "# Afficher  des observations aléatoires du DataFrame\n",
    "print(df.Season[1000:1010])\n",
    "print(df.Season[2000:2010])\n"
   ]
  },
  {
   "cell_type": "markdown",
   "metadata": {},
   "source": [
    "<span style=\"color:darkcyan;\">**Création de la colonne Period_Day**</span>"
   ]
  },
  {
   "cell_type": "code",
   "execution_count": 9,
   "metadata": {},
   "outputs": [
    {
     "name": "stdout",
     "output_type": "stream",
     "text": [
      "      Scheduled departure time  Period_Day\n",
      "0                     07:30:00       Matin\n",
      "1                     12:30:00  Après-midi\n",
      "2                     12:00:00  Après-midi\n",
      "3                     19:30:00        Soir\n",
      "4                     10:30:00       Matin\n",
      "...                        ...         ...\n",
      "57405                 17:29:00  Après-midi\n",
      "57406                 12:30:00  Après-midi\n",
      "57407                 06:59:00       Matin\n",
      "57408                 08:59:00       Matin\n",
      "57409                 12:59:00  Après-midi\n",
      "\n",
      "[57410 rows x 2 columns]\n"
     ]
    }
   ],
   "source": [
    "# Définir une fonction pour attribuer la période de la journée\n",
    "def definir_periode(heure):\n",
    "    if heure >= pd.to_datetime('06:00', format='%H:%M').time() and heure < pd.to_datetime('12:00', format='%H:%M').time():\n",
    "        return 'Matin'\n",
    "    elif heure >= pd.to_datetime('12:00', format='%H:%M').time() and heure < pd.to_datetime('18:00', format='%H:%M').time():\n",
    "        return 'Après-midi'\n",
    "    else:\n",
    "        return 'Soir'\n",
    "\n",
    "# Convertir la colonne en type datetime\n",
    "df['Scheduled departure time'] = pd.to_datetime(df['Scheduled departure time'], format='%H:%M:%S')\n",
    "\n",
    "# Appliquer la fonction pour créer une nouvelle colonne\n",
    "df['Period_Day'] = df['Scheduled departure time'].dt.time.apply(definir_periode)\n",
    "\n",
    "# Reconvertir les colonnes \"Scheduled departure time\" et \"Actual departure time\" pour ne garder que l'heure \n",
    "df['Scheduled departure time'] = df['Scheduled departure time'].dt.time\n",
    "\n",
    "# Afficher les colonnes Period_Day et Scheduled departure time\n",
    "print(df[['Scheduled departure time','Period_Day']])"
   ]
  },
  {
   "cell_type": "markdown",
   "metadata": {},
   "source": [
    "<span style=\"color:darkcyan;\">**Création de notre variable cible Y=Delay**</span>"
   ]
  },
  {
   "cell_type": "markdown",
   "metadata": {},
   "source": [
    "<small> Le **retard d'un vol au départ** se définit comme **l'écart entre l'heure de départ ou d'arrivée prévue d'un vol, telle qu'indiquée dans le programme, et l'heure réelle à laquelle le vol décolle**.. Un vol est souvent considéré en retard si cet écart dépasse un seuil défini, par exemple 5 minutes.\n",
    "</small>"
   ]
  },
  {
   "cell_type": "code",
   "execution_count": 10,
   "metadata": {},
   "outputs": [
    {
     "name": "stdout",
     "output_type": "stream",
     "text": [
      "      Actual departure time Scheduled departure time  Retard\n",
      "0       1900-01-01 07:30:00      1900-01-01 07:30:00       0\n",
      "1       1900-01-01 12:24:00      1900-01-01 12:30:00       0\n",
      "2       1900-01-01 13:11:00      1900-01-01 12:00:00       1\n",
      "3       1900-01-01 19:26:00      1900-01-01 19:30:00       0\n",
      "4       1900-01-01 10:25:00      1900-01-01 10:30:00       0\n",
      "...                     ...                      ...     ...\n",
      "57405   1900-01-01 17:25:00      1900-01-01 17:29:00       0\n",
      "57406   1900-01-01 12:26:00      1900-01-01 12:30:00       0\n",
      "57407   1900-01-01 06:57:00      1900-01-01 06:59:00       0\n",
      "57408   1900-01-01 08:53:00      1900-01-01 08:59:00       0\n",
      "57409   1900-01-01 12:57:00      1900-01-01 12:59:00       0\n",
      "\n",
      "[57410 rows x 3 columns]\n"
     ]
    }
   ],
   "source": [
    "# Convertir les colonnes \"Scheduled departure time\" et \"Actual departure time\" en objets datetime\n",
    "df['Scheduled departure time'] = pd.to_datetime(df['Scheduled departure time'], format='%H:%M:%S')\n",
    "df['Actual departure time'] = pd.to_datetime(df['Actual departure time'], format='%H:%M:%S')\n",
    "\n",
    "# Création de la variable cible \"Retard en calculant la différence en minutes et appliquer la condition\n",
    "df['Retard'] = ((df['Actual departure time'] - df['Scheduled departure time']).dt.total_seconds() / 60 > 0).astype(int)\n",
    "\n",
    "# Afficher les colonnes \"Actual departure time\", \"Scheduled departure time\" et \"Retard\"\n",
    "print(df[['Actual departure time', 'Scheduled departure time', 'Retard']])\n"
   ]
  },
  {
   "cell_type": "code",
   "execution_count": 11,
   "metadata": {},
   "outputs": [
    {
     "name": "stdout",
     "output_type": "stream",
     "text": [
      "      Actual departure time Scheduled departure time  Retard\n",
      "0                  07:30:00                 07:30:00       0\n",
      "1                  12:24:00                 12:30:00       0\n",
      "2                  13:11:00                 12:00:00       1\n",
      "3                  19:26:00                 19:30:00       0\n",
      "4                  10:25:00                 10:30:00       0\n",
      "...                     ...                      ...     ...\n",
      "57405              17:25:00                 17:29:00       0\n",
      "57406              12:26:00                 12:30:00       0\n",
      "57407              06:57:00                 06:59:00       0\n",
      "57408              08:53:00                 08:59:00       0\n",
      "57409              12:57:00                 12:59:00       0\n",
      "\n",
      "[57410 rows x 3 columns]\n"
     ]
    }
   ],
   "source": [
    "\n",
    "# Reconvertir les colonnes \"Scheduled departure time\" et \"Actual departure time\" pour ne garder que l'heure \n",
    "df['Scheduled departure time'] = df['Scheduled departure time'].dt.time\n",
    "df['Actual departure time'] = df['Actual departure time'].dt.time\n",
    "\n",
    "# Afficher les colonnes \"Actual departure time\", \"Scheduled departure time\" et \"Retard\"\n",
    "print(df[['Actual departure time', 'Scheduled departure time', 'Retard']])\n",
    "\n"
   ]
  },
  {
   "cell_type": "markdown",
   "metadata": {},
   "source": [
    "<span style=\"color:darkcyan;\">**Encodage des variables qualitatives**</span>"
   ]
  },
  {
   "cell_type": "code",
   "execution_count": 12,
   "metadata": {},
   "outputs": [
    {
     "name": "stdout",
     "output_type": "stream",
     "text": [
      "Requirement already satisfied: scikit-learn in /opt/conda/lib/python3.12/site-packages (1.6.0)\n",
      "Requirement already satisfied: numpy>=1.19.5 in /opt/conda/lib/python3.12/site-packages (from scikit-learn) (2.2.0)\n",
      "Requirement already satisfied: scipy>=1.6.0 in /opt/conda/lib/python3.12/site-packages (from scikit-learn) (1.14.1)\n",
      "Requirement already satisfied: joblib>=1.2.0 in /opt/conda/lib/python3.12/site-packages (from scikit-learn) (1.4.2)\n",
      "Requirement already satisfied: threadpoolctl>=3.1.0 in /opt/conda/lib/python3.12/site-packages (from scikit-learn) (3.5.0)\n"
     ]
    }
   ],
   "source": [
    "!pip install scikit-learn\n",
    "import sklearn\n",
    "from sklearn.preprocessing import LabelEncoder"
   ]
  },
  {
   "cell_type": "markdown",
   "metadata": {},
   "source": [
    "<span style=\"color:lightpink;\">**Encodage de la variable Weekday_Flight**</span>"
   ]
  },
  {
   "cell_type": "code",
   "execution_count": 13,
   "metadata": {},
   "outputs": [
    {
     "name": "stdout",
     "output_type": "stream",
     "text": [
      "Modalités et leurs codes : [('Friday', 0), ('Monday', 1), ('Saturday', 2), ('Sunday', 3), ('Thursday', 4), ('Tuesday', 5), ('Wednesday', 6)]\n",
      "      Weekday_Flight  Weekday_Flight_encoded\n",
      "0          Wednesday                       6\n",
      "1          Wednesday                       6\n",
      "2          Wednesday                       6\n",
      "3          Wednesday                       6\n",
      "4          Wednesday                       6\n",
      "...              ...                     ...\n",
      "57405         Sunday                       3\n",
      "57406         Sunday                       3\n",
      "57407         Sunday                       3\n",
      "57408         Sunday                       3\n",
      "57409         Sunday                       3\n",
      "\n",
      "[57410 rows x 2 columns]\n"
     ]
    }
   ],
   "source": [
    "# Initialiser l'encodeur\n",
    "label_encoder = LabelEncoder()\n",
    "\n",
    "# Encoder de la variable Weekday_Flight\n",
    "df['Weekday_Flight_encoded'] = label_encoder.fit_transform(df['Weekday_Flight'])\n",
    "\n",
    "# Récupérer les modalités de Weekday_Flight et leurs codes correspondant dans la variable Weekday_Flight_encoded\n",
    "modalites_et_codes = list(zip(label_encoder.classes_, range(len(label_encoder.classes_))))\n",
    "\n",
    "# Afficher les modalités et leurs codes\n",
    "print(\"Modalités et leurs codes :\", modalites_et_codes)\n",
    "\n",
    "#Afficher les colonnes Weekday_Flight et Weekday_Flight_encoded\n",
    "print(df[['Weekday_Flight','Weekday_Flight_encoded']])"
   ]
  },
  {
   "cell_type": "markdown",
   "metadata": {},
   "source": [
    "<span style=\"color:lightpink;\">**Encodage de la variable Season**</span>"
   ]
  },
  {
   "cell_type": "code",
   "execution_count": 14,
   "metadata": {},
   "outputs": [
    {
     "name": "stdout",
     "output_type": "stream",
     "text": [
      "Modalités et leurs codes : [('Automne', 0), ('Hiver', 1), ('Printemps', 2), ('Été', 3)]\n",
      "         Season  Season_encoded\n",
      "1000  Printemps               2\n",
      "1001  Printemps               2\n",
      "1002  Printemps               2\n",
      "1003  Printemps               2\n",
      "1004  Printemps               2\n",
      "       Season  Season_encoded\n",
      "2000  Automne               0\n",
      "2001  Automne               0\n",
      "2002  Automne               0\n",
      "2003  Automne               0\n",
      "2004  Automne               0\n",
      "     Season  Season_encoded\n",
      "3000  Hiver               1\n",
      "3001  Hiver               1\n",
      "3002  Hiver               1\n",
      "3003  Hiver               1\n",
      "3004  Hiver               1\n"
     ]
    }
   ],
   "source": [
    "# Initialiser l'encodeur\n",
    "label_encoder = LabelEncoder()\n",
    "\n",
    "# Encoder de la variable Season\n",
    "df['Season_encoded'] = label_encoder.fit_transform(df['Season'])\n",
    "\n",
    "# Récupérer les modalités de Season et leurs codes correspondant dans la variable Season_encoded\n",
    "modalites_et_codes = list(zip(label_encoder.classes_, range(len(label_encoder.classes_))))\n",
    "\n",
    "# Afficher les modalités et leurs codes\n",
    "print(\"Modalités et leurs codes :\", modalites_et_codes)\n",
    "\n",
    "#Afficher des valeurs aléatoires de Season et Season_encoded\n",
    "print(df[['Season', 'Season_encoded']][1000:1005])\n",
    "print(df[['Season', 'Season_encoded']][2000:2005])\n",
    "print(df[['Season', 'Season_encoded']][3000:3005])\n"
   ]
  },
  {
   "cell_type": "markdown",
   "metadata": {},
   "source": [
    "<span style=\"color:lightpink;\">**Encodage de la variable Period_Day**</span>"
   ]
  },
  {
   "cell_type": "code",
   "execution_count": 15,
   "metadata": {},
   "outputs": [
    {
     "name": "stdout",
     "output_type": "stream",
     "text": [
      "Modalités et leurs codes : [('Après-midi', 0), ('Matin', 1), ('Soir', 2)]\n",
      "       Period_Day  Period_Day_encoded\n",
      "0           Matin                   1\n",
      "1      Après-midi                   0\n",
      "2      Après-midi                   0\n",
      "3            Soir                   2\n",
      "4           Matin                   1\n",
      "...           ...                 ...\n",
      "57405  Après-midi                   0\n",
      "57406  Après-midi                   0\n",
      "57407       Matin                   1\n",
      "57408       Matin                   1\n",
      "57409  Après-midi                   0\n",
      "\n",
      "[57410 rows x 2 columns]\n"
     ]
    }
   ],
   "source": [
    "# Initialiser l'encodeur\n",
    "label_encoder = LabelEncoder()\n",
    "\n",
    "# Encoder de la variable Period_Day\n",
    "df['Period_Day_encoded'] = label_encoder.fit_transform(df['Period_Day'])\n",
    "\n",
    "# Récupérer les modalités de Period_Day et leurs codes correspondant dans la variable Period_Day_encoded\n",
    "modalites_et_codes = list(zip(label_encoder.classes_, range(len(label_encoder.classes_))))\n",
    "\n",
    "# Afficher les modalités et leurs codes\n",
    "print(\"Modalités et leurs codes :\", modalites_et_codes)\n",
    "\n",
    "#Afficher les colonnes Period_Day et Period_Day_encoded\n",
    "print(df[['Period_Day','Period_Day_encoded']])"
   ]
  },
  {
   "cell_type": "markdown",
   "metadata": {},
   "source": [
    "<span style=\"color:lightpink;\">**Encodage de la variable Destination Airport**</span>"
   ]
  },
  {
   "cell_type": "code",
   "execution_count": 16,
   "metadata": {},
   "outputs": [
    {
     "name": "stdout",
     "output_type": "stream",
     "text": [
      "Modalités et leurs codes : [('AUS', 0), ('BOS', 1), ('CLT', 2), ('DCA', 3), ('DFW', 4), ('EGE', 5), ('FLL', 6), ('JAC', 7), ('LAS', 8), ('LAX', 9), ('MIA', 10), ('ORD', 11), ('PHX', 12), ('RDU', 13), ('SAN', 14), ('SAT', 15), ('SFO', 16), ('SNA', 17), ('STT', 18)]\n",
      "      Destination Airport  Destination_encoded\n",
      "0                     LAX                    9\n",
      "1                     LAX                    9\n",
      "2                     CLT                    2\n",
      "3                     LAX                    9\n",
      "4                     SFO                   16\n",
      "...                   ...                  ...\n",
      "57405                 AUS                    0\n",
      "57406                 MIA                   10\n",
      "57407                 AUS                    0\n",
      "57408                 ORD                   11\n",
      "57409                 PHX                   12\n",
      "\n",
      "[57410 rows x 2 columns]\n"
     ]
    }
   ],
   "source": [
    "# Initialiser l'encodeur\n",
    "label_encoder = LabelEncoder()\n",
    "\n",
    "# Encoder de la variable Destination Airport\n",
    "df['Destination_encoded'] = label_encoder.fit_transform(df['Destination Airport'])\n",
    "\n",
    "# Récupérer les modalités de Destination Airport et leurs codes correspondant dans la variable Destination_encoded\n",
    "modalites_et_codes1 = list(zip(label_encoder.classes_, range(len(label_encoder.classes_))))\n",
    "\n",
    "# Afficher les modalités et leurs codes\n",
    "print(\"Modalités et leurs codes :\", modalites_et_codes1)\n",
    "\n",
    "#Afficher les colonnes Destination Airport et Destination_encoded\n",
    "print(df[['Destination Airport','Destination_encoded']])"
   ]
  },
  {
   "cell_type": "markdown",
   "metadata": {},
   "source": [
    "<span style=\"color:darkcyan;\">**Suppression des variables non porteurs de sens à notre problématique**</span>"
   ]
  },
  {
   "cell_type": "code",
   "execution_count": 17,
   "metadata": {},
   "outputs": [],
   "source": [
    "df = df.drop(columns=[\"Date (MM/DD/YYYY)\", \"Carrier Code\",\"Flight Number\",\"Tail Number\",\"Scheduled elapsed time (Minutes)\",\"Actual elapsed time (Minutes)\"])"
   ]
  },
  {
   "cell_type": "code",
   "execution_count": 18,
   "metadata": {},
   "outputs": [
    {
     "name": "stdout",
     "output_type": "stream",
     "text": [
      "<class 'pandas.core.frame.DataFrame'>\n",
      "RangeIndex: 57410 entries, 0 to 57409\n",
      "Data columns (total 20 columns):\n",
      " #   Column                                    Non-Null Count  Dtype         \n",
      "---  ------                                    --------------  -----         \n",
      " 0   Destination Airport                       57410 non-null  object        \n",
      " 1   Scheduled departure time                  57410 non-null  object        \n",
      " 2   Actual departure time                     57410 non-null  object        \n",
      " 3   Departure delay (Minutes)                 57410 non-null  int64         \n",
      " 4   Wheels-off time                           57410 non-null  object        \n",
      " 5   Taxi-Out time (Minutes)                   57410 non-null  int64         \n",
      " 6   Delay Carrier (Minutes)                   57410 non-null  int64         \n",
      " 7   Delay Weather (Minutes)                   57410 non-null  int64         \n",
      " 8   Delay National Aviation System (Minutes)  57410 non-null  int64         \n",
      " 9   Delay Security (Minutes)                  57410 non-null  int64         \n",
      " 10  Delay Late Aircraft Arrival (Minutes)     57410 non-null  int64         \n",
      " 11  Date                                      57410 non-null  datetime64[ns]\n",
      " 12  Weekday_Flight                            57410 non-null  object        \n",
      " 13  Season                                    57410 non-null  object        \n",
      " 14  Period_Day                                57410 non-null  object        \n",
      " 15  Retard                                    57410 non-null  int64         \n",
      " 16  Weekday_Flight_encoded                    57410 non-null  int64         \n",
      " 17  Season_encoded                            57410 non-null  int64         \n",
      " 18  Period_Day_encoded                        57410 non-null  int64         \n",
      " 19  Destination_encoded                       57410 non-null  int64         \n",
      "dtypes: datetime64[ns](1), int64(12), object(7)\n",
      "memory usage: 8.8+ MB\n"
     ]
    }
   ],
   "source": [
    "df.info()"
   ]
  },
  {
   "cell_type": "code",
   "execution_count": 21,
   "metadata": {},
   "outputs": [],
   "source": [
    "# Importation des bibliothèques nécessaires\n",
    "import matplotlib.pyplot as plt  # Pour les graphiques\n",
    "import seaborn as sns  # Pour les graphiques statistiques\n",
    "import pandas as pd  # Pour manipuler les données"
   ]
  },
  {
   "cell_type": "code",
   "execution_count": 22,
   "metadata": {},
   "outputs": [
    {
     "data": {
      "image/png": "[encoded data removed]",
      "text/plain": [
       "<Figure size 1000x600 with 1 Axes>"
      ]
     },
     "metadata": {},
     "output_type": "display_data"
    }
   ],
   "source": [
    "# Histogramme\n",
    "plt.figure(figsize=(10, 6))\n",
    "sns.histplot(df['Retard'], kde=True, bins=30, color='blue')\n",
    "plt.title(\"Distribution des retards au départ\")\n",
    "plt.xlabel(\"Retard (minutes)\")\n",
    "plt.ylabel(\"Fréquence\")\n",
    "plt.show()\n"
   ]
  },
  {
   "cell_type": "code",
   "execution_count": 27,
   "metadata": {},
   "outputs": [
    {
     "ename": "AttributeError",
     "evalue": "Can only use .dt accessor with datetimelike values",
     "output_type": "error",
     "traceback": [
      "\u001b[0;31m---------------------------------------------------------------------------\u001b[0m",
      "\u001b[0;31mAttributeError\u001b[0m                            Traceback (most recent call last)",
      "Cell \u001b[0;32mIn[27], line 2\u001b[0m\n\u001b[1;32m      1\u001b[0m \u001b[38;5;66;03m# Supprimer le suffixe \":00\" dans la colonne si présent\u001b[39;00m\n\u001b[0;32m----> 2\u001b[0m df[\u001b[38;5;124m'\u001b[39m\u001b[38;5;124mScheduled departure time\u001b[39m\u001b[38;5;124m'\u001b[39m] \u001b[38;5;241m=\u001b[39m \u001b[43mdf\u001b[49m\u001b[43m[\u001b[49m\u001b[38;5;124;43m'\u001b[39;49m\u001b[38;5;124;43mScheduled departure time\u001b[39;49m\u001b[38;5;124;43m'\u001b[39;49m\u001b[43m]\u001b[49m\u001b[38;5;241;43m.\u001b[39;49m\u001b[43mdt\u001b[49m\u001b[38;5;241m.\u001b[39mtime\n\u001b[1;32m      4\u001b[0m \u001b[38;5;66;03m# Nuage de points\u001b[39;00m\n\u001b[1;32m      5\u001b[0m plt\u001b[38;5;241m.\u001b[39mfigure(figsize\u001b[38;5;241m=\u001b[39m(\u001b[38;5;241m10\u001b[39m, \u001b[38;5;241m6\u001b[39m))\n",
      "File \u001b[0;32m/opt/conda/lib/python3.12/site-packages/pandas/core/generic.py:6299\u001b[0m, in \u001b[0;36mNDFrame.__getattr__\u001b[0;34m(self, name)\u001b[0m\n\u001b[1;32m   6292\u001b[0m \u001b[38;5;28;01mif\u001b[39;00m (\n\u001b[1;32m   6293\u001b[0m     name \u001b[38;5;129;01mnot\u001b[39;00m \u001b[38;5;129;01min\u001b[39;00m \u001b[38;5;28mself\u001b[39m\u001b[38;5;241m.\u001b[39m_internal_names_set\n\u001b[1;32m   6294\u001b[0m     \u001b[38;5;129;01mand\u001b[39;00m name \u001b[38;5;129;01mnot\u001b[39;00m \u001b[38;5;129;01min\u001b[39;00m \u001b[38;5;28mself\u001b[39m\u001b[38;5;241m.\u001b[39m_metadata\n\u001b[1;32m   6295\u001b[0m     \u001b[38;5;129;01mand\u001b[39;00m name \u001b[38;5;129;01mnot\u001b[39;00m \u001b[38;5;129;01min\u001b[39;00m \u001b[38;5;28mself\u001b[39m\u001b[38;5;241m.\u001b[39m_accessors\n\u001b[1;32m   6296\u001b[0m     \u001b[38;5;129;01mand\u001b[39;00m \u001b[38;5;28mself\u001b[39m\u001b[38;5;241m.\u001b[39m_info_axis\u001b[38;5;241m.\u001b[39m_can_hold_identifiers_and_holds_name(name)\n\u001b[1;32m   6297\u001b[0m ):\n\u001b[1;32m   6298\u001b[0m     \u001b[38;5;28;01mreturn\u001b[39;00m \u001b[38;5;28mself\u001b[39m[name]\n\u001b[0;32m-> 6299\u001b[0m \u001b[38;5;28;01mreturn\u001b[39;00m \u001b[38;5;28;43mobject\u001b[39;49m\u001b[38;5;241;43m.\u001b[39;49m\u001b[38;5;21;43m__getattribute__\u001b[39;49m\u001b[43m(\u001b[49m\u001b[38;5;28;43mself\u001b[39;49m\u001b[43m,\u001b[49m\u001b[43m \u001b[49m\u001b[43mname\u001b[49m\u001b[43m)\u001b[49m\n",
      "File \u001b[0;32m/opt/conda/lib/python3.12/site-packages/pandas/core/accessor.py:224\u001b[0m, in \u001b[0;36mCachedAccessor.__get__\u001b[0;34m(self, obj, cls)\u001b[0m\n\u001b[1;32m    221\u001b[0m \u001b[38;5;28;01mif\u001b[39;00m obj \u001b[38;5;129;01mis\u001b[39;00m \u001b[38;5;28;01mNone\u001b[39;00m:\n\u001b[1;32m    222\u001b[0m     \u001b[38;5;66;03m# we're accessing the attribute of the class, i.e., Dataset.geo\u001b[39;00m\n\u001b[1;32m    223\u001b[0m     \u001b[38;5;28;01mreturn\u001b[39;00m \u001b[38;5;28mself\u001b[39m\u001b[38;5;241m.\u001b[39m_accessor\n\u001b[0;32m--> 224\u001b[0m accessor_obj \u001b[38;5;241m=\u001b[39m \u001b[38;5;28;43mself\u001b[39;49m\u001b[38;5;241;43m.\u001b[39;49m\u001b[43m_accessor\u001b[49m\u001b[43m(\u001b[49m\u001b[43mobj\u001b[49m\u001b[43m)\u001b[49m\n\u001b[1;32m    225\u001b[0m \u001b[38;5;66;03m# Replace the property with the accessor object. Inspired by:\u001b[39;00m\n\u001b[1;32m    226\u001b[0m \u001b[38;5;66;03m# https://www.pydanny.com/cached-property.html\u001b[39;00m\n\u001b[1;32m    227\u001b[0m \u001b[38;5;66;03m# We need to use object.__setattr__ because we overwrite __setattr__ on\u001b[39;00m\n\u001b[1;32m    228\u001b[0m \u001b[38;5;66;03m# NDFrame\u001b[39;00m\n\u001b[1;32m    229\u001b[0m \u001b[38;5;28mobject\u001b[39m\u001b[38;5;241m.\u001b[39m\u001b[38;5;21m__setattr__\u001b[39m(obj, \u001b[38;5;28mself\u001b[39m\u001b[38;5;241m.\u001b[39m_name, accessor_obj)\n",
      "File \u001b[0;32m/opt/conda/lib/python3.12/site-packages/pandas/core/indexes/accessors.py:643\u001b[0m, in \u001b[0;36mCombinedDatetimelikeProperties.__new__\u001b[0;34m(cls, data)\u001b[0m\n\u001b[1;32m    640\u001b[0m \u001b[38;5;28;01melif\u001b[39;00m \u001b[38;5;28misinstance\u001b[39m(data\u001b[38;5;241m.\u001b[39mdtype, PeriodDtype):\n\u001b[1;32m    641\u001b[0m     \u001b[38;5;28;01mreturn\u001b[39;00m PeriodProperties(data, orig)\n\u001b[0;32m--> 643\u001b[0m \u001b[38;5;28;01mraise\u001b[39;00m \u001b[38;5;167;01mAttributeError\u001b[39;00m(\u001b[38;5;124m\"\u001b[39m\u001b[38;5;124mCan only use .dt accessor with datetimelike values\u001b[39m\u001b[38;5;124m\"\u001b[39m)\n",
      "\u001b[0;31mAttributeError\u001b[0m: Can only use .dt accessor with datetimelike values"
     ]
    }
   ],
   "source": [
    "# Supprimer le suffixe \":00\" dans la colonne si présent\n",
    "df['Scheduled departure time'] = df['Scheduled departure time'].dt.time\n",
    "\n",
    "# Nuage de points\n",
    "plt.figure(figsize=(10, 6))\n",
    "sns.scatterplot(x='Scheduled departure time', y='Retard', data=data, alpha=0.5)\n",
    "plt.title(\"Relation entre l'heure de départ et le retard\")\n",
    "plt.xlabel(\"Heure de départ\")\n",
    "plt.ylabel(\"Retard (minutes)\")\n",
    "plt.show()\n"
   ]
  }
 ],
 "metadata": {
  "kernelspec": {
   "display_name": "base",
   "language": "python",
   "name": "python3"
  },
  "language_info": {
   "codemirror_mode": {
    "name": "ipython",
    "version": 3
   },
   "file_extension": ".py",
   "mimetype": "text/x-python",
   "name": "python",
   "nbconvert_exporter": "python",
   "pygments_lexer": "ipython3",
   "version": "3.12.7"
  }
 },
 "nbformat": 4,
 "nbformat_minor": 2
}
