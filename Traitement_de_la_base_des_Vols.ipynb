{
 "cells": [
  {
   "cell_type": "markdown",
   "metadata": {},
   "source": [
    "<span style=\"color:darkcyan;\">**Téléchargement des bibliothèques**</span>"
   ]
  },
  {
   "cell_type": "code",
   "execution_count": 5,
   "metadata": {},
   "outputs": [
    {
     "name": "stdout",
     "output_type": "stream",
     "text": [
      "Requirement already satisfied: openpyxl in /opt/conda/lib/python3.12/site-packages (3.1.5)\n",
      "Requirement already satisfied: et-xmlfile in /opt/conda/lib/python3.12/site-packages (from openpyxl) (2.0.0)\n"
     ]
    }
   ],
   "source": [
    "import pandas as pd\n",
    "!pip install openpyxl\n"
   ]
  },
  {
   "cell_type": "markdown",
   "metadata": {},
   "source": [
    "<span style=\"color:darkcyan;\">**Importation de la base de données et création du data frame**</span>"
   ]
  },
  {
   "cell_type": "code",
   "execution_count": 6,
   "metadata": {},
   "outputs": [
    {
     "name": "stdout",
     "output_type": "stream",
     "text": [
      "  Carrier Code    Date (MM/DD/YYYY)  Flight Number Tail Number  \\\n",
      "0           AA  2020-01-01 00:00:00              1      N110AN   \n",
      "1           AA  2020-01-01 00:00:00              3      N111ZM   \n",
      "2           AA  2020-01-01 00:00:00            111      N663AW   \n",
      "3           AA  2020-01-01 00:00:00            117      N113AN   \n",
      "4           AA  2020-01-01 00:00:00            179      N103NN   \n",
      "\n",
      "  Destination Airport Scheduled departure time Actual departure time  \\\n",
      "0                 LAX                 07:30:00              07:30:00   \n",
      "1                 LAX                 12:30:00              12:24:00   \n",
      "2                 CLT                 12:00:00              13:11:00   \n",
      "3                 LAX                 19:30:00              19:26:00   \n",
      "4                 SFO                 10:30:00              10:25:00   \n",
      "\n",
      "   Scheduled elapsed time (Minutes)  Actual elapsed time (Minutes)  \\\n",
      "0                               393                            404   \n",
      "1                               389                            370   \n",
      "2                               127                            119   \n",
      "3                               402                            379   \n",
      "4                               409                            392   \n",
      "\n",
      "   Departure delay (Minutes) Wheels-off time  Taxi-Out time (Minutes)  \\\n",
      "0                          0        07:57:00                       27   \n",
      "1                         -6        12:38:00                       14   \n",
      "2                         71        13:34:00                       23   \n",
      "3                         -4        19:51:00                       25   \n",
      "4                         -5        10:42:00                       17   \n",
      "\n",
      "   Delay Carrier (Minutes)  Delay Weather (Minutes)  \\\n",
      "0                        0                        0   \n",
      "1                        0                        0   \n",
      "2                       19                        0   \n",
      "3                        0                        0   \n",
      "4                        0                        0   \n",
      "\n",
      "   Delay National Aviation System (Minutes)  Delay Security (Minutes)  \\\n",
      "0                                         0                         0   \n",
      "1                                         0                         0   \n",
      "2                                         0                         0   \n",
      "3                                         0                         0   \n",
      "4                                         0                         0   \n",
      "\n",
      "   Delay Late Aircraft Arrival (Minutes)  \n",
      "0                                      0  \n",
      "1                                      0  \n",
      "2                                     44  \n",
      "3                                      0  \n",
      "4                                      0  \n"
     ]
    }
   ],
   "source": [
    "df = pd.read_excel('/home/onyxia/work/Projet_Python-pour-la-data-science/données_vols.xlsx')\n",
    "# Afficher les 5 premières lignes pour vérifier\n",
    "print(df.head(5))"
   ]
  },
  {
   "cell_type": "code",
   "execution_count": 7,
   "metadata": {},
   "outputs": [
    {
     "name": "stdout",
     "output_type": "stream",
     "text": [
      "True\n"
     ]
    }
   ],
   "source": [
    "# Vérifier si le DataFrame contient des valeurs manquantes\n",
    "print(df.isnull().values.any())"
   ]
  },
  {
   "cell_type": "code",
   "execution_count": 8,
   "metadata": {},
   "outputs": [
    {
     "name": "stdout",
     "output_type": "stream",
     "text": [
      "Carrier Code                                  0\n",
      "Date (MM/DD/YYYY)                             0\n",
      "Flight Number                                 0\n",
      "Tail Number                                 226\n",
      "Destination Airport                           0\n",
      "Scheduled departure time                      0\n",
      "Actual departure time                         0\n",
      "Scheduled elapsed time (Minutes)              0\n",
      "Actual elapsed time (Minutes)                 0\n",
      "Departure delay (Minutes)                     0\n",
      "Wheels-off time                               0\n",
      "Taxi-Out time (Minutes)                       0\n",
      "Delay Carrier (Minutes)                       0\n",
      "Delay Weather (Minutes)                       0\n",
      "Delay National Aviation System (Minutes)      0\n",
      "Delay Security (Minutes)                      0\n",
      "Delay Late Aircraft Arrival (Minutes)         0\n",
      "dtype: int64\n"
     ]
    }
   ],
   "source": [
    "# Nombre de valeurs manquantes par colonne\n",
    "print(df.isnull().sum())"
   ]
  },
  {
   "cell_type": "markdown",
   "metadata": {},
   "source": [
    "<span style=\"color:lightpink;\">**Commentaire de la sortie**</span>\n",
    "\n",
    "<small>La seule variable qui présente des valeurs manquantes est **Tail Number**. Cependant il ne s'agit pas d'une variable explicative dans notre modèle, ainsi ces valeurs manquantes ne nécessite aucun traitement.</small>"
   ]
  },
  {
   "cell_type": "code",
   "execution_count": 9,
   "metadata": {},
   "outputs": [
    {
     "name": "stdout",
     "output_type": "stream",
     "text": [
      "      Carrier Code    Date (MM/DD/YYYY)  Flight Number Tail Number  \\\n",
      "13937           AA           03/18/2020            796         NaN   \n",
      "14121           AA           03/19/2020            796         NaN   \n",
      "14304           AA           03/20/2020            796         NaN   \n",
      "14492           AA           03/21/2020            796         NaN   \n",
      "15035           AA           03/24/2020            177         NaN   \n",
      "...            ...                  ...            ...         ...   \n",
      "35523           AA           07/28/2020            243         NaN   \n",
      "35524           AA           07/28/2020            250         NaN   \n",
      "35694           AA           07/29/2020            250         NaN   \n",
      "35706           AA           07/29/2020           2452         NaN   \n",
      "49330           AA  2021-01-11 00:00:00            595         NaN   \n",
      "\n",
      "      Destination Airport Scheduled departure time Actual departure time  \\\n",
      "13937                 EGE                 10:59:00              00:00:00   \n",
      "14121                 EGE                 10:59:00              00:00:00   \n",
      "14304                 EGE                 10:59:00              00:00:00   \n",
      "14492                 EGE                 10:59:00              00:00:00   \n",
      "15035                 SFO                 21:10:00              00:00:00   \n",
      "...                   ...                      ...                   ...   \n",
      "35523                 MIA                 13:59:00              00:00:00   \n",
      "35524                 MIA                 15:30:00              00:00:00   \n",
      "35694                 MIA                 15:30:00              00:00:00   \n",
      "35706                 MIA                 16:29:00              00:00:00   \n",
      "49330                 MIA                 11:10:00              00:00:00   \n",
      "\n",
      "       Scheduled elapsed time (Minutes)  Actual elapsed time (Minutes)  \\\n",
      "13937                               283                              0   \n",
      "14121                               283                              0   \n",
      "14304                               283                              0   \n",
      "14492                               283                              0   \n",
      "15035                               409                              0   \n",
      "...                                 ...                            ...   \n",
      "35523                               195                              0   \n",
      "35524                               205                              0   \n",
      "35694                               205                              0   \n",
      "35706                               203                              0   \n",
      "49330                               181                              0   \n",
      "\n",
      "       Departure delay (Minutes) Wheels-off time  Taxi-Out time (Minutes)  \\\n",
      "13937                          0        00:00:00                        0   \n",
      "14121                          0        00:00:00                        0   \n",
      "14304                          0        00:00:00                        0   \n",
      "14492                          0        00:00:00                        0   \n",
      "15035                          0        00:00:00                        0   \n",
      "...                          ...             ...                      ...   \n",
      "35523                          0        00:00:00                        0   \n",
      "35524                          0        00:00:00                        0   \n",
      "35694                          0        00:00:00                        0   \n",
      "35706                          0        00:00:00                        0   \n",
      "49330                          0        00:00:00                        0   \n",
      "\n",
      "       Delay Carrier (Minutes)  Delay Weather (Minutes)  \\\n",
      "13937                        0                        0   \n",
      "14121                        0                        0   \n",
      "14304                        0                        0   \n",
      "14492                        0                        0   \n",
      "15035                        0                        0   \n",
      "...                        ...                      ...   \n",
      "35523                        0                        0   \n",
      "35524                        0                        0   \n",
      "35694                        0                        0   \n",
      "35706                        0                        0   \n",
      "49330                        0                        0   \n",
      "\n",
      "       Delay National Aviation System (Minutes)  Delay Security (Minutes)  \\\n",
      "13937                                         0                         0   \n",
      "14121                                         0                         0   \n",
      "14304                                         0                         0   \n",
      "14492                                         0                         0   \n",
      "15035                                         0                         0   \n",
      "...                                         ...                       ...   \n",
      "35523                                         0                         0   \n",
      "35524                                         0                         0   \n",
      "35694                                         0                         0   \n",
      "35706                                         0                         0   \n",
      "49330                                         0                         0   \n",
      "\n",
      "       Delay Late Aircraft Arrival (Minutes)  \n",
      "13937                                      0  \n",
      "14121                                      0  \n",
      "14304                                      0  \n",
      "14492                                      0  \n",
      "15035                                      0  \n",
      "...                                      ...  \n",
      "35523                                      0  \n",
      "35524                                      0  \n",
      "35694                                      0  \n",
      "35706                                      0  \n",
      "49330                                      0  \n",
      "\n",
      "[226 rows x 17 columns]\n"
     ]
    }
   ],
   "source": [
    "# Filtrer les lignes avec des valeurs manquantes\n",
    "missing_values_rows = df[df.isnull().any(axis=1)]\n",
    "\n",
    "# Afficher les lignes avec des valeurs manquantes\n",
    "print(missing_values_rows)"
   ]
  },
  {
   "cell_type": "markdown",
   "metadata": {},
   "source": [
    "<span style=\"color:darkcyan;\">**Extraction de la date du jour du vol de la colonne Date (MM/DD/YYYY)**</span>"
   ]
  },
  {
   "cell_type": "markdown",
   "metadata": {},
   "source": [
    "<small>D'après la sortie du code précédent, nous pouvons clairement voir que la colonne **Date (MM/DD/YYYY)** ne contient pas uniquement la date du jour du vol mais aussi la chaîne de caractère **00:00:00** qui renvoie à **l'heure du début d'un jour**.</small>"
   ]
  },
  {
   "cell_type": "code",
   "execution_count": 10,
   "metadata": {},
   "outputs": [
    {
     "name": "stdout",
     "output_type": "stream",
     "text": [
      "0        2020-01-01\n",
      "1        2020-01-01\n",
      "2        2020-01-01\n",
      "3        2020-01-01\n",
      "4        2020-01-01\n",
      "            ...    \n",
      "57405    2023-12-31\n",
      "57406    2023-12-31\n",
      "57407    2023-12-31\n",
      "57408    2023-12-31\n",
      "57409    2023-12-31\n",
      "Name: Date, Length: 57410, dtype: object\n"
     ]
    }
   ],
   "source": [
    "# Extraire uniquement la date de la colonne Date (MM/DD/YYYY) dans la nouvelle colonne Date\n",
    "df['Date'] = pd.to_datetime(df['Date (MM/DD/YYYY)'], format='%m/%d/%Y').dt.date\n",
    "\n",
    "# Afficher la colonne Date\n",
    "print(df.Date)"
   ]
  },
  {
   "cell_type": "markdown",
   "metadata": {},
   "source": [
    "<span style=\"color:darkcyan;\">**Création de la colonne Weekday_Flight**</span>"
   ]
  },
  {
   "cell_type": "markdown",
   "metadata": {},
   "source": [
    "<small>Nous aimerions aussi voir si **le retard d'un vol peut être lié au jour de la semaine où le vol aura lieu**. Pour cela, il est nécessaire de créer une colonne contenant le jour de la semaine **(Monday, Tuesday, Wednesday, Thursday, Friday, Saturday, Sunday)** correspondant à chaque vol de notre data frame.\n",
    "</small>"
   ]
  },
  {
   "cell_type": "code",
   "execution_count": 11,
   "metadata": {},
   "outputs": [
    {
     "name": "stdout",
     "output_type": "stream",
     "text": [
      "            Date Weekday_Flight\n",
      "0     2020-01-01      Wednesday\n",
      "1     2020-01-01      Wednesday\n",
      "2     2020-01-01      Wednesday\n",
      "3     2020-01-01      Wednesday\n",
      "4     2020-01-01      Wednesday\n",
      "...          ...            ...\n",
      "57405 2023-12-31         Sunday\n",
      "57406 2023-12-31         Sunday\n",
      "57407 2023-12-31         Sunday\n",
      "57408 2023-12-31         Sunday\n",
      "57409 2023-12-31         Sunday\n",
      "\n",
      "[57410 rows x 2 columns]\n"
     ]
    }
   ],
   "source": [
    "# Convertir la colonne 'Date' en format datetime \n",
    "df['Date'] = pd.to_datetime(df['Date'])\n",
    "\n",
    "# Créer la colonne Weekday_Flight avec les jours de la semaine correspondant aux dates des vols\n",
    "df['Weekday_Flight'] = df['Date'].dt.day_name()\n",
    "\n",
    "# Afficher Date et Weekday_Flight\n",
    "print(df[['Date','Weekday_Flight']])"
   ]
  },
  {
   "cell_type": "markdown",
   "metadata": {},
   "source": [
    "<span style=\"color:darkcyan;\">**Création de la colonne Season**</span>"
   ]
  },
  {
   "cell_type": "markdown",
   "metadata": {},
   "source": [
    "<small> La variable **\"saison\"** peut influencer les retards des vols en raison des **variations météorologiques** et des **volumes de trafic** spécifiques à chaque période de l'année. Par exemple, l’hiver apporte souvent des conditions difficiles comme la neige ou le brouillard, tandis que l’été, marqué par un trafic élevé, peut être perturbé par des orages ou des surcharges aéroportuaires. Ainsi, en tenant compte des saisons, il devient possible de mieux comprendre et anticiper les facteurs contribuant aux retards. </small>"
   ]
  },
  {
   "cell_type": "code",
   "execution_count": 12,
   "metadata": {},
   "outputs": [
    {
     "name": "stdout",
     "output_type": "stream",
     "text": [
      "1000    Printemps\n",
      "1001    Printemps\n",
      "1002    Printemps\n",
      "1003    Printemps\n",
      "1004    Printemps\n",
      "1005    Printemps\n",
      "1006    Printemps\n",
      "1007    Printemps\n",
      "1008    Printemps\n",
      "1009    Printemps\n",
      "Name: Season, dtype: object\n",
      "2000    Automne\n",
      "2001    Automne\n",
      "2002    Automne\n",
      "2003    Automne\n",
      "2004    Automne\n",
      "2005    Automne\n",
      "2006    Automne\n",
      "2007    Automne\n",
      "2008    Automne\n",
      "2009    Automne\n",
      "Name: Season, dtype: object\n"
     ]
    }
   ],
   "source": [
    "# Définir une fonction qui détermine pour une date données la saison correspondante\n",
    "def get_season(date):\n",
    "    year = date.year\n",
    "    if date >= pd.Timestamp(year=year, month=3, day=21) and date < pd.Timestamp(year=year, month=6, day=21):\n",
    "        return 'Printemps'\n",
    "    elif date >= pd.Timestamp(year=year, month=6, day=21) and date < pd.Timestamp(year=year, month=9, day=23):\n",
    "        return 'Été'\n",
    "    elif date >= pd.Timestamp(year=year, month=9, day=23) and date < pd.Timestamp(year=year, month=12, day=21):\n",
    "        return 'Automne'\n",
    "    else:\n",
    "        return 'Hiver'\n",
    "\n",
    "\n",
    "# Convertir la colonne Date en datetime \n",
    "df['Date'] = pd.to_datetime(df['Date'])\n",
    "\n",
    "# Appliquer la fonction sur la colonne Date du dataframe\n",
    "df['Season'] = df['Date'].apply(get_season)\n",
    "\n",
    "# Afficher  des observations aléatoires du DataFrame\n",
    "print(df.Season[1000:1010])\n",
    "print(df.Season[2000:2010])\n"
   ]
  },
  {
   "cell_type": "markdown",
   "metadata": {},
   "source": [
    "<span style=\"color:darkcyan;\">**Création de la colonne Period_Day**</span>"
   ]
  },
  {
   "cell_type": "code",
   "execution_count": 13,
   "metadata": {},
   "outputs": [
    {
     "name": "stdout",
     "output_type": "stream",
     "text": [
      "      Scheduled departure time  Period_Day\n",
      "0                     07:30:00       Matin\n",
      "1                     12:30:00  Après-midi\n",
      "2                     12:00:00  Après-midi\n",
      "3                     19:30:00        Soir\n",
      "4                     10:30:00       Matin\n",
      "...                        ...         ...\n",
      "57405                 17:29:00  Après-midi\n",
      "57406                 12:30:00  Après-midi\n",
      "57407                 06:59:00       Matin\n",
      "57408                 08:59:00       Matin\n",
      "57409                 12:59:00  Après-midi\n",
      "\n",
      "[57410 rows x 2 columns]\n"
     ]
    }
   ],
   "source": [
    "# Définir une fonction pour attribuer la période de la journée\n",
    "def definir_periode(heure):\n",
    "    if heure >= pd.to_datetime('06:00', format='%H:%M').time() and heure < pd.to_datetime('12:00', format='%H:%M').time():\n",
    "        return 'Matin'\n",
    "    elif heure >= pd.to_datetime('12:00', format='%H:%M').time() and heure < pd.to_datetime('18:00', format='%H:%M').time():\n",
    "        return 'Après-midi'\n",
    "    else:\n",
    "        return 'Soir'\n",
    "\n",
    "# Convertir la colonne en type datetime\n",
    "df['Scheduled departure time'] = pd.to_datetime(df['Scheduled departure time'], format='%H:%M:%S')\n",
    "\n",
    "# Appliquer la fonction pour créer une nouvelle colonne\n",
    "df['Period_Day'] = df['Scheduled departure time'].dt.time.apply(definir_periode)\n",
    "\n",
    "# Reconvertir les colonnes \"Scheduled departure time\" et \"Actual departure time\" pour ne garder que l'heure \n",
    "df['Scheduled departure time'] = df['Scheduled departure time'].dt.time\n",
    "\n",
    "# Afficher les colonnes Period_Day et Scheduled departure time\n",
    "print(df[['Scheduled departure time','Period_Day']])"
   ]
  },
  {
   "cell_type": "markdown",
   "metadata": {},
   "source": [
    "<span style=\"color:darkcyan;\">**Création de notre variable cible Y=Delay**</span>"
   ]
  },
  {
   "cell_type": "markdown",
   "metadata": {},
   "source": [
    "<small> Le **retard d'un vol au départ** se définit comme **l'écart entre l'heure de départ ou d'arrivée prévue d'un vol, telle qu'indiquée dans le programme, et l'heure réelle à laquelle le vol décolle**.. Un vol est souvent considéré en retard si cet écart dépasse un seuil défini, par exemple 5 minutes.\n",
    "</small>"
   ]
  },
  {
   "cell_type": "code",
   "execution_count": 14,
   "metadata": {},
   "outputs": [
    {
     "name": "stdout",
     "output_type": "stream",
     "text": [
      "      Actual departure time Scheduled departure time  Retard\n",
      "0       1900-01-01 07:30:00      1900-01-01 07:30:00       0\n",
      "1       1900-01-01 12:24:00      1900-01-01 12:30:00       0\n",
      "2       1900-01-01 13:11:00      1900-01-01 12:00:00       1\n",
      "3       1900-01-01 19:26:00      1900-01-01 19:30:00       0\n",
      "4       1900-01-01 10:25:00      1900-01-01 10:30:00       0\n",
      "...                     ...                      ...     ...\n",
      "57405   1900-01-01 17:25:00      1900-01-01 17:29:00       0\n",
      "57406   1900-01-01 12:26:00      1900-01-01 12:30:00       0\n",
      "57407   1900-01-01 06:57:00      1900-01-01 06:59:00       0\n",
      "57408   1900-01-01 08:53:00      1900-01-01 08:59:00       0\n",
      "57409   1900-01-01 12:57:00      1900-01-01 12:59:00       0\n",
      "\n",
      "[57410 rows x 3 columns]\n"
     ]
    }
   ],
   "source": [
    "# Convertir les colonnes \"Scheduled departure time\" et \"Actual departure time\" en objets datetime\n",
    "df['Scheduled departure time'] = pd.to_datetime(df['Scheduled departure time'], format='%H:%M:%S')\n",
    "df['Actual departure time'] = pd.to_datetime(df['Actual departure time'], format='%H:%M:%S')\n",
    "\n",
    "# Création de la variable cible \"Retard en calculant la différence en minutes et appliquer la condition\n",
    "df['Retard'] = ((df['Actual departure time'] - df['Scheduled departure time']).dt.total_seconds() / 60 > 0).astype(int)\n",
    "\n",
    "# Afficher les colonnes \"Actual departure time\", \"Scheduled departure time\" et \"Retard\"\n",
    "print(df[['Actual departure time', 'Scheduled departure time', 'Retard']])\n"
   ]
  },
  {
   "cell_type": "code",
   "execution_count": 15,
   "metadata": {},
   "outputs": [
    {
     "name": "stdout",
     "output_type": "stream",
     "text": [
      "      Actual departure time Scheduled departure time  Retard\n",
      "0                  07:30:00                 07:30:00       0\n",
      "1                  12:24:00                 12:30:00       0\n",
      "2                  13:11:00                 12:00:00       1\n",
      "3                  19:26:00                 19:30:00       0\n",
      "4                  10:25:00                 10:30:00       0\n",
      "...                     ...                      ...     ...\n",
      "57405              17:25:00                 17:29:00       0\n",
      "57406              12:26:00                 12:30:00       0\n",
      "57407              06:57:00                 06:59:00       0\n",
      "57408              08:53:00                 08:59:00       0\n",
      "57409              12:57:00                 12:59:00       0\n",
      "\n",
      "[57410 rows x 3 columns]\n"
     ]
    }
   ],
   "source": [
    "\n",
    "# Reconvertir les colonnes \"Scheduled departure time\" et \"Actual departure time\" pour ne garder que l'heure \n",
    "df['Scheduled departure time'] = df['Scheduled departure time'].dt.time\n",
    "df['Actual departure time'] = df['Actual departure time'].dt.time\n",
    "\n",
    "# Afficher les colonnes \"Actual departure time\", \"Scheduled departure time\" et \"Retard\"\n",
    "print(df[['Actual departure time', 'Scheduled departure time', 'Retard']])\n",
    "\n"
   ]
  },
  {
   "cell_type": "markdown",
   "metadata": {},
   "source": [
    "<span style=\"color:darkcyan;\">**Encodage des variables qualitatives**</span>"
   ]
  },
  {
   "cell_type": "code",
   "execution_count": 16,
   "metadata": {},
   "outputs": [
    {
     "name": "stdout",
     "output_type": "stream",
     "text": [
      "Requirement already satisfied: scikit-learn in /opt/conda/lib/python3.12/site-packages (1.6.0)\n",
      "Requirement already satisfied: numpy>=1.19.5 in /opt/conda/lib/python3.12/site-packages (from scikit-learn) (2.2.0)\n",
      "Requirement already satisfied: scipy>=1.6.0 in /opt/conda/lib/python3.12/site-packages (from scikit-learn) (1.14.1)\n",
      "Requirement already satisfied: joblib>=1.2.0 in /opt/conda/lib/python3.12/site-packages (from scikit-learn) (1.4.2)\n",
      "Requirement already satisfied: threadpoolctl>=3.1.0 in /opt/conda/lib/python3.12/site-packages (from scikit-learn) (3.5.0)\n"
     ]
    }
   ],
   "source": [
    "!pip install scikit-learn\n",
    "import sklearn\n",
    "from sklearn.preprocessing import LabelEncoder"
   ]
  },
  {
   "cell_type": "markdown",
   "metadata": {},
   "source": [
    "<span style=\"color:lightpink;\">**Encodage de la variable Weekday_Flight**</span>"
   ]
  },
  {
   "cell_type": "code",
   "execution_count": 17,
   "metadata": {},
   "outputs": [
    {
     "name": "stdout",
     "output_type": "stream",
     "text": [
      "Modalités et leurs codes : [('Friday', 0), ('Monday', 1), ('Saturday', 2), ('Sunday', 3), ('Thursday', 4), ('Tuesday', 5), ('Wednesday', 6)]\n",
      "      Weekday_Flight  Weekday_Flight_encoded\n",
      "0          Wednesday                       6\n",
      "1          Wednesday                       6\n",
      "2          Wednesday                       6\n",
      "3          Wednesday                       6\n",
      "4          Wednesday                       6\n",
      "...              ...                     ...\n",
      "57405         Sunday                       3\n",
      "57406         Sunday                       3\n",
      "57407         Sunday                       3\n",
      "57408         Sunday                       3\n",
      "57409         Sunday                       3\n",
      "\n",
      "[57410 rows x 2 columns]\n"
     ]
    }
   ],
   "source": [
    "# Initialiser l'encodeur\n",
    "label_encoder = LabelEncoder()\n",
    "\n",
    "# Encoder de la variable Weekday_Flight\n",
    "df['Weekday_Flight_encoded'] = label_encoder.fit_transform(df['Weekday_Flight'])\n",
    "\n",
    "# Récupérer les modalités de Weekday_Flight et leurs codes correspondant dans la variable Weekday_Flight_encoded\n",
    "modalites_et_codes = list(zip(label_encoder.classes_, range(len(label_encoder.classes_))))\n",
    "\n",
    "# Afficher les modalités et leurs codes\n",
    "print(\"Modalités et leurs codes :\", modalites_et_codes)\n",
    "\n",
    "#Afficher les colonnes Weekday_Flight et Weekday_Flight_encoded\n",
    "print(df[['Weekday_Flight','Weekday_Flight_encoded']])"
   ]
  },
  {
   "cell_type": "markdown",
   "metadata": {},
   "source": [
    "<span style=\"color:lightpink;\">**Encodage de la variable Season**</span>"
   ]
  },
  {
   "cell_type": "code",
   "execution_count": 18,
   "metadata": {},
   "outputs": [
    {
     "name": "stdout",
     "output_type": "stream",
     "text": [
      "Modalités et leurs codes : [('Automne', 0), ('Hiver', 1), ('Printemps', 2), ('Été', 3)]\n",
      "         Season  Season_encoded\n",
      "1000  Printemps               2\n",
      "1001  Printemps               2\n",
      "1002  Printemps               2\n",
      "1003  Printemps               2\n",
      "1004  Printemps               2\n",
      "       Season  Season_encoded\n",
      "2000  Automne               0\n",
      "2001  Automne               0\n",
      "2002  Automne               0\n",
      "2003  Automne               0\n",
      "2004  Automne               0\n",
      "     Season  Season_encoded\n",
      "3000  Hiver               1\n",
      "3001  Hiver               1\n",
      "3002  Hiver               1\n",
      "3003  Hiver               1\n",
      "3004  Hiver               1\n"
     ]
    }
   ],
   "source": [
    "# Initialiser l'encodeur\n",
    "label_encoder = LabelEncoder()\n",
    "\n",
    "# Encoder de la variable Season\n",
    "df['Season_encoded'] = label_encoder.fit_transform(df['Season'])\n",
    "\n",
    "# Récupérer les modalités de Season et leurs codes correspondant dans la variable Season_encoded\n",
    "modalites_et_codes = list(zip(label_encoder.classes_, range(len(label_encoder.classes_))))\n",
    "\n",
    "# Afficher les modalités et leurs codes\n",
    "print(\"Modalités et leurs codes :\", modalites_et_codes)\n",
    "\n",
    "#Afficher des valeurs aléatoires de Season et Season_encoded\n",
    "print(df[['Season', 'Season_encoded']][1000:1005])\n",
    "print(df[['Season', 'Season_encoded']][2000:2005])\n",
    "print(df[['Season', 'Season_encoded']][3000:3005])\n"
   ]
  },
  {
   "cell_type": "markdown",
   "metadata": {},
   "source": [
    "<span style=\"color:lightpink;\">**Encodage de la variable Period_Day**</span>"
   ]
  },
  {
   "cell_type": "code",
   "execution_count": 19,
   "metadata": {},
   "outputs": [
    {
     "name": "stdout",
     "output_type": "stream",
     "text": [
      "Modalités et leurs codes : [('Après-midi', 0), ('Matin', 1), ('Soir', 2)]\n",
      "       Period_Day  Period_Day_encoded\n",
      "0           Matin                   1\n",
      "1      Après-midi                   0\n",
      "2      Après-midi                   0\n",
      "3            Soir                   2\n",
      "4           Matin                   1\n",
      "...           ...                 ...\n",
      "57405  Après-midi                   0\n",
      "57406  Après-midi                   0\n",
      "57407       Matin                   1\n",
      "57408       Matin                   1\n",
      "57409  Après-midi                   0\n",
      "\n",
      "[57410 rows x 2 columns]\n"
     ]
    }
   ],
   "source": [
    "# Initialiser l'encodeur\n",
    "label_encoder = LabelEncoder()\n",
    "\n",
    "# Encoder de la variable Period_Day\n",
    "df['Period_Day_encoded'] = label_encoder.fit_transform(df['Period_Day'])\n",
    "\n",
    "# Récupérer les modalités de Period_Day et leurs codes correspondant dans la variable Period_Day_encoded\n",
    "modalites_et_codes = list(zip(label_encoder.classes_, range(len(label_encoder.classes_))))\n",
    "\n",
    "# Afficher les modalités et leurs codes\n",
    "print(\"Modalités et leurs codes :\", modalites_et_codes)\n",
    "\n",
    "#Afficher les colonnes Period_Day et Period_Day_encoded\n",
    "print(df[['Period_Day','Period_Day_encoded']])"
   ]
  },
  {
   "cell_type": "markdown",
   "metadata": {},
   "source": [
    "<span style=\"color:lightpink;\">**Encodage de la variable Destination Airport**</span>"
   ]
  },
  {
   "cell_type": "code",
   "execution_count": 20,
   "metadata": {},
   "outputs": [
    {
     "name": "stdout",
     "output_type": "stream",
     "text": [
      "Modalités et leurs codes : [('AUS', 0), ('BOS', 1), ('CLT', 2), ('DCA', 3), ('DFW', 4), ('EGE', 5), ('FLL', 6), ('JAC', 7), ('LAS', 8), ('LAX', 9), ('MIA', 10), ('ORD', 11), ('PHX', 12), ('RDU', 13), ('SAN', 14), ('SAT', 15), ('SFO', 16), ('SNA', 17), ('STT', 18)]\n",
      "      Destination Airport  Destination_encoded\n",
      "0                     LAX                    9\n",
      "1                     LAX                    9\n",
      "2                     CLT                    2\n",
      "3                     LAX                    9\n",
      "4                     SFO                   16\n",
      "...                   ...                  ...\n",
      "57405                 AUS                    0\n",
      "57406                 MIA                   10\n",
      "57407                 AUS                    0\n",
      "57408                 ORD                   11\n",
      "57409                 PHX                   12\n",
      "\n",
      "[57410 rows x 2 columns]\n"
     ]
    }
   ],
   "source": [
    "# Initialiser l'encodeur\n",
    "label_encoder = LabelEncoder()\n",
    "\n",
    "# Encoder de la variable Destination Airport\n",
    "df['Destination_encoded'] = label_encoder.fit_transform(df['Destination Airport'])\n",
    "\n",
    "# Récupérer les modalités de Destination Airport et leurs codes correspondant dans la variable Destination_encoded\n",
    "modalites_et_codes1 = list(zip(label_encoder.classes_, range(len(label_encoder.classes_))))\n",
    "\n",
    "# Afficher les modalités et leurs codes\n",
    "print(\"Modalités et leurs codes :\", modalites_et_codes1)\n",
    "\n",
    "#Afficher les colonnes Destination Airport et Destination_encoded\n",
    "print(df[['Destination Airport','Destination_encoded']])"
   ]
  },
  {
   "cell_type": "code",
   "execution_count": 21,
   "metadata": {},
   "outputs": [
    {
     "name": "stdout",
     "output_type": "stream",
     "text": [
      "<class 'pandas.core.frame.DataFrame'>\n",
      "RangeIndex: 57410 entries, 0 to 57409\n",
      "Data columns (total 26 columns):\n",
      " #   Column                                    Non-Null Count  Dtype         \n",
      "---  ------                                    --------------  -----         \n",
      " 0   Carrier Code                              57410 non-null  object        \n",
      " 1   Date (MM/DD/YYYY)                         57410 non-null  object        \n",
      " 2   Flight Number                             57410 non-null  int64         \n",
      " 3   Tail Number                               57184 non-null  object        \n",
      " 4   Destination Airport                       57410 non-null  object        \n",
      " 5   Scheduled departure time                  57410 non-null  object        \n",
      " 6   Actual departure time                     57410 non-null  object        \n",
      " 7   Scheduled elapsed time (Minutes)          57410 non-null  int64         \n",
      " 8   Actual elapsed time (Minutes)             57410 non-null  int64         \n",
      " 9   Departure delay (Minutes)                 57410 non-null  int64         \n",
      " 10  Wheels-off time                           57410 non-null  object        \n",
      " 11  Taxi-Out time (Minutes)                   57410 non-null  int64         \n",
      " 12  Delay Carrier (Minutes)                   57410 non-null  int64         \n",
      " 13  Delay Weather (Minutes)                   57410 non-null  int64         \n",
      " 14  Delay National Aviation System (Minutes)  57410 non-null  int64         \n",
      " 15  Delay Security (Minutes)                  57410 non-null  int64         \n",
      " 16  Delay Late Aircraft Arrival (Minutes)     57410 non-null  int64         \n",
      " 17  Date                                      57410 non-null  datetime64[ns]\n",
      " 18  Weekday_Flight                            57410 non-null  object        \n",
      " 19  Season                                    57410 non-null  object        \n",
      " 20  Period_Day                                57410 non-null  object        \n",
      " 21  Retard                                    57410 non-null  int64         \n",
      " 22  Weekday_Flight_encoded                    57410 non-null  int64         \n",
      " 23  Season_encoded                            57410 non-null  int64         \n",
      " 24  Period_Day_encoded                        57410 non-null  int64         \n",
      " 25  Destination_encoded                       57410 non-null  int64         \n",
      "dtypes: datetime64[ns](1), int64(15), object(10)\n",
      "memory usage: 11.4+ MB\n"
     ]
    }
   ],
   "source": [
    "df.info()"
   ]
  },
  {
   "cell_type": "markdown",
   "metadata": {},
   "source": [
    "### **Partie 2**"
   ]
  },
  {
   "cell_type": "markdown",
   "metadata": {},
   "source": [
    "<span style=\"color:darkcyan;\">**Analyse descriptive**</span>"
   ]
  },
  {
   "cell_type": "markdown",
   "metadata": {},
   "source": [
    "<small> **Quels jours de la semaine présente plus de retards?** </small>"
   ]
  },
  {
   "cell_type": "code",
   "execution_count": 28,
   "metadata": {},
   "outputs": [
    {
     "data": {
      "image/png": "[encoded data removed]",
      "text/plain": [
       "<Figure size 1200x1000 with 1 Axes>"
      ]
     },
     "metadata": {},
     "output_type": "display_data"
    }
   ],
   "source": [
    "import matplotlib.pyplot as plt\n",
    "average_delay_per_day_week = df.groupby('Weekday_Flight')['Departure delay (Minutes)'].mean().sort_values().reset_index()\n",
    "\n",
    "plt.figure(figsize=(12, 10))\n",
    "plt.barh(average_delay_per_day_week['Weekday_Flight'], average_delay_per_day_week['Departure delay (Minutes)'], color='lightblue')\n",
    "plt.title('Average Arrival Delay by Carrier')\n",
    "plt.xlabel('Average Delay (minutes)')\n",
    "plt.ylabel('Carrier')\n",
    "plt.grid(axis='x')\n",
    "plt.show()"
   ]
  },
  {
   "cell_type": "code",
   "execution_count": 29,
   "metadata": {},
   "outputs": [],
   "source": [
    "# Calcul des retards moyens de départ par aéroport et du nombre de vols\n",
    "Airports_delays = df.groupby(['Destination Airport']).agg({\n",
    "    'Departure delay (Minutes)': 'mean',  # Moyenne des retards\n",
    "    'Destination Airport': 'size'  # Compte le nombre de vols\n",
    "}).rename(columns={'Destination Airport': 'Flight_Count'}).reset_index()\n"
   ]
  },
  {
   "cell_type": "code",
   "execution_count": 30,
   "metadata": {},
   "outputs": [
    {
     "data": {
      "text/html": [
       "<div>\n",
       "<style scoped>\n",
       "    .dataframe tbody tr th:only-of-type {\n",
       "        vertical-align: middle;\n",
       "    }\n",
       "\n",
       "    .dataframe tbody tr th {\n",
       "        vertical-align: top;\n",
       "    }\n",
       "\n",
       "    .dataframe thead th {\n",
       "        text-align: right;\n",
       "    }\n",
       "</style>\n",
       "<table border=\"1\" class=\"dataframe\">\n",
       "  <thead>\n",
       "    <tr style=\"text-align: right;\">\n",
       "      <th></th>\n",
       "      <th>Destination Airport</th>\n",
       "      <th>Departure delay (Minutes)</th>\n",
       "      <th>Flight_Count</th>\n",
       "    </tr>\n",
       "  </thead>\n",
       "  <tbody>\n",
       "    <tr>\n",
       "      <th>0</th>\n",
       "      <td>AUS</td>\n",
       "      <td>12.458776</td>\n",
       "      <td>2729</td>\n",
       "    </tr>\n",
       "    <tr>\n",
       "      <th>1</th>\n",
       "      <td>BOS</td>\n",
       "      <td>5.284815</td>\n",
       "      <td>1271</td>\n",
       "    </tr>\n",
       "    <tr>\n",
       "      <th>2</th>\n",
       "      <td>CLT</td>\n",
       "      <td>10.356098</td>\n",
       "      <td>7790</td>\n",
       "    </tr>\n",
       "    <tr>\n",
       "      <th>3</th>\n",
       "      <td>DCA</td>\n",
       "      <td>12.082192</td>\n",
       "      <td>438</td>\n",
       "    </tr>\n",
       "    <tr>\n",
       "      <th>4</th>\n",
       "      <td>DFW</td>\n",
       "      <td>14.328233</td>\n",
       "      <td>3333</td>\n",
       "    </tr>\n",
       "  </tbody>\n",
       "</table>\n",
       "</div>"
      ],
      "text/plain": [
       "  Destination Airport  Departure delay (Minutes)  Flight_Count\n",
       "0                 AUS                  12.458776          2729\n",
       "1                 BOS                   5.284815          1271\n",
       "2                 CLT                  10.356098          7790\n",
       "3                 DCA                  12.082192           438\n",
       "4                 DFW                  14.328233          3333"
      ]
     },
     "execution_count": 30,
     "metadata": {},
     "output_type": "execute_result"
    }
   ],
   "source": [
    "Airports_delays.head(5)"
   ]
  },
  {
   "cell_type": "code",
   "execution_count": 31,
   "metadata": {},
   "outputs": [],
   "source": [
    "Airports_delays = Airports_delays.sort_values(by='Flight_Count', ascending=False)"
   ]
  },
  {
   "cell_type": "code",
   "execution_count": 32,
   "metadata": {},
   "outputs": [
    {
     "data": {
      "text/html": [
       "<div>\n",
       "<style scoped>\n",
       "    .dataframe tbody tr th:only-of-type {\n",
       "        vertical-align: middle;\n",
       "    }\n",
       "\n",
       "    .dataframe tbody tr th {\n",
       "        vertical-align: top;\n",
       "    }\n",
       "\n",
       "    .dataframe thead th {\n",
       "        text-align: right;\n",
       "    }\n",
       "</style>\n",
       "<table border=\"1\" class=\"dataframe\">\n",
       "  <thead>\n",
       "    <tr style=\"text-align: right;\">\n",
       "      <th></th>\n",
       "      <th>Destination Airport</th>\n",
       "      <th>Departure delay (Minutes)</th>\n",
       "      <th>Flight_Count</th>\n",
       "    </tr>\n",
       "  </thead>\n",
       "  <tbody>\n",
       "    <tr>\n",
       "      <th>9</th>\n",
       "      <td>LAX</td>\n",
       "      <td>6.715128</td>\n",
       "      <td>12725</td>\n",
       "    </tr>\n",
       "    <tr>\n",
       "      <th>10</th>\n",
       "      <td>MIA</td>\n",
       "      <td>12.843981</td>\n",
       "      <td>12569</td>\n",
       "    </tr>\n",
       "    <tr>\n",
       "      <th>2</th>\n",
       "      <td>CLT</td>\n",
       "      <td>10.356098</td>\n",
       "      <td>7790</td>\n",
       "    </tr>\n",
       "    <tr>\n",
       "      <th>16</th>\n",
       "      <td>SFO</td>\n",
       "      <td>5.260041</td>\n",
       "      <td>5303</td>\n",
       "    </tr>\n",
       "    <tr>\n",
       "      <th>12</th>\n",
       "      <td>PHX</td>\n",
       "      <td>9.363028</td>\n",
       "      <td>4782</td>\n",
       "    </tr>\n",
       "  </tbody>\n",
       "</table>\n",
       "</div>"
      ],
      "text/plain": [
       "   Destination Airport  Departure delay (Minutes)  Flight_Count\n",
       "9                  LAX                   6.715128         12725\n",
       "10                 MIA                  12.843981         12569\n",
       "2                  CLT                  10.356098          7790\n",
       "16                 SFO                   5.260041          5303\n",
       "12                 PHX                   9.363028          4782"
      ]
     },
     "execution_count": 32,
     "metadata": {},
     "output_type": "execute_result"
    }
   ],
   "source": [
    "Airports_delays.head()"
   ]
  },
  {
   "cell_type": "code",
   "execution_count": 33,
   "metadata": {},
   "outputs": [],
   "source": [
    "Airports_delays['Departure delay (Minutes)'] = round(Airports_delays['Departure delay (Minutes)'], 2)"
   ]
  },
  {
   "cell_type": "code",
   "execution_count": 34,
   "metadata": {},
   "outputs": [],
   "source": [
    "Dep_delay_mean = Airports_delays['Departure delay (Minutes)'].mean()"
   ]
  },
  {
   "cell_type": "code",
   "execution_count": 35,
   "metadata": {},
   "outputs": [],
   "source": [
    "total_delay_mean = Airports_delays['Departure delay (Minutes)'].sum()"
   ]
  },
  {
   "cell_type": "code",
   "execution_count": 36,
   "metadata": {},
   "outputs": [],
   "source": [
    "Airports_delays_rank = Airports_delays.sort_values(by='Departure delay (Minutes)', ascending=False).reset_index()"
   ]
  },
  {
   "cell_type": "code",
   "execution_count": 37,
   "metadata": {},
   "outputs": [],
   "source": [
    "Airports_delays_rank['Percentage'] = (Airports_delays_rank['Departure delay (Minutes)'] / total_delay_mean) * 100"
   ]
  },
  {
   "cell_type": "code",
   "execution_count": 39,
   "metadata": {},
   "outputs": [
    {
     "name": "stderr",
     "output_type": "stream",
     "text": [
      "/tmp/ipykernel_348173/655227808.py:3: FutureWarning: \n",
      "\n",
      "Passing `palette` without assigning `hue` is deprecated and will be removed in v0.14.0. Assign the `y` variable to `hue` and set `legend=False` for the same effect.\n",
      "\n",
      "  bars = sns.barplot(x=Airports_delays_rank['Departure delay (Minutes)'], y=Airports_delays_rank['Destination Airport'], palette=\"viridis\")\n"
     ]
    },
    {
     "data": {
      "image/png": "[encoded data removed]",
      "text/plain": [
       "<Figure size 1200x600 with 1 Axes>"
      ]
     },
     "metadata": {},
     "output_type": "display_data"
    },
    {
     "name": "stdout",
     "output_type": "stream",
     "text": [
      "Moyenne globale des retards : 8.85 minutes\n"
     ]
    }
   ],
   "source": [
    "import seaborn as sns\n",
    "plt.figure(figsize=(12, 6))\n",
    "bars = sns.barplot(x=Airports_delays_rank['Departure delay (Minutes)'], y=Airports_delays_rank['Destination Airport'], palette=\"viridis\")\n",
    "plt.axvline(x=Dep_delay_mean, color='r', linestyle='--', label='Moyenne globale')\n",
    "for i, (value, percent, count) in enumerate(zip(\n",
    "    Airports_delays_rank['Departure delay (Minutes)'], \n",
    "    Airports_delays_rank['Percentage'], \n",
    "    Airports_delays_rank['Flight_Count']  # Nouvelle colonne pour le nombre de vols\n",
    ")):\n",
    "    plt.text(3, i, f\"{value} minutes ({percent:.2f}% - {count} vols)\", ha='left', va='center', color='white')\n",
    "plt.legend()\n",
    "plt.tight_layout()\n",
    "plt.show()\n",
    "\n",
    "print(f'Moyenne globale des retards : {round(Dep_delay_mean,2)} minutes')"
   ]
  },
  {
   "cell_type": "markdown",
   "metadata": {},
   "source": [
    "<small>**Visualisation sur carte**</small>"
   ]
  },
  {
   "cell_type": "code",
   "execution_count": 23,
   "metadata": {},
   "outputs": [
    {
     "name": "stdout",
     "output_type": "stream",
     "text": [
      "Téléchargement terminé ! Les données sont enregistrées dans 'aer.csv'.\n"
     ]
    }
   ],
   "source": [
    "import requests\n",
    "url=\"https://davidmegginson.github.io/ourairports-data/airports.csv\"\n",
    "# Effectuer la requête GET\n",
    "response = requests.get(url)\n",
    "\n",
    "# Vérifier si la requête a réussi\n",
    "if response.status_code == 200:\n",
    "    # Enregistrer le contenu dans un fichier CSV\n",
    "    with open(\"aer.csv\", \"wb\") as file:\n",
    "        file.write(response.content)\n",
    "    print(\"Téléchargement terminé ! Les données sont enregistrées dans 'aer.csv'.\")\n",
    "else:\n",
    "    print(f\"Erreur lors de la requête : {response.status_code}\")"
   ]
  },
  {
   "cell_type": "code",
   "execution_count": 24,
   "metadata": {},
   "outputs": [],
   "source": [
    "import pandas as pd\n",
    "aer= pd.read_csv('/home/onyxia/work/Projet_Python-pour-la-data-science/aer.csv')\n",
    "us_aeroport = aer[aer['iso_country'] == 'US'][['latitude_deg', 'longitude_deg', 'iata_code']]"
   ]
  },
  {
   "cell_type": "code",
   "execution_count": 41,
   "metadata": {},
   "outputs": [],
   "source": [
    "Airports_delays = pd.merge(Airports_delays, us_aeroport, left_on='Destination Airport', right_on='iata_code', how='left')"
   ]
  },
  {
   "cell_type": "code",
   "execution_count": 43,
   "metadata": {},
   "outputs": [
    {
     "name": "stdout",
     "output_type": "stream",
     "text": [
      "Latitude: 18.33476905 Longitude: -64.9724536459818\n"
     ]
    }
   ],
   "source": [
    "import geopy\n",
    "from geopy.geocoders import Nominatim\n",
    " \n",
    "# Création d'un objet géocodeur Nominatim\n",
    "geolocator = Nominatim(user_agent=\"my_geocoder\")\n",
    " \n",
    "# Géocodage d'une adresse\n",
    "location = geolocator.geocode(\"STT\")\n",
    " \n",
    "# Affichage des informations de localisation\n",
    "print(\"Latitude:\", location.latitude, \"Longitude:\", location.longitude)\n",
    "\n",
    "Airports_delays['latitude_deg'] = Airports_delays['latitude_deg'].fillna(location.latitude)\n",
    "Airports_delays['longitude_deg'] = Airports_delays['longitude_deg'].fillna(location.longitude)"
   ]
  },
  {
   "cell_type": "code",
   "execution_count": 45,
   "metadata": {},
   "outputs": [],
   "source": [
    "Airports_delays = Airports_delays.drop('iata_code', axis=1)"
   ]
  },
  {
   "cell_type": "code",
   "execution_count": 47,
   "metadata": {},
   "outputs": [
    {
     "data": {
      "text/html": [
       "<div>\n",
       "<style scoped>\n",
       "    .dataframe tbody tr th:only-of-type {\n",
       "        vertical-align: middle;\n",
       "    }\n",
       "\n",
       "    .dataframe tbody tr th {\n",
       "        vertical-align: top;\n",
       "    }\n",
       "\n",
       "    .dataframe thead th {\n",
       "        text-align: right;\n",
       "    }\n",
       "</style>\n",
       "<table border=\"1\" class=\"dataframe\">\n",
       "  <thead>\n",
       "    <tr style=\"text-align: right;\">\n",
       "      <th></th>\n",
       "      <th>Destination Airport</th>\n",
       "      <th>Departure delay (Minutes)</th>\n",
       "      <th>Flight_Count</th>\n",
       "      <th>latitude_deg</th>\n",
       "      <th>longitude_deg</th>\n",
       "    </tr>\n",
       "  </thead>\n",
       "  <tbody>\n",
       "    <tr>\n",
       "      <th>0</th>\n",
       "      <td>LAX</td>\n",
       "      <td>6.72</td>\n",
       "      <td>12725</td>\n",
       "      <td>33.942501</td>\n",
       "      <td>-118.407997</td>\n",
       "    </tr>\n",
       "    <tr>\n",
       "      <th>1</th>\n",
       "      <td>MIA</td>\n",
       "      <td>12.84</td>\n",
       "      <td>12569</td>\n",
       "      <td>25.793200</td>\n",
       "      <td>-80.290604</td>\n",
       "    </tr>\n",
       "    <tr>\n",
       "      <th>2</th>\n",
       "      <td>CLT</td>\n",
       "      <td>10.36</td>\n",
       "      <td>7790</td>\n",
       "      <td>35.214001</td>\n",
       "      <td>-80.943100</td>\n",
       "    </tr>\n",
       "    <tr>\n",
       "      <th>3</th>\n",
       "      <td>SFO</td>\n",
       "      <td>5.26</td>\n",
       "      <td>5303</td>\n",
       "      <td>37.619806</td>\n",
       "      <td>-122.374821</td>\n",
       "    </tr>\n",
       "    <tr>\n",
       "      <th>4</th>\n",
       "      <td>PHX</td>\n",
       "      <td>9.36</td>\n",
       "      <td>4782</td>\n",
       "      <td>33.435302</td>\n",
       "      <td>-112.005905</td>\n",
       "    </tr>\n",
       "  </tbody>\n",
       "</table>\n",
       "</div>"
      ],
      "text/plain": [
       "  Destination Airport  Departure delay (Minutes)  Flight_Count  latitude_deg  \\\n",
       "0                 LAX                       6.72         12725     33.942501   \n",
       "1                 MIA                      12.84         12569     25.793200   \n",
       "2                 CLT                      10.36          7790     35.214001   \n",
       "3                 SFO                       5.26          5303     37.619806   \n",
       "4                 PHX                       9.36          4782     33.435302   \n",
       "\n",
       "   longitude_deg  \n",
       "0    -118.407997  \n",
       "1     -80.290604  \n",
       "2     -80.943100  \n",
       "3    -122.374821  \n",
       "4    -112.005905  "
      ]
     },
     "execution_count": 47,
     "metadata": {},
     "output_type": "execute_result"
    }
   ],
   "source": [
    "Airports_delays.head()"
   ]
  },
  {
   "cell_type": "code",
   "execution_count": null,
   "metadata": {},
   "outputs": [
    {
     "data": {
      "text/html": [
       "<div style=\"width:100%;\"><div style=\"position:relative;width:100%;height:0;padding-bottom:60%;\"><span style=\"color:#565656\">Make this Notebook Trusted to load map: File -> Trust Notebook</span><iframe srcdoc=\"&lt;!DOCTYPE html&gt;\n",
       "&lt;html&gt;\n",
       "&lt;head&gt;\n",
       "    \n",
       "    &lt;meta http-equiv=&quot;content-type&quot; content=&quot;text/html; charset=UTF-8&quot; /&gt;\n",
       "    \n",
       "        &lt;script&gt;\n",
       "            L_NO_TOUCH = false;\n",
       "            L_DISABLE_3D = false;\n",
       "        &lt;/script&gt;\n",
       "    \n",
       "    &lt;style&gt;html, body {width: 100%;height: 100%;margin: 0;padding: 0;}&lt;/style&gt;\n",
       "    &lt;style&gt;#map {position:absolute;top:0;bottom:0;right:0;left:0;}&lt;/style&gt;\n",
       "    &lt;script src=&quot;https://cdn.jsdelivr.net/npm/leaflet@1.9.3/dist/leaflet.js&quot;&gt;&lt;/script&gt;\n",
       "    &lt;script src=&quot;https://code.jquery.com/jquery-3.7.1.min.js&quot;&gt;&lt;/script&gt;\n",
       "    &lt;script src=&quot;https://cdn.jsdelivr.net/npm/bootstrap@5.2.2/dist/js/bootstrap.bundle.min.js&quot;&gt;&lt;/script&gt;\n",
       "    &lt;script src=&quot;https://cdnjs.cloudflare.com/ajax/libs/Leaflet.awesome-markers/2.0.2/leaflet.awesome-markers.js&quot;&gt;&lt;/script&gt;\n",
       "    &lt;link rel=&quot;stylesheet&quot; href=&quot;https://cdn.jsdelivr.net/npm/leaflet@1.9.3/dist/leaflet.css&quot;/&gt;\n",
       "    &lt;link rel=&quot;stylesheet&quot; href=&quot;https://cdn.jsdelivr.net/npm/bootstrap@5.2.2/dist/css/bootstrap.min.css&quot;/&gt;\n",
       "    &lt;link rel=&quot;stylesheet&quot; href=&quot;https://netdna.bootstrapcdn.com/bootstrap/3.0.0/css/bootstrap-glyphicons.css&quot;/&gt;\n",
       "    &lt;link rel=&quot;stylesheet&quot; href=&quot;https://cdn.jsdelivr.net/npm/@fortawesome/fontawesome-free@6.2.0/css/all.min.css&quot;/&gt;\n",
       "    &lt;link rel=&quot;stylesheet&quot; href=&quot;https://cdnjs.cloudflare.com/ajax/libs/Leaflet.awesome-markers/2.0.2/leaflet.awesome-markers.css&quot;/&gt;\n",
       "    &lt;link rel=&quot;stylesheet&quot; href=&quot;https://cdn.jsdelivr.net/gh/python-visualization/folium/folium/templates/leaflet.awesome.rotate.min.css&quot;/&gt;\n",
       "    \n",
       "            &lt;meta name=&quot;viewport&quot; content=&quot;width=device-width,\n",
       "                initial-scale=1.0, maximum-scale=1.0, user-scalable=no&quot; /&gt;\n",
       "            &lt;style&gt;\n",
       "                #map_6ab0355b8179288b98ce4e7a1689c123 {\n",
       "                    position: relative;\n",
       "                    width: 100.0%;\n",
       "                    height: 100.0%;\n",
       "                    left: 0.0%;\n",
       "                    top: 0.0%;\n",
       "                }\n",
       "                .leaflet-container { font-size: 1rem; }\n",
       "            &lt;/style&gt;\n",
       "        \n",
       "&lt;/head&gt;\n",
       "&lt;body&gt;\n",
       "    \n",
       "    \n",
       "            &lt;div class=&quot;folium-map&quot; id=&quot;map_6ab0355b8179288b98ce4e7a1689c123&quot; &gt;&lt;/div&gt;\n",
       "        \n",
       "&lt;/body&gt;\n",
       "&lt;script&gt;\n",
       "    \n",
       "    \n",
       "            var map_6ab0355b8179288b98ce4e7a1689c123 = L.map(\n",
       "                &quot;map_6ab0355b8179288b98ce4e7a1689c123&quot;,\n",
       "                {\n",
       "                    center: [37.0902, -95.7129],\n",
       "                    crs: L.CRS.EPSG3857,\n",
       "                    ...{\n",
       "  &quot;maxBounds&quot;: null,\n",
       "  &quot;zoom&quot;: 5,\n",
       "  &quot;zoomControl&quot;: true,\n",
       "  &quot;preferCanvas&quot;: false,\n",
       "}\n",
       "\n",
       "                }\n",
       "            );\n",
       "\n",
       "            \n",
       "\n",
       "        \n",
       "    \n",
       "            var tile_layer_7ae83a9a27b1d670951eb07f66437b79 = L.tileLayer(\n",
       "                &quot;https://tile.openstreetmap.org/{z}/{x}/{y}.png&quot;,\n",
       "                {\n",
       "  &quot;minZoom&quot;: 0,\n",
       "  &quot;maxZoom&quot;: 19,\n",
       "  &quot;maxNativeZoom&quot;: 19,\n",
       "  &quot;noWrap&quot;: false,\n",
       "  &quot;attribution&quot;: &quot;\\u0026copy; \\u003ca href=\\&quot;https://www.openstreetmap.org/copyright\\&quot;\\u003eOpenStreetMap\\u003c/a\\u003e contributors&quot;,\n",
       "  &quot;subdomains&quot;: &quot;abc&quot;,\n",
       "  &quot;detectRetina&quot;: false,\n",
       "  &quot;tms&quot;: false,\n",
       "  &quot;opacity&quot;: 1,\n",
       "}\n",
       "\n",
       "            );\n",
       "        \n",
       "    \n",
       "            tile_layer_7ae83a9a27b1d670951eb07f66437b79.addTo(map_6ab0355b8179288b98ce4e7a1689c123);\n",
       "        \n",
       "    \n",
       "            var circle_marker_9d01b1b37900679afcaba57747ef6bbc = L.circleMarker(\n",
       "                [33.942501, -118.407997],\n",
       "                {&quot;bubblingMouseEvents&quot;: true, &quot;color&quot;: &quot;red&quot;, &quot;dashArray&quot;: null, &quot;dashOffset&quot;: null, &quot;fill&quot;: true, &quot;fillColor&quot;: &quot;red&quot;, &quot;fillOpacity&quot;: 0.3, &quot;fillRule&quot;: &quot;evenodd&quot;, &quot;lineCap&quot;: &quot;round&quot;, &quot;lineJoin&quot;: &quot;round&quot;, &quot;opacity&quot;: 1.0, &quot;radius&quot;: 13.44, &quot;stroke&quot;: true, &quot;weight&quot;: 3}\n",
       "            ).addTo(map_6ab0355b8179288b98ce4e7a1689c123);\n",
       "        \n",
       "    \n",
       "        var popup_b1bad84c5bdf8845d5943b6eb25cc924 = L.popup({\n",
       "  &quot;maxWidth&quot;: &quot;100%&quot;,\n",
       "  &quot;autoClose&quot;: null,\n",
       "  &quot;closeOnClick&quot;: null,\n",
       "});\n",
       "\n",
       "        \n",
       "            \n",
       "                var html_0a63f4b357e34d5efe675818061d0f88 = $(`&lt;div id=&quot;html_0a63f4b357e34d5efe675818061d0f88&quot; style=&quot;width: 100.0%; height: 100.0%;&quot;&gt;LAX Delay: 6.72 minutes&lt;/div&gt;`)[0];\n",
       "                popup_b1bad84c5bdf8845d5943b6eb25cc924.setContent(html_0a63f4b357e34d5efe675818061d0f88);\n",
       "            \n",
       "        \n",
       "\n",
       "        circle_marker_9d01b1b37900679afcaba57747ef6bbc.bindPopup(popup_b1bad84c5bdf8845d5943b6eb25cc924)\n",
       "        ;\n",
       "\n",
       "        \n",
       "    \n",
       "    \n",
       "            var circle_marker_126a43005ed95a5da227e5861a6b1534 = L.circleMarker(\n",
       "                [25.79319953918457, -80.29060363769531],\n",
       "                {&quot;bubblingMouseEvents&quot;: true, &quot;color&quot;: &quot;red&quot;, &quot;dashArray&quot;: null, &quot;dashOffset&quot;: null, &quot;fill&quot;: true, &quot;fillColor&quot;: &quot;red&quot;, &quot;fillOpacity&quot;: 0.3, &quot;fillRule&quot;: &quot;evenodd&quot;, &quot;lineCap&quot;: &quot;round&quot;, &quot;lineJoin&quot;: &quot;round&quot;, &quot;opacity&quot;: 1.0, &quot;radius&quot;: 25.68, &quot;stroke&quot;: true, &quot;weight&quot;: 3}\n",
       "            ).addTo(map_6ab0355b8179288b98ce4e7a1689c123);\n",
       "        \n",
       "    \n",
       "        var popup_e1f5d583bdac54738f12a2c90a3e5484 = L.popup({\n",
       "  &quot;maxWidth&quot;: &quot;100%&quot;,\n",
       "  &quot;autoClose&quot;: null,\n",
       "  &quot;closeOnClick&quot;: null,\n",
       "});\n",
       "\n",
       "        \n",
       "            \n",
       "                var html_c4ff6e018b8b8c4e6c5fdf4bfacf5426 = $(`&lt;div id=&quot;html_c4ff6e018b8b8c4e6c5fdf4bfacf5426&quot; style=&quot;width: 100.0%; height: 100.0%;&quot;&gt;MIA Delay: 12.84 minutes&lt;/div&gt;`)[0];\n",
       "                popup_e1f5d583bdac54738f12a2c90a3e5484.setContent(html_c4ff6e018b8b8c4e6c5fdf4bfacf5426);\n",
       "            \n",
       "        \n",
       "\n",
       "        circle_marker_126a43005ed95a5da227e5861a6b1534.bindPopup(popup_e1f5d583bdac54738f12a2c90a3e5484)\n",
       "        ;\n",
       "\n",
       "        \n",
       "    \n",
       "    \n",
       "            var circle_marker_5e303d5254dfca3b9d48d7bed5e3b060 = L.circleMarker(\n",
       "                [35.2140007019043, -80.94309997558594],\n",
       "                {&quot;bubblingMouseEvents&quot;: true, &quot;color&quot;: &quot;red&quot;, &quot;dashArray&quot;: null, &quot;dashOffset&quot;: null, &quot;fill&quot;: true, &quot;fillColor&quot;: &quot;red&quot;, &quot;fillOpacity&quot;: 0.3, &quot;fillRule&quot;: &quot;evenodd&quot;, &quot;lineCap&quot;: &quot;round&quot;, &quot;lineJoin&quot;: &quot;round&quot;, &quot;opacity&quot;: 1.0, &quot;radius&quot;: 20.72, &quot;stroke&quot;: true, &quot;weight&quot;: 3}\n",
       "            ).addTo(map_6ab0355b8179288b98ce4e7a1689c123);\n",
       "        \n",
       "    \n",
       "        var popup_11ef307a756205e5c42a6a0ee80de469 = L.popup({\n",
       "  &quot;maxWidth&quot;: &quot;100%&quot;,\n",
       "  &quot;autoClose&quot;: null,\n",
       "  &quot;closeOnClick&quot;: null,\n",
       "});\n",
       "\n",
       "        \n",
       "            \n",
       "                var html_37b5e5e6e854a338cc62a060fbbac40a = $(`&lt;div id=&quot;html_37b5e5e6e854a338cc62a060fbbac40a&quot; style=&quot;width: 100.0%; height: 100.0%;&quot;&gt;CLT Delay: 10.36 minutes&lt;/div&gt;`)[0];\n",
       "                popup_11ef307a756205e5c42a6a0ee80de469.setContent(html_37b5e5e6e854a338cc62a060fbbac40a);\n",
       "            \n",
       "        \n",
       "\n",
       "        circle_marker_5e303d5254dfca3b9d48d7bed5e3b060.bindPopup(popup_11ef307a756205e5c42a6a0ee80de469)\n",
       "        ;\n",
       "\n",
       "        \n",
       "    \n",
       "    \n",
       "            var circle_marker_53b891d5c9d354e4fd79f2e58172ebe8 = L.circleMarker(\n",
       "                [37.619806, -122.374821],\n",
       "                {&quot;bubblingMouseEvents&quot;: true, &quot;color&quot;: &quot;red&quot;, &quot;dashArray&quot;: null, &quot;dashOffset&quot;: null, &quot;fill&quot;: true, &quot;fillColor&quot;: &quot;red&quot;, &quot;fillOpacity&quot;: 0.3, &quot;fillRule&quot;: &quot;evenodd&quot;, &quot;lineCap&quot;: &quot;round&quot;, &quot;lineJoin&quot;: &quot;round&quot;, &quot;opacity&quot;: 1.0, &quot;radius&quot;: 10.52, &quot;stroke&quot;: true, &quot;weight&quot;: 3}\n",
       "            ).addTo(map_6ab0355b8179288b98ce4e7a1689c123);\n",
       "        \n",
       "    \n",
       "        var popup_60f38cc71309edf1eb7098572c44bf1e = L.popup({\n",
       "  &quot;maxWidth&quot;: &quot;100%&quot;,\n",
       "  &quot;autoClose&quot;: null,\n",
       "  &quot;closeOnClick&quot;: null,\n",
       "});\n",
       "\n",
       "        \n",
       "            \n",
       "                var html_5bc18f2c4f58c9bf0bc5e9c5394a8a94 = $(`&lt;div id=&quot;html_5bc18f2c4f58c9bf0bc5e9c5394a8a94&quot; style=&quot;width: 100.0%; height: 100.0%;&quot;&gt;SFO Delay: 5.26 minutes&lt;/div&gt;`)[0];\n",
       "                popup_60f38cc71309edf1eb7098572c44bf1e.setContent(html_5bc18f2c4f58c9bf0bc5e9c5394a8a94);\n",
       "            \n",
       "        \n",
       "\n",
       "        circle_marker_53b891d5c9d354e4fd79f2e58172ebe8.bindPopup(popup_60f38cc71309edf1eb7098572c44bf1e)\n",
       "        ;\n",
       "\n",
       "        \n",
       "    \n",
       "    \n",
       "            var circle_marker_757d7e54ac07db7efb0ef56ce12c8a36 = L.circleMarker(\n",
       "                [33.435302, -112.005905],\n",
       "                {&quot;bubblingMouseEvents&quot;: true, &quot;color&quot;: &quot;red&quot;, &quot;dashArray&quot;: null, &quot;dashOffset&quot;: null, &quot;fill&quot;: true, &quot;fillColor&quot;: &quot;red&quot;, &quot;fillOpacity&quot;: 0.3, &quot;fillRule&quot;: &quot;evenodd&quot;, &quot;lineCap&quot;: &quot;round&quot;, &quot;lineJoin&quot;: &quot;round&quot;, &quot;opacity&quot;: 1.0, &quot;radius&quot;: 18.72, &quot;stroke&quot;: true, &quot;weight&quot;: 3}\n",
       "            ).addTo(map_6ab0355b8179288b98ce4e7a1689c123);\n",
       "        \n",
       "    \n",
       "        var popup_77737ab95e8881556860b954a1151984 = L.popup({\n",
       "  &quot;maxWidth&quot;: &quot;100%&quot;,\n",
       "  &quot;autoClose&quot;: null,\n",
       "  &quot;closeOnClick&quot;: null,\n",
       "});\n",
       "\n",
       "        \n",
       "            \n",
       "                var html_6437f54911fc06b7ef279476ca0af487 = $(`&lt;div id=&quot;html_6437f54911fc06b7ef279476ca0af487&quot; style=&quot;width: 100.0%; height: 100.0%;&quot;&gt;PHX Delay: 9.36 minutes&lt;/div&gt;`)[0];\n",
       "                popup_77737ab95e8881556860b954a1151984.setContent(html_6437f54911fc06b7ef279476ca0af487);\n",
       "            \n",
       "        \n",
       "\n",
       "        circle_marker_757d7e54ac07db7efb0ef56ce12c8a36.bindPopup(popup_77737ab95e8881556860b954a1151984)\n",
       "        ;\n",
       "\n",
       "        \n",
       "    \n",
       "    \n",
       "            var circle_marker_0e9a5aa2e36e5a13a92f91fdc8792532 = L.circleMarker(\n",
       "                [32.896801, -97.038002],\n",
       "                {&quot;bubblingMouseEvents&quot;: true, &quot;color&quot;: &quot;red&quot;, &quot;dashArray&quot;: null, &quot;dashOffset&quot;: null, &quot;fill&quot;: true, &quot;fillColor&quot;: &quot;red&quot;, &quot;fillOpacity&quot;: 0.3, &quot;fillRule&quot;: &quot;evenodd&quot;, &quot;lineCap&quot;: &quot;round&quot;, &quot;lineJoin&quot;: &quot;round&quot;, &quot;opacity&quot;: 1.0, &quot;radius&quot;: 28.66, &quot;stroke&quot;: true, &quot;weight&quot;: 3}\n",
       "            ).addTo(map_6ab0355b8179288b98ce4e7a1689c123);\n",
       "        \n",
       "    \n",
       "        var popup_c1f395555d3dc985747e8ed097b6d69d = L.popup({\n",
       "  &quot;maxWidth&quot;: &quot;100%&quot;,\n",
       "  &quot;autoClose&quot;: null,\n",
       "  &quot;closeOnClick&quot;: null,\n",
       "});\n",
       "\n",
       "        \n",
       "            \n",
       "                var html_9aff52b073c74d55994617e9328f65e2 = $(`&lt;div id=&quot;html_9aff52b073c74d55994617e9328f65e2&quot; style=&quot;width: 100.0%; height: 100.0%;&quot;&gt;DFW Delay: 14.33 minutes&lt;/div&gt;`)[0];\n",
       "                popup_c1f395555d3dc985747e8ed097b6d69d.setContent(html_9aff52b073c74d55994617e9328f65e2);\n",
       "            \n",
       "        \n",
       "\n",
       "        circle_marker_0e9a5aa2e36e5a13a92f91fdc8792532.bindPopup(popup_c1f395555d3dc985747e8ed097b6d69d)\n",
       "        ;\n",
       "\n",
       "        \n",
       "    \n",
       "    \n",
       "            var circle_marker_ee9f68b087c33a0b89947a5f47d64db9 = L.circleMarker(\n",
       "                [30.197535, -97.662015],\n",
       "                {&quot;bubblingMouseEvents&quot;: true, &quot;color&quot;: &quot;red&quot;, &quot;dashArray&quot;: null, &quot;dashOffset&quot;: null, &quot;fill&quot;: true, &quot;fillColor&quot;: &quot;red&quot;, &quot;fillOpacity&quot;: 0.3, &quot;fillRule&quot;: &quot;evenodd&quot;, &quot;lineCap&quot;: &quot;round&quot;, &quot;lineJoin&quot;: &quot;round&quot;, &quot;opacity&quot;: 1.0, &quot;radius&quot;: 24.92, &quot;stroke&quot;: true, &quot;weight&quot;: 3}\n",
       "            ).addTo(map_6ab0355b8179288b98ce4e7a1689c123);\n",
       "        \n",
       "    \n",
       "        var popup_e53191e773a01d6095e323d345497485 = L.popup({\n",
       "  &quot;maxWidth&quot;: &quot;100%&quot;,\n",
       "  &quot;autoClose&quot;: null,\n",
       "  &quot;closeOnClick&quot;: null,\n",
       "});\n",
       "\n",
       "        \n",
       "            \n",
       "                var html_d3aa29cd963f1bcfc579e7c2fa0a7806 = $(`&lt;div id=&quot;html_d3aa29cd963f1bcfc579e7c2fa0a7806&quot; style=&quot;width: 100.0%; height: 100.0%;&quot;&gt;AUS Delay: 12.46 minutes&lt;/div&gt;`)[0];\n",
       "                popup_e53191e773a01d6095e323d345497485.setContent(html_d3aa29cd963f1bcfc579e7c2fa0a7806);\n",
       "            \n",
       "        \n",
       "\n",
       "        circle_marker_ee9f68b087c33a0b89947a5f47d64db9.bindPopup(popup_e53191e773a01d6095e323d345497485)\n",
       "        ;\n",
       "\n",
       "        \n",
       "    \n",
       "    \n",
       "            var circle_marker_db19026c6294f567210dfa8d0cb935b7 = L.circleMarker(\n",
       "                [41.9786, -87.9048],\n",
       "                {&quot;bubblingMouseEvents&quot;: true, &quot;color&quot;: &quot;red&quot;, &quot;dashArray&quot;: null, &quot;dashOffset&quot;: null, &quot;fill&quot;: true, &quot;fillColor&quot;: &quot;red&quot;, &quot;fillOpacity&quot;: 0.3, &quot;fillRule&quot;: &quot;evenodd&quot;, &quot;lineCap&quot;: &quot;round&quot;, &quot;lineJoin&quot;: &quot;round&quot;, &quot;opacity&quot;: 1.0, &quot;radius&quot;: 33.62, &quot;stroke&quot;: true, &quot;weight&quot;: 3}\n",
       "            ).addTo(map_6ab0355b8179288b98ce4e7a1689c123);\n",
       "        \n",
       "    \n",
       "        var popup_69d1797c53f63ef1546dc1fe3e3f4fb3 = L.popup({\n",
       "  &quot;maxWidth&quot;: &quot;100%&quot;,\n",
       "  &quot;autoClose&quot;: null,\n",
       "  &quot;closeOnClick&quot;: null,\n",
       "});\n",
       "\n",
       "        \n",
       "            \n",
       "                var html_46b8aea2a41841733298c9c91ba13176 = $(`&lt;div id=&quot;html_46b8aea2a41841733298c9c91ba13176&quot; style=&quot;width: 100.0%; height: 100.0%;&quot;&gt;ORD Delay: 16.81 minutes&lt;/div&gt;`)[0];\n",
       "                popup_69d1797c53f63ef1546dc1fe3e3f4fb3.setContent(html_46b8aea2a41841733298c9c91ba13176);\n",
       "            \n",
       "        \n",
       "\n",
       "        circle_marker_db19026c6294f567210dfa8d0cb935b7.bindPopup(popup_69d1797c53f63ef1546dc1fe3e3f4fb3)\n",
       "        ;\n",
       "\n",
       "        \n",
       "    \n",
       "    \n",
       "            var circle_marker_4251d1b1bd8877006e932ad4259064de = L.circleMarker(\n",
       "                [42.36197, -71.0079],\n",
       "                {&quot;bubblingMouseEvents&quot;: true, &quot;color&quot;: &quot;red&quot;, &quot;dashArray&quot;: null, &quot;dashOffset&quot;: null, &quot;fill&quot;: true, &quot;fillColor&quot;: &quot;red&quot;, &quot;fillOpacity&quot;: 0.3, &quot;fillRule&quot;: &quot;evenodd&quot;, &quot;lineCap&quot;: &quot;round&quot;, &quot;lineJoin&quot;: &quot;round&quot;, &quot;opacity&quot;: 1.0, &quot;radius&quot;: 10.56, &quot;stroke&quot;: true, &quot;weight&quot;: 3}\n",
       "            ).addTo(map_6ab0355b8179288b98ce4e7a1689c123);\n",
       "        \n",
       "    \n",
       "        var popup_0e43b3d01ff4400ba1cbfad9954f3a6a = L.popup({\n",
       "  &quot;maxWidth&quot;: &quot;100%&quot;,\n",
       "  &quot;autoClose&quot;: null,\n",
       "  &quot;closeOnClick&quot;: null,\n",
       "});\n",
       "\n",
       "        \n",
       "            \n",
       "                var html_1b9f9e1bb7c6ab4af7009bbec59a0279 = $(`&lt;div id=&quot;html_1b9f9e1bb7c6ab4af7009bbec59a0279&quot; style=&quot;width: 100.0%; height: 100.0%;&quot;&gt;BOS Delay: 5.28 minutes&lt;/div&gt;`)[0];\n",
       "                popup_0e43b3d01ff4400ba1cbfad9954f3a6a.setContent(html_1b9f9e1bb7c6ab4af7009bbec59a0279);\n",
       "            \n",
       "        \n",
       "\n",
       "        circle_marker_4251d1b1bd8877006e932ad4259064de.bindPopup(popup_0e43b3d01ff4400ba1cbfad9954f3a6a)\n",
       "        ;\n",
       "\n",
       "        \n",
       "    \n",
       "    \n",
       "            var circle_marker_fe70ad3a074f2cd2d8fdd786b92c6d3f = L.circleMarker(\n",
       "                [33.675701, -117.867996],\n",
       "                {&quot;bubblingMouseEvents&quot;: true, &quot;color&quot;: &quot;red&quot;, &quot;dashArray&quot;: null, &quot;dashOffset&quot;: null, &quot;fill&quot;: true, &quot;fillColor&quot;: &quot;red&quot;, &quot;fillOpacity&quot;: 0.3, &quot;fillRule&quot;: &quot;evenodd&quot;, &quot;lineCap&quot;: &quot;round&quot;, &quot;lineJoin&quot;: &quot;round&quot;, &quot;opacity&quot;: 1.0, &quot;radius&quot;: 5.82, &quot;stroke&quot;: true, &quot;weight&quot;: 3}\n",
       "            ).addTo(map_6ab0355b8179288b98ce4e7a1689c123);\n",
       "        \n",
       "    \n",
       "        var popup_1e7f95edcd5c2dc174100dd77c209e0f = L.popup({\n",
       "  &quot;maxWidth&quot;: &quot;100%&quot;,\n",
       "  &quot;autoClose&quot;: null,\n",
       "  &quot;closeOnClick&quot;: null,\n",
       "});\n",
       "\n",
       "        \n",
       "            \n",
       "                var html_d785d361059e9d3ae73c65b82487dc01 = $(`&lt;div id=&quot;html_d785d361059e9d3ae73c65b82487dc01&quot; style=&quot;width: 100.0%; height: 100.0%;&quot;&gt;SNA Delay: 2.91 minutes&lt;/div&gt;`)[0];\n",
       "                popup_1e7f95edcd5c2dc174100dd77c209e0f.setContent(html_d785d361059e9d3ae73c65b82487dc01);\n",
       "            \n",
       "        \n",
       "\n",
       "        circle_marker_fe70ad3a074f2cd2d8fdd786b92c6d3f.bindPopup(popup_1e7f95edcd5c2dc174100dd77c209e0f)\n",
       "        ;\n",
       "\n",
       "        \n",
       "    \n",
       "    \n",
       "            var circle_marker_966ec45b233f32ad7017d60a36e9b185 = L.circleMarker(\n",
       "                [18.33476905, -64.9724536459818],\n",
       "                {&quot;bubblingMouseEvents&quot;: true, &quot;color&quot;: &quot;red&quot;, &quot;dashArray&quot;: null, &quot;dashOffset&quot;: null, &quot;fill&quot;: true, &quot;fillColor&quot;: &quot;red&quot;, &quot;fillOpacity&quot;: 0.3, &quot;fillRule&quot;: &quot;evenodd&quot;, &quot;lineCap&quot;: &quot;round&quot;, &quot;lineJoin&quot;: &quot;round&quot;, &quot;opacity&quot;: 1.0, &quot;radius&quot;: 28.0, &quot;stroke&quot;: true, &quot;weight&quot;: 3}\n",
       "            ).addTo(map_6ab0355b8179288b98ce4e7a1689c123);\n",
       "        \n",
       "    \n",
       "        var popup_564f3ff190fcbf9c2c351ea33c535df1 = L.popup({\n",
       "  &quot;maxWidth&quot;: &quot;100%&quot;,\n",
       "  &quot;autoClose&quot;: null,\n",
       "  &quot;closeOnClick&quot;: null,\n",
       "});\n",
       "\n",
       "        \n",
       "            \n",
       "                var html_a19086b51529191bf62fd1cf41a9422a = $(`&lt;div id=&quot;html_a19086b51529191bf62fd1cf41a9422a&quot; style=&quot;width: 100.0%; height: 100.0%;&quot;&gt;STT Delay: 14.0 minutes&lt;/div&gt;`)[0];\n",
       "                popup_564f3ff190fcbf9c2c351ea33c535df1.setContent(html_a19086b51529191bf62fd1cf41a9422a);\n",
       "            \n",
       "        \n",
       "\n",
       "        circle_marker_966ec45b233f32ad7017d60a36e9b185.bindPopup(popup_564f3ff190fcbf9c2c351ea33c535df1)\n",
       "        ;\n",
       "\n",
       "        \n",
       "    \n",
       "    \n",
       "            var circle_marker_f663985a2a8125876c6068b6eb81ea80 = L.circleMarker(\n",
       "                [26.072599, -80.152702],\n",
       "                {&quot;bubblingMouseEvents&quot;: true, &quot;color&quot;: &quot;red&quot;, &quot;dashArray&quot;: null, &quot;dashOffset&quot;: null, &quot;fill&quot;: true, &quot;fillColor&quot;: &quot;red&quot;, &quot;fillOpacity&quot;: 0.3, &quot;fillRule&quot;: &quot;evenodd&quot;, &quot;lineCap&quot;: &quot;round&quot;, &quot;lineJoin&quot;: &quot;round&quot;, &quot;opacity&quot;: 1.0, &quot;radius&quot;: 18.48, &quot;stroke&quot;: true, &quot;weight&quot;: 3}\n",
       "            ).addTo(map_6ab0355b8179288b98ce4e7a1689c123);\n",
       "        \n",
       "    \n",
       "        var popup_c157c43f25b7835eea079fcedc4950ca = L.popup({\n",
       "  &quot;maxWidth&quot;: &quot;100%&quot;,\n",
       "  &quot;autoClose&quot;: null,\n",
       "  &quot;closeOnClick&quot;: null,\n",
       "});\n",
       "\n",
       "        \n",
       "            \n",
       "                var html_c830299766d399aa58f3121e0c593137 = $(`&lt;div id=&quot;html_c830299766d399aa58f3121e0c593137&quot; style=&quot;width: 100.0%; height: 100.0%;&quot;&gt;FLL Delay: 9.24 minutes&lt;/div&gt;`)[0];\n",
       "                popup_c157c43f25b7835eea079fcedc4950ca.setContent(html_c830299766d399aa58f3121e0c593137);\n",
       "            \n",
       "        \n",
       "\n",
       "        circle_marker_f663985a2a8125876c6068b6eb81ea80.bindPopup(popup_c157c43f25b7835eea079fcedc4950ca)\n",
       "        ;\n",
       "\n",
       "        \n",
       "    \n",
       "    \n",
       "            var circle_marker_c52fccc1c13a3a625733cadea84b8a86 = L.circleMarker(\n",
       "                [39.64260101, -106.9179993],\n",
       "                {&quot;bubblingMouseEvents&quot;: true, &quot;color&quot;: &quot;red&quot;, &quot;dashArray&quot;: null, &quot;dashOffset&quot;: null, &quot;fill&quot;: true, &quot;fillColor&quot;: &quot;red&quot;, &quot;fillOpacity&quot;: 0.3, &quot;fillRule&quot;: &quot;evenodd&quot;, &quot;lineCap&quot;: &quot;round&quot;, &quot;lineJoin&quot;: &quot;round&quot;, &quot;opacity&quot;: 1.0, &quot;radius&quot;: 16.44, &quot;stroke&quot;: true, &quot;weight&quot;: 3}\n",
       "            ).addTo(map_6ab0355b8179288b98ce4e7a1689c123);\n",
       "        \n",
       "    \n",
       "        var popup_7390c5e05ffbddf6223126687285f820 = L.popup({\n",
       "  &quot;maxWidth&quot;: &quot;100%&quot;,\n",
       "  &quot;autoClose&quot;: null,\n",
       "  &quot;closeOnClick&quot;: null,\n",
       "});\n",
       "\n",
       "        \n",
       "            \n",
       "                var html_b18327b109123f993329504cff68120f = $(`&lt;div id=&quot;html_b18327b109123f993329504cff68120f&quot; style=&quot;width: 100.0%; height: 100.0%;&quot;&gt;EGE Delay: 8.22 minutes&lt;/div&gt;`)[0];\n",
       "                popup_7390c5e05ffbddf6223126687285f820.setContent(html_b18327b109123f993329504cff68120f);\n",
       "            \n",
       "        \n",
       "\n",
       "        circle_marker_c52fccc1c13a3a625733cadea84b8a86.bindPopup(popup_7390c5e05ffbddf6223126687285f820)\n",
       "        ;\n",
       "\n",
       "        \n",
       "    \n",
       "    \n",
       "            var circle_marker_5305937d99a09b844970514ed1a2f66a = L.circleMarker(\n",
       "                [38.8521, -77.037697],\n",
       "                {&quot;bubblingMouseEvents&quot;: true, &quot;color&quot;: &quot;red&quot;, &quot;dashArray&quot;: null, &quot;dashOffset&quot;: null, &quot;fill&quot;: true, &quot;fillColor&quot;: &quot;red&quot;, &quot;fillOpacity&quot;: 0.3, &quot;fillRule&quot;: &quot;evenodd&quot;, &quot;lineCap&quot;: &quot;round&quot;, &quot;lineJoin&quot;: &quot;round&quot;, &quot;opacity&quot;: 1.0, &quot;radius&quot;: 24.16, &quot;stroke&quot;: true, &quot;weight&quot;: 3}\n",
       "            ).addTo(map_6ab0355b8179288b98ce4e7a1689c123);\n",
       "        \n",
       "    \n",
       "        var popup_4554896687b94a5e432776bdf355fe6a = L.popup({\n",
       "  &quot;maxWidth&quot;: &quot;100%&quot;,\n",
       "  &quot;autoClose&quot;: null,\n",
       "  &quot;closeOnClick&quot;: null,\n",
       "});\n",
       "\n",
       "        \n",
       "            \n",
       "                var html_a3a4d1bb95abe3dc4f47095c759af82b = $(`&lt;div id=&quot;html_a3a4d1bb95abe3dc4f47095c759af82b&quot; style=&quot;width: 100.0%; height: 100.0%;&quot;&gt;DCA Delay: 12.08 minutes&lt;/div&gt;`)[0];\n",
       "                popup_4554896687b94a5e432776bdf355fe6a.setContent(html_a3a4d1bb95abe3dc4f47095c759af82b);\n",
       "            \n",
       "        \n",
       "\n",
       "        circle_marker_5305937d99a09b844970514ed1a2f66a.bindPopup(popup_4554896687b94a5e432776bdf355fe6a)\n",
       "        ;\n",
       "\n",
       "        \n",
       "    \n",
       "    \n",
       "            var circle_marker_00f555045aed8fee30ef3b8ea641e794 = L.circleMarker(\n",
       "                [36.083361, -115.151817],\n",
       "                {&quot;bubblingMouseEvents&quot;: true, &quot;color&quot;: &quot;red&quot;, &quot;dashArray&quot;: null, &quot;dashOffset&quot;: null, &quot;fill&quot;: true, &quot;fillColor&quot;: &quot;red&quot;, &quot;fillOpacity&quot;: 0.3, &quot;fillRule&quot;: &quot;evenodd&quot;, &quot;lineCap&quot;: &quot;round&quot;, &quot;lineJoin&quot;: &quot;round&quot;, &quot;opacity&quot;: 1.0, &quot;radius&quot;: 28.98, &quot;stroke&quot;: true, &quot;weight&quot;: 3}\n",
       "            ).addTo(map_6ab0355b8179288b98ce4e7a1689c123);\n",
       "        \n",
       "    \n",
       "        var popup_69c17efc891b925a54c6297b337a2f83 = L.popup({\n",
       "  &quot;maxWidth&quot;: &quot;100%&quot;,\n",
       "  &quot;autoClose&quot;: null,\n",
       "  &quot;closeOnClick&quot;: null,\n",
       "});\n",
       "\n",
       "        \n",
       "            \n",
       "                var html_301e54cf3b8f4f2b9e4508e365a00266 = $(`&lt;div id=&quot;html_301e54cf3b8f4f2b9e4508e365a00266&quot; style=&quot;width: 100.0%; height: 100.0%;&quot;&gt;LAS Delay: 14.49 minutes&lt;/div&gt;`)[0];\n",
       "                popup_69c17efc891b925a54c6297b337a2f83.setContent(html_301e54cf3b8f4f2b9e4508e365a00266);\n",
       "            \n",
       "        \n",
       "\n",
       "        circle_marker_00f555045aed8fee30ef3b8ea641e794.bindPopup(popup_69c17efc891b925a54c6297b337a2f83)\n",
       "        ;\n",
       "\n",
       "        \n",
       "    \n",
       "    \n",
       "            var circle_marker_3d6458739ddf83a8e09e3aee894dbf91 = L.circleMarker(\n",
       "                [43.6072998046875, -110.73799896240234],\n",
       "                {&quot;bubblingMouseEvents&quot;: true, &quot;color&quot;: &quot;red&quot;, &quot;dashArray&quot;: null, &quot;dashOffset&quot;: null, &quot;fill&quot;: true, &quot;fillColor&quot;: &quot;red&quot;, &quot;fillOpacity&quot;: 0.3, &quot;fillRule&quot;: &quot;evenodd&quot;, &quot;lineCap&quot;: &quot;round&quot;, &quot;lineJoin&quot;: &quot;round&quot;, &quot;opacity&quot;: 1.0, &quot;radius&quot;: 25.18, &quot;stroke&quot;: true, &quot;weight&quot;: 3}\n",
       "            ).addTo(map_6ab0355b8179288b98ce4e7a1689c123);\n",
       "        \n",
       "    \n",
       "        var popup_11a93845c7f8b3f542c865c1ed102a4b = L.popup({\n",
       "  &quot;maxWidth&quot;: &quot;100%&quot;,\n",
       "  &quot;autoClose&quot;: null,\n",
       "  &quot;closeOnClick&quot;: null,\n",
       "});\n",
       "\n",
       "        \n",
       "            \n",
       "                var html_d7aeb9e93fb0525584c410063855dc0b = $(`&lt;div id=&quot;html_d7aeb9e93fb0525584c410063855dc0b&quot; style=&quot;width: 100.0%; height: 100.0%;&quot;&gt;JAC Delay: 12.59 minutes&lt;/div&gt;`)[0];\n",
       "                popup_11a93845c7f8b3f542c865c1ed102a4b.setContent(html_d7aeb9e93fb0525584c410063855dc0b);\n",
       "            \n",
       "        \n",
       "\n",
       "        circle_marker_3d6458739ddf83a8e09e3aee894dbf91.bindPopup(popup_11a93845c7f8b3f542c865c1ed102a4b)\n",
       "        ;\n",
       "\n",
       "        \n",
       "    \n",
       "    \n",
       "            var circle_marker_d67757dfc527e04f69c8cf6e74dbc1b3 = L.circleMarker(\n",
       "                [29.533701, -98.469803],\n",
       "                {&quot;bubblingMouseEvents&quot;: true, &quot;color&quot;: &quot;red&quot;, &quot;dashArray&quot;: null, &quot;dashOffset&quot;: null, &quot;fill&quot;: true, &quot;fillColor&quot;: &quot;red&quot;, &quot;fillOpacity&quot;: 0.3, &quot;fillRule&quot;: &quot;evenodd&quot;, &quot;lineCap&quot;: &quot;round&quot;, &quot;lineJoin&quot;: &quot;round&quot;, &quot;opacity&quot;: 1.0, &quot;radius&quot;: 6.74, &quot;stroke&quot;: true, &quot;weight&quot;: 3}\n",
       "            ).addTo(map_6ab0355b8179288b98ce4e7a1689c123);\n",
       "        \n",
       "    \n",
       "        var popup_1d5cab9f5d69a129018ff0e063c24fe1 = L.popup({\n",
       "  &quot;maxWidth&quot;: &quot;100%&quot;,\n",
       "  &quot;autoClose&quot;: null,\n",
       "  &quot;closeOnClick&quot;: null,\n",
       "});\n",
       "\n",
       "        \n",
       "            \n",
       "                var html_51ce4a13d8e42465fe80a9e151594332 = $(`&lt;div id=&quot;html_51ce4a13d8e42465fe80a9e151594332&quot; style=&quot;width: 100.0%; height: 100.0%;&quot;&gt;SAT Delay: 3.37 minutes&lt;/div&gt;`)[0];\n",
       "                popup_1d5cab9f5d69a129018ff0e063c24fe1.setContent(html_51ce4a13d8e42465fe80a9e151594332);\n",
       "            \n",
       "        \n",
       "\n",
       "        circle_marker_d67757dfc527e04f69c8cf6e74dbc1b3.bindPopup(popup_1d5cab9f5d69a129018ff0e063c24fe1)\n",
       "        ;\n",
       "\n",
       "        \n",
       "    \n",
       "    \n",
       "            var circle_marker_4d302925fe0a27ffd40a4e70caefaafe = L.circleMarker(\n",
       "                [32.7336006165, -117.190002441],\n",
       "                {&quot;bubblingMouseEvents&quot;: true, &quot;color&quot;: &quot;red&quot;, &quot;dashArray&quot;: null, &quot;dashOffset&quot;: null, &quot;fill&quot;: true, &quot;fillColor&quot;: &quot;red&quot;, &quot;fillOpacity&quot;: 0.3, &quot;fillRule&quot;: &quot;evenodd&quot;, &quot;lineCap&quot;: &quot;round&quot;, &quot;lineJoin&quot;: &quot;round&quot;, &quot;opacity&quot;: 1.0, &quot;radius&quot;: 0.78, &quot;stroke&quot;: true, &quot;weight&quot;: 3}\n",
       "            ).addTo(map_6ab0355b8179288b98ce4e7a1689c123);\n",
       "        \n",
       "    \n",
       "        var popup_64e74e9eba63cc1609e715fa477dbe30 = L.popup({\n",
       "  &quot;maxWidth&quot;: &quot;100%&quot;,\n",
       "  &quot;autoClose&quot;: null,\n",
       "  &quot;closeOnClick&quot;: null,\n",
       "});\n",
       "\n",
       "        \n",
       "            \n",
       "                var html_35eefd472515687946044cddf02ea2f5 = $(`&lt;div id=&quot;html_35eefd472515687946044cddf02ea2f5&quot; style=&quot;width: 100.0%; height: 100.0%;&quot;&gt;SAN Delay: 0.39 minutes&lt;/div&gt;`)[0];\n",
       "                popup_64e74e9eba63cc1609e715fa477dbe30.setContent(html_35eefd472515687946044cddf02ea2f5);\n",
       "            \n",
       "        \n",
       "\n",
       "        circle_marker_4d302925fe0a27ffd40a4e70caefaafe.bindPopup(popup_64e74e9eba63cc1609e715fa477dbe30)\n",
       "        ;\n",
       "\n",
       "        \n",
       "    \n",
       "    \n",
       "            var circle_marker_b1b7ab2204a8a6d58f73c15a84a12ecd = L.circleMarker(\n",
       "                [35.877602, -78.787498],\n",
       "                {&quot;bubblingMouseEvents&quot;: true, &quot;color&quot;: &quot;red&quot;, &quot;dashArray&quot;: null, &quot;dashOffset&quot;: null, &quot;fill&quot;: true, &quot;fillColor&quot;: &quot;red&quot;, &quot;fillOpacity&quot;: 0.3, &quot;fillRule&quot;: &quot;evenodd&quot;, &quot;lineCap&quot;: &quot;round&quot;, &quot;lineJoin&quot;: &quot;round&quot;, &quot;opacity&quot;: 1.0, &quot;radius&quot;: -5.2, &quot;stroke&quot;: true, &quot;weight&quot;: 3}\n",
       "            ).addTo(map_6ab0355b8179288b98ce4e7a1689c123);\n",
       "        \n",
       "    \n",
       "        var popup_9b372db2c94400b692b4d72c52c3b816 = L.popup({\n",
       "  &quot;maxWidth&quot;: &quot;100%&quot;,\n",
       "  &quot;autoClose&quot;: null,\n",
       "  &quot;closeOnClick&quot;: null,\n",
       "});\n",
       "\n",
       "        \n",
       "            \n",
       "                var html_c794b32e885f3f9414db6274b031d7eb = $(`&lt;div id=&quot;html_c794b32e885f3f9414db6274b031d7eb&quot; style=&quot;width: 100.0%; height: 100.0%;&quot;&gt;RDU Delay: -2.6 minutes&lt;/div&gt;`)[0];\n",
       "                popup_9b372db2c94400b692b4d72c52c3b816.setContent(html_c794b32e885f3f9414db6274b031d7eb);\n",
       "            \n",
       "        \n",
       "\n",
       "        circle_marker_b1b7ab2204a8a6d58f73c15a84a12ecd.bindPopup(popup_9b372db2c94400b692b4d72c52c3b816)\n",
       "        ;\n",
       "\n",
       "        \n",
       "    \n",
       "&lt;/script&gt;\n",
       "&lt;/html&gt;\" style=\"position:absolute;width:100%;height:100%;left:0;top:0;border:none !important;\" allowfullscreen webkitallowfullscreen mozallowfullscreen></iframe></div></div>"
      ],
      "text/plain": [
       "<folium.folium.Map at 0x7f31ae7e0f50>"
      ]
     },
     "execution_count": 69,
     "metadata": {},
     "output_type": "execute_result"
    }
   ],
   "source": [
    "import folium\n",
    "import pandas as pd\n",
    "\n",
    "# Créer la carte centrée sur les États-Unis\n",
    "m = folium.Map(location=[37.0902, -95.7129], zoom_start=5)  # Coordonnées approximatives du centre des USA\n",
    "\n",
    "# Ajouter les points des aéroports avec les retards\n",
    "for _, row in Airports_delays.iterrows():\n",
    "    folium.CircleMarker(\n",
    "        location=[row['latitude_deg'], row['longitude_deg']],\n",
    "        radius=row['Departure delay (Minutes)']*2,  # Ajuster la taille des points en fonction du retard\n",
    "        color='red',\n",
    "        fill=True,\n",
    "        fill_color='red',\n",
    "        fill_opacity=0.3,\n",
    "        popup=f\"{row['Destination Airport']}\\nDelay: {row['Departure delay (Minutes)']} minutes\"\n",
    "    ).add_to(m)\n",
    "\n",
    "# Afficher la carte\n",
    "m"
   ]
  },
  {
   "cell_type": "markdown",
   "metadata": {},
   "source": [
    "<span style=\"color:darkcyan;\">**Suppression des variables non porteurs de sens à notre problématique**</span>"
   ]
  },
  {
   "cell_type": "code",
   "execution_count": null,
   "metadata": {},
   "outputs": [],
   "source": [
    "#df = df.drop(columns=[\"Date (MM/DD/YYYY)\", \"Carrier Code\",\"Flight Number\",\"Tail Number\",\"Scheduled elapsed time (Minutes)\",\"Actual elapsed time (Minutes)\"])"
   ]
  },
  {
   "cell_type": "code",
   "execution_count": null,
   "metadata": {},
   "outputs": [],
   "source": [
    "#df.info()"
   ]
  }
 ],
 "metadata": {
  "kernelspec": {
   "display_name": "base",
   "language": "python",
   "name": "python3"
  },
  "language_info": {
   "codemirror_mode": {
    "name": "ipython",
    "version": 3
   },
   "file_extension": ".py",
   "mimetype": "text/x-python",
   "name": "python",
   "nbconvert_exporter": "python",
   "pygments_lexer": "ipython3",
   "version": "3.12.7"
  }
 },
 "nbformat": 4,
 "nbformat_minor": 2
}
