{
 "cells": [
  {
   "cell_type": "code",
   "execution_count": 2,
   "metadata": {},
   "outputs": [
    {
     "name": "stdout",
     "output_type": "stream",
     "text": [
      "Defaulting to user installation because normal site-packages is not writeable\n",
      "Collecting geopy\n",
      "  Downloading geopy-2.4.1-py3-none-any.whl (125 kB)\n",
      "\u001b[2K     \u001b[90m━━━━━━━━━━━━━━━━━━━━━━━━━━━━━━━━━━━━━━━\u001b[0m \u001b[32m125.4/125.4 KB\u001b[0m \u001b[31m3.5 MB/s\u001b[0m eta \u001b[36m0:00:00\u001b[0m\n",
      "\u001b[?25hCollecting geographiclib<3,>=1.52\n",
      "  Downloading geographiclib-2.0-py3-none-any.whl (40 kB)\n",
      "\u001b[2K     \u001b[90m━━━━━━━━━━━━━━━━━━━━━━━━━━━━━━━━━━━━━━━━\u001b[0m \u001b[32m40.3/40.3 KB\u001b[0m \u001b[31m9.5 MB/s\u001b[0m eta \u001b[36m0:00:00\u001b[0m\n",
      "\u001b[?25hInstalling collected packages: geographiclib, geopy\n",
      "Successfully installed geographiclib-2.0 geopy-2.4.1\n",
      "Note: you may need to restart the kernel to use updated packages.\n"
     ]
    }
   ],
   "source": [
    "pip install geopy"
   ]
  },
  {
   "cell_type": "code",
   "execution_count": 4,
   "metadata": {},
   "outputs": [
    {
     "name": "stdout",
     "output_type": "stream",
     "text": [
      "                     Airport Latitude Longitude\n",
      "0  Charles de Gaulle France      None      None\n",
      "1                   Heathrow     None      None\n",
      "2  Los Angeles International     None      None\n"
     ]
    }
   ],
   "source": [
    "from geopy.geocoders import Nominatim\n",
    "import pandas as pd\n",
    "\n",
    "# Exemple de DataFrame avec des noms d'aéroports\n",
    "data = {'Airport': ['Charles de Gaulle France ', 'Heathrow', 'Los Angeles International']}\n",
    "df = pd.DataFrame(data)\n",
    "\n",
    "# Initialiser le géocodeur\n",
    "geolocator = Nominatim(user_agent=\"geoapiExercises\")\n",
    "\n",
    "# Fonction pour obtenir les coordonnées d'un aéroport\n",
    "def get_coordinates(airport_name):\n",
    "    try:\n",
    "        location = geolocator.geocode(airport_name + \" airport\")\n",
    "        if location:\n",
    "            return location.latitude, location.longitude\n",
    "        else:\n",
    "            return None, None\n",
    "    except Exception as e:\n",
    "        return None, None\n",
    "\n",
    "# Appliquer la fonction et créer des colonnes pour latitude et longitude\n",
    "df[['Latitude', 'Longitude']] = df['Airport'].apply(lambda x: pd.Series(get_coordinates(x)))\n",
    "\n",
    "# Afficher le DataFrame avec les coordonnées\n",
    "print(df)\n"
   ]
  },
  {
   "cell_type": "code",
   "execution_count": 7,
   "metadata": {},
   "outputs": [
    {
     "name": "stdout",
     "output_type": "stream",
     "text": [
      "Adresse: John F. Kennedy International Airport, JFK Access Road, Queens, Queens County, City of New York, New York, 11430, United States Latitude: 40.642947899999996 Longitude: -73.7793733748521\n"
     ]
    }
   ],
   "source": [
    "import geopy\n",
    "from geopy.geocoders import Nominatim\n",
    " \n",
    "# Création d'un objet géocodeur Nominatim\n",
    "geolocator = Nominatim(user_agent=\"my_geocoder\")\n",
    " \n",
    "# Géocodage d'une adresse\n",
    "location = geolocator.geocode(\"JFK Aeroport, USA\")\n",
    " \n",
    "# Affichage des informations de localisation\n",
    "print(\"Adresse:\", location.address,\"Latitude:\", location.latitude, \"Longitude:\", location.longitude)\n"
   ]
  }
 ],
 "metadata": {
  "kernelspec": {
   "display_name": "Python 3",
   "language": "python",
   "name": "python3"
  },
  "language_info": {
   "codemirror_mode": {
    "name": "ipython",
    "version": 3
   },
   "file_extension": ".py",
   "mimetype": "text/x-python",
   "name": "python",
   "nbconvert_exporter": "python",
   "pygments_lexer": "ipython3",
   "version": "3.10.12"
  }
 },
 "nbformat": 4,
 "nbformat_minor": 2
}
