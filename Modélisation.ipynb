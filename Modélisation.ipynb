{
 "cells": [
  {
   "cell_type": "markdown",
   "metadata": {},
   "source": [
    "# 📈 <span style=\"color:#086591; text-decoration: underline;\">Partie Modélisation</span>\n"
   ]
  },
  {
   "cell_type": "markdown",
   "metadata": {},
   "source": [
    "Maintenant nous sommes arrivés à la partie de modélisation.\n",
    "Nous cherchons à expliquer les retards grâce à des variables explicatives. Dans un premier temps, nous allons modéliser le jeu de données existant en adoptant la régression logistique suivie dela méthode Random Forest . Puis, nous nous intéresserons à la comparaison des performances entre ces deux méthodes."
   ]
  },
  {
   "cell_type": "markdown",
   "metadata": {},
   "source": [
    "#### Le choix de méthode ###\n",
    "Nous avons choisi la régression logistique et Random forest car nous sommes en face d'une classification binaire où la variable réponse \"Retard\" est binaire "
   ]
  },
  {
   "cell_type": "markdown",
   "metadata": {},
   "source": [
    "### 🧠 **Régression Logistique :**\n",
    "\n",
    "un problème de classification binaire de manière linéaire, c’est-à-dire modéliser y £ {0,1}  à l’aide d’une combinaison linéaire de variables.\n"
   ]
  },
  {
   "cell_type": "code",
   "execution_count": 67,
   "metadata": {},
   "outputs": [],
   "source": [
    "#bibliothèques\n",
    "import statsmodels.api as sm\n",
    "import seaborn as sns\n",
    "from sklearn.preprocessing import LabelEncoder, MinMaxScaler\n",
    "from sklearn.linear_model import LogisticRegression\n",
    "from sklearn.model_selection import train_test_split\n",
    "from sklearn.metrics import accuracy_score, log_loss, roc_curve, recall_score, confusion_matrix\n",
    "import matplotlib.pyplot as plt\n",
    "import pandas as pd\n",
    "import numpy as np\n",
    "from scipy.stats import pearsonr, chi2\n",
    "from imblearn.under_sampling import RandomUnderSampler\n",
    "from imblearn.over_sampling import RandomOverSampler"
   ]
  },
  {
   "cell_type": "code",
   "execution_count": 68,
   "metadata": {},
   "outputs": [
    {
     "name": "stdout",
     "output_type": "stream",
     "text": [
      "<class 'pandas.core.frame.DataFrame'>\n",
      "RangeIndex: 50697 entries, 0 to 50696\n",
      "Data columns (total 31 columns):\n",
      " #   Column                                    Non-Null Count  Dtype  \n",
      "---  ------                                    --------------  -----  \n",
      " 0   Date                                      50697 non-null  object \n",
      " 1   Destination Airport                       50697 non-null  object \n",
      " 2   Scheduled departure time                  50697 non-null  object \n",
      " 3   Actual departure time                     50697 non-null  object \n",
      " 4   Wheels-off time                           50697 non-null  object \n",
      " 5   Taxi-Out time (Minutes)                   50697 non-null  float64\n",
      " 6   Delay Carrier (Minutes)                   50697 non-null  float64\n",
      " 7   Delay Weather (Minutes)                   50697 non-null  float64\n",
      " 8   Delay National Aviation System (Minutes)  50697 non-null  float64\n",
      " 9   Delay Security (Minutes)                  50697 non-null  float64\n",
      " 10  Delay Late Aircraft Arrival (Minutes)     50697 non-null  float64\n",
      " 11  Weekday_Flight                            50697 non-null  object \n",
      " 12  Season                                    50697 non-null  object \n",
      " 13  Period_Day                                50697 non-null  object \n",
      " 14  Retard                                    50697 non-null  int64  \n",
      " 15  Weekday_Flight_encoded                    50697 non-null  int64  \n",
      " 16  Season_encoded                            50697 non-null  int64  \n",
      " 17  Period_Day_encoded                        50697 non-null  int64  \n",
      " 18  Destination_encoded                       50697 non-null  int64  \n",
      " 19  time                                      50697 non-null  object \n",
      " 20  temperature_2m (°C)                       50697 non-null  float64\n",
      " 21  relative_humidity_2m (%)                  50697 non-null  int64  \n",
      " 22  precipitation (mm)                        50697 non-null  float64\n",
      " 23  snow_depth (m)                            50697 non-null  float64\n",
      " 24  weather_code (wmo code)                   50697 non-null  int64  \n",
      " 25  surface_pressure (hPa)                    50697 non-null  float64\n",
      " 26  cloud_cover (%)                           50697 non-null  int64  \n",
      " 27  cloud_cover_low (%)                       50697 non-null  int64  \n",
      " 28  vapour_pressure_deficit (kPa)             50697 non-null  float64\n",
      " 29  wind_speed_10m (km/h)                     50697 non-null  float64\n",
      " 30  wind_direction_10m (°)                    50697 non-null  int64  \n",
      "dtypes: float64(12), int64(10), object(9)\n",
      "memory usage: 12.0+ MB\n"
     ]
    }
   ],
   "source": [
    "data = pd.read_csv(\"data.csv\")\n",
    "data.columns\n",
    "data.info()"
   ]
  },
  {
   "cell_type": "code",
   "execution_count": 69,
   "metadata": {},
   "outputs": [
    {
     "name": "stdout",
     "output_type": "stream",
     "text": [
      "<class 'pandas.core.frame.DataFrame'>\n",
      "RangeIndex: 50697 entries, 0 to 50696\n",
      "Data columns (total 22 columns):\n",
      " #   Column                                    Non-Null Count  Dtype  \n",
      "---  ------                                    --------------  -----  \n",
      " 0   Taxi-Out time (Minutes)                   50697 non-null  float64\n",
      " 1   Delay Carrier (Minutes)                   50697 non-null  float64\n",
      " 2   Delay Weather (Minutes)                   50697 non-null  float64\n",
      " 3   Delay National Aviation System (Minutes)  50697 non-null  float64\n",
      " 4   Delay Security (Minutes)                  50697 non-null  float64\n",
      " 5   Delay Late Aircraft Arrival (Minutes)     50697 non-null  float64\n",
      " 6   Retard                                    50697 non-null  int64  \n",
      " 7   Weekday_Flight_encoded                    50697 non-null  int64  \n",
      " 8   Season_encoded                            50697 non-null  int64  \n",
      " 9   Period_Day_encoded                        50697 non-null  int64  \n",
      " 10  Destination_encoded                       50697 non-null  int64  \n",
      " 11  temperature_2m (°C)                       50697 non-null  float64\n",
      " 12  relative_humidity_2m (%)                  50697 non-null  int64  \n",
      " 13  precipitation (mm)                        50697 non-null  float64\n",
      " 14  snow_depth (m)                            50697 non-null  float64\n",
      " 15  weather_code (wmo code)                   50697 non-null  int64  \n",
      " 16  surface_pressure (hPa)                    50697 non-null  float64\n",
      " 17  cloud_cover (%)                           50697 non-null  int64  \n",
      " 18  cloud_cover_low (%)                       50697 non-null  int64  \n",
      " 19  vapour_pressure_deficit (kPa)             50697 non-null  float64\n",
      " 20  wind_speed_10m (km/h)                     50697 non-null  float64\n",
      " 21  wind_direction_10m (°)                    50697 non-null  int64  \n",
      "dtypes: float64(12), int64(10)\n",
      "memory usage: 8.5 MB\n"
     ]
    }
   ],
   "source": [
    "df = data.drop('time', axis=1)\n",
    "colu= [\"Season\",\"Period_Day\",\"Weekday_Flight\",\"Destination Airport\",\"Date\",\"Scheduled departure time\",\"Actual departure time\",\"Wheels-off time\"]\n",
    "df = df.drop(columns=colu)\n",
    "df.info()"
   ]
  },
  {
   "cell_type": "code",
   "execution_count": 70,
   "metadata": {},
   "outputs": [],
   "source": [
    "\n",
    "# Normalisation des colonnes numériques\n",
    "scaler = MinMaxScaler()\n",
    "numeric_cols = df.select_dtypes(include=['float64', 'int64']).columns\n",
    "df[numeric_cols] = scaler.fit_transform(df[numeric_cols])\n",
    "\n",
    "# Division aléatoire en ensembles d'apprentissage et de test\n",
    "seed = 131\n",
    "train_set, test_set = train_test_split(df, test_size=0.2, random_state=seed)\n",
    "\n"
   ]
  },
  {
   "cell_type": "code",
   "execution_count": 71,
   "metadata": {},
   "outputs": [
    {
     "name": "stdout",
     "output_type": "stream",
     "text": [
      "<class 'pandas.core.frame.DataFrame'>\n",
      "Index: 40557 entries, 49843 to 30579\n",
      "Data columns (total 22 columns):\n",
      " #   Column                                    Non-Null Count  Dtype  \n",
      "---  ------                                    --------------  -----  \n",
      " 0   Taxi-Out time (Minutes)                   40557 non-null  float64\n",
      " 1   Delay Carrier (Minutes)                   40557 non-null  float64\n",
      " 2   Delay Weather (Minutes)                   40557 non-null  float64\n",
      " 3   Delay National Aviation System (Minutes)  40557 non-null  float64\n",
      " 4   Delay Security (Minutes)                  40557 non-null  float64\n",
      " 5   Delay Late Aircraft Arrival (Minutes)     40557 non-null  float64\n",
      " 6   Retard                                    40557 non-null  float64\n",
      " 7   Weekday_Flight_encoded                    40557 non-null  float64\n",
      " 8   Season_encoded                            40557 non-null  float64\n",
      " 9   Period_Day_encoded                        40557 non-null  float64\n",
      " 10  Destination_encoded                       40557 non-null  float64\n",
      " 11  temperature_2m (°C)                       40557 non-null  float64\n",
      " 12  relative_humidity_2m (%)                  40557 non-null  float64\n",
      " 13  precipitation (mm)                        40557 non-null  float64\n",
      " 14  snow_depth (m)                            40557 non-null  float64\n",
      " 15  weather_code (wmo code)                   40557 non-null  float64\n",
      " 16  surface_pressure (hPa)                    40557 non-null  float64\n",
      " 17  cloud_cover (%)                           40557 non-null  float64\n",
      " 18  cloud_cover_low (%)                       40557 non-null  float64\n",
      " 19  vapour_pressure_deficit (kPa)             40557 non-null  float64\n",
      " 20  wind_speed_10m (km/h)                     40557 non-null  float64\n",
      " 21  wind_direction_10m (°)                    40557 non-null  float64\n",
      "dtypes: float64(22)\n",
      "memory usage: 7.1 MB\n"
     ]
    }
   ],
   "source": [
    "train_set.info()"
   ]
  },
  {
   "cell_type": "code",
   "execution_count": 72,
   "metadata": {},
   "outputs": [
    {
     "name": "stdout",
     "output_type": "stream",
     "text": [
      "<class 'pandas.core.frame.DataFrame'>\n",
      "       Taxi-Out time (Minutes)  Delay Carrier (Minutes)  \\\n",
      "count             25844.000000             25844.000000   \n",
      "mean                  0.137334                 0.004738   \n",
      "std                   0.072377                 0.025319   \n",
      "min                   0.000000                 0.000000   \n",
      "25%                   0.096045                 0.000000   \n",
      "50%                   0.118644                 0.000000   \n",
      "75%                   0.152542                 0.000000   \n",
      "max                   0.926554                 1.000000   \n",
      "\n",
      "       Delay Weather (Minutes)  Delay National Aviation System (Minutes)  \\\n",
      "count             25844.000000                              25844.000000   \n",
      "mean                  0.000852                                  0.003953   \n",
      "std                   0.012844                                  0.015173   \n",
      "min                   0.000000                                  0.000000   \n",
      "25%                   0.000000                                  0.000000   \n",
      "50%                   0.000000                                  0.000000   \n",
      "75%                   0.000000                                  0.000000   \n",
      "max                   1.000000                                  0.544240   \n",
      "\n",
      "       Delay Security (Minutes)  Delay Late Aircraft Arrival (Minutes)  \\\n",
      "count              25844.000000                           25844.000000   \n",
      "mean                   0.000392                               0.004352   \n",
      "std                    0.009814                               0.025200   \n",
      "min                    0.000000                               0.000000   \n",
      "25%                    0.000000                               0.000000   \n",
      "50%                    0.000000                               0.000000   \n",
      "75%                    0.000000                               0.000000   \n",
      "max                    0.705263                               1.000000   \n",
      "\n",
      "       Weekday_Flight_encoded  Season_encoded  Period_Day_encoded  \\\n",
      "count            25844.000000    25844.000000        25844.000000   \n",
      "mean                 0.499271        0.525693            0.417002   \n",
      "std                  0.332695        0.370745            0.358072   \n",
      "min                  0.000000        0.000000            0.000000   \n",
      "25%                  0.166667        0.333333            0.000000   \n",
      "50%                  0.500000        0.666667            0.500000   \n",
      "75%                  0.833333        1.000000            0.500000   \n",
      "max                  1.000000        1.000000            1.000000   \n",
      "\n",
      "       Destination_encoded  ...  relative_humidity_2m (%)  precipitation (mm)  \\\n",
      "count         25844.000000  ...              25844.000000        25844.000000   \n",
      "mean              0.472882  ...                  0.640121            0.006978   \n",
      "std               0.258674  ...                  0.227909            0.031586   \n",
      "min               0.000000  ...                  0.000000            0.000000   \n",
      "25%               0.222222  ...                  0.461538            0.000000   \n",
      "50%               0.500000  ...                  0.666667            0.000000   \n",
      "75%               0.555556  ...                  0.833333            0.000000   \n",
      "max               1.000000  ...                  1.000000            1.000000   \n",
      "\n",
      "       snow_depth (m)  weather_code (wmo code)  surface_pressure (hPa)  \\\n",
      "count    25844.000000             25844.000000            25844.000000   \n",
      "mean         0.023056                 0.134058                0.586193   \n",
      "std          0.106615                 0.266217                0.132077   \n",
      "min          0.000000                 0.000000                0.000000   \n",
      "25%          0.000000                 0.000000                0.505102   \n",
      "50%          0.000000                 0.040000                0.583333   \n",
      "75%          0.000000                 0.040000                0.671769   \n",
      "max          1.000000                 1.000000                0.994898   \n",
      "\n",
      "       cloud_cover (%)  cloud_cover_low (%)  vapour_pressure_deficit (kPa)  \\\n",
      "count     25844.000000         25844.000000                   25844.000000   \n",
      "mean          0.573337             0.228218                       0.132564   \n",
      "std           0.430907             0.368923                       0.133341   \n",
      "min           0.000000             0.000000                       0.000000   \n",
      "25%           0.050000             0.000000                       0.042895   \n",
      "50%           0.730000             0.000000                       0.088472   \n",
      "75%           1.000000             0.290000                       0.174263   \n",
      "max           1.000000             1.000000                       0.951743   \n",
      "\n",
      "       wind_speed_10m (km/h)  wind_direction_10m (°)  \n",
      "count           25844.000000            25844.000000  \n",
      "mean                0.234002                0.581939  \n",
      "std                 0.117494                0.283774  \n",
      "min                 0.000000                0.000000  \n",
      "25%                 0.144882                0.398329  \n",
      "50%                 0.215748                0.632312  \n",
      "75%                 0.302362                0.821727  \n",
      "max                 1.000000                1.000000  \n",
      "\n",
      "[8 rows x 21 columns]\n"
     ]
    }
   ],
   "source": [
    "\n",
    "# Sous-échantillonnage\n",
    "rus = RandomUnderSampler(random_state=seed)\n",
    "train_undersampled, train_undersampled_labels = rus.fit_resample(train_set.drop('Retard', axis=1),\n",
    "                                                                 train_set['Retard'])\n",
    "print(type(train_undersampled))\n",
    "print(train_undersampled.describe())\n",
    "\n",
    "# Sur-échantillonnage\n",
    "ros = RandomOverSampler(random_state=seed)\n",
    "train_oversampled, train_oversampled_labels = ros.fit_resample(train_set.drop('Retard', axis=1),\n",
    "                                                               train_set['Retard'])\n"
   ]
  },
  {
   "cell_type": "code",
   "execution_count": 73,
   "metadata": {},
   "outputs": [
    {
     "name": "stdout",
     "output_type": "stream",
     "text": [
      "                                    Variable  Coefficient\n",
      "0                    Taxi-Out time (Minutes)     2.765947\n",
      "1                    Delay Carrier (Minutes)    25.028333\n",
      "2                    Delay Weather (Minutes)     5.823790\n",
      "3   Delay National Aviation System (Minutes)    10.544062\n",
      "4                   Delay Security (Minutes)     3.915299\n",
      "5      Delay Late Aircraft Arrival (Minutes)    24.065809\n",
      "6                     Weekday_Flight_encoded    -0.107880\n",
      "7                             Season_encoded    -0.206194\n",
      "8                         Period_Day_encoded    -0.090898\n",
      "9                        Destination_encoded    -0.278803\n",
      "10                       temperature_2m (°C)     0.522650\n",
      "11                  relative_humidity_2m (%)    -0.663656\n",
      "12                        precipitation (mm)    -0.419743\n",
      "13                            snow_depth (m)     0.205710\n",
      "14                   weather_code (wmo code)     0.329572\n",
      "15                    surface_pressure (hPa)     0.287332\n",
      "16                           cloud_cover (%)     0.107387\n",
      "17                       cloud_cover_low (%)     0.158221\n",
      "18             vapour_pressure_deficit (kPa)     0.848343\n",
      "19                     wind_speed_10m (km/h)     0.114708\n",
      "20                    wind_direction_10m (°)     0.019908\n",
      "21                                 Intercept    -0.580431\n",
      "Variables significatives : Index(['Taxi-Out time (Minutes)', 'Delay Carrier (Minutes)',\n",
      "       'Delay Weather (Minutes)', 'Delay National Aviation System (Minutes)',\n",
      "       'Delay Security (Minutes)', 'Delay Late Aircraft Arrival (Minutes)',\n",
      "       'Weekday_Flight_encoded', 'Season_encoded', 'Period_Day_encoded',\n",
      "       'Destination_encoded', 'temperature_2m (°C)',\n",
      "       'relative_humidity_2m (%)', 'precipitation (mm)', 'snow_depth (m)',\n",
      "       'weather_code (wmo code)', 'surface_pressure (hPa)', 'cloud_cover (%)',\n",
      "       'cloud_cover_low (%)', 'vapour_pressure_deficit (kPa)',\n",
      "       'wind_speed_10m (km/h)', 'wind_direction_10m (°)'],\n",
      "      dtype='object')\n",
      "Modèle significatif :\n",
      "                                     Variable  Coefficient\n",
      "0                    Taxi-Out time (Minutes)     2.765947\n",
      "1                    Delay Carrier (Minutes)    25.028333\n",
      "2                    Delay Weather (Minutes)     5.823790\n",
      "3   Delay National Aviation System (Minutes)    10.544062\n",
      "4                   Delay Security (Minutes)     3.915299\n",
      "5      Delay Late Aircraft Arrival (Minutes)    24.065809\n",
      "6                     Weekday_Flight_encoded    -0.107880\n",
      "7                             Season_encoded    -0.206194\n",
      "8                         Period_Day_encoded    -0.090898\n",
      "9                        Destination_encoded    -0.278803\n",
      "10                       temperature_2m (°C)     0.522650\n",
      "11                  relative_humidity_2m (%)    -0.663656\n",
      "12                        precipitation (mm)    -0.419743\n",
      "13                            snow_depth (m)     0.205710\n",
      "14                   weather_code (wmo code)     0.329572\n",
      "15                    surface_pressure (hPa)     0.287332\n",
      "16                           cloud_cover (%)     0.107387\n",
      "17                       cloud_cover_low (%)     0.158221\n",
      "18             vapour_pressure_deficit (kPa)     0.848343\n",
      "19                     wind_speed_10m (km/h)     0.114708\n",
      "20                    wind_direction_10m (°)     0.019908\n",
      "Variables significatives (avec une erreur alpha de 5%) : \n",
      " ['Taxi-Out time (Minutes)', 'Delay Carrier (Minutes)', 'Delay Weather (Minutes)', 'Delay National Aviation System (Minutes)', 'Delay Security (Minutes)', 'Delay Late Aircraft Arrival (Minutes)', 'Weekday_Flight_encoded', 'Season_encoded', 'Period_Day_encoded', 'Destination_encoded', 'temperature_2m (°C)', 'relative_humidity_2m (%)', 'precipitation (mm)', 'snow_depth (m)', 'weather_code (wmo code)', 'surface_pressure (hPa)', 'cloud_cover (%)', 'cloud_cover_low (%)', 'vapour_pressure_deficit (kPa)', 'wind_speed_10m (km/h)', 'wind_direction_10m (°)']\n"
     ]
    }
   ],
   "source": [
    "# Modèle de régression logistique\n",
    "x_train = train_oversampled\n",
    "y_train = train_oversampled_labels\n",
    "clf = LogisticRegression()\n",
    "clf.fit(x_train, y_train)\n",
    "\n",
    "# Coefficients du modèle\n",
    "coefficients = clf.coef_[0]\n",
    "intercept = clf.intercept_[0]\n",
    "coeff_df = pd.DataFrame({'Variable': x_train.columns, 'Coefficient': coefficients})\n",
    "coeff_df.loc[len(coeff_df)] = ['Intercept', intercept]\n",
    "print(coeff_df)\n",
    "\n",
    "# Calcul des statistiques\n",
    "n = len(y_train)\n",
    "p = x_train.shape[1]\n",
    "X = np.hstack((np.ones((n, 1)), x_train))\n",
    "y_pred = clf.predict(x_train)\n",
    "residus = y_train - y_pred\n",
    "sigma_hat = np.sqrt(np.sum(residus ** 2) / (n - p))\n",
    "var_cov_beta = np.linalg.inv(X.T @ X) * sigma_hat ** 2\n",
    "std_err_beta = np.sqrt(np.diag(var_cov_beta))\n",
    "\n",
    "# Variables significatives\n",
    "alpha = 0.1\n",
    "z_score = clf.coef_ / std_err_beta[1:]\n",
    "p_values = 2 * (1 - chi2.cdf(z_score ** 2, 1))\n",
    "significant_vars = x_train.columns[np.array(p_values).reshape(-1) < alpha]\n",
    "print(\"Variables significatives :\", significant_vars)\n",
    "\n",
    "# Modèle réduit aux variables significatives\n",
    "significant_coefs = clf.coef_[0][np.isin(x_train.columns, significant_vars)]\n",
    "significant_model = pd.DataFrame({'Variable': significant_vars, 'Coefficient': significant_coefs})\n",
    "print(\"Modèle significatif :\\n\", significant_model)\n",
    "\n",
    "# Corrélation de Pearson\n",
    "pearson_correlation = []\n",
    "pearson_p_value = []\n",
    "for var in x_train.columns:\n",
    "    correlation, p_value = pearsonr(x_train[var], y_train)\n",
    "    pearson_correlation.append(correlation)\n",
    "    pearson_p_value.append(p_value)\n",
    "\n",
    "alpha = 0.05\n",
    "significant_vars = [var for var, p_value in zip(x_train.columns, pearson_p_value) if p_value < alpha]\n",
    "print(\"Variables significatives (avec une erreur alpha de 5%) : \\n\", significant_vars)\n"
   ]
  },
  {
   "cell_type": "code",
   "execution_count": 74,
   "metadata": {},
   "outputs": [
    {
     "name": "stdout",
     "output_type": "stream",
     "text": [
      "{'Classification Score': 0.3214990138067061, 'Model Sensitivity': 0.9977876106194691, 'Model Specificity': 0.014764908256880734}\n"
     ]
    }
   ],
   "source": [
    "def model_evaluation(model, seuil):\n",
    "    predictions = model.predict_proba(test_set.drop('Retard', axis=1))[:, 1]\n",
    "    predicted_status = (predictions > seuil).astype(int)\n",
    "    \n",
    "    conf_mat = pd.crosstab(test_set['Retard'], predicted_status, dropna=False)\n",
    "    conf_mat = conf_mat.reindex(index=[0, 1], columns=[0, 1], fill_value=0)\n",
    "\n",
    "    # Vérifiez si la matrice est correcte\n",
    "    if conf_mat.shape[0] < 2 or conf_mat.shape[1] < 2:\n",
    "        raise ValueError(\"Matrice de confusion incomplète ou incorrecte.\")\n",
    "\n",
    "    TP = conf_mat.iloc[1, 1]\n",
    "    TN = conf_mat.iloc[0, 0]\n",
    "    FP = conf_mat.iloc[0, 1]\n",
    "    FN = conf_mat.iloc[1, 0]\n",
    "\n",
    "    sensitivity = TP / (TP + FN) if (TP + FN) > 0 else 0\n",
    "    specificity = TN / (TN + FP) if (TN + FP) > 0 else 0\n",
    "    accuracy = (TP + TN) / (TP + TN + FP + FN) if (TP + TN + FP + FN) > 0 else 0\n",
    "\n",
    "    return {\n",
    "        'Classification Score': accuracy,\n",
    "        'Model Sensitivity': sensitivity,\n",
    "        'Model Specificity': specificity\n",
    "    }\n",
    "    \n",
    " \n",
    "# Résultats du modèle\n",
    "results = model_evaluation(clf, 0.3)\n",
    "print(results)   \n"
   ]
  },
  {
   "cell_type": "code",
   "execution_count": 75,
   "metadata": {},
   "outputs": [
    {
     "data": {
      "image/png": "[encoded data removed]",
      "text/plain": [
       "<Figure size 640x480 with 1 Axes>"
      ]
     },
     "metadata": {},
     "output_type": "display_data"
    },
    {
     "data": {
      "image/png": "[encoded data removed]",
      "text/plain": [
       "<Figure size 640x480 with 1 Axes>"
      ]
     },
     "metadata": {},
     "output_type": "display_data"
    }
   ],
   "source": [
    "# Courbes ROC et métriques\n",
    "def print_results(model):\n",
    "    seuils = np.arange(0.01, 1.0, 0.01)\n",
    "    acc_model, sens_model, spec_model, one_minus_spec_model = [], [], [], []\n",
    "    for i in seuils:\n",
    "        r = model_evaluation(model, i)\n",
    "        acc_model.append(r['Classification Score'])\n",
    "        sens_model.append(r['Model Sensitivity'])\n",
    "        spec_model.append(r['Model Specificity'])\n",
    "        one_minus_spec_model.append(1 - r['Model Specificity'])\n",
    "    result_df = pd.DataFrame({\n",
    "        'Thresholds': seuils,\n",
    "        'Accuracy': acc_model,\n",
    "        'Sensitivity': sens_model,\n",
    "        'Specificity': spec_model,\n",
    "        '1-Specificity': one_minus_spec_model\n",
    "    })\n",
    "    \n",
    "    # Courbe ROC\n",
    "    plt.figure()\n",
    "    plt.plot(result_df['1-Specificity'], result_df['Sensitivity'])\n",
    "    plt.xlabel('1-Specificity')\n",
    "    plt.ylabel('Sensitivity')\n",
    "    plt.title('ROC Curve')\n",
    "    plt.show()\n",
    "\n",
    "    # Courbes des métriques\n",
    "    plt.figure()\n",
    "    plt.plot(result_df['Thresholds'], result_df['Accuracy'], label='Accuracy', color='red')\n",
    "    plt.plot(result_df['Thresholds'], result_df['Sensitivity'], label='Sensitivity', color='green')\n",
    "    plt.plot(result_df['Thresholds'], result_df['Specificity'], label='Specificity', color='blue')\n",
    "    plt.xlabel('Threshold')\n",
    "    plt.ylabel('Score')\n",
    "    plt.legend()\n",
    "    plt.title('Model Metrics')\n",
    "    plt.show()\n",
    "\n",
    "print_results(clf)\n"
   ]
  },
  {
   "cell_type": "markdown",
   "metadata": {},
   "source": [
    "### 🧠 **Random Forest :**\n"
   ]
  },
  {
   "cell_type": "code",
   "execution_count": 76,
   "metadata": {},
   "outputs": [],
   "source": [
    "from sklearn.model_selection import train_test_split\n",
    "X = df.drop(columns=['Retard'])\n",
    "y = df['Retard']\n",
    "\n",
    "\n",
    "X_train, X_test, y_train, y_test = train_test_split(X, y, test_size=0.3, random_state=42)\n"
   ]
  },
  {
   "cell_type": "code",
   "execution_count": 77,
   "metadata": {},
   "outputs": [
    {
     "name": "stdout",
     "output_type": "stream",
     "text": [
      "Accuracy: 0.8046679815910586\n",
      "Classification Report:\n",
      "               precision    recall  f1-score   support\n",
      "\n",
      "         0.0       0.79      0.97      0.87     10298\n",
      "         1.0       0.87      0.47      0.61      4912\n",
      "\n",
      "    accuracy                           0.80     15210\n",
      "   macro avg       0.83      0.72      0.74     15210\n",
      "weighted avg       0.82      0.80      0.79     15210\n",
      "\n"
     ]
    },
    {
     "data": {
      "text/plain": [
       "Text(50.722222222222214, 0.5, 'Actual')"
      ]
     },
     "execution_count": 77,
     "metadata": {},
     "output_type": "execute_result"
    },
    {
     "data": {
      "image/png": "[encoded data removed]",
      "text/plain": [
       "<Figure size 640x480 with 2 Axes>"
      ]
     },
     "metadata": {},
     "output_type": "display_data"
    }
   ],
   "source": [
    "from sklearn.ensemble import RandomForestClassifier\n",
    "from sklearn.metrics import classification_report, accuracy_score, confusion_matrix\n",
    "rf = RandomForestClassifier(n_estimators=100, random_state=42)\n",
    "rf.fit(X_train, y_train)\n",
    "y_pred = rf.predict(X_test)\n",
    "print(\"Accuracy:\", accuracy_score(y_test, y_pred))\n",
    "print(\"Classification Report:\\n\", classification_report(y_test, y_pred))\n",
    "sns.heatmap(confusion_matrix(y_test, y_pred), annot=True, fmt='d', cmap='Blues')\n",
    "plt.xlabel('Predicted')\n",
    "plt.ylabel('Actual')\n"
   ]
  },
  {
   "cell_type": "code",
   "execution_count": 78,
   "metadata": {},
   "outputs": [
    {
     "name": "stdout",
     "output_type": "stream",
     "text": [
      "                                     Feature  Importance\n",
      "1                    Delay Carrier (Minutes)    0.186276\n",
      "0                    Taxi-Out time (Minutes)    0.080715\n",
      "5      Delay Late Aircraft Arrival (Minutes)    0.079333\n",
      "15                    surface_pressure (hPa)    0.067222\n",
      "10                       temperature_2m (°C)    0.067038\n",
      "19                     wind_speed_10m (km/h)    0.065998\n",
      "20                    wind_direction_10m (°)    0.065096\n",
      "9                        Destination_encoded    0.059677\n",
      "18             vapour_pressure_deficit (kPa)    0.059156\n",
      "11                  relative_humidity_2m (%)    0.054145\n",
      "3   Delay National Aviation System (Minutes)    0.039161\n",
      "16                           cloud_cover (%)    0.034265\n",
      "6                     Weekday_Flight_encoded    0.030214\n",
      "17                       cloud_cover_low (%)    0.028265\n",
      "14                   weather_code (wmo code)    0.016616\n",
      "7                             Season_encoded    0.016269\n",
      "8                         Period_Day_encoded    0.014992\n",
      "2                    Delay Weather (Minutes)    0.014115\n",
      "12                        precipitation (mm)    0.010158\n",
      "13                            snow_depth (m)    0.008929\n",
      "4                   Delay Security (Minutes)    0.002358\n"
     ]
    }
   ],
   "source": [
    "feature_importances = rf.feature_importances_\n",
    "features = df.drop(columns=['Retard']).columns\n",
    "importance_df = pd.DataFrame({'Feature': features, 'Importance': feature_importances})\n",
    "importance_df.sort_values(by='Importance', ascending=False, inplace=True)\n",
    "print(importance_df)\n"
   ]
  },
  {
   "cell_type": "code",
   "execution_count": 79,
   "metadata": {},
   "outputs": [
    {
     "name": "stdout",
     "output_type": "stream",
     "text": [
      "Fitting 3 folds for each of 54 candidates, totalling 162 fits\n",
      "[CV] END max_depth=10, min_samples_leaf=1, min_samples_split=2, n_estimators=100; total time=   1.9s\n",
      "[CV] END max_depth=10, min_samples_leaf=1, min_samples_split=2, n_estimators=100; total time=   1.8s\n",
      "[CV] END max_depth=10, min_samples_leaf=1, min_samples_split=2, n_estimators=100; total time=   1.9s\n",
      "[CV] END max_depth=10, min_samples_leaf=1, min_samples_split=2, n_estimators=200; total time=   3.6s\n",
      "[CV] END max_depth=10, min_samples_leaf=1, min_samples_split=2, n_estimators=200; total time=   3.7s\n",
      "[CV] END max_depth=10, min_samples_leaf=1, min_samples_split=2, n_estimators=200; total time=   3.5s\n",
      "[CV] END max_depth=10, min_samples_leaf=1, min_samples_split=5, n_estimators=100; total time=   1.9s\n",
      "[CV] END max_depth=10, min_samples_leaf=1, min_samples_split=5, n_estimators=100; total time=   1.7s\n",
      "[CV] END max_depth=10, min_samples_leaf=1, min_samples_split=5, n_estimators=100; total time=   1.7s\n"
     ]
    },
    {
     "ename": "KeyboardInterrupt",
     "evalue": "",
     "output_type": "error",
     "traceback": [
      "\u001b[1;31m---------------------------------------------------------------------------\u001b[0m",
      "\u001b[1;31mKeyboardInterrupt\u001b[0m                         Traceback (most recent call last)",
      "Cell \u001b[1;32mIn[79], line 11\u001b[0m\n\u001b[0;32m      3\u001b[0m param_grid \u001b[38;5;241m=\u001b[39m {\n\u001b[0;32m      4\u001b[0m     \u001b[38;5;124m'\u001b[39m\u001b[38;5;124mn_estimators\u001b[39m\u001b[38;5;124m'\u001b[39m: [\u001b[38;5;241m100\u001b[39m, \u001b[38;5;241m200\u001b[39m],\n\u001b[0;32m      5\u001b[0m     \u001b[38;5;124m'\u001b[39m\u001b[38;5;124mmax_depth\u001b[39m\u001b[38;5;124m'\u001b[39m: [\u001b[38;5;241m10\u001b[39m, \u001b[38;5;241m20\u001b[39m, \u001b[38;5;28;01mNone\u001b[39;00m],\n\u001b[0;32m      6\u001b[0m     \u001b[38;5;124m'\u001b[39m\u001b[38;5;124mmin_samples_split\u001b[39m\u001b[38;5;124m'\u001b[39m: [\u001b[38;5;241m2\u001b[39m, \u001b[38;5;241m5\u001b[39m, \u001b[38;5;241m10\u001b[39m],\n\u001b[0;32m      7\u001b[0m     \u001b[38;5;124m'\u001b[39m\u001b[38;5;124mmin_samples_leaf\u001b[39m\u001b[38;5;124m'\u001b[39m: [\u001b[38;5;241m1\u001b[39m, \u001b[38;5;241m2\u001b[39m, \u001b[38;5;241m4\u001b[39m]\n\u001b[0;32m      8\u001b[0m }\n\u001b[0;32m     10\u001b[0m grid_search \u001b[38;5;241m=\u001b[39m GridSearchCV(estimator\u001b[38;5;241m=\u001b[39mrf, param_grid\u001b[38;5;241m=\u001b[39mparam_grid, cv\u001b[38;5;241m=\u001b[39m\u001b[38;5;241m3\u001b[39m, scoring\u001b[38;5;241m=\u001b[39m\u001b[38;5;124m'\u001b[39m\u001b[38;5;124maccuracy\u001b[39m\u001b[38;5;124m'\u001b[39m, verbose\u001b[38;5;241m=\u001b[39m\u001b[38;5;241m2\u001b[39m)\n\u001b[1;32m---> 11\u001b[0m grid_search\u001b[38;5;241m.\u001b[39mfit(X_train, y_train)\n\u001b[0;32m     13\u001b[0m best_model \u001b[38;5;241m=\u001b[39m grid_search\u001b[38;5;241m.\u001b[39mbest_estimator_\n",
      "File \u001b[1;32mc:\\Users\\asus\\anaconda3\\Lib\\site-packages\\sklearn\\base.py:1473\u001b[0m, in \u001b[0;36m_fit_context.<locals>.decorator.<locals>.wrapper\u001b[1;34m(estimator, *args, **kwargs)\u001b[0m\n\u001b[0;32m   1466\u001b[0m     estimator\u001b[38;5;241m.\u001b[39m_validate_params()\n\u001b[0;32m   1468\u001b[0m \u001b[38;5;28;01mwith\u001b[39;00m config_context(\n\u001b[0;32m   1469\u001b[0m     skip_parameter_validation\u001b[38;5;241m=\u001b[39m(\n\u001b[0;32m   1470\u001b[0m         prefer_skip_nested_validation \u001b[38;5;129;01mor\u001b[39;00m global_skip_validation\n\u001b[0;32m   1471\u001b[0m     )\n\u001b[0;32m   1472\u001b[0m ):\n\u001b[1;32m-> 1473\u001b[0m     \u001b[38;5;28;01mreturn\u001b[39;00m fit_method(estimator, \u001b[38;5;241m*\u001b[39margs, \u001b[38;5;241m*\u001b[39m\u001b[38;5;241m*\u001b[39mkwargs)\n",
      "File \u001b[1;32mc:\\Users\\asus\\anaconda3\\Lib\\site-packages\\sklearn\\model_selection\\_search.py:1018\u001b[0m, in \u001b[0;36mBaseSearchCV.fit\u001b[1;34m(self, X, y, **params)\u001b[0m\n\u001b[0;32m   1012\u001b[0m     results \u001b[38;5;241m=\u001b[39m \u001b[38;5;28mself\u001b[39m\u001b[38;5;241m.\u001b[39m_format_results(\n\u001b[0;32m   1013\u001b[0m         all_candidate_params, n_splits, all_out, all_more_results\n\u001b[0;32m   1014\u001b[0m     )\n\u001b[0;32m   1016\u001b[0m     \u001b[38;5;28;01mreturn\u001b[39;00m results\n\u001b[1;32m-> 1018\u001b[0m \u001b[38;5;28mself\u001b[39m\u001b[38;5;241m.\u001b[39m_run_search(evaluate_candidates)\n\u001b[0;32m   1020\u001b[0m \u001b[38;5;66;03m# multimetric is determined here because in the case of a callable\u001b[39;00m\n\u001b[0;32m   1021\u001b[0m \u001b[38;5;66;03m# self.scoring the return type is only known after calling\u001b[39;00m\n\u001b[0;32m   1022\u001b[0m first_test_score \u001b[38;5;241m=\u001b[39m all_out[\u001b[38;5;241m0\u001b[39m][\u001b[38;5;124m\"\u001b[39m\u001b[38;5;124mtest_scores\u001b[39m\u001b[38;5;124m\"\u001b[39m]\n",
      "File \u001b[1;32mc:\\Users\\asus\\anaconda3\\Lib\\site-packages\\sklearn\\model_selection\\_search.py:1572\u001b[0m, in \u001b[0;36mGridSearchCV._run_search\u001b[1;34m(self, evaluate_candidates)\u001b[0m\n\u001b[0;32m   1570\u001b[0m \u001b[38;5;28;01mdef\u001b[39;00m \u001b[38;5;21m_run_search\u001b[39m(\u001b[38;5;28mself\u001b[39m, evaluate_candidates):\n\u001b[0;32m   1571\u001b[0m \u001b[38;5;250m    \u001b[39m\u001b[38;5;124;03m\"\"\"Search all candidates in param_grid\"\"\"\u001b[39;00m\n\u001b[1;32m-> 1572\u001b[0m     evaluate_candidates(ParameterGrid(\u001b[38;5;28mself\u001b[39m\u001b[38;5;241m.\u001b[39mparam_grid))\n",
      "File \u001b[1;32mc:\\Users\\asus\\anaconda3\\Lib\\site-packages\\sklearn\\model_selection\\_search.py:964\u001b[0m, in \u001b[0;36mBaseSearchCV.fit.<locals>.evaluate_candidates\u001b[1;34m(candidate_params, cv, more_results)\u001b[0m\n\u001b[0;32m    956\u001b[0m \u001b[38;5;28;01mif\u001b[39;00m \u001b[38;5;28mself\u001b[39m\u001b[38;5;241m.\u001b[39mverbose \u001b[38;5;241m>\u001b[39m \u001b[38;5;241m0\u001b[39m:\n\u001b[0;32m    957\u001b[0m     \u001b[38;5;28mprint\u001b[39m(\n\u001b[0;32m    958\u001b[0m         \u001b[38;5;124m\"\u001b[39m\u001b[38;5;124mFitting \u001b[39m\u001b[38;5;132;01m{0}\u001b[39;00m\u001b[38;5;124m folds for each of \u001b[39m\u001b[38;5;132;01m{1}\u001b[39;00m\u001b[38;5;124m candidates,\u001b[39m\u001b[38;5;124m\"\u001b[39m\n\u001b[0;32m    959\u001b[0m         \u001b[38;5;124m\"\u001b[39m\u001b[38;5;124m totalling \u001b[39m\u001b[38;5;132;01m{2}\u001b[39;00m\u001b[38;5;124m fits\u001b[39m\u001b[38;5;124m\"\u001b[39m\u001b[38;5;241m.\u001b[39mformat(\n\u001b[0;32m    960\u001b[0m             n_splits, n_candidates, n_candidates \u001b[38;5;241m*\u001b[39m n_splits\n\u001b[0;32m    961\u001b[0m         )\n\u001b[0;32m    962\u001b[0m     )\n\u001b[1;32m--> 964\u001b[0m out \u001b[38;5;241m=\u001b[39m parallel(\n\u001b[0;32m    965\u001b[0m     delayed(_fit_and_score)(\n\u001b[0;32m    966\u001b[0m         clone(base_estimator),\n\u001b[0;32m    967\u001b[0m         X,\n\u001b[0;32m    968\u001b[0m         y,\n\u001b[0;32m    969\u001b[0m         train\u001b[38;5;241m=\u001b[39mtrain,\n\u001b[0;32m    970\u001b[0m         test\u001b[38;5;241m=\u001b[39mtest,\n\u001b[0;32m    971\u001b[0m         parameters\u001b[38;5;241m=\u001b[39mparameters,\n\u001b[0;32m    972\u001b[0m         split_progress\u001b[38;5;241m=\u001b[39m(split_idx, n_splits),\n\u001b[0;32m    973\u001b[0m         candidate_progress\u001b[38;5;241m=\u001b[39m(cand_idx, n_candidates),\n\u001b[0;32m    974\u001b[0m         \u001b[38;5;241m*\u001b[39m\u001b[38;5;241m*\u001b[39mfit_and_score_kwargs,\n\u001b[0;32m    975\u001b[0m     )\n\u001b[0;32m    976\u001b[0m     \u001b[38;5;28;01mfor\u001b[39;00m (cand_idx, parameters), (split_idx, (train, test)) \u001b[38;5;129;01min\u001b[39;00m product(\n\u001b[0;32m    977\u001b[0m         \u001b[38;5;28menumerate\u001b[39m(candidate_params),\n\u001b[0;32m    978\u001b[0m         \u001b[38;5;28menumerate\u001b[39m(cv\u001b[38;5;241m.\u001b[39msplit(X, y, \u001b[38;5;241m*\u001b[39m\u001b[38;5;241m*\u001b[39mrouted_params\u001b[38;5;241m.\u001b[39msplitter\u001b[38;5;241m.\u001b[39msplit)),\n\u001b[0;32m    979\u001b[0m     )\n\u001b[0;32m    980\u001b[0m )\n\u001b[0;32m    982\u001b[0m \u001b[38;5;28;01mif\u001b[39;00m \u001b[38;5;28mlen\u001b[39m(out) \u001b[38;5;241m<\u001b[39m \u001b[38;5;241m1\u001b[39m:\n\u001b[0;32m    983\u001b[0m     \u001b[38;5;28;01mraise\u001b[39;00m \u001b[38;5;167;01mValueError\u001b[39;00m(\n\u001b[0;32m    984\u001b[0m         \u001b[38;5;124m\"\u001b[39m\u001b[38;5;124mNo fits were performed. \u001b[39m\u001b[38;5;124m\"\u001b[39m\n\u001b[0;32m    985\u001b[0m         \u001b[38;5;124m\"\u001b[39m\u001b[38;5;124mWas the CV iterator empty? \u001b[39m\u001b[38;5;124m\"\u001b[39m\n\u001b[0;32m    986\u001b[0m         \u001b[38;5;124m\"\u001b[39m\u001b[38;5;124mWere there no candidates?\u001b[39m\u001b[38;5;124m\"\u001b[39m\n\u001b[0;32m    987\u001b[0m     )\n",
      "File \u001b[1;32mc:\\Users\\asus\\anaconda3\\Lib\\site-packages\\sklearn\\utils\\parallel.py:74\u001b[0m, in \u001b[0;36mParallel.__call__\u001b[1;34m(self, iterable)\u001b[0m\n\u001b[0;32m     69\u001b[0m config \u001b[38;5;241m=\u001b[39m get_config()\n\u001b[0;32m     70\u001b[0m iterable_with_config \u001b[38;5;241m=\u001b[39m (\n\u001b[0;32m     71\u001b[0m     (_with_config(delayed_func, config), args, kwargs)\n\u001b[0;32m     72\u001b[0m     \u001b[38;5;28;01mfor\u001b[39;00m delayed_func, args, kwargs \u001b[38;5;129;01min\u001b[39;00m iterable\n\u001b[0;32m     73\u001b[0m )\n\u001b[1;32m---> 74\u001b[0m \u001b[38;5;28;01mreturn\u001b[39;00m \u001b[38;5;28msuper\u001b[39m()\u001b[38;5;241m.\u001b[39m\u001b[38;5;21m__call__\u001b[39m(iterable_with_config)\n",
      "File \u001b[1;32mc:\\Users\\asus\\anaconda3\\Lib\\site-packages\\joblib\\parallel.py:1918\u001b[0m, in \u001b[0;36mParallel.__call__\u001b[1;34m(self, iterable)\u001b[0m\n\u001b[0;32m   1916\u001b[0m     output \u001b[38;5;241m=\u001b[39m \u001b[38;5;28mself\u001b[39m\u001b[38;5;241m.\u001b[39m_get_sequential_output(iterable)\n\u001b[0;32m   1917\u001b[0m     \u001b[38;5;28mnext\u001b[39m(output)\n\u001b[1;32m-> 1918\u001b[0m     \u001b[38;5;28;01mreturn\u001b[39;00m output \u001b[38;5;28;01mif\u001b[39;00m \u001b[38;5;28mself\u001b[39m\u001b[38;5;241m.\u001b[39mreturn_generator \u001b[38;5;28;01melse\u001b[39;00m \u001b[38;5;28mlist\u001b[39m(output)\n\u001b[0;32m   1920\u001b[0m \u001b[38;5;66;03m# Let's create an ID that uniquely identifies the current call. If the\u001b[39;00m\n\u001b[0;32m   1921\u001b[0m \u001b[38;5;66;03m# call is interrupted early and that the same instance is immediately\u001b[39;00m\n\u001b[0;32m   1922\u001b[0m \u001b[38;5;66;03m# re-used, this id will be used to prevent workers that were\u001b[39;00m\n\u001b[0;32m   1923\u001b[0m \u001b[38;5;66;03m# concurrently finalizing a task from the previous call to run the\u001b[39;00m\n\u001b[0;32m   1924\u001b[0m \u001b[38;5;66;03m# callback.\u001b[39;00m\n\u001b[0;32m   1925\u001b[0m \u001b[38;5;28;01mwith\u001b[39;00m \u001b[38;5;28mself\u001b[39m\u001b[38;5;241m.\u001b[39m_lock:\n",
      "File \u001b[1;32mc:\\Users\\asus\\anaconda3\\Lib\\site-packages\\joblib\\parallel.py:1847\u001b[0m, in \u001b[0;36mParallel._get_sequential_output\u001b[1;34m(self, iterable)\u001b[0m\n\u001b[0;32m   1845\u001b[0m \u001b[38;5;28mself\u001b[39m\u001b[38;5;241m.\u001b[39mn_dispatched_batches \u001b[38;5;241m+\u001b[39m\u001b[38;5;241m=\u001b[39m \u001b[38;5;241m1\u001b[39m\n\u001b[0;32m   1846\u001b[0m \u001b[38;5;28mself\u001b[39m\u001b[38;5;241m.\u001b[39mn_dispatched_tasks \u001b[38;5;241m+\u001b[39m\u001b[38;5;241m=\u001b[39m \u001b[38;5;241m1\u001b[39m\n\u001b[1;32m-> 1847\u001b[0m res \u001b[38;5;241m=\u001b[39m func(\u001b[38;5;241m*\u001b[39margs, \u001b[38;5;241m*\u001b[39m\u001b[38;5;241m*\u001b[39mkwargs)\n\u001b[0;32m   1848\u001b[0m \u001b[38;5;28mself\u001b[39m\u001b[38;5;241m.\u001b[39mn_completed_tasks \u001b[38;5;241m+\u001b[39m\u001b[38;5;241m=\u001b[39m \u001b[38;5;241m1\u001b[39m\n\u001b[0;32m   1849\u001b[0m \u001b[38;5;28mself\u001b[39m\u001b[38;5;241m.\u001b[39mprint_progress()\n",
      "File \u001b[1;32mc:\\Users\\asus\\anaconda3\\Lib\\site-packages\\sklearn\\utils\\parallel.py:136\u001b[0m, in \u001b[0;36m_FuncWrapper.__call__\u001b[1;34m(self, *args, **kwargs)\u001b[0m\n\u001b[0;32m    134\u001b[0m     config \u001b[38;5;241m=\u001b[39m {}\n\u001b[0;32m    135\u001b[0m \u001b[38;5;28;01mwith\u001b[39;00m config_context(\u001b[38;5;241m*\u001b[39m\u001b[38;5;241m*\u001b[39mconfig):\n\u001b[1;32m--> 136\u001b[0m     \u001b[38;5;28;01mreturn\u001b[39;00m \u001b[38;5;28mself\u001b[39m\u001b[38;5;241m.\u001b[39mfunction(\u001b[38;5;241m*\u001b[39margs, \u001b[38;5;241m*\u001b[39m\u001b[38;5;241m*\u001b[39mkwargs)\n",
      "File \u001b[1;32mc:\\Users\\asus\\anaconda3\\Lib\\site-packages\\sklearn\\model_selection\\_validation.py:888\u001b[0m, in \u001b[0;36m_fit_and_score\u001b[1;34m(estimator, X, y, scorer, train, test, verbose, parameters, fit_params, score_params, return_train_score, return_parameters, return_n_test_samples, return_times, return_estimator, split_progress, candidate_progress, error_score)\u001b[0m\n\u001b[0;32m    886\u001b[0m         estimator\u001b[38;5;241m.\u001b[39mfit(X_train, \u001b[38;5;241m*\u001b[39m\u001b[38;5;241m*\u001b[39mfit_params)\n\u001b[0;32m    887\u001b[0m     \u001b[38;5;28;01melse\u001b[39;00m:\n\u001b[1;32m--> 888\u001b[0m         estimator\u001b[38;5;241m.\u001b[39mfit(X_train, y_train, \u001b[38;5;241m*\u001b[39m\u001b[38;5;241m*\u001b[39mfit_params)\n\u001b[0;32m    890\u001b[0m \u001b[38;5;28;01mexcept\u001b[39;00m \u001b[38;5;167;01mException\u001b[39;00m:\n\u001b[0;32m    891\u001b[0m     \u001b[38;5;66;03m# Note fit time as time until error\u001b[39;00m\n\u001b[0;32m    892\u001b[0m     fit_time \u001b[38;5;241m=\u001b[39m time\u001b[38;5;241m.\u001b[39mtime() \u001b[38;5;241m-\u001b[39m start_time\n",
      "File \u001b[1;32mc:\\Users\\asus\\anaconda3\\Lib\\site-packages\\sklearn\\base.py:1473\u001b[0m, in \u001b[0;36m_fit_context.<locals>.decorator.<locals>.wrapper\u001b[1;34m(estimator, *args, **kwargs)\u001b[0m\n\u001b[0;32m   1466\u001b[0m     estimator\u001b[38;5;241m.\u001b[39m_validate_params()\n\u001b[0;32m   1468\u001b[0m \u001b[38;5;28;01mwith\u001b[39;00m config_context(\n\u001b[0;32m   1469\u001b[0m     skip_parameter_validation\u001b[38;5;241m=\u001b[39m(\n\u001b[0;32m   1470\u001b[0m         prefer_skip_nested_validation \u001b[38;5;129;01mor\u001b[39;00m global_skip_validation\n\u001b[0;32m   1471\u001b[0m     )\n\u001b[0;32m   1472\u001b[0m ):\n\u001b[1;32m-> 1473\u001b[0m     \u001b[38;5;28;01mreturn\u001b[39;00m fit_method(estimator, \u001b[38;5;241m*\u001b[39margs, \u001b[38;5;241m*\u001b[39m\u001b[38;5;241m*\u001b[39mkwargs)\n",
      "File \u001b[1;32mc:\\Users\\asus\\anaconda3\\Lib\\site-packages\\sklearn\\ensemble\\_forest.py:489\u001b[0m, in \u001b[0;36mBaseForest.fit\u001b[1;34m(self, X, y, sample_weight)\u001b[0m\n\u001b[0;32m    478\u001b[0m trees \u001b[38;5;241m=\u001b[39m [\n\u001b[0;32m    479\u001b[0m     \u001b[38;5;28mself\u001b[39m\u001b[38;5;241m.\u001b[39m_make_estimator(append\u001b[38;5;241m=\u001b[39m\u001b[38;5;28;01mFalse\u001b[39;00m, random_state\u001b[38;5;241m=\u001b[39mrandom_state)\n\u001b[0;32m    480\u001b[0m     \u001b[38;5;28;01mfor\u001b[39;00m i \u001b[38;5;129;01min\u001b[39;00m \u001b[38;5;28mrange\u001b[39m(n_more_estimators)\n\u001b[0;32m    481\u001b[0m ]\n\u001b[0;32m    483\u001b[0m \u001b[38;5;66;03m# Parallel loop: we prefer the threading backend as the Cython code\u001b[39;00m\n\u001b[0;32m    484\u001b[0m \u001b[38;5;66;03m# for fitting the trees is internally releasing the Python GIL\u001b[39;00m\n\u001b[0;32m    485\u001b[0m \u001b[38;5;66;03m# making threading more efficient than multiprocessing in\u001b[39;00m\n\u001b[0;32m    486\u001b[0m \u001b[38;5;66;03m# that case. However, for joblib 0.12+ we respect any\u001b[39;00m\n\u001b[0;32m    487\u001b[0m \u001b[38;5;66;03m# parallel_backend contexts set at a higher level,\u001b[39;00m\n\u001b[0;32m    488\u001b[0m \u001b[38;5;66;03m# since correctness does not rely on using threads.\u001b[39;00m\n\u001b[1;32m--> 489\u001b[0m trees \u001b[38;5;241m=\u001b[39m Parallel(\n\u001b[0;32m    490\u001b[0m     n_jobs\u001b[38;5;241m=\u001b[39m\u001b[38;5;28mself\u001b[39m\u001b[38;5;241m.\u001b[39mn_jobs,\n\u001b[0;32m    491\u001b[0m     verbose\u001b[38;5;241m=\u001b[39m\u001b[38;5;28mself\u001b[39m\u001b[38;5;241m.\u001b[39mverbose,\n\u001b[0;32m    492\u001b[0m     prefer\u001b[38;5;241m=\u001b[39m\u001b[38;5;124m\"\u001b[39m\u001b[38;5;124mthreads\u001b[39m\u001b[38;5;124m\"\u001b[39m,\n\u001b[0;32m    493\u001b[0m )(\n\u001b[0;32m    494\u001b[0m     delayed(_parallel_build_trees)(\n\u001b[0;32m    495\u001b[0m         t,\n\u001b[0;32m    496\u001b[0m         \u001b[38;5;28mself\u001b[39m\u001b[38;5;241m.\u001b[39mbootstrap,\n\u001b[0;32m    497\u001b[0m         X,\n\u001b[0;32m    498\u001b[0m         y,\n\u001b[0;32m    499\u001b[0m         sample_weight,\n\u001b[0;32m    500\u001b[0m         i,\n\u001b[0;32m    501\u001b[0m         \u001b[38;5;28mlen\u001b[39m(trees),\n\u001b[0;32m    502\u001b[0m         verbose\u001b[38;5;241m=\u001b[39m\u001b[38;5;28mself\u001b[39m\u001b[38;5;241m.\u001b[39mverbose,\n\u001b[0;32m    503\u001b[0m         class_weight\u001b[38;5;241m=\u001b[39m\u001b[38;5;28mself\u001b[39m\u001b[38;5;241m.\u001b[39mclass_weight,\n\u001b[0;32m    504\u001b[0m         n_samples_bootstrap\u001b[38;5;241m=\u001b[39mn_samples_bootstrap,\n\u001b[0;32m    505\u001b[0m         missing_values_in_feature_mask\u001b[38;5;241m=\u001b[39mmissing_values_in_feature_mask,\n\u001b[0;32m    506\u001b[0m     )\n\u001b[0;32m    507\u001b[0m     \u001b[38;5;28;01mfor\u001b[39;00m i, t \u001b[38;5;129;01min\u001b[39;00m \u001b[38;5;28menumerate\u001b[39m(trees)\n\u001b[0;32m    508\u001b[0m )\n\u001b[0;32m    510\u001b[0m \u001b[38;5;66;03m# Collect newly grown trees\u001b[39;00m\n\u001b[0;32m    511\u001b[0m \u001b[38;5;28mself\u001b[39m\u001b[38;5;241m.\u001b[39mestimators_\u001b[38;5;241m.\u001b[39mextend(trees)\n",
      "File \u001b[1;32mc:\\Users\\asus\\anaconda3\\Lib\\site-packages\\sklearn\\utils\\parallel.py:74\u001b[0m, in \u001b[0;36mParallel.__call__\u001b[1;34m(self, iterable)\u001b[0m\n\u001b[0;32m     69\u001b[0m config \u001b[38;5;241m=\u001b[39m get_config()\n\u001b[0;32m     70\u001b[0m iterable_with_config \u001b[38;5;241m=\u001b[39m (\n\u001b[0;32m     71\u001b[0m     (_with_config(delayed_func, config), args, kwargs)\n\u001b[0;32m     72\u001b[0m     \u001b[38;5;28;01mfor\u001b[39;00m delayed_func, args, kwargs \u001b[38;5;129;01min\u001b[39;00m iterable\n\u001b[0;32m     73\u001b[0m )\n\u001b[1;32m---> 74\u001b[0m \u001b[38;5;28;01mreturn\u001b[39;00m \u001b[38;5;28msuper\u001b[39m()\u001b[38;5;241m.\u001b[39m\u001b[38;5;21m__call__\u001b[39m(iterable_with_config)\n",
      "File \u001b[1;32mc:\\Users\\asus\\anaconda3\\Lib\\site-packages\\joblib\\parallel.py:1918\u001b[0m, in \u001b[0;36mParallel.__call__\u001b[1;34m(self, iterable)\u001b[0m\n\u001b[0;32m   1916\u001b[0m     output \u001b[38;5;241m=\u001b[39m \u001b[38;5;28mself\u001b[39m\u001b[38;5;241m.\u001b[39m_get_sequential_output(iterable)\n\u001b[0;32m   1917\u001b[0m     \u001b[38;5;28mnext\u001b[39m(output)\n\u001b[1;32m-> 1918\u001b[0m     \u001b[38;5;28;01mreturn\u001b[39;00m output \u001b[38;5;28;01mif\u001b[39;00m \u001b[38;5;28mself\u001b[39m\u001b[38;5;241m.\u001b[39mreturn_generator \u001b[38;5;28;01melse\u001b[39;00m \u001b[38;5;28mlist\u001b[39m(output)\n\u001b[0;32m   1920\u001b[0m \u001b[38;5;66;03m# Let's create an ID that uniquely identifies the current call. If the\u001b[39;00m\n\u001b[0;32m   1921\u001b[0m \u001b[38;5;66;03m# call is interrupted early and that the same instance is immediately\u001b[39;00m\n\u001b[0;32m   1922\u001b[0m \u001b[38;5;66;03m# re-used, this id will be used to prevent workers that were\u001b[39;00m\n\u001b[0;32m   1923\u001b[0m \u001b[38;5;66;03m# concurrently finalizing a task from the previous call to run the\u001b[39;00m\n\u001b[0;32m   1924\u001b[0m \u001b[38;5;66;03m# callback.\u001b[39;00m\n\u001b[0;32m   1925\u001b[0m \u001b[38;5;28;01mwith\u001b[39;00m \u001b[38;5;28mself\u001b[39m\u001b[38;5;241m.\u001b[39m_lock:\n",
      "File \u001b[1;32mc:\\Users\\asus\\anaconda3\\Lib\\site-packages\\joblib\\parallel.py:1847\u001b[0m, in \u001b[0;36mParallel._get_sequential_output\u001b[1;34m(self, iterable)\u001b[0m\n\u001b[0;32m   1845\u001b[0m \u001b[38;5;28mself\u001b[39m\u001b[38;5;241m.\u001b[39mn_dispatched_batches \u001b[38;5;241m+\u001b[39m\u001b[38;5;241m=\u001b[39m \u001b[38;5;241m1\u001b[39m\n\u001b[0;32m   1846\u001b[0m \u001b[38;5;28mself\u001b[39m\u001b[38;5;241m.\u001b[39mn_dispatched_tasks \u001b[38;5;241m+\u001b[39m\u001b[38;5;241m=\u001b[39m \u001b[38;5;241m1\u001b[39m\n\u001b[1;32m-> 1847\u001b[0m res \u001b[38;5;241m=\u001b[39m func(\u001b[38;5;241m*\u001b[39margs, \u001b[38;5;241m*\u001b[39m\u001b[38;5;241m*\u001b[39mkwargs)\n\u001b[0;32m   1848\u001b[0m \u001b[38;5;28mself\u001b[39m\u001b[38;5;241m.\u001b[39mn_completed_tasks \u001b[38;5;241m+\u001b[39m\u001b[38;5;241m=\u001b[39m \u001b[38;5;241m1\u001b[39m\n\u001b[0;32m   1849\u001b[0m \u001b[38;5;28mself\u001b[39m\u001b[38;5;241m.\u001b[39mprint_progress()\n",
      "File \u001b[1;32mc:\\Users\\asus\\anaconda3\\Lib\\site-packages\\sklearn\\utils\\parallel.py:136\u001b[0m, in \u001b[0;36m_FuncWrapper.__call__\u001b[1;34m(self, *args, **kwargs)\u001b[0m\n\u001b[0;32m    134\u001b[0m     config \u001b[38;5;241m=\u001b[39m {}\n\u001b[0;32m    135\u001b[0m \u001b[38;5;28;01mwith\u001b[39;00m config_context(\u001b[38;5;241m*\u001b[39m\u001b[38;5;241m*\u001b[39mconfig):\n\u001b[1;32m--> 136\u001b[0m     \u001b[38;5;28;01mreturn\u001b[39;00m \u001b[38;5;28mself\u001b[39m\u001b[38;5;241m.\u001b[39mfunction(\u001b[38;5;241m*\u001b[39margs, \u001b[38;5;241m*\u001b[39m\u001b[38;5;241m*\u001b[39mkwargs)\n",
      "File \u001b[1;32mc:\\Users\\asus\\anaconda3\\Lib\\site-packages\\sklearn\\ensemble\\_forest.py:192\u001b[0m, in \u001b[0;36m_parallel_build_trees\u001b[1;34m(tree, bootstrap, X, y, sample_weight, tree_idx, n_trees, verbose, class_weight, n_samples_bootstrap, missing_values_in_feature_mask)\u001b[0m\n\u001b[0;32m    189\u001b[0m     \u001b[38;5;28;01melif\u001b[39;00m class_weight \u001b[38;5;241m==\u001b[39m \u001b[38;5;124m\"\u001b[39m\u001b[38;5;124mbalanced_subsample\u001b[39m\u001b[38;5;124m\"\u001b[39m:\n\u001b[0;32m    190\u001b[0m         curr_sample_weight \u001b[38;5;241m*\u001b[39m\u001b[38;5;241m=\u001b[39m compute_sample_weight(\u001b[38;5;124m\"\u001b[39m\u001b[38;5;124mbalanced\u001b[39m\u001b[38;5;124m\"\u001b[39m, y, indices\u001b[38;5;241m=\u001b[39mindices)\n\u001b[1;32m--> 192\u001b[0m     tree\u001b[38;5;241m.\u001b[39m_fit(\n\u001b[0;32m    193\u001b[0m         X,\n\u001b[0;32m    194\u001b[0m         y,\n\u001b[0;32m    195\u001b[0m         sample_weight\u001b[38;5;241m=\u001b[39mcurr_sample_weight,\n\u001b[0;32m    196\u001b[0m         check_input\u001b[38;5;241m=\u001b[39m\u001b[38;5;28;01mFalse\u001b[39;00m,\n\u001b[0;32m    197\u001b[0m         missing_values_in_feature_mask\u001b[38;5;241m=\u001b[39mmissing_values_in_feature_mask,\n\u001b[0;32m    198\u001b[0m     )\n\u001b[0;32m    199\u001b[0m \u001b[38;5;28;01melse\u001b[39;00m:\n\u001b[0;32m    200\u001b[0m     tree\u001b[38;5;241m.\u001b[39m_fit(\n\u001b[0;32m    201\u001b[0m         X,\n\u001b[0;32m    202\u001b[0m         y,\n\u001b[1;32m   (...)\u001b[0m\n\u001b[0;32m    205\u001b[0m         missing_values_in_feature_mask\u001b[38;5;241m=\u001b[39mmissing_values_in_feature_mask,\n\u001b[0;32m    206\u001b[0m     )\n",
      "File \u001b[1;32mc:\\Users\\asus\\anaconda3\\Lib\\site-packages\\sklearn\\tree\\_classes.py:472\u001b[0m, in \u001b[0;36mBaseDecisionTree._fit\u001b[1;34m(self, X, y, sample_weight, check_input, missing_values_in_feature_mask)\u001b[0m\n\u001b[0;32m    461\u001b[0m \u001b[38;5;28;01melse\u001b[39;00m:\n\u001b[0;32m    462\u001b[0m     builder \u001b[38;5;241m=\u001b[39m BestFirstTreeBuilder(\n\u001b[0;32m    463\u001b[0m         splitter,\n\u001b[0;32m    464\u001b[0m         min_samples_split,\n\u001b[1;32m   (...)\u001b[0m\n\u001b[0;32m    469\u001b[0m         \u001b[38;5;28mself\u001b[39m\u001b[38;5;241m.\u001b[39mmin_impurity_decrease,\n\u001b[0;32m    470\u001b[0m     )\n\u001b[1;32m--> 472\u001b[0m builder\u001b[38;5;241m.\u001b[39mbuild(\u001b[38;5;28mself\u001b[39m\u001b[38;5;241m.\u001b[39mtree_, X, y, sample_weight, missing_values_in_feature_mask)\n\u001b[0;32m    474\u001b[0m \u001b[38;5;28;01mif\u001b[39;00m \u001b[38;5;28mself\u001b[39m\u001b[38;5;241m.\u001b[39mn_outputs_ \u001b[38;5;241m==\u001b[39m \u001b[38;5;241m1\u001b[39m \u001b[38;5;129;01mand\u001b[39;00m is_classifier(\u001b[38;5;28mself\u001b[39m):\n\u001b[0;32m    475\u001b[0m     \u001b[38;5;28mself\u001b[39m\u001b[38;5;241m.\u001b[39mn_classes_ \u001b[38;5;241m=\u001b[39m \u001b[38;5;28mself\u001b[39m\u001b[38;5;241m.\u001b[39mn_classes_[\u001b[38;5;241m0\u001b[39m]\n",
      "\u001b[1;31mKeyboardInterrupt\u001b[0m: "
     ]
    }
   ],
   "source": [
    "from sklearn.model_selection import GridSearchCV\n",
    "\n",
    "param_grid = {\n",
    "    'n_estimators': [100, 200],\n",
    "    'max_depth': [10, 20, None],\n",
    "    'min_samples_split': [2, 5, 10],\n",
    "    'min_samples_leaf': [1, 2, 4]\n",
    "}\n",
    "\n",
    "grid_search = GridSearchCV(estimator=rf, param_grid=param_grid, cv=3, scoring='accuracy', verbose=2)\n",
    "grid_search.fit(X_train, y_train)\n",
    "\n",
    "best_model = grid_search.best_estimator_\n"
   ]
  },
  {
   "cell_type": "code",
   "execution_count": null,
   "metadata": {},
   "outputs": [],
   "source": []
  }
 ],
 "metadata": {
  "kernelspec": {
   "display_name": "base",
   "language": "python",
   "name": "python3"
  },
  "language_info": {
   "codemirror_mode": {
    "name": "ipython",
    "version": 3
   },
   "file_extension": ".py",
   "mimetype": "text/x-python",
   "name": "python",
   "nbconvert_exporter": "python",
   "pygments_lexer": "ipython3",
   "version": "3.12.7"
  }
 },
 "nbformat": 4,
 "nbformat_minor": 2
}
