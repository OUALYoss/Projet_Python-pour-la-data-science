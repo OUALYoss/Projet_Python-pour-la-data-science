{
 "cells": [
  {
   "cell_type": "markdown",
   "metadata": {},
   "source": [
    "# 📈 <span style=\"color:#086591; text-decoration: underline;\">Partie Modélisation</span>\n"
   ]
  },
  {
   "cell_type": "markdown",
   "metadata": {},
   "source": [
    "Maintenant nous sommes arrivés à la partie de modélisation.\n",
    "Nous cherchons à expliquer les retards grâce à des variables explicatives. Dans un premier temps, nous allons modéliser le jeu de données existant en adoptant la régression logistique suivie dela méthode Random Forest . Puis, nous nous intéresserons à la comparaison des performances entre ces deux méthodes."
   ]
  },
  {
   "cell_type": "markdown",
   "metadata": {},
   "source": [
    "#### Le choix de méthode ###\n",
    "Nous avons choisi la régression logistique et Random forest car nous sommes face à un problème  de classification binaire où la variable cible \"Retard\" prend deux valeurs : 0 (pas de retard) et 1 (retard)."
   ]
  },
  {
   "cell_type": "markdown",
   "metadata": {},
   "source": [
    "### 🧠 <span style=\"text-decoration: underline;\">**Régression Logistique :**\n",
    "\n",
    "un problème de classification binaire de manière linéaire, c’est-à-dire modéliser y £ {0,1}  à l’aide d’une combinaison linéaire de variables.\n"
   ]
  },
  {
   "cell_type": "code",
   "execution_count": 355,
   "metadata": {},
   "outputs": [],
   "source": [
    "#bibliothèques\n",
    "import statsmodels.api as sm\n",
    "import seaborn as sns\n",
    "from sklearn.preprocessing import LabelEncoder, MinMaxScaler\n",
    "from sklearn.linear_model import LogisticRegression\n",
    "from sklearn.model_selection import train_test_split\n",
    "from sklearn.metrics import accuracy_score, log_loss, roc_curve, recall_score, confusion_matrix\n",
    "import matplotlib.pyplot as plt\n",
    "import pandas as pd\n",
    "import numpy as np\n",
    "from scipy.stats import pearsonr, chi2\n",
    "from imblearn.under_sampling import RandomUnderSampler\n",
    "from imblearn.over_sampling import RandomOverSampler\n",
    "from sklearn.ensemble import RandomForestClassifier\n",
    "from sklearn.metrics import classification_report, accuracy_score, confusion_matrix\n",
    "from sklearn.model_selection import GridSearchCV"
   ]
  },
  {
   "cell_type": "code",
   "execution_count": 356,
   "metadata": {},
   "outputs": [
    {
     "name": "stdout",
     "output_type": "stream",
     "text": [
      "<class 'pandas.core.frame.DataFrame'>\n",
      "RangeIndex: 50697 entries, 0 to 50696\n",
      "Data columns (total 31 columns):\n",
      " #   Column                                    Non-Null Count  Dtype  \n",
      "---  ------                                    --------------  -----  \n",
      " 0   Date                                      50697 non-null  object \n",
      " 1   Destination Airport                       50697 non-null  object \n",
      " 2   Scheduled departure time                  50697 non-null  object \n",
      " 3   Actual departure time                     50697 non-null  object \n",
      " 4   Wheels-off time                           50697 non-null  object \n",
      " 5   Taxi-Out time (Minutes)                   50697 non-null  float64\n",
      " 6   Delay Carrier (Minutes)                   50697 non-null  float64\n",
      " 7   Delay Weather (Minutes)                   50697 non-null  float64\n",
      " 8   Delay National Aviation System (Minutes)  50697 non-null  float64\n",
      " 9   Delay Security (Minutes)                  50697 non-null  float64\n",
      " 10  Delay Late Aircraft Arrival (Minutes)     50697 non-null  float64\n",
      " 11  Weekday_Flight                            50697 non-null  object \n",
      " 12  Season                                    50697 non-null  object \n",
      " 13  Period_Day                                50697 non-null  object \n",
      " 14  Retard                                    50697 non-null  int64  \n",
      " 15  Weekday_Flight_encoded                    50697 non-null  int64  \n",
      " 16  Season_encoded                            50697 non-null  int64  \n",
      " 17  Period_Day_encoded                        50697 non-null  int64  \n",
      " 18  Destination_encoded                       50697 non-null  int64  \n",
      " 19  time                                      50697 non-null  object \n",
      " 20  temperature_2m (°C)                       50697 non-null  float64\n",
      " 21  relative_humidity_2m (%)                  50697 non-null  int64  \n",
      " 22  precipitation (mm)                        50697 non-null  float64\n",
      " 23  snow_depth (m)                            50697 non-null  float64\n",
      " 24  weather_code (wmo code)                   50697 non-null  int64  \n",
      " 25  surface_pressure (hPa)                    50697 non-null  float64\n",
      " 26  cloud_cover (%)                           50697 non-null  int64  \n",
      " 27  cloud_cover_low (%)                       50697 non-null  int64  \n",
      " 28  vapour_pressure_deficit (kPa)             50697 non-null  float64\n",
      " 29  wind_speed_10m (km/h)                     50697 non-null  float64\n",
      " 30  wind_direction_10m (°)                    50697 non-null  int64  \n",
      "dtypes: float64(12), int64(10), object(9)\n",
      "memory usage: 12.0+ MB\n"
     ]
    }
   ],
   "source": [
    "data = pd.read_csv(\"data.csv\")\n",
    "data.columns\n",
    "data.info()"
   ]
  },
  {
   "cell_type": "markdown",
   "metadata": {},
   "source": [
    "Je vais laisser que des variables qui peuvent avoir un effet c'est-à-dire je vais supprimer les variables indésirables , comme time date ... etc."
   ]
  },
  {
   "cell_type": "code",
   "execution_count": 357,
   "metadata": {},
   "outputs": [
    {
     "name": "stdout",
     "output_type": "stream",
     "text": [
      "<class 'pandas.core.frame.DataFrame'>\n",
      "RangeIndex: 50697 entries, 0 to 50696\n",
      "Data columns (total 22 columns):\n",
      " #   Column                                    Non-Null Count  Dtype  \n",
      "---  ------                                    --------------  -----  \n",
      " 0   Taxi-Out time (Minutes)                   50697 non-null  float64\n",
      " 1   Delay Carrier (Minutes)                   50697 non-null  float64\n",
      " 2   Delay Weather (Minutes)                   50697 non-null  float64\n",
      " 3   Delay National Aviation System (Minutes)  50697 non-null  float64\n",
      " 4   Delay Security (Minutes)                  50697 non-null  float64\n",
      " 5   Delay Late Aircraft Arrival (Minutes)     50697 non-null  float64\n",
      " 6   Retard                                    50697 non-null  int64  \n",
      " 7   Weekday_Flight_encoded                    50697 non-null  int64  \n",
      " 8   Season_encoded                            50697 non-null  int64  \n",
      " 9   Period_Day_encoded                        50697 non-null  int64  \n",
      " 10  Destination_encoded                       50697 non-null  int64  \n",
      " 11  temperature_2m (°C)                       50697 non-null  float64\n",
      " 12  relative_humidity_2m (%)                  50697 non-null  int64  \n",
      " 13  precipitation (mm)                        50697 non-null  float64\n",
      " 14  snow_depth (m)                            50697 non-null  float64\n",
      " 15  weather_code (wmo code)                   50697 non-null  int64  \n",
      " 16  surface_pressure (hPa)                    50697 non-null  float64\n",
      " 17  cloud_cover (%)                           50697 non-null  int64  \n",
      " 18  cloud_cover_low (%)                       50697 non-null  int64  \n",
      " 19  vapour_pressure_deficit (kPa)             50697 non-null  float64\n",
      " 20  wind_speed_10m (km/h)                     50697 non-null  float64\n",
      " 21  wind_direction_10m (°)                    50697 non-null  int64  \n",
      "dtypes: float64(12), int64(10)\n",
      "memory usage: 8.5 MB\n"
     ]
    }
   ],
   "source": [
    "df = data.drop('time', axis=1)\n",
    "colu= [\"Season\",\"Period_Day\",\"Weekday_Flight\",\"Destination Airport\",\"Date\",\"Scheduled departure time\",\"Actual departure time\",\"Wheels-off time\"]\n",
    "df = df.drop(columns=colu)\n",
    "df.info()"
   ]
  },
  {
   "cell_type": "markdown",
   "metadata": {},
   "source": [
    "Le pre-processing est un Standard Scaler permettant de standardiser les données.\n",
    "\n",
    "L'approche Train-Test Split consiste à décomposer de manière aléatoire notre données. Une partie servira à l’entraînement du modèle (training) et on réserve 70% à 80% des données du dataset pour l’entraînement, l’autre partie permettra de le tester pour la validation."
   ]
  },
  {
   "cell_type": "code",
   "execution_count": 358,
   "metadata": {},
   "outputs": [],
   "source": [
    "# Normalisation des colonnes numériques\n",
    "scaler = MinMaxScaler()\n",
    "numeric_cols = df.select_dtypes(include=['float64', 'int64']).columns\n",
    "df[numeric_cols] = scaler.fit_transform(df[numeric_cols])\n",
    "\n",
    "# Division aléatoire en ensembles d'apprentissage et de test\n",
    "seed = 131\n",
    "train_set, test_set = train_test_split(df, test_size=0.2, random_state=seed)\n"
   ]
  },
  {
   "cell_type": "code",
   "execution_count": 359,
   "metadata": {},
   "outputs": [
    {
     "data": {
      "text/plain": [
       "Retard\n",
       "0.0    68.138669\n",
       "1.0    31.861331\n",
       "Name: proportion, dtype: float64"
      ]
     },
     "execution_count": 359,
     "metadata": {},
     "output_type": "execute_result"
    }
   ],
   "source": [
    "train_set['Retard'].value_counts(normalize=True)*100"
   ]
  },
  {
   "cell_type": "markdown",
   "metadata": {},
   "source": [
    "# **Le problème de déséquilibre de classes  Class  | Imbalance Problem**\n",
    "\n",
    "pour résoudre ce type des problèmes on utilise la méthode du rééchantillonnage des données .\n",
    "\n",
    "le rééchantillonnage des données : \n",
    "\n",
    "- **Random Under Sampling  RUS , sous échantillonement de la classe majoritaire:**\n",
    "\n",
    "consiste à tirer au hasard des observations de cas de non-defaut pour correspondre au nombre d’observations de cas de defaut de paiement . \n",
    "\n",
    "Le RUS vise à réduire le déséquilibre en diminuant la taille de la classe majoritaire. Cela se fait en supprimant aléatoirement des observations de la classe majoritaire jusqu'à ce que le nombre d'observations dans cette classe corresponde approximativement à celui de la classe minoritaire\n",
    "\n",
    "une perte massive d’informations potentiellement importantes\n",
    "\n",
    "- **Random Over Sampling  ROS , sur échantillonement de la classe minoritaire:**\n",
    "\n",
    "consiste à effectuer des tirages aléatoires d’observations de cas de défaut et dupliquer ces observations afin de correspondre au nbre de cas de non-défaut.\n",
    "\n",
    "vise à augmenter la taille de la classe minoritaire en dupliquant des observations de cette classe ou en générant de nouvelles observations synthétiques\n",
    "\n",
    "on peut avoir un surapprentissage (overfitting)\n",
    "\n",
    "- **Synthetic Minority Oversampling Technique ou SMOTE**\n",
    "\n",
    "SMOTE génère de nouvelles observations synthétiques en se basant sur les caractéristiques des observations existantes.\n",
    "\n",
    "1. **Sélection d'une observation :**\n",
    "SMOTE commence par choisir aléatoirement une observation de la classe minoritaire.\n",
    "2. **Trouver les voisins les plus proches :**\n",
    "SMOTE identifie les k voisins les plus proches de cette observation dans la classe minoritaire (k étant généralement un paramètre défini par l'utilisateur). Ces voisins sont trouvés dans l'espace des caractéristiques, souvent à l'aide d'une métrique de distance comme la distance euclidienne."
   ]
  },
  {
   "cell_type": "code",
   "execution_count": 360,
   "metadata": {},
   "outputs": [
    {
     "name": "stdout",
     "output_type": "stream",
     "text": [
      "<class 'pandas.core.frame.DataFrame'>\n",
      "       Taxi-Out time (Minutes)  Delay Carrier (Minutes)  \\\n",
      "count             25844.000000             25844.000000   \n",
      "mean                  0.137334                 0.004738   \n",
      "std                   0.072377                 0.025319   \n",
      "min                   0.000000                 0.000000   \n",
      "25%                   0.096045                 0.000000   \n",
      "50%                   0.118644                 0.000000   \n",
      "75%                   0.152542                 0.000000   \n",
      "max                   0.926554                 1.000000   \n",
      "\n",
      "       Delay Weather (Minutes)  Delay National Aviation System (Minutes)  \\\n",
      "count             25844.000000                              25844.000000   \n",
      "mean                  0.000852                                  0.003953   \n",
      "std                   0.012844                                  0.015173   \n",
      "min                   0.000000                                  0.000000   \n",
      "25%                   0.000000                                  0.000000   \n",
      "50%                   0.000000                                  0.000000   \n",
      "75%                   0.000000                                  0.000000   \n",
      "max                   1.000000                                  0.544240   \n",
      "\n",
      "       Delay Security (Minutes)  Delay Late Aircraft Arrival (Minutes)  \\\n",
      "count              25844.000000                           25844.000000   \n",
      "mean                   0.000392                               0.004352   \n",
      "std                    0.009814                               0.025200   \n",
      "min                    0.000000                               0.000000   \n",
      "25%                    0.000000                               0.000000   \n",
      "50%                    0.000000                               0.000000   \n",
      "75%                    0.000000                               0.000000   \n",
      "max                    0.705263                               1.000000   \n",
      "\n",
      "       Weekday_Flight_encoded  Season_encoded  Period_Day_encoded  \\\n",
      "count            25844.000000    25844.000000        25844.000000   \n",
      "mean                 0.499271        0.525693            0.417002   \n",
      "std                  0.332695        0.370745            0.358072   \n",
      "min                  0.000000        0.000000            0.000000   \n",
      "25%                  0.166667        0.333333            0.000000   \n",
      "50%                  0.500000        0.666667            0.500000   \n",
      "75%                  0.833333        1.000000            0.500000   \n",
      "max                  1.000000        1.000000            1.000000   \n",
      "\n",
      "       Destination_encoded  ...  relative_humidity_2m (%)  precipitation (mm)  \\\n",
      "count         25844.000000  ...              25844.000000        25844.000000   \n",
      "mean              0.472882  ...                  0.640121            0.006978   \n",
      "std               0.258674  ...                  0.227909            0.031586   \n",
      "min               0.000000  ...                  0.000000            0.000000   \n",
      "25%               0.222222  ...                  0.461538            0.000000   \n",
      "50%               0.500000  ...                  0.666667            0.000000   \n",
      "75%               0.555556  ...                  0.833333            0.000000   \n",
      "max               1.000000  ...                  1.000000            1.000000   \n",
      "\n",
      "       snow_depth (m)  weather_code (wmo code)  surface_pressure (hPa)  \\\n",
      "count    25844.000000             25844.000000            25844.000000   \n",
      "mean         0.023056                 0.134058                0.586193   \n",
      "std          0.106615                 0.266217                0.132077   \n",
      "min          0.000000                 0.000000                0.000000   \n",
      "25%          0.000000                 0.000000                0.505102   \n",
      "50%          0.000000                 0.040000                0.583333   \n",
      "75%          0.000000                 0.040000                0.671769   \n",
      "max          1.000000                 1.000000                0.994898   \n",
      "\n",
      "       cloud_cover (%)  cloud_cover_low (%)  vapour_pressure_deficit (kPa)  \\\n",
      "count     25844.000000         25844.000000                   25844.000000   \n",
      "mean          0.573337             0.228218                       0.132564   \n",
      "std           0.430907             0.368923                       0.133341   \n",
      "min           0.000000             0.000000                       0.000000   \n",
      "25%           0.050000             0.000000                       0.042895   \n",
      "50%           0.730000             0.000000                       0.088472   \n",
      "75%           1.000000             0.290000                       0.174263   \n",
      "max           1.000000             1.000000                       0.951743   \n",
      "\n",
      "       wind_speed_10m (km/h)  wind_direction_10m (°)  \n",
      "count           25844.000000            25844.000000  \n",
      "mean                0.234002                0.581939  \n",
      "std                 0.117494                0.283774  \n",
      "min                 0.000000                0.000000  \n",
      "25%                 0.144882                0.398329  \n",
      "50%                 0.215748                0.632312  \n",
      "75%                 0.302362                0.821727  \n",
      "max                 1.000000                1.000000  \n",
      "\n",
      "[8 rows x 21 columns]\n"
     ]
    }
   ],
   "source": [
    "# Sous-échantillonnage\n",
    "rus = RandomUnderSampler(random_state=seed)\n",
    "train_undersampled, train_undersampled_labels = rus.fit_resample(train_set.drop('Retard', axis=1),\n",
    "                                                                 train_set['Retard'])\n",
    "print(type(train_undersampled))\n",
    "print(train_undersampled.describe())\n",
    "\n",
    "# Sur-échantillonnage\n",
    "ros = RandomOverSampler(random_state=seed)\n",
    "train_oversampled, train_oversampled_labels = ros.fit_resample(train_set.drop('Retard', axis=1),\n",
    "                                                               train_set['Retard'])\n"
   ]
  },
  {
   "cell_type": "code",
   "execution_count": 361,
   "metadata": {},
   "outputs": [
    {
     "name": "stdout",
     "output_type": "stream",
     "text": [
      "Retard\n",
      "0.0    27635\n",
      "1.0    12922\n",
      "Name: count, dtype: int64\n",
      "Retard\n",
      "1.0    27635\n",
      "0.0    27635\n",
      "Name: count, dtype: int64\n",
      "Retard\n",
      "0.0    12922\n",
      "1.0    12922\n",
      "Name: count, dtype: int64\n"
     ]
    }
   ],
   "source": [
    "# Taille avant sur-échantillonnage\n",
    "print(train_set['Retard'].value_counts())\n",
    "\n",
    "# Taille après sur-échantillonnage\n",
    "oversampled_df = pd.DataFrame(train_oversampled, columns=train_set.drop('Retard', axis=1).columns)\n",
    "oversampled_df['Retard'] = train_oversampled_labels\n",
    "print(oversampled_df['Retard'].value_counts())\n",
    "\n",
    "# Taille après sous-échantillonnage\n",
    "train_undersampled_df = pd.DataFrame(train_undersampled, columns=train_set.drop('Retard', axis=1).columns)\n",
    "train_undersampled_df['Retard'] = train_undersampled_labels\n",
    "print(train_undersampled_df['Retard'].value_counts())\n",
    "\n"
   ]
  },
  {
   "cell_type": "markdown",
   "metadata": {},
   "source": [
    "# Création du modèle. \n",
    "Nous avons choisi le sur-échantillonnage car  on voit bien  une différence significative entre les classes 27,635 contre 12,922.\n",
    "le sur-échantillonnage est  préférable dans ce cas , car il permet de conserver la totalité  des données de la classe majoritaire (classe 1).\n",
    "\n",
    "Nous avons  effectué une analyse approfondie des coefficients, de leur significativité statistique, ainsi que de la corrélation de Pearson entre les variables explicatives et la variable cible \"Retard\".\n",
    "\n"
   ]
  },
  {
   "cell_type": "code",
   "execution_count": 362,
   "metadata": {},
   "outputs": [
    {
     "name": "stdout",
     "output_type": "stream",
     "text": [
      "                                    Variable  Coefficient\n",
      "0                    Taxi-Out time (Minutes)     2.765947\n",
      "1                    Delay Carrier (Minutes)    25.028333\n",
      "2                    Delay Weather (Minutes)     5.823790\n",
      "3   Delay National Aviation System (Minutes)    10.544062\n",
      "4                   Delay Security (Minutes)     3.915299\n",
      "5      Delay Late Aircraft Arrival (Minutes)    24.065809\n",
      "6                     Weekday_Flight_encoded    -0.107880\n",
      "7                             Season_encoded    -0.206194\n",
      "8                         Period_Day_encoded    -0.090898\n",
      "9                        Destination_encoded    -0.278803\n",
      "10                       temperature_2m (°C)     0.522650\n",
      "11                  relative_humidity_2m (%)    -0.663656\n",
      "12                        precipitation (mm)    -0.419743\n",
      "13                            snow_depth (m)     0.205710\n",
      "14                   weather_code (wmo code)     0.329572\n",
      "15                    surface_pressure (hPa)     0.287332\n",
      "16                           cloud_cover (%)     0.107387\n",
      "17                       cloud_cover_low (%)     0.158221\n",
      "18             vapour_pressure_deficit (kPa)     0.848343\n",
      "19                     wind_speed_10m (km/h)     0.114708\n",
      "20                    wind_direction_10m (°)     0.019908\n",
      "21                                 Intercept    -0.580431\n",
      "Variables significatives : Index(['Taxi-Out time (Minutes)', 'Delay Carrier (Minutes)',\n",
      "       'Delay Weather (Minutes)', 'Delay National Aviation System (Minutes)',\n",
      "       'Delay Security (Minutes)', 'Delay Late Aircraft Arrival (Minutes)',\n",
      "       'Weekday_Flight_encoded', 'Season_encoded', 'Period_Day_encoded',\n",
      "       'Destination_encoded', 'temperature_2m (°C)',\n",
      "       'relative_humidity_2m (%)', 'precipitation (mm)', 'snow_depth (m)',\n",
      "       'weather_code (wmo code)', 'surface_pressure (hPa)', 'cloud_cover (%)',\n",
      "       'cloud_cover_low (%)', 'vapour_pressure_deficit (kPa)',\n",
      "       'wind_speed_10m (km/h)', 'wind_direction_10m (°)'],\n",
      "      dtype='object')\n",
      "Modèle significatif :\n",
      "                                     Variable  Coefficient\n",
      "0                    Taxi-Out time (Minutes)     2.765947\n",
      "1                    Delay Carrier (Minutes)    25.028333\n",
      "2                    Delay Weather (Minutes)     5.823790\n",
      "3   Delay National Aviation System (Minutes)    10.544062\n",
      "4                   Delay Security (Minutes)     3.915299\n",
      "5      Delay Late Aircraft Arrival (Minutes)    24.065809\n",
      "6                     Weekday_Flight_encoded    -0.107880\n",
      "7                             Season_encoded    -0.206194\n",
      "8                         Period_Day_encoded    -0.090898\n",
      "9                        Destination_encoded    -0.278803\n",
      "10                       temperature_2m (°C)     0.522650\n",
      "11                  relative_humidity_2m (%)    -0.663656\n",
      "12                        precipitation (mm)    -0.419743\n",
      "13                            snow_depth (m)     0.205710\n",
      "14                   weather_code (wmo code)     0.329572\n",
      "15                    surface_pressure (hPa)     0.287332\n",
      "16                           cloud_cover (%)     0.107387\n",
      "17                       cloud_cover_low (%)     0.158221\n",
      "18             vapour_pressure_deficit (kPa)     0.848343\n",
      "19                     wind_speed_10m (km/h)     0.114708\n",
      "20                    wind_direction_10m (°)     0.019908\n",
      "Variables significatives (avec une erreur alpha de 5%) : \n",
      " ['Taxi-Out time (Minutes)', 'Delay Carrier (Minutes)', 'Delay Weather (Minutes)', 'Delay National Aviation System (Minutes)', 'Delay Security (Minutes)', 'Delay Late Aircraft Arrival (Minutes)', 'Weekday_Flight_encoded', 'Season_encoded', 'Period_Day_encoded', 'Destination_encoded', 'temperature_2m (°C)', 'relative_humidity_2m (%)', 'precipitation (mm)', 'snow_depth (m)', 'weather_code (wmo code)', 'surface_pressure (hPa)', 'cloud_cover (%)', 'cloud_cover_low (%)', 'vapour_pressure_deficit (kPa)', 'wind_speed_10m (km/h)', 'wind_direction_10m (°)']\n"
     ]
    }
   ],
   "source": [
    "# Modèle de régression logistique\n",
    "x_train = train_oversampled\n",
    "y_train = train_oversampled_labels\n",
    "clf = LogisticRegression()\n",
    "clf.fit(x_train, y_train)\n",
    "\n",
    "# Coefficients du modèle\n",
    "coefficients = clf.coef_[0]\n",
    "intercept = clf.intercept_[0]\n",
    "coeff_df = pd.DataFrame({'Variable': x_train.columns, 'Coefficient': coefficients})\n",
    "coeff_df.loc[len(coeff_df)] = ['Intercept', intercept]\n",
    "print(coeff_df)\n",
    "\n",
    "# Calcul des statistiques\n",
    "n = len(y_train)\n",
    "p = x_train.shape[1]\n",
    "X = np.hstack((np.ones((n, 1)), x_train))\n",
    "y_pred = clf.predict(x_train)\n",
    "residus = y_train - y_pred\n",
    "sigma_hat = np.sqrt(np.sum(residus ** 2) / (n - p))\n",
    "var_cov_beta = np.linalg.inv(X.T @ X) * sigma_hat ** 2\n",
    "std_err_beta = np.sqrt(np.diag(var_cov_beta))\n",
    "\n",
    "# Variables significatives\n",
    "alpha = 0.1\n",
    "z_score = clf.coef_ / std_err_beta[1:]\n",
    "p_values = 2 * (1 - chi2.cdf(z_score ** 2, 1))\n",
    "significant_vars = x_train.columns[np.array(p_values).reshape(-1) < alpha]\n",
    "print(\"Variables significatives :\", significant_vars)\n",
    "\n",
    "# Modèle réduit aux variables significatives\n",
    "significant_coefs = clf.coef_[0][np.isin(x_train.columns, significant_vars)]\n",
    "significant_model = pd.DataFrame({'Variable': significant_vars, 'Coefficient': significant_coefs})\n",
    "print(\"Modèle significatif :\\n\", significant_model)\n",
    "\n",
    "# Corrélation de Pearson\n",
    "pearson_correlation = []\n",
    "pearson_p_value = []\n",
    "for var in x_train.columns:\n",
    "    correlation, p_value = pearsonr(x_train[var], y_train)\n",
    "    pearson_correlation.append(correlation)\n",
    "    pearson_p_value.append(p_value)\n",
    "\n",
    "alpha = 0.05\n",
    "significant_vars = [var for var, p_value in zip(x_train.columns, pearson_p_value) if p_value < alpha]\n",
    "print(\"Variables significatives (avec une erreur alpha de 5%) : \\n\", significant_vars)\n"
   ]
  },
  {
   "cell_type": "markdown",
   "metadata": {},
   "source": [
    "### Analyse de résultats ###\n",
    "\n",
    "À un seuil de significativité (α=0.1), toutes les variables de notre modèle sont  statistiquement significatives car leurs p-values sont inférieures à 0.1. Cela signifie que leurs effets sur la variable cible \"Retard\" sont suffisamment importants et on est obligé de les inclure .\n",
    "\n",
    "Les coefficients indiquent l'effet marginal de chaque variable  explicative sur la probabilité de survenue d'un retard (variable cible ) :\n",
    "\n",
    "- **Effet positif** : l'augmentation d'une unité de cette variable augmente la probabilité de retard.  \n",
    "- **Effet négatif** : l'augmentation d'une unité de cette variable réduit la probabilité de retard.\n"
   ]
  },
  {
   "cell_type": "markdown",
   "metadata": {},
   "source": [
    "Nous allons définir la métrique  pour évaluer la performance des modèles\n",
    "\n",
    "![Matrice de confusion](images/Untitled.png)\n",
    "\n",
    "True Positive (TP) :\n",
    "L’avion est effectivement en retard (classe 1), et le modèle prédit qu’il est en retard (classe 1).\n",
    "\n",
    "True Negative (TN) :\n",
    "L’avion n’est pas en retard (classe 0), et le modèle prédit qu’il n’est pas en retard (classe 0).\n",
    "\n",
    "False Negative (FN) :\n",
    "L’avion est en retard (classe 1), mais le modèle prédit qu’il n’est pas en retard (classe 0).\n",
    "\n",
    "False Positive (FP) :\n",
    "L’avion n’est pas en retard (classe 0), mais le modèle prédit qu’il est en retard (classe 1).\n",
    "\n",
    "**Accuracy | Sensitivity | Specificity**\n",
    "\n",
    "**Accuracy = $TN +TP/(TN +FN+FP +TP)$**\n",
    "\n",
    "c’est la précision de la classification , le pourcentage d’instances correctement classifées ie le pourcentage des TP et TN\n",
    "\n",
    "**Sensitivity = $TP/(FN +TP)$** \n",
    "\n",
    "C'est le pourcentage des instances positives réelles  qui sont correctement classifées comme positives par le modèle.\n",
    "le taux de classes positives\n",
    "\n",
    "**Specificity = $TN/(FP + TN)$**\n",
    "\n",
    "C'est le pourcentage des instances négatives réelles qui sont correctement classifées comme négatives par le modèle.\n",
    "le taux de classes negatives"
   ]
  },
  {
   "cell_type": "code",
   "execution_count": 363,
   "metadata": {},
   "outputs": [],
   "source": [
    "def model_evaluation(model, seuil):\n",
    "    predictions = model.predict_proba(test_set.drop('Retard', axis=1))[:, 1]\n",
    "    predicted_status = (predictions > seuil).astype(int)\n",
    "    \n",
    "    conf_mat = pd.crosstab(test_set['Retard'], predicted_status, dropna=False)\n",
    "    conf_mat = conf_mat.reindex(index=[0, 1], columns=[0, 1], fill_value=0)\n",
    "\n",
    "    # Vérifiez si la matrice est correcte\n",
    "    if conf_mat.shape[0] < 2 or conf_mat.shape[1] < 2:\n",
    "        raise ValueError(\"Matrice de confusion incomplète ou incorrecte.\")\n",
    "\n",
    "    TP = conf_mat.iloc[1, 1]\n",
    "    TN = conf_mat.iloc[0, 0]\n",
    "    FP = conf_mat.iloc[0, 1]\n",
    "    FN = conf_mat.iloc[1, 0]\n",
    "\n",
    "    sensitivity = TP / (TP + FN) if (TP + FN) > 0 else 0\n",
    "    specificity = TN / (TN + FP) if (TN + FP) > 0 else 0\n",
    "    accuracy = (TP + TN) / (TP + TN + FP + FN) if (TP + TN + FP + FN) > 0 else 0\n",
    "\n",
    "    return {\n",
    "        'Classification Score': accuracy,\n",
    "        'Model Sensitivity': sensitivity,\n",
    "        'Model Specificity': specificity\n",
    "    }\n"
   ]
  },
  {
   "cell_type": "code",
   "execution_count": 364,
   "metadata": {},
   "outputs": [
    {
     "name": "stdout",
     "output_type": "stream",
     "text": [
      "Seuil optimal pour maximiser Accuracy:\n",
      "seuil            0.580000\n",
      "Accuracy         0.760256\n",
      "Sensitivity      0.364096\n",
      "Specificity      0.939937\n",
      "1-Specificity    0.060063\n",
      "Name: 57, dtype: float64\n",
      "\n",
      "Seuil optimal pour équilibrer Sensibilité et Spécificité:\n",
      "seuil            0.460000\n",
      "Accuracy         0.654241\n",
      "Sensitivity      0.661504\n",
      "Specificity      0.650946\n",
      "1-Specificity    0.349054\n",
      "Name: 45, dtype: float64\n",
      "\n",
      "Seuil optimal basé sur la distance au point parfait (ROC):\n",
      "seuil                  0.470000\n",
      "Accuracy               0.672781\n",
      "Sensitivity            0.634640\n",
      "Specificity            0.690080\n",
      "1-Specificity          0.309920\n",
      "Distance_to_Perfect    0.479102\n",
      "Name: 46, dtype: float64\n"
     ]
    },
    {
     "data": {
      "image/png": "[encoded data removed]",
      "text/plain": [
       "<Figure size 640x480 with 1 Axes>"
      ]
     },
     "metadata": {},
     "output_type": "display_data"
    },
    {
     "data": {
      "image/png": "[encoded data removed]",
      "text/plain": [
       "<Figure size 640x480 with 1 Axes>"
      ]
     },
     "metadata": {},
     "output_type": "display_data"
    },
    {
     "name": "stdout",
     "output_type": "stream",
     "text": [
      "les seuils sont  :  [0.5800000000000001, 0.46, 0.47000000000000003]\n"
     ]
    }
   ],
   "source": [
    "def print_results(model):\n",
    "    seuils = np.arange(0.01, 1.0, 0.01)\n",
    "    acc_model, sens_model, spec_model, one_minus_spec_model = [], [], [], []\n",
    "    for i in seuils:\n",
    "        r = model_evaluation(model, i)\n",
    "        acc_model.append(r['Classification Score'])\n",
    "        sens_model.append(r['Model Sensitivity'])\n",
    "        spec_model.append(r['Model Specificity'])\n",
    "        one_minus_spec_model.append(1 - r['Model Specificity'])\n",
    "    \n",
    "    # Créer un DataFrame pour les résultats\n",
    "    metriques = pd.DataFrame({\n",
    "        'seuil': seuils,\n",
    "        'Accuracy': acc_model,\n",
    "        'Sensitivity': sens_model,\n",
    "        'Specificity': spec_model,\n",
    "        '1-Specificity': one_minus_spec_model\n",
    "    })\n",
    "    \n",
    "    # Trouver le seuil optimal selon différents critères\n",
    "    optimal_acc = metriques.loc[metriques['Accuracy'].idxmax()]\n",
    "    optimal_sens_spec = metriques.iloc[(metriques['Sensitivity'] - metriques['Specificity']).abs().idxmin()]\n",
    "    metriques['Distance_to_Perfect'] = np.sqrt(metriques['1-Specificity']**2 + (1 - metriques['Sensitivity'])**2)\n",
    "    optimal_roc = metriques.loc[metriques['Distance_to_Perfect'].idxmin()]\n",
    "\n",
    "    print(\"Seuil optimal pour maximiser Accuracy:\")\n",
    "    print(optimal_acc)\n",
    "    print(\"\\nSeuil optimal pour équilibrer Sensibilité et Spécificité:\")\n",
    "    print(optimal_sens_spec)\n",
    "    print(\"\\nSeuil optimal basé sur la distance au point parfait (ROC):\")\n",
    "    print(optimal_roc)\n",
    "    \n",
    "    # Courbe ROC\n",
    "    plt.figure()\n",
    "    plt.plot(metriques['1-Specificity'], metriques['Sensitivity'], label='ROC Curve')\n",
    "    plt.scatter(optimal_roc['1-Specificity'], optimal_roc['Sensitivity'], color='red', label='Optimal Threshold')\n",
    "    plt.xlabel('1-Specificity')\n",
    "    plt.ylabel('Sensitivity')\n",
    "    plt.title('ROC Curve')\n",
    "    plt.legend()\n",
    "    plt.show()\n",
    "\n",
    "    # Courbes des métriques\n",
    "    plt.figure()\n",
    "    plt.plot(metriques['seuil'], metriques['Accuracy'], label='Accuracy', color='red')\n",
    "    plt.plot(metriques['seuil'], metriques['Sensitivity'], label='Sensitivity', color='green')\n",
    "    plt.plot(metriques['seuil'], metriques['Specificity'], label='Specificity', color='blue')\n",
    "    plt.axvline(optimal_acc['seuil'], color='black', linestyle='--', label='Optimal Accuracy seuil')\n",
    "    plt.xlabel('seuil')\n",
    "    plt.ylabel('Score')\n",
    "    plt.legend()\n",
    "    plt.title('Modèle métriques')\n",
    "    plt.show()\n",
    "    \n",
    "    optimale_seuil = [\n",
    "        optimal_acc['seuil'],   # Seuil pour Accuracy\n",
    "        optimal_sens_spec['seuil'],  # Seuil pour équilibrer Sensibilité et Spécificité\n",
    "        optimal_roc['seuil']    # Seuil basé sur la distance au point parfait (ROC)\n",
    "    ]\n",
    "    \n",
    "    print(\"les seuils sont  : \" , optimale_seuil)\n",
    "    \n",
    "\n",
    "    \n",
    "    \n",
    "print_results(clf)\n"
   ]
  },
  {
   "cell_type": "markdown",
   "metadata": {},
   "source": [
    "### 🧠 <span style=\"text-decoration: underline;\">**Random Forest :**\n"
   ]
  },
  {
   "cell_type": "markdown",
   "metadata": {},
   "source": [
    "Le Random Forest ou la forêt aléatoire est un ensemble d'arbres de décision utilisés pour prédire une probabilité (la probabilité d'avoir un retard).Chaque arbre de décision dans la forêt fait une prédiction de probabalité , et la forêt aléatoire combine ces prédictions pour obtenir un résultat final un peu plus robuste et précis.\n",
    "\n",
    "Un arbre de décision (binaire) est une structure descendante qui a des nœuds et des branches. À chaque nœud, une condition  bien definis va nous permettre de nous diriger dans l'arbre, jusqu'à arriver à la fin de l'arbre."
   ]
  },
  {
   "cell_type": "markdown",
   "metadata": {},
   "source": [
    "#### Division de la base de donnée ####\n",
    "\n",
    "Nous allons procéder de la même manière que pour la régression logistique, en équilibrant les deux classes 0 et 1."
   ]
  },
  {
   "cell_type": "code",
   "execution_count": 365,
   "metadata": {},
   "outputs": [],
   "source": [
    "X= df.drop(columns=['Retard'])\n",
    "y = df['Retard']\n",
    "X_train, X_test, y_train, y_test = train_test_split(X, y, test_size=0.3, random_state=42)\n",
    "\n",
    "# Sous-échantillonnage\n",
    "rus = RandomUnderSampler(random_state=seed)\n",
    "train_undersampled, train_undersampled_labels = rus.fit_resample(X_train,y_train)\n",
    "train_undersampled_test, train_undersampled_labels_test = rus.fit_resample(X_test,y_test)\n",
    "\n",
    "\n",
    "# Sur-échantillonnage\n",
    "ros = RandomOverSampler(random_state=seed)\n",
    "train_oversampled, train_oversampled_labels = ros.fit_resample(X_train,\n",
    "                                                                 y_train)\n",
    "train_oversampled_test, train_oversampled_labels_test = ros.fit_resample(X_test,y_test)\n",
    "\n"
   ]
  },
  {
   "cell_type": "markdown",
   "metadata": {},
   "source": [
    "#### Création du modèle ####\n",
    "\n",
    "Nous allons fixer  random_state=42 et le nombre de arbres de décision =1000. "
   ]
  },
  {
   "cell_type": "code",
   "execution_count": 366,
   "metadata": {},
   "outputs": [
    {
     "ename": "KeyboardInterrupt",
     "evalue": "",
     "output_type": "error",
     "traceback": [
      "\u001b[1;31m---------------------------------------------------------------------------\u001b[0m",
      "\u001b[1;31mKeyboardInterrupt\u001b[0m                         Traceback (most recent call last)",
      "Cell \u001b[1;32mIn[366], line 2\u001b[0m\n\u001b[0;32m      1\u001b[0m Rand_Fore \u001b[38;5;241m=\u001b[39m RandomForestClassifier(n_estimators\u001b[38;5;241m=\u001b[39m\u001b[38;5;241m100\u001b[39m, random_state\u001b[38;5;241m=\u001b[39m\u001b[38;5;241m42\u001b[39m,class_weight\u001b[38;5;241m=\u001b[39m\u001b[38;5;124m'\u001b[39m\u001b[38;5;124mbalanced\u001b[39m\u001b[38;5;124m'\u001b[39m)\n\u001b[1;32m----> 2\u001b[0m Rand_Fore\u001b[38;5;241m.\u001b[39mfit(train_oversampled, train_oversampled_labels)\n\u001b[0;32m      3\u001b[0m y_pred \u001b[38;5;241m=\u001b[39m Rand_Fore\u001b[38;5;241m.\u001b[39mpredict(train_oversampled_test)\n\u001b[0;32m      4\u001b[0m \u001b[38;5;28mprint\u001b[39m(\u001b[38;5;124m\"\u001b[39m\u001b[38;5;124mAccuracy:\u001b[39m\u001b[38;5;124m\"\u001b[39m, accuracy_score(train_oversampled_labels_test, y_pred))\n",
      "File \u001b[1;32mc:\\Users\\asus\\anaconda3\\Lib\\site-packages\\sklearn\\base.py:1473\u001b[0m, in \u001b[0;36m_fit_context.<locals>.decorator.<locals>.wrapper\u001b[1;34m(estimator, *args, **kwargs)\u001b[0m\n\u001b[0;32m   1466\u001b[0m     estimator\u001b[38;5;241m.\u001b[39m_validate_params()\n\u001b[0;32m   1468\u001b[0m \u001b[38;5;28;01mwith\u001b[39;00m config_context(\n\u001b[0;32m   1469\u001b[0m     skip_parameter_validation\u001b[38;5;241m=\u001b[39m(\n\u001b[0;32m   1470\u001b[0m         prefer_skip_nested_validation \u001b[38;5;129;01mor\u001b[39;00m global_skip_validation\n\u001b[0;32m   1471\u001b[0m     )\n\u001b[0;32m   1472\u001b[0m ):\n\u001b[1;32m-> 1473\u001b[0m     \u001b[38;5;28;01mreturn\u001b[39;00m fit_method(estimator, \u001b[38;5;241m*\u001b[39margs, \u001b[38;5;241m*\u001b[39m\u001b[38;5;241m*\u001b[39mkwargs)\n",
      "File \u001b[1;32mc:\\Users\\asus\\anaconda3\\Lib\\site-packages\\sklearn\\ensemble\\_forest.py:489\u001b[0m, in \u001b[0;36mBaseForest.fit\u001b[1;34m(self, X, y, sample_weight)\u001b[0m\n\u001b[0;32m    478\u001b[0m trees \u001b[38;5;241m=\u001b[39m [\n\u001b[0;32m    479\u001b[0m     \u001b[38;5;28mself\u001b[39m\u001b[38;5;241m.\u001b[39m_make_estimator(append\u001b[38;5;241m=\u001b[39m\u001b[38;5;28;01mFalse\u001b[39;00m, random_state\u001b[38;5;241m=\u001b[39mrandom_state)\n\u001b[0;32m    480\u001b[0m     \u001b[38;5;28;01mfor\u001b[39;00m i \u001b[38;5;129;01min\u001b[39;00m \u001b[38;5;28mrange\u001b[39m(n_more_estimators)\n\u001b[0;32m    481\u001b[0m ]\n\u001b[0;32m    483\u001b[0m \u001b[38;5;66;03m# Parallel loop: we prefer the threading backend as the Cython code\u001b[39;00m\n\u001b[0;32m    484\u001b[0m \u001b[38;5;66;03m# for fitting the trees is internally releasing the Python GIL\u001b[39;00m\n\u001b[0;32m    485\u001b[0m \u001b[38;5;66;03m# making threading more efficient than multiprocessing in\u001b[39;00m\n\u001b[0;32m    486\u001b[0m \u001b[38;5;66;03m# that case. However, for joblib 0.12+ we respect any\u001b[39;00m\n\u001b[0;32m    487\u001b[0m \u001b[38;5;66;03m# parallel_backend contexts set at a higher level,\u001b[39;00m\n\u001b[0;32m    488\u001b[0m \u001b[38;5;66;03m# since correctness does not rely on using threads.\u001b[39;00m\n\u001b[1;32m--> 489\u001b[0m trees \u001b[38;5;241m=\u001b[39m Parallel(\n\u001b[0;32m    490\u001b[0m     n_jobs\u001b[38;5;241m=\u001b[39m\u001b[38;5;28mself\u001b[39m\u001b[38;5;241m.\u001b[39mn_jobs,\n\u001b[0;32m    491\u001b[0m     verbose\u001b[38;5;241m=\u001b[39m\u001b[38;5;28mself\u001b[39m\u001b[38;5;241m.\u001b[39mverbose,\n\u001b[0;32m    492\u001b[0m     prefer\u001b[38;5;241m=\u001b[39m\u001b[38;5;124m\"\u001b[39m\u001b[38;5;124mthreads\u001b[39m\u001b[38;5;124m\"\u001b[39m,\n\u001b[0;32m    493\u001b[0m )(\n\u001b[0;32m    494\u001b[0m     delayed(_parallel_build_trees)(\n\u001b[0;32m    495\u001b[0m         t,\n\u001b[0;32m    496\u001b[0m         \u001b[38;5;28mself\u001b[39m\u001b[38;5;241m.\u001b[39mbootstrap,\n\u001b[0;32m    497\u001b[0m         X,\n\u001b[0;32m    498\u001b[0m         y,\n\u001b[0;32m    499\u001b[0m         sample_weight,\n\u001b[0;32m    500\u001b[0m         i,\n\u001b[0;32m    501\u001b[0m         \u001b[38;5;28mlen\u001b[39m(trees),\n\u001b[0;32m    502\u001b[0m         verbose\u001b[38;5;241m=\u001b[39m\u001b[38;5;28mself\u001b[39m\u001b[38;5;241m.\u001b[39mverbose,\n\u001b[0;32m    503\u001b[0m         class_weight\u001b[38;5;241m=\u001b[39m\u001b[38;5;28mself\u001b[39m\u001b[38;5;241m.\u001b[39mclass_weight,\n\u001b[0;32m    504\u001b[0m         n_samples_bootstrap\u001b[38;5;241m=\u001b[39mn_samples_bootstrap,\n\u001b[0;32m    505\u001b[0m         missing_values_in_feature_mask\u001b[38;5;241m=\u001b[39mmissing_values_in_feature_mask,\n\u001b[0;32m    506\u001b[0m     )\n\u001b[0;32m    507\u001b[0m     \u001b[38;5;28;01mfor\u001b[39;00m i, t \u001b[38;5;129;01min\u001b[39;00m \u001b[38;5;28menumerate\u001b[39m(trees)\n\u001b[0;32m    508\u001b[0m )\n\u001b[0;32m    510\u001b[0m \u001b[38;5;66;03m# Collect newly grown trees\u001b[39;00m\n\u001b[0;32m    511\u001b[0m \u001b[38;5;28mself\u001b[39m\u001b[38;5;241m.\u001b[39mestimators_\u001b[38;5;241m.\u001b[39mextend(trees)\n",
      "File \u001b[1;32mc:\\Users\\asus\\anaconda3\\Lib\\site-packages\\sklearn\\utils\\parallel.py:74\u001b[0m, in \u001b[0;36mParallel.__call__\u001b[1;34m(self, iterable)\u001b[0m\n\u001b[0;32m     69\u001b[0m config \u001b[38;5;241m=\u001b[39m get_config()\n\u001b[0;32m     70\u001b[0m iterable_with_config \u001b[38;5;241m=\u001b[39m (\n\u001b[0;32m     71\u001b[0m     (_with_config(delayed_func, config), args, kwargs)\n\u001b[0;32m     72\u001b[0m     \u001b[38;5;28;01mfor\u001b[39;00m delayed_func, args, kwargs \u001b[38;5;129;01min\u001b[39;00m iterable\n\u001b[0;32m     73\u001b[0m )\n\u001b[1;32m---> 74\u001b[0m \u001b[38;5;28;01mreturn\u001b[39;00m \u001b[38;5;28msuper\u001b[39m()\u001b[38;5;241m.\u001b[39m\u001b[38;5;21m__call__\u001b[39m(iterable_with_config)\n",
      "File \u001b[1;32mc:\\Users\\asus\\anaconda3\\Lib\\site-packages\\joblib\\parallel.py:1918\u001b[0m, in \u001b[0;36mParallel.__call__\u001b[1;34m(self, iterable)\u001b[0m\n\u001b[0;32m   1916\u001b[0m     output \u001b[38;5;241m=\u001b[39m \u001b[38;5;28mself\u001b[39m\u001b[38;5;241m.\u001b[39m_get_sequential_output(iterable)\n\u001b[0;32m   1917\u001b[0m     \u001b[38;5;28mnext\u001b[39m(output)\n\u001b[1;32m-> 1918\u001b[0m     \u001b[38;5;28;01mreturn\u001b[39;00m output \u001b[38;5;28;01mif\u001b[39;00m \u001b[38;5;28mself\u001b[39m\u001b[38;5;241m.\u001b[39mreturn_generator \u001b[38;5;28;01melse\u001b[39;00m \u001b[38;5;28mlist\u001b[39m(output)\n\u001b[0;32m   1920\u001b[0m \u001b[38;5;66;03m# Let's create an ID that uniquely identifies the current call. If the\u001b[39;00m\n\u001b[0;32m   1921\u001b[0m \u001b[38;5;66;03m# call is interrupted early and that the same instance is immediately\u001b[39;00m\n\u001b[0;32m   1922\u001b[0m \u001b[38;5;66;03m# re-used, this id will be used to prevent workers that were\u001b[39;00m\n\u001b[0;32m   1923\u001b[0m \u001b[38;5;66;03m# concurrently finalizing a task from the previous call to run the\u001b[39;00m\n\u001b[0;32m   1924\u001b[0m \u001b[38;5;66;03m# callback.\u001b[39;00m\n\u001b[0;32m   1925\u001b[0m \u001b[38;5;28;01mwith\u001b[39;00m \u001b[38;5;28mself\u001b[39m\u001b[38;5;241m.\u001b[39m_lock:\n",
      "File \u001b[1;32mc:\\Users\\asus\\anaconda3\\Lib\\site-packages\\joblib\\parallel.py:1847\u001b[0m, in \u001b[0;36mParallel._get_sequential_output\u001b[1;34m(self, iterable)\u001b[0m\n\u001b[0;32m   1845\u001b[0m \u001b[38;5;28mself\u001b[39m\u001b[38;5;241m.\u001b[39mn_dispatched_batches \u001b[38;5;241m+\u001b[39m\u001b[38;5;241m=\u001b[39m \u001b[38;5;241m1\u001b[39m\n\u001b[0;32m   1846\u001b[0m \u001b[38;5;28mself\u001b[39m\u001b[38;5;241m.\u001b[39mn_dispatched_tasks \u001b[38;5;241m+\u001b[39m\u001b[38;5;241m=\u001b[39m \u001b[38;5;241m1\u001b[39m\n\u001b[1;32m-> 1847\u001b[0m res \u001b[38;5;241m=\u001b[39m func(\u001b[38;5;241m*\u001b[39margs, \u001b[38;5;241m*\u001b[39m\u001b[38;5;241m*\u001b[39mkwargs)\n\u001b[0;32m   1848\u001b[0m \u001b[38;5;28mself\u001b[39m\u001b[38;5;241m.\u001b[39mn_completed_tasks \u001b[38;5;241m+\u001b[39m\u001b[38;5;241m=\u001b[39m \u001b[38;5;241m1\u001b[39m\n\u001b[0;32m   1849\u001b[0m \u001b[38;5;28mself\u001b[39m\u001b[38;5;241m.\u001b[39mprint_progress()\n",
      "File \u001b[1;32mc:\\Users\\asus\\anaconda3\\Lib\\site-packages\\sklearn\\utils\\parallel.py:136\u001b[0m, in \u001b[0;36m_FuncWrapper.__call__\u001b[1;34m(self, *args, **kwargs)\u001b[0m\n\u001b[0;32m    134\u001b[0m     config \u001b[38;5;241m=\u001b[39m {}\n\u001b[0;32m    135\u001b[0m \u001b[38;5;28;01mwith\u001b[39;00m config_context(\u001b[38;5;241m*\u001b[39m\u001b[38;5;241m*\u001b[39mconfig):\n\u001b[1;32m--> 136\u001b[0m     \u001b[38;5;28;01mreturn\u001b[39;00m \u001b[38;5;28mself\u001b[39m\u001b[38;5;241m.\u001b[39mfunction(\u001b[38;5;241m*\u001b[39margs, \u001b[38;5;241m*\u001b[39m\u001b[38;5;241m*\u001b[39mkwargs)\n",
      "File \u001b[1;32mc:\\Users\\asus\\anaconda3\\Lib\\site-packages\\sklearn\\ensemble\\_forest.py:192\u001b[0m, in \u001b[0;36m_parallel_build_trees\u001b[1;34m(tree, bootstrap, X, y, sample_weight, tree_idx, n_trees, verbose, class_weight, n_samples_bootstrap, missing_values_in_feature_mask)\u001b[0m\n\u001b[0;32m    189\u001b[0m     \u001b[38;5;28;01melif\u001b[39;00m class_weight \u001b[38;5;241m==\u001b[39m \u001b[38;5;124m\"\u001b[39m\u001b[38;5;124mbalanced_subsample\u001b[39m\u001b[38;5;124m\"\u001b[39m:\n\u001b[0;32m    190\u001b[0m         curr_sample_weight \u001b[38;5;241m*\u001b[39m\u001b[38;5;241m=\u001b[39m compute_sample_weight(\u001b[38;5;124m\"\u001b[39m\u001b[38;5;124mbalanced\u001b[39m\u001b[38;5;124m\"\u001b[39m, y, indices\u001b[38;5;241m=\u001b[39mindices)\n\u001b[1;32m--> 192\u001b[0m     tree\u001b[38;5;241m.\u001b[39m_fit(\n\u001b[0;32m    193\u001b[0m         X,\n\u001b[0;32m    194\u001b[0m         y,\n\u001b[0;32m    195\u001b[0m         sample_weight\u001b[38;5;241m=\u001b[39mcurr_sample_weight,\n\u001b[0;32m    196\u001b[0m         check_input\u001b[38;5;241m=\u001b[39m\u001b[38;5;28;01mFalse\u001b[39;00m,\n\u001b[0;32m    197\u001b[0m         missing_values_in_feature_mask\u001b[38;5;241m=\u001b[39mmissing_values_in_feature_mask,\n\u001b[0;32m    198\u001b[0m     )\n\u001b[0;32m    199\u001b[0m \u001b[38;5;28;01melse\u001b[39;00m:\n\u001b[0;32m    200\u001b[0m     tree\u001b[38;5;241m.\u001b[39m_fit(\n\u001b[0;32m    201\u001b[0m         X,\n\u001b[0;32m    202\u001b[0m         y,\n\u001b[1;32m   (...)\u001b[0m\n\u001b[0;32m    205\u001b[0m         missing_values_in_feature_mask\u001b[38;5;241m=\u001b[39mmissing_values_in_feature_mask,\n\u001b[0;32m    206\u001b[0m     )\n",
      "File \u001b[1;32mc:\\Users\\asus\\anaconda3\\Lib\\site-packages\\sklearn\\tree\\_classes.py:472\u001b[0m, in \u001b[0;36mBaseDecisionTree._fit\u001b[1;34m(self, X, y, sample_weight, check_input, missing_values_in_feature_mask)\u001b[0m\n\u001b[0;32m    461\u001b[0m \u001b[38;5;28;01melse\u001b[39;00m:\n\u001b[0;32m    462\u001b[0m     builder \u001b[38;5;241m=\u001b[39m BestFirstTreeBuilder(\n\u001b[0;32m    463\u001b[0m         splitter,\n\u001b[0;32m    464\u001b[0m         min_samples_split,\n\u001b[1;32m   (...)\u001b[0m\n\u001b[0;32m    469\u001b[0m         \u001b[38;5;28mself\u001b[39m\u001b[38;5;241m.\u001b[39mmin_impurity_decrease,\n\u001b[0;32m    470\u001b[0m     )\n\u001b[1;32m--> 472\u001b[0m builder\u001b[38;5;241m.\u001b[39mbuild(\u001b[38;5;28mself\u001b[39m\u001b[38;5;241m.\u001b[39mtree_, X, y, sample_weight, missing_values_in_feature_mask)\n\u001b[0;32m    474\u001b[0m \u001b[38;5;28;01mif\u001b[39;00m \u001b[38;5;28mself\u001b[39m\u001b[38;5;241m.\u001b[39mn_outputs_ \u001b[38;5;241m==\u001b[39m \u001b[38;5;241m1\u001b[39m \u001b[38;5;129;01mand\u001b[39;00m is_classifier(\u001b[38;5;28mself\u001b[39m):\n\u001b[0;32m    475\u001b[0m     \u001b[38;5;28mself\u001b[39m\u001b[38;5;241m.\u001b[39mn_classes_ \u001b[38;5;241m=\u001b[39m \u001b[38;5;28mself\u001b[39m\u001b[38;5;241m.\u001b[39mn_classes_[\u001b[38;5;241m0\u001b[39m]\n",
      "\u001b[1;31mKeyboardInterrupt\u001b[0m: "
     ]
    }
   ],
   "source": [
    "Rand_Fore = RandomForestClassifier(n_estimators=100, random_state=42,class_weight='balanced')\n",
    "Rand_Fore.fit(train_oversampled, train_oversampled_labels)\n",
    "y_pred = Rand_Fore.predict(train_oversampled_test)\n",
    "print(\"Accuracy:\", accuracy_score(train_oversampled_labels_test, y_pred))\n"
   ]
  },
  {
   "cell_type": "markdown",
   "metadata": {},
   "source": [
    "Accuracy: 0.7162070304913576 :Cela signifie que 72 % des prédictions globales étaient correctes."
   ]
  },
  {
   "cell_type": "code",
   "execution_count": null,
   "metadata": {},
   "outputs": [
    {
     "name": "stdout",
     "output_type": "stream",
     "text": [
      "Rapport de Classification :\n",
      "               precision    recall  f1-score   support\n",
      "\n",
      "         0.0       0.65      0.93      0.77     10298\n",
      "         1.0       0.88      0.50      0.64     10298\n",
      "\n",
      "    accuracy                           0.72     20596\n",
      "   macro avg       0.77      0.72      0.70     20596\n",
      "weighted avg       0.77      0.72      0.70     20596\n",
      "\n"
     ]
    },
    {
     "data": {
      "text/plain": [
       "Text(50.722222222222214, 0.5, 'valeurs réelles')"
      ]
     },
     "execution_count": 338,
     "metadata": {},
     "output_type": "execute_result"
    },
    {
     "data": {
      "image/png": "[encoded data removed]",
      "text/plain": [
       "<Figure size 640x480 with 2 Axes>"
      ]
     },
     "metadata": {},
     "output_type": "display_data"
    }
   ],
   "source": [
    "#Les métriques :Précision  Rappel  F1-Score \n",
    " \n",
    "print(\"Rapport de Classification :\\n\", classification_report(train_oversampled_labels_test, y_pred))\n",
    "\n",
    "#matrice de confusion \n",
    "sns.heatmap(confusion_matrix(train_oversampled_labels_test, y_pred), annot=True, fmt='d', cmap='YlGnBu')\n",
    "\n",
    "plt.xlabel('valeurs prédites')\n",
    "plt.ylabel('valeurs réelles')\n"
   ]
  },
  {
   "cell_type": "markdown",
   "metadata": {},
   "source": [
    "## Analyse de résultats :\n",
    "\n",
    "### Classe 0 (Pas de retard) :\n",
    "à partir de ces résultats on voit bien une **precision** de 65% cela veut dire que parmi toutes les prédictions faites par ton modèle pour la classe 0, 65 % étaient correctes.En suite on a un **recall** de 93%  c'est-à-dire 93 % des instances réelles de la classe 0 ont  correctement identifiées ce qui montre que notre modèle détecte bien les instances de la classe 0, avec peu de faux négatifs.\n",
    "Pour le **F1-Score** , une valeur de 77% indique une performance équilibrée pour cette classe, grâce à un rappel élevé. Et finalement le **support** est égal à 10,298 qui est exactement la moitié des données.\n",
    "\n",
    "---\n",
    "### Classe 1(Retard):\n",
    "De meme on a une **precision** de 88% donc parmi toutes les prédictions pour la classe 1, 88 % étaient correctes.Cela signifie que seulement 12 % sont des faux positifs.En outre , on a un **recall**  de 50% donc, seulement 50 % des instances réellement de la classe 1 ont été correctement identifiées c'est-à-dire que le modèle a du mal à capturer toutes les instances de cette classe.\n",
    "Pour le **F1-Score** , un F1-score modéré(64%) reflète la tension entre la précision élevée et le rappel faible .Enfin un **support** de 10,298 donc La classe 1 représente également la moitié des données.\n"
   ]
  },
  {
   "cell_type": "code",
   "execution_count": 307,
   "metadata": {},
   "outputs": [
    {
     "name": "stdout",
     "output_type": "stream",
     "text": [
      "                                     Feature  Importance\n",
      "1                    Delay Carrier (Minutes)    0.181634\n",
      "5      Delay Late Aircraft Arrival (Minutes)    0.085434\n",
      "0                    Taxi-Out time (Minutes)    0.080832\n",
      "15                    surface_pressure (hPa)    0.067057\n",
      "10                       temperature_2m (°C)    0.066970\n",
      "19                     wind_speed_10m (km/h)    0.065733\n",
      "20                    wind_direction_10m (°)    0.064928\n",
      "9                        Destination_encoded    0.060406\n",
      "18             vapour_pressure_deficit (kPa)    0.059232\n",
      "11                  relative_humidity_2m (%)    0.054167\n",
      "3   Delay National Aviation System (Minutes)    0.038264\n",
      "16                           cloud_cover (%)    0.033860\n",
      "6                     Weekday_Flight_encoded    0.029787\n",
      "17                       cloud_cover_low (%)    0.028235\n",
      "14                   weather_code (wmo code)    0.016891\n",
      "7                             Season_encoded    0.016171\n",
      "8                         Period_Day_encoded    0.015544\n",
      "2                    Delay Weather (Minutes)    0.013510\n",
      "12                        precipitation (mm)    0.010288\n",
      "13                            snow_depth (m)    0.008853\n",
      "4                   Delay Security (Minutes)    0.002205\n"
     ]
    }
   ],
   "source": [
    "feature_importances = Rand_Fore.feature_importances_\n",
    "features = df.drop(columns=['Retard']).columns\n",
    "importance_df = pd.DataFrame({'Feature': features, 'Importance': feature_importances})\n",
    "importance_df.sort_values(by='Importance', ascending=False, inplace=True)\n",
    "print(importance_df)\n"
   ]
  },
  {
   "cell_type": "markdown",
   "metadata": {},
   "source": [
    "#### Analyse de résultats :\n",
    "\n",
    "L'analyse de l'importance des caractéristiques est un aspect essentiel dans l'évaluation des modèles de machine learning, notamment pour les modèles d'arbres de décision comme la forêt aléatoire. En extrayant les importances des caractéristiques, on peut identifier quelles variables jouent un rôle crucial dans les prédictions du modèle. Le processus consiste à mesurer la contribution de chaque caractéristique à la réduction de l'impureté lors de la construction des arbres. Par la suite, ces valeurs d'importance peuvent être triées pour déterminer quelles variables doivent être privilégiées dans des analyses futures ou dans des processus de sélection de caractéristiques. "
   ]
  },
  {
   "cell_type": "code",
   "execution_count": 308,
   "metadata": {},
   "outputs": [
    {
     "name": "stdout",
     "output_type": "stream",
     "text": [
      "Fitting 3 folds for each of 54 candidates, totalling 162 fits\n",
      "[CV] END max_depth=10, min_samples_leaf=1, min_samples_split=2, n_estimators=100; total time=   4.3s\n",
      "[CV] END max_depth=10, min_samples_leaf=1, min_samples_split=2, n_estimators=100; total time=   4.3s\n",
      "[CV] END max_depth=10, min_samples_leaf=1, min_samples_split=2, n_estimators=100; total time=   4.5s\n",
      "[CV] END max_depth=10, min_samples_leaf=1, min_samples_split=2, n_estimators=200; total time=   8.7s\n",
      "[CV] END max_depth=10, min_samples_leaf=1, min_samples_split=2, n_estimators=200; total time=   8.5s\n",
      "[CV] END max_depth=10, min_samples_leaf=1, min_samples_split=2, n_estimators=200; total time=   8.3s\n",
      "[CV] END max_depth=10, min_samples_leaf=1, min_samples_split=5, n_estimators=100; total time=   4.2s\n",
      "[CV] END max_depth=10, min_samples_leaf=1, min_samples_split=5, n_estimators=100; total time=   4.2s\n",
      "[CV] END max_depth=10, min_samples_leaf=1, min_samples_split=5, n_estimators=100; total time=   1.8s\n"
     ]
    },
    {
     "ename": "KeyboardInterrupt",
     "evalue": "",
     "output_type": "error",
     "traceback": [
      "\u001b[1;31m---------------------------------------------------------------------------\u001b[0m",
      "\u001b[1;31mKeyboardInterrupt\u001b[0m                         Traceback (most recent call last)",
      "Cell \u001b[1;32mIn[308], line 9\u001b[0m\n\u001b[0;32m      1\u001b[0m param_grid \u001b[38;5;241m=\u001b[39m {\n\u001b[0;32m      2\u001b[0m     \u001b[38;5;124m'\u001b[39m\u001b[38;5;124mn_estimators\u001b[39m\u001b[38;5;124m'\u001b[39m: [\u001b[38;5;241m100\u001b[39m, \u001b[38;5;241m200\u001b[39m],\n\u001b[0;32m      3\u001b[0m     \u001b[38;5;124m'\u001b[39m\u001b[38;5;124mmax_depth\u001b[39m\u001b[38;5;124m'\u001b[39m: [\u001b[38;5;241m10\u001b[39m, \u001b[38;5;241m20\u001b[39m, \u001b[38;5;28;01mNone\u001b[39;00m],\n\u001b[0;32m      4\u001b[0m     \u001b[38;5;124m'\u001b[39m\u001b[38;5;124mmin_samples_split\u001b[39m\u001b[38;5;124m'\u001b[39m: [\u001b[38;5;241m2\u001b[39m, \u001b[38;5;241m5\u001b[39m, \u001b[38;5;241m10\u001b[39m],\n\u001b[0;32m      5\u001b[0m     \u001b[38;5;124m'\u001b[39m\u001b[38;5;124mmin_samples_leaf\u001b[39m\u001b[38;5;124m'\u001b[39m: [\u001b[38;5;241m1\u001b[39m, \u001b[38;5;241m2\u001b[39m, \u001b[38;5;241m4\u001b[39m]\n\u001b[0;32m      6\u001b[0m }\n\u001b[0;32m      8\u001b[0m grid_search \u001b[38;5;241m=\u001b[39m GridSearchCV(estimator\u001b[38;5;241m=\u001b[39mrf, param_grid\u001b[38;5;241m=\u001b[39mparam_grid, cv\u001b[38;5;241m=\u001b[39m\u001b[38;5;241m3\u001b[39m, scoring\u001b[38;5;241m=\u001b[39m\u001b[38;5;124m'\u001b[39m\u001b[38;5;124maccuracy\u001b[39m\u001b[38;5;124m'\u001b[39m, verbose\u001b[38;5;241m=\u001b[39m\u001b[38;5;241m2\u001b[39m)\n\u001b[1;32m----> 9\u001b[0m grid_search\u001b[38;5;241m.\u001b[39mfit(X_train, y_train)\n\u001b[0;32m     11\u001b[0m best_model \u001b[38;5;241m=\u001b[39m grid_search\u001b[38;5;241m.\u001b[39mbest_estimator_\n",
      "File \u001b[1;32mc:\\Users\\asus\\anaconda3\\Lib\\site-packages\\sklearn\\base.py:1473\u001b[0m, in \u001b[0;36m_fit_context.<locals>.decorator.<locals>.wrapper\u001b[1;34m(estimator, *args, **kwargs)\u001b[0m\n\u001b[0;32m   1466\u001b[0m     estimator\u001b[38;5;241m.\u001b[39m_validate_params()\n\u001b[0;32m   1468\u001b[0m \u001b[38;5;28;01mwith\u001b[39;00m config_context(\n\u001b[0;32m   1469\u001b[0m     skip_parameter_validation\u001b[38;5;241m=\u001b[39m(\n\u001b[0;32m   1470\u001b[0m         prefer_skip_nested_validation \u001b[38;5;129;01mor\u001b[39;00m global_skip_validation\n\u001b[0;32m   1471\u001b[0m     )\n\u001b[0;32m   1472\u001b[0m ):\n\u001b[1;32m-> 1473\u001b[0m     \u001b[38;5;28;01mreturn\u001b[39;00m fit_method(estimator, \u001b[38;5;241m*\u001b[39margs, \u001b[38;5;241m*\u001b[39m\u001b[38;5;241m*\u001b[39mkwargs)\n",
      "File \u001b[1;32mc:\\Users\\asus\\anaconda3\\Lib\\site-packages\\sklearn\\model_selection\\_search.py:1018\u001b[0m, in \u001b[0;36mBaseSearchCV.fit\u001b[1;34m(self, X, y, **params)\u001b[0m\n\u001b[0;32m   1012\u001b[0m     results \u001b[38;5;241m=\u001b[39m \u001b[38;5;28mself\u001b[39m\u001b[38;5;241m.\u001b[39m_format_results(\n\u001b[0;32m   1013\u001b[0m         all_candidate_params, n_splits, all_out, all_more_results\n\u001b[0;32m   1014\u001b[0m     )\n\u001b[0;32m   1016\u001b[0m     \u001b[38;5;28;01mreturn\u001b[39;00m results\n\u001b[1;32m-> 1018\u001b[0m \u001b[38;5;28mself\u001b[39m\u001b[38;5;241m.\u001b[39m_run_search(evaluate_candidates)\n\u001b[0;32m   1020\u001b[0m \u001b[38;5;66;03m# multimetric is determined here because in the case of a callable\u001b[39;00m\n\u001b[0;32m   1021\u001b[0m \u001b[38;5;66;03m# self.scoring the return type is only known after calling\u001b[39;00m\n\u001b[0;32m   1022\u001b[0m first_test_score \u001b[38;5;241m=\u001b[39m all_out[\u001b[38;5;241m0\u001b[39m][\u001b[38;5;124m\"\u001b[39m\u001b[38;5;124mtest_scores\u001b[39m\u001b[38;5;124m\"\u001b[39m]\n",
      "File \u001b[1;32mc:\\Users\\asus\\anaconda3\\Lib\\site-packages\\sklearn\\model_selection\\_search.py:1572\u001b[0m, in \u001b[0;36mGridSearchCV._run_search\u001b[1;34m(self, evaluate_candidates)\u001b[0m\n\u001b[0;32m   1570\u001b[0m \u001b[38;5;28;01mdef\u001b[39;00m \u001b[38;5;21m_run_search\u001b[39m(\u001b[38;5;28mself\u001b[39m, evaluate_candidates):\n\u001b[0;32m   1571\u001b[0m \u001b[38;5;250m    \u001b[39m\u001b[38;5;124;03m\"\"\"Search all candidates in param_grid\"\"\"\u001b[39;00m\n\u001b[1;32m-> 1572\u001b[0m     evaluate_candidates(ParameterGrid(\u001b[38;5;28mself\u001b[39m\u001b[38;5;241m.\u001b[39mparam_grid))\n",
      "File \u001b[1;32mc:\\Users\\asus\\anaconda3\\Lib\\site-packages\\sklearn\\model_selection\\_search.py:964\u001b[0m, in \u001b[0;36mBaseSearchCV.fit.<locals>.evaluate_candidates\u001b[1;34m(candidate_params, cv, more_results)\u001b[0m\n\u001b[0;32m    956\u001b[0m \u001b[38;5;28;01mif\u001b[39;00m \u001b[38;5;28mself\u001b[39m\u001b[38;5;241m.\u001b[39mverbose \u001b[38;5;241m>\u001b[39m \u001b[38;5;241m0\u001b[39m:\n\u001b[0;32m    957\u001b[0m     \u001b[38;5;28mprint\u001b[39m(\n\u001b[0;32m    958\u001b[0m         \u001b[38;5;124m\"\u001b[39m\u001b[38;5;124mFitting \u001b[39m\u001b[38;5;132;01m{0}\u001b[39;00m\u001b[38;5;124m folds for each of \u001b[39m\u001b[38;5;132;01m{1}\u001b[39;00m\u001b[38;5;124m candidates,\u001b[39m\u001b[38;5;124m\"\u001b[39m\n\u001b[0;32m    959\u001b[0m         \u001b[38;5;124m\"\u001b[39m\u001b[38;5;124m totalling \u001b[39m\u001b[38;5;132;01m{2}\u001b[39;00m\u001b[38;5;124m fits\u001b[39m\u001b[38;5;124m\"\u001b[39m\u001b[38;5;241m.\u001b[39mformat(\n\u001b[0;32m    960\u001b[0m             n_splits, n_candidates, n_candidates \u001b[38;5;241m*\u001b[39m n_splits\n\u001b[0;32m    961\u001b[0m         )\n\u001b[0;32m    962\u001b[0m     )\n\u001b[1;32m--> 964\u001b[0m out \u001b[38;5;241m=\u001b[39m parallel(\n\u001b[0;32m    965\u001b[0m     delayed(_fit_and_score)(\n\u001b[0;32m    966\u001b[0m         clone(base_estimator),\n\u001b[0;32m    967\u001b[0m         X,\n\u001b[0;32m    968\u001b[0m         y,\n\u001b[0;32m    969\u001b[0m         train\u001b[38;5;241m=\u001b[39mtrain,\n\u001b[0;32m    970\u001b[0m         test\u001b[38;5;241m=\u001b[39mtest,\n\u001b[0;32m    971\u001b[0m         parameters\u001b[38;5;241m=\u001b[39mparameters,\n\u001b[0;32m    972\u001b[0m         split_progress\u001b[38;5;241m=\u001b[39m(split_idx, n_splits),\n\u001b[0;32m    973\u001b[0m         candidate_progress\u001b[38;5;241m=\u001b[39m(cand_idx, n_candidates),\n\u001b[0;32m    974\u001b[0m         \u001b[38;5;241m*\u001b[39m\u001b[38;5;241m*\u001b[39mfit_and_score_kwargs,\n\u001b[0;32m    975\u001b[0m     )\n\u001b[0;32m    976\u001b[0m     \u001b[38;5;28;01mfor\u001b[39;00m (cand_idx, parameters), (split_idx, (train, test)) \u001b[38;5;129;01min\u001b[39;00m product(\n\u001b[0;32m    977\u001b[0m         \u001b[38;5;28menumerate\u001b[39m(candidate_params),\n\u001b[0;32m    978\u001b[0m         \u001b[38;5;28menumerate\u001b[39m(cv\u001b[38;5;241m.\u001b[39msplit(X, y, \u001b[38;5;241m*\u001b[39m\u001b[38;5;241m*\u001b[39mrouted_params\u001b[38;5;241m.\u001b[39msplitter\u001b[38;5;241m.\u001b[39msplit)),\n\u001b[0;32m    979\u001b[0m     )\n\u001b[0;32m    980\u001b[0m )\n\u001b[0;32m    982\u001b[0m \u001b[38;5;28;01mif\u001b[39;00m \u001b[38;5;28mlen\u001b[39m(out) \u001b[38;5;241m<\u001b[39m \u001b[38;5;241m1\u001b[39m:\n\u001b[0;32m    983\u001b[0m     \u001b[38;5;28;01mraise\u001b[39;00m \u001b[38;5;167;01mValueError\u001b[39;00m(\n\u001b[0;32m    984\u001b[0m         \u001b[38;5;124m\"\u001b[39m\u001b[38;5;124mNo fits were performed. \u001b[39m\u001b[38;5;124m\"\u001b[39m\n\u001b[0;32m    985\u001b[0m         \u001b[38;5;124m\"\u001b[39m\u001b[38;5;124mWas the CV iterator empty? \u001b[39m\u001b[38;5;124m\"\u001b[39m\n\u001b[0;32m    986\u001b[0m         \u001b[38;5;124m\"\u001b[39m\u001b[38;5;124mWere there no candidates?\u001b[39m\u001b[38;5;124m\"\u001b[39m\n\u001b[0;32m    987\u001b[0m     )\n",
      "File \u001b[1;32mc:\\Users\\asus\\anaconda3\\Lib\\site-packages\\sklearn\\utils\\parallel.py:74\u001b[0m, in \u001b[0;36mParallel.__call__\u001b[1;34m(self, iterable)\u001b[0m\n\u001b[0;32m     69\u001b[0m config \u001b[38;5;241m=\u001b[39m get_config()\n\u001b[0;32m     70\u001b[0m iterable_with_config \u001b[38;5;241m=\u001b[39m (\n\u001b[0;32m     71\u001b[0m     (_with_config(delayed_func, config), args, kwargs)\n\u001b[0;32m     72\u001b[0m     \u001b[38;5;28;01mfor\u001b[39;00m delayed_func, args, kwargs \u001b[38;5;129;01min\u001b[39;00m iterable\n\u001b[0;32m     73\u001b[0m )\n\u001b[1;32m---> 74\u001b[0m \u001b[38;5;28;01mreturn\u001b[39;00m \u001b[38;5;28msuper\u001b[39m()\u001b[38;5;241m.\u001b[39m\u001b[38;5;21m__call__\u001b[39m(iterable_with_config)\n",
      "File \u001b[1;32mc:\\Users\\asus\\anaconda3\\Lib\\site-packages\\joblib\\parallel.py:1918\u001b[0m, in \u001b[0;36mParallel.__call__\u001b[1;34m(self, iterable)\u001b[0m\n\u001b[0;32m   1916\u001b[0m     output \u001b[38;5;241m=\u001b[39m \u001b[38;5;28mself\u001b[39m\u001b[38;5;241m.\u001b[39m_get_sequential_output(iterable)\n\u001b[0;32m   1917\u001b[0m     \u001b[38;5;28mnext\u001b[39m(output)\n\u001b[1;32m-> 1918\u001b[0m     \u001b[38;5;28;01mreturn\u001b[39;00m output \u001b[38;5;28;01mif\u001b[39;00m \u001b[38;5;28mself\u001b[39m\u001b[38;5;241m.\u001b[39mreturn_generator \u001b[38;5;28;01melse\u001b[39;00m \u001b[38;5;28mlist\u001b[39m(output)\n\u001b[0;32m   1920\u001b[0m \u001b[38;5;66;03m# Let's create an ID that uniquely identifies the current call. If the\u001b[39;00m\n\u001b[0;32m   1921\u001b[0m \u001b[38;5;66;03m# call is interrupted early and that the same instance is immediately\u001b[39;00m\n\u001b[0;32m   1922\u001b[0m \u001b[38;5;66;03m# re-used, this id will be used to prevent workers that were\u001b[39;00m\n\u001b[0;32m   1923\u001b[0m \u001b[38;5;66;03m# concurrently finalizing a task from the previous call to run the\u001b[39;00m\n\u001b[0;32m   1924\u001b[0m \u001b[38;5;66;03m# callback.\u001b[39;00m\n\u001b[0;32m   1925\u001b[0m \u001b[38;5;28;01mwith\u001b[39;00m \u001b[38;5;28mself\u001b[39m\u001b[38;5;241m.\u001b[39m_lock:\n",
      "File \u001b[1;32mc:\\Users\\asus\\anaconda3\\Lib\\site-packages\\joblib\\parallel.py:1847\u001b[0m, in \u001b[0;36mParallel._get_sequential_output\u001b[1;34m(self, iterable)\u001b[0m\n\u001b[0;32m   1845\u001b[0m \u001b[38;5;28mself\u001b[39m\u001b[38;5;241m.\u001b[39mn_dispatched_batches \u001b[38;5;241m+\u001b[39m\u001b[38;5;241m=\u001b[39m \u001b[38;5;241m1\u001b[39m\n\u001b[0;32m   1846\u001b[0m \u001b[38;5;28mself\u001b[39m\u001b[38;5;241m.\u001b[39mn_dispatched_tasks \u001b[38;5;241m+\u001b[39m\u001b[38;5;241m=\u001b[39m \u001b[38;5;241m1\u001b[39m\n\u001b[1;32m-> 1847\u001b[0m res \u001b[38;5;241m=\u001b[39m func(\u001b[38;5;241m*\u001b[39margs, \u001b[38;5;241m*\u001b[39m\u001b[38;5;241m*\u001b[39mkwargs)\n\u001b[0;32m   1848\u001b[0m \u001b[38;5;28mself\u001b[39m\u001b[38;5;241m.\u001b[39mn_completed_tasks \u001b[38;5;241m+\u001b[39m\u001b[38;5;241m=\u001b[39m \u001b[38;5;241m1\u001b[39m\n\u001b[0;32m   1849\u001b[0m \u001b[38;5;28mself\u001b[39m\u001b[38;5;241m.\u001b[39mprint_progress()\n",
      "File \u001b[1;32mc:\\Users\\asus\\anaconda3\\Lib\\site-packages\\sklearn\\utils\\parallel.py:136\u001b[0m, in \u001b[0;36m_FuncWrapper.__call__\u001b[1;34m(self, *args, **kwargs)\u001b[0m\n\u001b[0;32m    134\u001b[0m     config \u001b[38;5;241m=\u001b[39m {}\n\u001b[0;32m    135\u001b[0m \u001b[38;5;28;01mwith\u001b[39;00m config_context(\u001b[38;5;241m*\u001b[39m\u001b[38;5;241m*\u001b[39mconfig):\n\u001b[1;32m--> 136\u001b[0m     \u001b[38;5;28;01mreturn\u001b[39;00m \u001b[38;5;28mself\u001b[39m\u001b[38;5;241m.\u001b[39mfunction(\u001b[38;5;241m*\u001b[39margs, \u001b[38;5;241m*\u001b[39m\u001b[38;5;241m*\u001b[39mkwargs)\n",
      "File \u001b[1;32mc:\\Users\\asus\\anaconda3\\Lib\\site-packages\\sklearn\\model_selection\\_validation.py:888\u001b[0m, in \u001b[0;36m_fit_and_score\u001b[1;34m(estimator, X, y, scorer, train, test, verbose, parameters, fit_params, score_params, return_train_score, return_parameters, return_n_test_samples, return_times, return_estimator, split_progress, candidate_progress, error_score)\u001b[0m\n\u001b[0;32m    886\u001b[0m         estimator\u001b[38;5;241m.\u001b[39mfit(X_train, \u001b[38;5;241m*\u001b[39m\u001b[38;5;241m*\u001b[39mfit_params)\n\u001b[0;32m    887\u001b[0m     \u001b[38;5;28;01melse\u001b[39;00m:\n\u001b[1;32m--> 888\u001b[0m         estimator\u001b[38;5;241m.\u001b[39mfit(X_train, y_train, \u001b[38;5;241m*\u001b[39m\u001b[38;5;241m*\u001b[39mfit_params)\n\u001b[0;32m    890\u001b[0m \u001b[38;5;28;01mexcept\u001b[39;00m \u001b[38;5;167;01mException\u001b[39;00m:\n\u001b[0;32m    891\u001b[0m     \u001b[38;5;66;03m# Note fit time as time until error\u001b[39;00m\n\u001b[0;32m    892\u001b[0m     fit_time \u001b[38;5;241m=\u001b[39m time\u001b[38;5;241m.\u001b[39mtime() \u001b[38;5;241m-\u001b[39m start_time\n",
      "File \u001b[1;32mc:\\Users\\asus\\anaconda3\\Lib\\site-packages\\sklearn\\base.py:1473\u001b[0m, in \u001b[0;36m_fit_context.<locals>.decorator.<locals>.wrapper\u001b[1;34m(estimator, *args, **kwargs)\u001b[0m\n\u001b[0;32m   1466\u001b[0m     estimator\u001b[38;5;241m.\u001b[39m_validate_params()\n\u001b[0;32m   1468\u001b[0m \u001b[38;5;28;01mwith\u001b[39;00m config_context(\n\u001b[0;32m   1469\u001b[0m     skip_parameter_validation\u001b[38;5;241m=\u001b[39m(\n\u001b[0;32m   1470\u001b[0m         prefer_skip_nested_validation \u001b[38;5;129;01mor\u001b[39;00m global_skip_validation\n\u001b[0;32m   1471\u001b[0m     )\n\u001b[0;32m   1472\u001b[0m ):\n\u001b[1;32m-> 1473\u001b[0m     \u001b[38;5;28;01mreturn\u001b[39;00m fit_method(estimator, \u001b[38;5;241m*\u001b[39margs, \u001b[38;5;241m*\u001b[39m\u001b[38;5;241m*\u001b[39mkwargs)\n",
      "File \u001b[1;32mc:\\Users\\asus\\anaconda3\\Lib\\site-packages\\sklearn\\ensemble\\_forest.py:489\u001b[0m, in \u001b[0;36mBaseForest.fit\u001b[1;34m(self, X, y, sample_weight)\u001b[0m\n\u001b[0;32m    478\u001b[0m trees \u001b[38;5;241m=\u001b[39m [\n\u001b[0;32m    479\u001b[0m     \u001b[38;5;28mself\u001b[39m\u001b[38;5;241m.\u001b[39m_make_estimator(append\u001b[38;5;241m=\u001b[39m\u001b[38;5;28;01mFalse\u001b[39;00m, random_state\u001b[38;5;241m=\u001b[39mrandom_state)\n\u001b[0;32m    480\u001b[0m     \u001b[38;5;28;01mfor\u001b[39;00m i \u001b[38;5;129;01min\u001b[39;00m \u001b[38;5;28mrange\u001b[39m(n_more_estimators)\n\u001b[0;32m    481\u001b[0m ]\n\u001b[0;32m    483\u001b[0m \u001b[38;5;66;03m# Parallel loop: we prefer the threading backend as the Cython code\u001b[39;00m\n\u001b[0;32m    484\u001b[0m \u001b[38;5;66;03m# for fitting the trees is internally releasing the Python GIL\u001b[39;00m\n\u001b[0;32m    485\u001b[0m \u001b[38;5;66;03m# making threading more efficient than multiprocessing in\u001b[39;00m\n\u001b[0;32m    486\u001b[0m \u001b[38;5;66;03m# that case. However, for joblib 0.12+ we respect any\u001b[39;00m\n\u001b[0;32m    487\u001b[0m \u001b[38;5;66;03m# parallel_backend contexts set at a higher level,\u001b[39;00m\n\u001b[0;32m    488\u001b[0m \u001b[38;5;66;03m# since correctness does not rely on using threads.\u001b[39;00m\n\u001b[1;32m--> 489\u001b[0m trees \u001b[38;5;241m=\u001b[39m Parallel(\n\u001b[0;32m    490\u001b[0m     n_jobs\u001b[38;5;241m=\u001b[39m\u001b[38;5;28mself\u001b[39m\u001b[38;5;241m.\u001b[39mn_jobs,\n\u001b[0;32m    491\u001b[0m     verbose\u001b[38;5;241m=\u001b[39m\u001b[38;5;28mself\u001b[39m\u001b[38;5;241m.\u001b[39mverbose,\n\u001b[0;32m    492\u001b[0m     prefer\u001b[38;5;241m=\u001b[39m\u001b[38;5;124m\"\u001b[39m\u001b[38;5;124mthreads\u001b[39m\u001b[38;5;124m\"\u001b[39m,\n\u001b[0;32m    493\u001b[0m )(\n\u001b[0;32m    494\u001b[0m     delayed(_parallel_build_trees)(\n\u001b[0;32m    495\u001b[0m         t,\n\u001b[0;32m    496\u001b[0m         \u001b[38;5;28mself\u001b[39m\u001b[38;5;241m.\u001b[39mbootstrap,\n\u001b[0;32m    497\u001b[0m         X,\n\u001b[0;32m    498\u001b[0m         y,\n\u001b[0;32m    499\u001b[0m         sample_weight,\n\u001b[0;32m    500\u001b[0m         i,\n\u001b[0;32m    501\u001b[0m         \u001b[38;5;28mlen\u001b[39m(trees),\n\u001b[0;32m    502\u001b[0m         verbose\u001b[38;5;241m=\u001b[39m\u001b[38;5;28mself\u001b[39m\u001b[38;5;241m.\u001b[39mverbose,\n\u001b[0;32m    503\u001b[0m         class_weight\u001b[38;5;241m=\u001b[39m\u001b[38;5;28mself\u001b[39m\u001b[38;5;241m.\u001b[39mclass_weight,\n\u001b[0;32m    504\u001b[0m         n_samples_bootstrap\u001b[38;5;241m=\u001b[39mn_samples_bootstrap,\n\u001b[0;32m    505\u001b[0m         missing_values_in_feature_mask\u001b[38;5;241m=\u001b[39mmissing_values_in_feature_mask,\n\u001b[0;32m    506\u001b[0m     )\n\u001b[0;32m    507\u001b[0m     \u001b[38;5;28;01mfor\u001b[39;00m i, t \u001b[38;5;129;01min\u001b[39;00m \u001b[38;5;28menumerate\u001b[39m(trees)\n\u001b[0;32m    508\u001b[0m )\n\u001b[0;32m    510\u001b[0m \u001b[38;5;66;03m# Collect newly grown trees\u001b[39;00m\n\u001b[0;32m    511\u001b[0m \u001b[38;5;28mself\u001b[39m\u001b[38;5;241m.\u001b[39mestimators_\u001b[38;5;241m.\u001b[39mextend(trees)\n",
      "File \u001b[1;32mc:\\Users\\asus\\anaconda3\\Lib\\site-packages\\sklearn\\utils\\parallel.py:74\u001b[0m, in \u001b[0;36mParallel.__call__\u001b[1;34m(self, iterable)\u001b[0m\n\u001b[0;32m     69\u001b[0m config \u001b[38;5;241m=\u001b[39m get_config()\n\u001b[0;32m     70\u001b[0m iterable_with_config \u001b[38;5;241m=\u001b[39m (\n\u001b[0;32m     71\u001b[0m     (_with_config(delayed_func, config), args, kwargs)\n\u001b[0;32m     72\u001b[0m     \u001b[38;5;28;01mfor\u001b[39;00m delayed_func, args, kwargs \u001b[38;5;129;01min\u001b[39;00m iterable\n\u001b[0;32m     73\u001b[0m )\n\u001b[1;32m---> 74\u001b[0m \u001b[38;5;28;01mreturn\u001b[39;00m \u001b[38;5;28msuper\u001b[39m()\u001b[38;5;241m.\u001b[39m\u001b[38;5;21m__call__\u001b[39m(iterable_with_config)\n",
      "File \u001b[1;32mc:\\Users\\asus\\anaconda3\\Lib\\site-packages\\joblib\\parallel.py:1918\u001b[0m, in \u001b[0;36mParallel.__call__\u001b[1;34m(self, iterable)\u001b[0m\n\u001b[0;32m   1916\u001b[0m     output \u001b[38;5;241m=\u001b[39m \u001b[38;5;28mself\u001b[39m\u001b[38;5;241m.\u001b[39m_get_sequential_output(iterable)\n\u001b[0;32m   1917\u001b[0m     \u001b[38;5;28mnext\u001b[39m(output)\n\u001b[1;32m-> 1918\u001b[0m     \u001b[38;5;28;01mreturn\u001b[39;00m output \u001b[38;5;28;01mif\u001b[39;00m \u001b[38;5;28mself\u001b[39m\u001b[38;5;241m.\u001b[39mreturn_generator \u001b[38;5;28;01melse\u001b[39;00m \u001b[38;5;28mlist\u001b[39m(output)\n\u001b[0;32m   1920\u001b[0m \u001b[38;5;66;03m# Let's create an ID that uniquely identifies the current call. If the\u001b[39;00m\n\u001b[0;32m   1921\u001b[0m \u001b[38;5;66;03m# call is interrupted early and that the same instance is immediately\u001b[39;00m\n\u001b[0;32m   1922\u001b[0m \u001b[38;5;66;03m# re-used, this id will be used to prevent workers that were\u001b[39;00m\n\u001b[0;32m   1923\u001b[0m \u001b[38;5;66;03m# concurrently finalizing a task from the previous call to run the\u001b[39;00m\n\u001b[0;32m   1924\u001b[0m \u001b[38;5;66;03m# callback.\u001b[39;00m\n\u001b[0;32m   1925\u001b[0m \u001b[38;5;28;01mwith\u001b[39;00m \u001b[38;5;28mself\u001b[39m\u001b[38;5;241m.\u001b[39m_lock:\n",
      "File \u001b[1;32mc:\\Users\\asus\\anaconda3\\Lib\\site-packages\\joblib\\parallel.py:1847\u001b[0m, in \u001b[0;36mParallel._get_sequential_output\u001b[1;34m(self, iterable)\u001b[0m\n\u001b[0;32m   1845\u001b[0m \u001b[38;5;28mself\u001b[39m\u001b[38;5;241m.\u001b[39mn_dispatched_batches \u001b[38;5;241m+\u001b[39m\u001b[38;5;241m=\u001b[39m \u001b[38;5;241m1\u001b[39m\n\u001b[0;32m   1846\u001b[0m \u001b[38;5;28mself\u001b[39m\u001b[38;5;241m.\u001b[39mn_dispatched_tasks \u001b[38;5;241m+\u001b[39m\u001b[38;5;241m=\u001b[39m \u001b[38;5;241m1\u001b[39m\n\u001b[1;32m-> 1847\u001b[0m res \u001b[38;5;241m=\u001b[39m func(\u001b[38;5;241m*\u001b[39margs, \u001b[38;5;241m*\u001b[39m\u001b[38;5;241m*\u001b[39mkwargs)\n\u001b[0;32m   1848\u001b[0m \u001b[38;5;28mself\u001b[39m\u001b[38;5;241m.\u001b[39mn_completed_tasks \u001b[38;5;241m+\u001b[39m\u001b[38;5;241m=\u001b[39m \u001b[38;5;241m1\u001b[39m\n\u001b[0;32m   1849\u001b[0m \u001b[38;5;28mself\u001b[39m\u001b[38;5;241m.\u001b[39mprint_progress()\n",
      "File \u001b[1;32mc:\\Users\\asus\\anaconda3\\Lib\\site-packages\\sklearn\\utils\\parallel.py:136\u001b[0m, in \u001b[0;36m_FuncWrapper.__call__\u001b[1;34m(self, *args, **kwargs)\u001b[0m\n\u001b[0;32m    134\u001b[0m     config \u001b[38;5;241m=\u001b[39m {}\n\u001b[0;32m    135\u001b[0m \u001b[38;5;28;01mwith\u001b[39;00m config_context(\u001b[38;5;241m*\u001b[39m\u001b[38;5;241m*\u001b[39mconfig):\n\u001b[1;32m--> 136\u001b[0m     \u001b[38;5;28;01mreturn\u001b[39;00m \u001b[38;5;28mself\u001b[39m\u001b[38;5;241m.\u001b[39mfunction(\u001b[38;5;241m*\u001b[39margs, \u001b[38;5;241m*\u001b[39m\u001b[38;5;241m*\u001b[39mkwargs)\n",
      "File \u001b[1;32mc:\\Users\\asus\\anaconda3\\Lib\\site-packages\\sklearn\\ensemble\\_forest.py:192\u001b[0m, in \u001b[0;36m_parallel_build_trees\u001b[1;34m(tree, bootstrap, X, y, sample_weight, tree_idx, n_trees, verbose, class_weight, n_samples_bootstrap, missing_values_in_feature_mask)\u001b[0m\n\u001b[0;32m    189\u001b[0m     \u001b[38;5;28;01melif\u001b[39;00m class_weight \u001b[38;5;241m==\u001b[39m \u001b[38;5;124m\"\u001b[39m\u001b[38;5;124mbalanced_subsample\u001b[39m\u001b[38;5;124m\"\u001b[39m:\n\u001b[0;32m    190\u001b[0m         curr_sample_weight \u001b[38;5;241m*\u001b[39m\u001b[38;5;241m=\u001b[39m compute_sample_weight(\u001b[38;5;124m\"\u001b[39m\u001b[38;5;124mbalanced\u001b[39m\u001b[38;5;124m\"\u001b[39m, y, indices\u001b[38;5;241m=\u001b[39mindices)\n\u001b[1;32m--> 192\u001b[0m     tree\u001b[38;5;241m.\u001b[39m_fit(\n\u001b[0;32m    193\u001b[0m         X,\n\u001b[0;32m    194\u001b[0m         y,\n\u001b[0;32m    195\u001b[0m         sample_weight\u001b[38;5;241m=\u001b[39mcurr_sample_weight,\n\u001b[0;32m    196\u001b[0m         check_input\u001b[38;5;241m=\u001b[39m\u001b[38;5;28;01mFalse\u001b[39;00m,\n\u001b[0;32m    197\u001b[0m         missing_values_in_feature_mask\u001b[38;5;241m=\u001b[39mmissing_values_in_feature_mask,\n\u001b[0;32m    198\u001b[0m     )\n\u001b[0;32m    199\u001b[0m \u001b[38;5;28;01melse\u001b[39;00m:\n\u001b[0;32m    200\u001b[0m     tree\u001b[38;5;241m.\u001b[39m_fit(\n\u001b[0;32m    201\u001b[0m         X,\n\u001b[0;32m    202\u001b[0m         y,\n\u001b[1;32m   (...)\u001b[0m\n\u001b[0;32m    205\u001b[0m         missing_values_in_feature_mask\u001b[38;5;241m=\u001b[39mmissing_values_in_feature_mask,\n\u001b[0;32m    206\u001b[0m     )\n",
      "File \u001b[1;32mc:\\Users\\asus\\anaconda3\\Lib\\site-packages\\sklearn\\tree\\_classes.py:472\u001b[0m, in \u001b[0;36mBaseDecisionTree._fit\u001b[1;34m(self, X, y, sample_weight, check_input, missing_values_in_feature_mask)\u001b[0m\n\u001b[0;32m    461\u001b[0m \u001b[38;5;28;01melse\u001b[39;00m:\n\u001b[0;32m    462\u001b[0m     builder \u001b[38;5;241m=\u001b[39m BestFirstTreeBuilder(\n\u001b[0;32m    463\u001b[0m         splitter,\n\u001b[0;32m    464\u001b[0m         min_samples_split,\n\u001b[1;32m   (...)\u001b[0m\n\u001b[0;32m    469\u001b[0m         \u001b[38;5;28mself\u001b[39m\u001b[38;5;241m.\u001b[39mmin_impurity_decrease,\n\u001b[0;32m    470\u001b[0m     )\n\u001b[1;32m--> 472\u001b[0m builder\u001b[38;5;241m.\u001b[39mbuild(\u001b[38;5;28mself\u001b[39m\u001b[38;5;241m.\u001b[39mtree_, X, y, sample_weight, missing_values_in_feature_mask)\n\u001b[0;32m    474\u001b[0m \u001b[38;5;28;01mif\u001b[39;00m \u001b[38;5;28mself\u001b[39m\u001b[38;5;241m.\u001b[39mn_outputs_ \u001b[38;5;241m==\u001b[39m \u001b[38;5;241m1\u001b[39m \u001b[38;5;129;01mand\u001b[39;00m is_classifier(\u001b[38;5;28mself\u001b[39m):\n\u001b[0;32m    475\u001b[0m     \u001b[38;5;28mself\u001b[39m\u001b[38;5;241m.\u001b[39mn_classes_ \u001b[38;5;241m=\u001b[39m \u001b[38;5;28mself\u001b[39m\u001b[38;5;241m.\u001b[39mn_classes_[\u001b[38;5;241m0\u001b[39m]\n",
      "\u001b[1;31mKeyboardInterrupt\u001b[0m: "
     ]
    }
   ],
   "source": [
    "param_grid = {\n",
    "    'n_estimators': [100, 200],\n",
    "    'max_depth': [10, 20, None],\n",
    "    'min_samples_split': [2, 5, 10],\n",
    "    'min_samples_leaf': [1, 2, 4]\n",
    "}\n",
    "\n",
    "grid_search = GridSearchCV(estimator=rf, param_grid=param_grid, cv=3, scoring='accuracy', verbose=2)\n",
    "grid_search.fit(X_train, y_train)\n",
    "\n",
    "best_model = grid_search.best_estimator_\n"
   ]
  },
  {
   "cell_type": "code",
   "execution_count": null,
   "metadata": {},
   "outputs": [],
   "source": []
  }
 ],
 "metadata": {
  "kernelspec": {
   "display_name": "base",
   "language": "python",
   "name": "python3"
  },
  "language_info": {
   "codemirror_mode": {
    "name": "ipython",
    "version": 3
   },
   "file_extension": ".py",
   "mimetype": "text/x-python",
   "name": "python",
   "nbconvert_exporter": "python",
   "pygments_lexer": "ipython3",
   "version": "3.12.7"
  }
 },
 "nbformat": 4,
 "nbformat_minor": 2
}
