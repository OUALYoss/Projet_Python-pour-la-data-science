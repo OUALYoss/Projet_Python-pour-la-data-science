{
 "cells": [
  {
   "cell_type": "markdown",
   "metadata": {},
   "source": [
    "### **Prédiction des retards des vols au départ de l'aéroport de JFK en fonction des conditions météorologiques ✈️**\n"
   ]
  },
  {
   "cell_type": "markdown",
   "metadata": {},
   "source": [
    "<small> GHORAFI Manal • ED-DAZAZI Khawla • OUALY Ossama</small>"
   ]
  },
  {
   "cell_type": "markdown",
   "metadata": {},
   "source": [
    "<small>Ce projet est réalisé dans le cadre du cours de Python pour la datascience à l'ENSAE pour l'année 2024-2025</small>"
   ]
  },
  {
   "cell_type": "markdown",
   "metadata": {},
   "source": [
    "#### **Introduction**\n",
    "\n",
    "<small> Le transport aérien tient une place centrale dans notre société moderne, reliant des régions du monde entier de manière rapide et efficace. Cependant, cette efficacité est régulièrement compromise par un problème persistant : **les retards de vols**. Ces retards affectent non seulement les passagers, mais aussi les compagnies aériennes et l'économie en général, entraînant des pertes de temps, des surcoûts et une insatisfaction générale.\n",
    "\n",
    "Dans ce contexte, les aéroports sont confrontés à la nécessité de mieux comprendre et anticiper les causes des retards pour optimiser leurs opérations. Parmi les facteurs influençant les retards, **les conditions météorologiques** jouent un rôle crucial. Le brouillard, les vents violents, les précipitations ou les tempêtes peuvent perturber les horaires, réduire les capacités des pistes et accroître la congestion dans les aéroports. Par conséquent, intégrer l'impact des variables météorologiques dans les systèmes de gestion des vols est essentiel pour minimiser les perturbations et améliorer la planification. Ainsi, notre étude s’avère importante car elle propose de **prédire les probabilités de retard des vols au départ en tenant compte de l’impact des conditions météorologiques**.\n",
    "\n",
    "En s’appuyant sur un ensemble de données combinant des informations sur les vols et des variables météorologiques (comme la température, les précipitations et la visibilité), cette étude vise à développer un modèle prédictif précis. Ce modèle peut être utilisé pour mieux planifier les opérations aéroportuaires, réduire les retards et, par conséquent, améliorer l'expérience des usagers.\n",
    "\n",
    "Pour réaliser cette étude, nous nous concentrerons sur les vols de la compagnie aérienne **American Airlines** à départ de **l'aéroport international John F. Kennedy (JFK) à New York**, l'un des hubs les plus importants et les plus actifs au monde. Cet aéroport offre un contexte riche en données. Nous nous sommes intéressés aux vols de \n",
    "\n",
    "Pour identifier les facteurs influençant les retards des vols, nous avons mené une recherche préliminaire dans la littérature spécialisée, dont les références seront détaillées dans la partie **Sources** à la fin du rapport. Ces études mettent en évidence plusieurs types de variables pertinentes que nous avons essayé de regrouper en trois grandes catégories : \n",
    "\n",
    "**Variables liées aux vols**\n",
    "\n",
    "<span style=\"margin-left: 50px;\">**Heure de départ prévue :** Les retards peuvent être plus fréquents à certaines heures (par exemple, le soir).</span>\n",
    "\n",
    "<span style=\"margin-left: 50px;\">**Jour de la semaine :** Les week-ends ou jours de semaine peuvent influencer la ponctualité.</span>\n",
    "\n",
    "<span style=\"margin-left: 50px;\">**Saison ou mois de l’année :** Les conditions météorologiques ou les vacances peuvent affecter les vols.</span>\n",
    "\n",
    "\n",
    "**Variables liées à la météo**\n",
    "\n",
    "<span style=\"margin-left: 50px;\">**Conditions météorologiques défavorables :** Des phénomènes tels qu'une faible visibilité et des vents forts sont connus pour être des facteurs susceptibles de provoquer des retards au décollage et de retarder le départ du vol de son parking.</span>\n",
    "\n",
    "**Variables liées aux facteurs opérationnels**\n",
    "\n",
    "<span style=\"margin-left: 50px;\">**Problèmes techniques :** Des défaillances mécaniques ou des besoins de maintenance imprévus peuvent retarder le départ d'un vol.</span>\n",
    "\n",
    "<span style=\"margin-left: 50px;\">**Procédures de sécurité :** Des contrôles de sécurité renforcés ou des protocoles supplémentaires peuvent allonger le temps avant le décollage.</span>\n",
    "\n",
    "**Variables liées au logistique aéroportuaire**\n",
    "\n",
    "<span style=\"margin-left: 50px;\">**Services au sol :** Des délais dans le ravitaillement en carburant, le chargement des bagages ou le dégivrage de l'appareil peuvent également contribuer aux retards.</span>\n",
    "\n",
    "Afin de structurer cette étude, nous avons adopté une démarche en trois grandes étapes :\n",
    "\n",
    "<span style=\"margin-left: 50px;\">**Récupération et traitement des bases de données**</span>\n",
    "\n",
    "<span style=\"margin-left: 70px;\">**A. Base de Données vols**</span>\n",
    "\n",
    "<span style=\"margin-left: 70px;\">**B. Base de Données météo**</span>\n",
    "\n",
    "<span style=\"margin-left: 70px;\">**C. Fusion et construction de la base de données finale**</span>\n",
    "\n",
    "<span style=\"margin-left: 50px;\">**Analyse descriptive et représentation graphique**</span>\n",
    "\n",
    "<span style=\"margin-left: 50px;\">**Modélisation**</span>\n",
    "\n",
    "<span style=\"margin-left: 70px;\">**A. Régression Logistique**</span>\n",
    "\n",
    "<span style=\"margin-left: 70px;\">**B. Forêts Aléatoires**</span>\n",
    "\n",
    "<span style=\"margin-left: 70px;\">**C. Comparaison entre les deux modèles**</span>\n",
    "\n",
    " </small>\n",
    "\n"
   ]
  },
  {
   "cell_type": "markdown",
   "metadata": {},
   "source": [
    "#### **Récupération et Traitement des données**"
   ]
  },
  {
   "cell_type": "markdown",
   "metadata": {},
   "source": [
    "<span style=\"margin-left: 20px;\"><span style=\"color:darkmagenta;\">**A. Récupération et Traitement des données sur les vols**</span></span>"
   ]
  },
  {
   "cell_type": "markdown",
   "metadata": {},
   "source": [
    "\n",
    "<span style=\"margin-left: 30px;\"><span style=\"color:olive;\">**1. Récupération des données sur les vols**</span></span>\n",
    "\n",
    "<small>Dans le cadre de notre projet, nous avons tenté de rendre reproductible l'étape de récupération des données sur les vols à partir du site [Transtats BTS](https://www.transtats.bts.gov/ONTIME/Departures.aspx) à l’aide de Python, en utilisant la bibliothèque <span style=\"color:darkorange;\">**requests**</span>. Cela aurait permis d'automatiser le téléchargement des données pour éviter une intervention manuelle. Cependant, cette démarche a échoué pour plusieurs raisons techniques, que nous allons détailler ici, accompagnées des preuves issues de l’**inspection des requêtes <span style=\"color:darkorange;\">HTTP**</span> effectuées par le site.\n",
    "\n",
    "\n",
    "  Cela aurait permis d’éviter le téléchargement manuel et de rendre cette étape reproductible. Cependant, nous avons rencontré des difficultés techniques qui ont rendu cette automatisation impossible. Voici une explication détaillée, accompagnée de preuves issues de l’analyse des requêtes HTTP.\n",
    "\n",
    "\n",
    "Sur le site Transtats BTS, pour télécharger les données, nous avons choisi les informations spécifiques que nous souhaitons inclure dans le fichier (par exemple, heure de départ, heure d’arrivée, etc.). Il est possible de restreindre les données à un ou plusieurs aéroports spécifiques comme il est possible de restreindre les données à une ou plusieurs compagnies aériennes, ainsi nous avons choisi l'aéroport <span style=\"color:darkorange;\">**John F.Kennedy**</span>, pour la compagnie aérienne <span style=\"color:darkorange;\">**American Airlines**</span> pour les raisons déjà invoquées en introduction. Toujours sur le site, il faut indiquer la période souhaitée (les jours, les mois et les années). Le bouton <span style=\"color:darkorange;\">**Submit**</span> envoie une requette pour préparer la base de données. Enfin, nous avons cliqué sur le bouton <span style=\"color:darkorange;\">**« EXCEL»**</span>, ce qui génère **un fichier Excel** contenant les données demandées.  \n",
    "\n",
    "Ce processus implique plusieurs interactions qui ne sont pas facilement reproduites dans un script Python classique :\n",
    "\n",
    "<span style=\"margin-left: 50px;\">Lorsque nous effectuons des choix sur le site, ces actions déclenchent des requêtes en arrière-plan au serveur. Les paramètres nécessaires pour effectuer ces requêtes ne sont pas visibles directement dans le <span style=\"color:darkorange;\">**code HTML**</span> de la page, car ils sont générés dynamiquement par des **scripts JavaScript**. Avec Python <span style=\"color:darkorange;\">**requests**</span>, nous ne pouvons pas exécuter ce JavaScript, ce qui signifie que les paramètres nécessaires ne peuvent pas être reproduits automatiquement.</span>\n",
    "\n",
    "<span style=\"margin-left: 50px;\">En utilisant les outils de développement du navigateur <span style=\"color:darkorange;\">**(F12 > Réseau)**</span>, nous avons analysé le comportement du site lors du téléchargement des données :  \n",
    "\n",
    "1. **Requête de téléchargement (HTTP POST)**\n",
    "   La requête générée lorsque nous cliquons sur « Excel »(pour télécharger la base de données) ressemble à ceci :  \n",
    "   ```\n",
    "   POST https://www.transtats.bts.gov/ONTIME/Departures.aspx\n",
    "   ```\n",
    "2. **En-têtes HTTP dynamiques**\n",
    "   Les en-têtes envoyés contiennent des informations obligatoires pour valider la requête, notamment :  \n",
    "   - **Cookies de session** : Exemple  \n",
    "     ```\n",
    "     ASP.NET_SessionId=odhxuf2j141fh1ttlsefazhl\n",
    "     ```\n",
    "   - **Référent (`Referer`)** :  \n",
    "     ```\n",
    "     https://www.transtats.bts.gov/ONTIME/Departures.aspx\n",
    "     ```\n",
    "   - **Jetons de validation dynamiques (`VIEWSTATE`)** :  \n",
    "     Ces jetons, invisibles dans le code initial de la page, sont générés par JavaScript et transmis avec la **requête POST**.  \n",
    "\n",
    "3. **Dépendance à JavaScript**  \n",
    "   L’analyse du bouton de téléchargement montre qu’il utilise une fonction JavaScript spécifique :  \n",
    "   ```html\n",
    "   <a id=\"DL_Excel\" class=\"btsfont\" href=\"javascript:__doPostBack('DL_Excel','')\" style=\"font-size:10pt;\">Excel</a>\n",
    "   ```\n",
    "   Cette fonction génère les paramètres de la requête, mais elle ne peut être exécutée que dans un navigateur. Python, sans navigateur intégré, ne peut pas simuler cette action.\n",
    "\n",
    " Pour toutes ces raisons, <span style=\"color:darkorange;\">**Python requests**</span> échoue.\n",
    " \n",
    "Compte tenu de ces limitations, nous avons opté pour la méthode suivante :  \n",
    "1. **Téléchargement manuel** :  \n",
    "   - Nous accédons au site, effectuons les sélections nécessaires (variables, aéroports, compagnies, période) et téléchargeons le fichier Excel manuellement.  \n",
    "2. **Traitement Python des données** :  \n",
    "   - Une fois le fichier téléchargé, nous utilisons Python pour l’importer et l’analyser.  \n",
    "\n",
    "Bien que cette solution ne soit pas entièrement automatisée, elle garantit l’accès aux données sans contourner les protections du site.\n",
    "</small>"
   ]
  },
  {
   "cell_type": "markdown",
   "metadata": {},
   "source": [
    "<span style=\"margin-left: 30px;\"><span style=\"color:olive;\">**2. Traitement des données sur les vols**</span></span>"
   ]
  },
  {
   "cell_type": "markdown",
   "metadata": {},
   "source": [
    "<span style=\"color:darkcyan;\">**Téléchargement des bibliothèques**</span>"
   ]
  },
  {
   "cell_type": "code",
   "execution_count": 2,
   "metadata": {},
   "outputs": [
    {
     "name": "stdout",
     "output_type": "stream",
     "text": [
      "Requirement already satisfied: openpyxl in /opt/conda/lib/python3.12/site-packages (3.1.5)\n",
      "Requirement already satisfied: et-xmlfile in /opt/conda/lib/python3.12/site-packages (from openpyxl) (2.0.0)\n"
     ]
    }
   ],
   "source": [
    "import pandas as pd\n",
    "!pip install openpyxl"
   ]
  },
  {
   "cell_type": "markdown",
   "metadata": {},
   "source": [
    "<span style=\"color:darkcyan;\">**Importation de la base de données et création du data frame**</span>"
   ]
  },
  {
   "cell_type": "code",
   "execution_count": 30,
   "metadata": {},
   "outputs": [],
   "source": [
    "df1 = pd.read_excel('/home/onyxia/work/Projet_Python-pour-la-data-science/data/Detailed_Statistics_Departures.xlsx')"
   ]
  },
  {
   "cell_type": "code",
   "execution_count": 31,
   "metadata": {},
   "outputs": [
    {
     "data": {
      "text/html": [
       "<div>\n",
       "<style scoped>\n",
       "    .dataframe tbody tr th:only-of-type {\n",
       "        vertical-align: middle;\n",
       "    }\n",
       "\n",
       "    .dataframe tbody tr th {\n",
       "        vertical-align: top;\n",
       "    }\n",
       "\n",
       "    .dataframe thead th {\n",
       "        text-align: right;\n",
       "    }\n",
       "</style>\n",
       "<table border=\"1\" class=\"dataframe\">\n",
       "  <thead>\n",
       "    <tr style=\"text-align: right;\">\n",
       "      <th></th>\n",
       "      <th>Carrier Code</th>\n",
       "      <th>Date (MM/DD/YYYY)</th>\n",
       "      <th>Flight Number</th>\n",
       "      <th>Tail Number</th>\n",
       "      <th>Destination Airport</th>\n",
       "      <th>Scheduled departure time</th>\n",
       "      <th>Actual departure time</th>\n",
       "      <th>Scheduled elapsed time (Minutes)</th>\n",
       "      <th>Actual elapsed time (Minutes)</th>\n",
       "      <th>Departure delay (Minutes)</th>\n",
       "      <th>Wheels-off time</th>\n",
       "      <th>Taxi-Out time (Minutes)</th>\n",
       "      <th>Delay Carrier (Minutes)</th>\n",
       "      <th>Delay Weather (Minutes)</th>\n",
       "      <th>Delay National Aviation System (Minutes)</th>\n",
       "      <th>Delay Security (Minutes)</th>\n",
       "      <th>Delay Late Aircraft Arrival (Minutes)</th>\n",
       "    </tr>\n",
       "  </thead>\n",
       "  <tbody>\n",
       "    <tr>\n",
       "      <th>0</th>\n",
       "      <td>AA</td>\n",
       "      <td>2020-01-01 00:00:00</td>\n",
       "      <td>1.0</td>\n",
       "      <td>N110AN</td>\n",
       "      <td>LAX</td>\n",
       "      <td>07:30:00</td>\n",
       "      <td>07:30:00</td>\n",
       "      <td>393.0</td>\n",
       "      <td>404.0</td>\n",
       "      <td>0.0</td>\n",
       "      <td>07:57:00</td>\n",
       "      <td>27.0</td>\n",
       "      <td>0.0</td>\n",
       "      <td>0.0</td>\n",
       "      <td>0.0</td>\n",
       "      <td>0.0</td>\n",
       "      <td>0.0</td>\n",
       "    </tr>\n",
       "    <tr>\n",
       "      <th>1</th>\n",
       "      <td>AA</td>\n",
       "      <td>2020-01-01 00:00:00</td>\n",
       "      <td>3.0</td>\n",
       "      <td>N111ZM</td>\n",
       "      <td>LAX</td>\n",
       "      <td>12:30:00</td>\n",
       "      <td>12:24:00</td>\n",
       "      <td>389.0</td>\n",
       "      <td>370.0</td>\n",
       "      <td>-6.0</td>\n",
       "      <td>12:38:00</td>\n",
       "      <td>14.0</td>\n",
       "      <td>0.0</td>\n",
       "      <td>0.0</td>\n",
       "      <td>0.0</td>\n",
       "      <td>0.0</td>\n",
       "      <td>0.0</td>\n",
       "    </tr>\n",
       "    <tr>\n",
       "      <th>2</th>\n",
       "      <td>AA</td>\n",
       "      <td>2020-01-01 00:00:00</td>\n",
       "      <td>111.0</td>\n",
       "      <td>N663AW</td>\n",
       "      <td>CLT</td>\n",
       "      <td>12:00:00</td>\n",
       "      <td>13:11:00</td>\n",
       "      <td>127.0</td>\n",
       "      <td>119.0</td>\n",
       "      <td>71.0</td>\n",
       "      <td>13:34:00</td>\n",
       "      <td>23.0</td>\n",
       "      <td>19.0</td>\n",
       "      <td>0.0</td>\n",
       "      <td>0.0</td>\n",
       "      <td>0.0</td>\n",
       "      <td>44.0</td>\n",
       "    </tr>\n",
       "    <tr>\n",
       "      <th>3</th>\n",
       "      <td>AA</td>\n",
       "      <td>2020-01-01 00:00:00</td>\n",
       "      <td>117.0</td>\n",
       "      <td>N113AN</td>\n",
       "      <td>LAX</td>\n",
       "      <td>19:30:00</td>\n",
       "      <td>19:26:00</td>\n",
       "      <td>402.0</td>\n",
       "      <td>379.0</td>\n",
       "      <td>-4.0</td>\n",
       "      <td>19:51:00</td>\n",
       "      <td>25.0</td>\n",
       "      <td>0.0</td>\n",
       "      <td>0.0</td>\n",
       "      <td>0.0</td>\n",
       "      <td>0.0</td>\n",
       "      <td>0.0</td>\n",
       "    </tr>\n",
       "    <tr>\n",
       "      <th>4</th>\n",
       "      <td>AA</td>\n",
       "      <td>2020-01-01 00:00:00</td>\n",
       "      <td>179.0</td>\n",
       "      <td>N103NN</td>\n",
       "      <td>SFO</td>\n",
       "      <td>10:30:00</td>\n",
       "      <td>10:25:00</td>\n",
       "      <td>409.0</td>\n",
       "      <td>392.0</td>\n",
       "      <td>-5.0</td>\n",
       "      <td>10:42:00</td>\n",
       "      <td>17.0</td>\n",
       "      <td>0.0</td>\n",
       "      <td>0.0</td>\n",
       "      <td>0.0</td>\n",
       "      <td>0.0</td>\n",
       "      <td>0.0</td>\n",
       "    </tr>\n",
       "  </tbody>\n",
       "</table>\n",
       "</div>"
      ],
      "text/plain": [
       "  Carrier Code    Date (MM/DD/YYYY)  Flight Number Tail Number  \\\n",
       "0           AA  2020-01-01 00:00:00            1.0      N110AN   \n",
       "1           AA  2020-01-01 00:00:00            3.0      N111ZM   \n",
       "2           AA  2020-01-01 00:00:00          111.0      N663AW   \n",
       "3           AA  2020-01-01 00:00:00          117.0      N113AN   \n",
       "4           AA  2020-01-01 00:00:00          179.0      N103NN   \n",
       "\n",
       "  Destination Airport Scheduled departure time Actual departure time  \\\n",
       "0                 LAX                 07:30:00              07:30:00   \n",
       "1                 LAX                 12:30:00              12:24:00   \n",
       "2                 CLT                 12:00:00              13:11:00   \n",
       "3                 LAX                 19:30:00              19:26:00   \n",
       "4                 SFO                 10:30:00              10:25:00   \n",
       "\n",
       "   Scheduled elapsed time (Minutes)  Actual elapsed time (Minutes)  \\\n",
       "0                             393.0                          404.0   \n",
       "1                             389.0                          370.0   \n",
       "2                             127.0                          119.0   \n",
       "3                             402.0                          379.0   \n",
       "4                             409.0                          392.0   \n",
       "\n",
       "   Departure delay (Minutes) Wheels-off time  Taxi-Out time (Minutes)  \\\n",
       "0                        0.0        07:57:00                     27.0   \n",
       "1                       -6.0        12:38:00                     14.0   \n",
       "2                       71.0        13:34:00                     23.0   \n",
       "3                       -4.0        19:51:00                     25.0   \n",
       "4                       -5.0        10:42:00                     17.0   \n",
       "\n",
       "   Delay Carrier (Minutes)  Delay Weather (Minutes)  \\\n",
       "0                      0.0                      0.0   \n",
       "1                      0.0                      0.0   \n",
       "2                     19.0                      0.0   \n",
       "3                      0.0                      0.0   \n",
       "4                      0.0                      0.0   \n",
       "\n",
       "   Delay National Aviation System (Minutes)  Delay Security (Minutes)  \\\n",
       "0                                       0.0                       0.0   \n",
       "1                                       0.0                       0.0   \n",
       "2                                       0.0                       0.0   \n",
       "3                                       0.0                       0.0   \n",
       "4                                       0.0                       0.0   \n",
       "\n",
       "   Delay Late Aircraft Arrival (Minutes)  \n",
       "0                                    0.0  \n",
       "1                                    0.0  \n",
       "2                                   44.0  \n",
       "3                                    0.0  \n",
       "4                                    0.0  "
      ]
     },
     "execution_count": 31,
     "metadata": {},
     "output_type": "execute_result"
    }
   ],
   "source": [
    "# Afficher les 5 premières lignes pour vérifier\n",
    "df1.head(5)"
   ]
  },
  {
   "cell_type": "markdown",
   "metadata": {},
   "source": []
  },
  {
   "cell_type": "markdown",
   "metadata": {},
   "source": [
    "<span style=\"color:darkcyan;\">**Detection et traitement des valeurs manquantes**</span>"
   ]
  },
  {
   "cell_type": "code",
   "execution_count": 32,
   "metadata": {},
   "outputs": [
    {
     "data": {
      "text/plain": [
       "np.True_"
      ]
     },
     "execution_count": 32,
     "metadata": {},
     "output_type": "execute_result"
    }
   ],
   "source": [
    "# Vérifier si le DataFrame contient des valeurs manquantes\n",
    "df1.isnull().values.any()"
   ]
  },
  {
   "cell_type": "code",
   "execution_count": 33,
   "metadata": {},
   "outputs": [
    {
     "data": {
      "text/plain": [
       "Carrier Code                                  1\n",
       "Date (MM/DD/YYYY)                             2\n",
       "Flight Number                                 2\n",
       "Tail Number                                 228\n",
       "Destination Airport                           2\n",
       "Scheduled departure time                      2\n",
       "Actual departure time                         2\n",
       "Scheduled elapsed time (Minutes)              2\n",
       "Actual elapsed time (Minutes)                 2\n",
       "Departure delay (Minutes)                     2\n",
       "Wheels-off time                               2\n",
       "Taxi-Out time (Minutes)                       2\n",
       "Delay Carrier (Minutes)                       2\n",
       "Delay Weather (Minutes)                       2\n",
       "Delay National Aviation System (Minutes)      2\n",
       "Delay Security (Minutes)                      2\n",
       "Delay Late Aircraft Arrival (Minutes)         2\n",
       "dtype: int64"
      ]
     },
     "execution_count": 33,
     "metadata": {},
     "output_type": "execute_result"
    }
   ],
   "source": [
    "# Nombre de valeurs manquantes par colonne\n",
    "df1.isnull().sum()"
   ]
  },
  {
   "cell_type": "code",
   "execution_count": 34,
   "metadata": {},
   "outputs": [
    {
     "name": "stdout",
     "output_type": "stream",
     "text": [
      "                                      Carrier Code Date (MM/DD/YYYY)  \\\n",
      "57410                                          NaN               NaN   \n",
      "57411  SOURCE: Bureau of Transportation Statistics               NaN   \n",
      "\n",
      "       Flight Number Destination Airport Scheduled departure time  \\\n",
      "57410            NaN                 NaN                      NaN   \n",
      "57411            NaN                 NaN                      NaN   \n",
      "\n",
      "      Actual departure time  Scheduled elapsed time (Minutes)  \\\n",
      "57410                   NaN                               NaN   \n",
      "57411                   NaN                               NaN   \n",
      "\n",
      "       Actual elapsed time (Minutes)  Departure delay (Minutes)  \\\n",
      "57410                            NaN                        NaN   \n",
      "57411                            NaN                        NaN   \n",
      "\n",
      "      Wheels-off time  Taxi-Out time (Minutes)  Delay Carrier (Minutes)  \\\n",
      "57410             NaN                      NaN                      NaN   \n",
      "57411             NaN                      NaN                      NaN   \n",
      "\n",
      "       Delay Weather (Minutes)  Delay National Aviation System (Minutes)  \\\n",
      "57410                      NaN                                       NaN   \n",
      "57411                      NaN                                       NaN   \n",
      "\n",
      "       Delay Security (Minutes)  Delay Late Aircraft Arrival (Minutes)  \n",
      "57410                       NaN                                    NaN  \n",
      "57411                       NaN                                    NaN  \n"
     ]
    }
   ],
   "source": [
    "#Afficher les lignes où il y a des valeurs manquantes sauf pour la variable Tail Number\n",
    "df=df1.drop(columns=['Tail Number'])\n",
    "print(df[df.isnull().any(axis=1)])"
   ]
  },
  {
   "cell_type": "markdown",
   "metadata": {},
   "source": [
    "<span style=\"color:lightpink;\">**Commentaire de la sortie**</span>\n",
    "\n",
    "<small>Les deux dernières lignes de notre fichier excel correspondent à la source des données, causant la présence de deux variables manquantes sur chaque colonne de notre base de données. Ainsi,** on peut les supprimer**. </small>\n",
    "\n",
    "<small>La seule variable qui présente d'autres valeurs manquantes est <span style=\"color:orange;\">**Tail Number**</span>. Cependant il ne s'agit pas d'une variable explicative dans notre modèle, ainsi ces valeurs manquantes ne nécessite aucun traitement.</small>"
   ]
  },
  {
   "cell_type": "code",
   "execution_count": 35,
   "metadata": {},
   "outputs": [],
   "source": [
    "# Identifier les index des deux dernières lignes\n",
    "ind= df1.index[-2:]\n",
    "\n",
    "# Supprimer ces lignes\n",
    "df1 = df1.drop(ind)"
   ]
  },
  {
   "cell_type": "markdown",
   "metadata": {},
   "source": [
    "<span style=\"color:darkcyan;\">**Extraction de la date du jour du vol de la colonne Date (MM/DD/YYYY)**</span>\n",
    "\n",
    "<small>D'après la sortie du code précédent, nous pouvons clairement voir que la colonne **Date (MM/DD/YYYY)** ne contient pas uniquement la date du jour du vol mais aussi la chaîne de caractère **00:00:00** qui renvoie à **l'heure du début d'un jour**.</small>\n"
   ]
  },
  {
   "cell_type": "code",
   "execution_count": 36,
   "metadata": {},
   "outputs": [],
   "source": [
    "# Extraire uniquement la date de la colonne Date (MM/DD/YYYY) \n",
    "df1['Date (MM/DD/YYYY)'] = pd.to_datetime(df1['Date (MM/DD/YYYY)'], format='%m/%d/%Y').dt.date\n",
    "\n",
    "#Renommer la colonne Date (MM/DD/YYYY) en Date \n",
    "df1.rename(columns={'Date (MM/DD/YYYY)': 'Date'}, inplace=True)\n"
   ]
  },
  {
   "cell_type": "code",
   "execution_count": 37,
   "metadata": {},
   "outputs": [
    {
     "data": {
      "text/html": [
       "<div>\n",
       "<style scoped>\n",
       "    .dataframe tbody tr th:only-of-type {\n",
       "        vertical-align: middle;\n",
       "    }\n",
       "\n",
       "    .dataframe tbody tr th {\n",
       "        vertical-align: top;\n",
       "    }\n",
       "\n",
       "    .dataframe thead th {\n",
       "        text-align: right;\n",
       "    }\n",
       "</style>\n",
       "<table border=\"1\" class=\"dataframe\">\n",
       "  <thead>\n",
       "    <tr style=\"text-align: right;\">\n",
       "      <th></th>\n",
       "      <th>Carrier Code</th>\n",
       "      <th>Date</th>\n",
       "      <th>Flight Number</th>\n",
       "      <th>Tail Number</th>\n",
       "      <th>Destination Airport</th>\n",
       "      <th>Scheduled departure time</th>\n",
       "      <th>Actual departure time</th>\n",
       "      <th>Scheduled elapsed time (Minutes)</th>\n",
       "      <th>Actual elapsed time (Minutes)</th>\n",
       "      <th>Departure delay (Minutes)</th>\n",
       "      <th>Wheels-off time</th>\n",
       "      <th>Taxi-Out time (Minutes)</th>\n",
       "      <th>Delay Carrier (Minutes)</th>\n",
       "      <th>Delay Weather (Minutes)</th>\n",
       "      <th>Delay National Aviation System (Minutes)</th>\n",
       "      <th>Delay Security (Minutes)</th>\n",
       "      <th>Delay Late Aircraft Arrival (Minutes)</th>\n",
       "    </tr>\n",
       "  </thead>\n",
       "  <tbody>\n",
       "    <tr>\n",
       "      <th>0</th>\n",
       "      <td>AA</td>\n",
       "      <td>2020-01-01</td>\n",
       "      <td>1.0</td>\n",
       "      <td>N110AN</td>\n",
       "      <td>LAX</td>\n",
       "      <td>07:30:00</td>\n",
       "      <td>07:30:00</td>\n",
       "      <td>393.0</td>\n",
       "      <td>404.0</td>\n",
       "      <td>0.0</td>\n",
       "      <td>07:57:00</td>\n",
       "      <td>27.0</td>\n",
       "      <td>0.0</td>\n",
       "      <td>0.0</td>\n",
       "      <td>0.0</td>\n",
       "      <td>0.0</td>\n",
       "      <td>0.0</td>\n",
       "    </tr>\n",
       "    <tr>\n",
       "      <th>1</th>\n",
       "      <td>AA</td>\n",
       "      <td>2020-01-01</td>\n",
       "      <td>3.0</td>\n",
       "      <td>N111ZM</td>\n",
       "      <td>LAX</td>\n",
       "      <td>12:30:00</td>\n",
       "      <td>12:24:00</td>\n",
       "      <td>389.0</td>\n",
       "      <td>370.0</td>\n",
       "      <td>-6.0</td>\n",
       "      <td>12:38:00</td>\n",
       "      <td>14.0</td>\n",
       "      <td>0.0</td>\n",
       "      <td>0.0</td>\n",
       "      <td>0.0</td>\n",
       "      <td>0.0</td>\n",
       "      <td>0.0</td>\n",
       "    </tr>\n",
       "    <tr>\n",
       "      <th>2</th>\n",
       "      <td>AA</td>\n",
       "      <td>2020-01-01</td>\n",
       "      <td>111.0</td>\n",
       "      <td>N663AW</td>\n",
       "      <td>CLT</td>\n",
       "      <td>12:00:00</td>\n",
       "      <td>13:11:00</td>\n",
       "      <td>127.0</td>\n",
       "      <td>119.0</td>\n",
       "      <td>71.0</td>\n",
       "      <td>13:34:00</td>\n",
       "      <td>23.0</td>\n",
       "      <td>19.0</td>\n",
       "      <td>0.0</td>\n",
       "      <td>0.0</td>\n",
       "      <td>0.0</td>\n",
       "      <td>44.0</td>\n",
       "    </tr>\n",
       "    <tr>\n",
       "      <th>3</th>\n",
       "      <td>AA</td>\n",
       "      <td>2020-01-01</td>\n",
       "      <td>117.0</td>\n",
       "      <td>N113AN</td>\n",
       "      <td>LAX</td>\n",
       "      <td>19:30:00</td>\n",
       "      <td>19:26:00</td>\n",
       "      <td>402.0</td>\n",
       "      <td>379.0</td>\n",
       "      <td>-4.0</td>\n",
       "      <td>19:51:00</td>\n",
       "      <td>25.0</td>\n",
       "      <td>0.0</td>\n",
       "      <td>0.0</td>\n",
       "      <td>0.0</td>\n",
       "      <td>0.0</td>\n",
       "      <td>0.0</td>\n",
       "    </tr>\n",
       "    <tr>\n",
       "      <th>4</th>\n",
       "      <td>AA</td>\n",
       "      <td>2020-01-01</td>\n",
       "      <td>179.0</td>\n",
       "      <td>N103NN</td>\n",
       "      <td>SFO</td>\n",
       "      <td>10:30:00</td>\n",
       "      <td>10:25:00</td>\n",
       "      <td>409.0</td>\n",
       "      <td>392.0</td>\n",
       "      <td>-5.0</td>\n",
       "      <td>10:42:00</td>\n",
       "      <td>17.0</td>\n",
       "      <td>0.0</td>\n",
       "      <td>0.0</td>\n",
       "      <td>0.0</td>\n",
       "      <td>0.0</td>\n",
       "      <td>0.0</td>\n",
       "    </tr>\n",
       "  </tbody>\n",
       "</table>\n",
       "</div>"
      ],
      "text/plain": [
       "  Carrier Code        Date  Flight Number Tail Number Destination Airport  \\\n",
       "0           AA  2020-01-01            1.0      N110AN                 LAX   \n",
       "1           AA  2020-01-01            3.0      N111ZM                 LAX   \n",
       "2           AA  2020-01-01          111.0      N663AW                 CLT   \n",
       "3           AA  2020-01-01          117.0      N113AN                 LAX   \n",
       "4           AA  2020-01-01          179.0      N103NN                 SFO   \n",
       "\n",
       "  Scheduled departure time Actual departure time  \\\n",
       "0                 07:30:00              07:30:00   \n",
       "1                 12:30:00              12:24:00   \n",
       "2                 12:00:00              13:11:00   \n",
       "3                 19:30:00              19:26:00   \n",
       "4                 10:30:00              10:25:00   \n",
       "\n",
       "   Scheduled elapsed time (Minutes)  Actual elapsed time (Minutes)  \\\n",
       "0                             393.0                          404.0   \n",
       "1                             389.0                          370.0   \n",
       "2                             127.0                          119.0   \n",
       "3                             402.0                          379.0   \n",
       "4                             409.0                          392.0   \n",
       "\n",
       "   Departure delay (Minutes) Wheels-off time  Taxi-Out time (Minutes)  \\\n",
       "0                        0.0        07:57:00                     27.0   \n",
       "1                       -6.0        12:38:00                     14.0   \n",
       "2                       71.0        13:34:00                     23.0   \n",
       "3                       -4.0        19:51:00                     25.0   \n",
       "4                       -5.0        10:42:00                     17.0   \n",
       "\n",
       "   Delay Carrier (Minutes)  Delay Weather (Minutes)  \\\n",
       "0                      0.0                      0.0   \n",
       "1                      0.0                      0.0   \n",
       "2                     19.0                      0.0   \n",
       "3                      0.0                      0.0   \n",
       "4                      0.0                      0.0   \n",
       "\n",
       "   Delay National Aviation System (Minutes)  Delay Security (Minutes)  \\\n",
       "0                                       0.0                       0.0   \n",
       "1                                       0.0                       0.0   \n",
       "2                                       0.0                       0.0   \n",
       "3                                       0.0                       0.0   \n",
       "4                                       0.0                       0.0   \n",
       "\n",
       "   Delay Late Aircraft Arrival (Minutes)  \n",
       "0                                    0.0  \n",
       "1                                    0.0  \n",
       "2                                   44.0  \n",
       "3                                    0.0  \n",
       "4                                    0.0  "
      ]
     },
     "execution_count": 37,
     "metadata": {},
     "output_type": "execute_result"
    }
   ],
   "source": [
    "# Afficher le dataframe\n",
    "df1.head(5)"
   ]
  },
  {
   "cell_type": "markdown",
   "metadata": {},
   "source": [
    "<span style=\"color:darkcyan;\">**Création de la colonne Weekday_Flight**</span>\n",
    "\n",
    "<small>Nous aimerions aussi voir si **le retard d'un vol peut être lié au jour de la semaine où le vol aura lieu**. Pour cela, il est nécessaire de créer une colonne contenant le jour de la semaine **(Monday, Tuesday, Wednesday, Thursday, Friday, Saturday, Sunday)** correspondant à chaque vol de notre data frame.\n",
    "</small>\n"
   ]
  },
  {
   "cell_type": "code",
   "execution_count": null,
   "metadata": {},
   "outputs": [],
   "source": [
    "# Convertir la colonne 'Date' en format datetime \n",
    "df['Date'] = pd.to_datetime(df['Date'])\n",
    "\n",
    "# Créer la colonne Weekday_Flight avec les jours de la semaine correspondant aux dates des vols\n",
    "df['Weekday_Flight'] = df['Date'].dt.day_name()\n",
    "\n",
    "# Afficher Date et Weekday_Flight\n",
    "print(df[['Date','Weekday_Flight']])\n"
   ]
  },
  {
   "cell_type": "markdown",
   "metadata": {},
   "source": [
    "<span style=\"color:darkcyan;\">**Création de la colonne Season**</span>\n",
    "<small> La variable **\"saison\"** peut influencer les retards des vols en raison des **variations météorologiques** et des **volumes de trafic** spécifiques à chaque période de l'année. Par exemple, l’hiver apporte souvent des conditions difficiles comme la neige ou le brouillard, tandis que l’été, marqué par un trafic élevé, peut être perturbé par des orages ou des surcharges aéroportuaires. Ainsi, en tenant compte des saisons, il devient possible de mieux comprendre et anticiper les facteurs contribuant aux retards. </small>\n"
   ]
  },
  {
   "cell_type": "code",
   "execution_count": null,
   "metadata": {},
   "outputs": [],
   "source": [
    "# Définir une fonction qui détermine pour une date données la saison correspondante\n",
    "def get_season(date):\n",
    "    year = date.year\n",
    "    if date >= pd.Timestamp(year=year, month=3, day=21) and date < pd.Timestamp(year=year, month=6, day=21):\n",
    "        return 'Printemps'\n",
    "    elif date >= pd.Timestamp(year=year, month=6, day=21) and date < pd.Timestamp(year=year, month=9, day=23):\n",
    "        return 'Été'\n",
    "    elif date >= pd.Timestamp(year=year, month=9, day=23) and date < pd.Timestamp(year=year, month=12, day=21):\n",
    "        return 'Automne'\n",
    "    else:\n",
    "        return 'Hiver'\n",
    "\n",
    "\n",
    "# Convertir la colonne Date en datetime \n",
    "df['Date'] = pd.to_datetime(df['Date'])\n",
    "\n",
    "# Appliquer la fonction sur la colonne Date du dataframe\n",
    "df['Season'] = df['Date'].apply(get_season)\n",
    "\n",
    "# Afficher  des observations aléatoires du DataFrame\n",
    "print(df.Season[1000:1010])\n",
    "print(df.Season[2000:2010])\n"
   ]
  },
  {
   "cell_type": "markdown",
   "metadata": {},
   "source": [
    "\n",
    "<span style=\"color:darkcyan;\">**Création de la colonne Period_Day**</span>\n"
   ]
  },
  {
   "cell_type": "code",
   "execution_count": null,
   "metadata": {},
   "outputs": [],
   "source": [
    "# Définir une fonction pour attribuer la période de la journée\n",
    "def definir_periode(heure):\n",
    "    if heure >= pd.to_datetime('06:00', format='%H:%M').time() and heure < pd.to_datetime('12:00', format='%H:%M').time():\n",
    "        return 'Matin'\n",
    "    elif heure >= pd.to_datetime('12:00', format='%H:%M').time() and heure < pd.to_datetime('18:00', format='%H:%M').time():\n",
    "        return 'Après-midi'\n",
    "    else:\n",
    "        return 'Soir'\n",
    "\n",
    "# Convertir la colonne en type datetime\n",
    "df['Scheduled departure time'] = pd.to_datetime(df['Scheduled departure time'], format='%H:%M:%S')\n",
    "\n",
    "# Appliquer la fonction pour créer une nouvelle colonne\n",
    "df['Period_Day'] = df['Scheduled departure time'].dt.time.apply(definir_periode)\n",
    "\n",
    "# Reconvertir les colonnes \"Scheduled departure time\" et \"Actual departure time\" pour ne garder que l'heure \n",
    "df['Scheduled departure time'] = df['Scheduled departure time'].dt.time\n",
    "\n",
    "# Afficher les colonnes Period_Day et Scheduled departure time\n",
    "print(df[['Scheduled departure time','Period_Day']])\n"
   ]
  },
  {
   "cell_type": "markdown",
   "metadata": {},
   "source": [
    "<span style=\"color:darkcyan;\">**Création de notre variable cible Y=Delay**</span>\n",
    "<small> Le **retard d'un vol au départ** se définit comme **l'écart entre l'heure de départ ou d'arrivée prévue d'un vol, telle qu'indiquée dans le programme, et l'heure réelle à laquelle le vol décolle**.. Un vol est souvent considéré en retard si cet écart dépasse un seuil défini, par exemple 5 minutes.\n",
    "</small>\n"
   ]
  },
  {
   "cell_type": "code",
   "execution_count": null,
   "metadata": {},
   "outputs": [],
   "source": [
    "# Convertir les colonnes \"Scheduled departure time\" et \"Actual departure time\" en objets datetime\n",
    "df['Scheduled departure time'] = pd.to_datetime(df['Scheduled departure time'], format='%H:%M:%S')\n",
    "df['Actual departure time'] = pd.to_datetime(df['Actual departure time'], format='%H:%M:%S')\n",
    "\n",
    "# Création de la variable cible \"Retard en calculant la différence en minutes et appliquer la condition\n",
    "df['Retard'] = ((df['Actual departure time'] - df['Scheduled departure time']).dt.total_seconds() / 60 > 0).astype(int)\n",
    "\n",
    "# Afficher les colonnes \"Actual departure time\", \"Scheduled departure time\" et \"Retard\"\n",
    "print(df[['Actual departure time', 'Scheduled departure time', 'Retard']])\n",
    "\n",
    "\n",
    "# Reconvertir les colonnes \"Scheduled departure time\" et \"Actual departure time\" pour ne garder que l'heure \n",
    "df['Scheduled departure time'] = df['Scheduled departure time'].dt.time\n",
    "df['Actual departure time'] = df['Actual departure time'].dt.time\n",
    "\n",
    "# Afficher les colonnes \"Actual departure time\", \"Scheduled departure time\" et \"Retard\"\n",
    "print(df[['Actual departure time', 'Scheduled departure time', 'Retard']])\n"
   ]
  },
  {
   "cell_type": "markdown",
   "metadata": {},
   "source": [
    "<span style=\"color:darkcyan;\">**Encodage des variables qualitatives**</span>\n"
   ]
  },
  {
   "cell_type": "code",
   "execution_count": null,
   "metadata": {},
   "outputs": [],
   "source": [
    "!pip install scikit-learn\n",
    "import sklearn\n",
    "from sklearn.preprocessing import LabelEncoder"
   ]
  },
  {
   "cell_type": "markdown",
   "metadata": {},
   "source": [
    "<span style=\"color:lightpink;\">**Encodage de la variable Weekday_Flight**</span>"
   ]
  },
  {
   "cell_type": "code",
   "execution_count": null,
   "metadata": {},
   "outputs": [],
   "source": [
    "# Initialiser l'encodeur\n",
    "label_encoder = LabelEncoder()\n",
    "\n",
    "# Encoder de la variable Weekday_Flight\n",
    "df['Weekday_Flight_encoded'] = label_encoder.fit_transform(df['Weekday_Flight'])\n",
    "\n",
    "# Récupérer les modalités de Weekday_Flight et leurs codes correspondant dans la variable Weekday_Flight_encoded\n",
    "modalites_et_codes = list(zip(label_encoder.classes_, range(len(label_encoder.classes_))))\n",
    "\n",
    "# Afficher les modalités et leurs codes\n",
    "print(\"Modalités et leurs codes :\", modalites_et_codes)\n",
    "\n",
    "#Afficher les colonnes Weekday_Flight et Weekday_Flight_encoded\n",
    "print(df[['Weekday_Flight','Weekday_Flight_encoded']])\n"
   ]
  },
  {
   "cell_type": "markdown",
   "metadata": {},
   "source": [
    "<span style=\"color:lightpink;\">**Encodage de la variable Season**</span>\n"
   ]
  },
  {
   "cell_type": "code",
   "execution_count": null,
   "metadata": {},
   "outputs": [],
   "source": [
    "# Initialiser l'encodeur\n",
    "label_encoder = LabelEncoder()\n",
    "\n",
    "\n",
    "# Encoder de la variable Season\n",
    "df['Season_encoded'] = label_encoder.fit_transform(df['Season'])\n",
    "\n",
    "# Récupérer les modalités de Season et leurs codes correspondant dans la variable Season_encoded\n",
    "modalites_et_codes = list(zip(label_encoder.classes_, range(len(label_encoder.classes_))))\n",
    "\n",
    "# Afficher les modalités et leurs codes\n",
    "print(\"Modalités et leurs codes :\", modalites_et_codes)\n",
    "\n",
    "#Afficher des valeurs aléatoires de Season et Season_encoded\n",
    "print(df[['Season', 'Season_encoded']][1000:1005])\n",
    "print(df[['Season', 'Season_encoded']][2000:2005])\n",
    "print(df[['Season', 'Season_encoded']][3000:3005])\n"
   ]
  },
  {
   "cell_type": "markdown",
   "metadata": {},
   "source": [
    "<span style=\"color:lightpink;\">**Encodage de la variable Period_Day**</span>\n"
   ]
  },
  {
   "cell_type": "code",
   "execution_count": null,
   "metadata": {},
   "outputs": [],
   "source": [
    "# Initialiser l'encodeur\n",
    "label_encoder = LabelEncoder()\n",
    "\n",
    "# Encoder de la variable Period_Day\n",
    "df['Period_Day_encoded'] = label_encoder.fit_transform(df['Period_Day'])\n",
    "\n",
    "# Récupérer les modalités de Period_Day et leurs codes correspondant dans la variable Period_Day_encoded\n",
    "modalites_et_codes = list(zip(label_encoder.classes_, range(len(label_encoder.classes_))))\n",
    "\n",
    "# Afficher les modalités et leurs codes\n",
    "print(\"Modalités et leurs codes :\", modalites_et_codes)\n",
    "\n",
    "#Afficher les colonnes Period_Day et Period_Day_encoded\n",
    "print(df[['Period_Day','Period_Day_encoded']])\n"
   ]
  },
  {
   "cell_type": "markdown",
   "metadata": {},
   "source": [
    "<span style=\"color:lightpink;\">**Encodage de la variable Destination Airport**</span>\n"
   ]
  },
  {
   "cell_type": "code",
   "execution_count": null,
   "metadata": {},
   "outputs": [],
   "source": [
    "# Initialiser l'encodeur\n",
    "label_encoder = LabelEncoder()\n",
    "\n",
    "# Encoder de la variable Destination Airport\n",
    "df['Destination_encoded'] = label_encoder.fit_transform(df['Destination Airport'])\n",
    "\n",
    "# Récupérer les modalités de Destination Airport et leurs codes correspondant dans la variable Destination_encoded\n",
    "modalites_et_codes1 = list(zip(label_encoder.classes_, range(len(label_encoder.classes_))))\n",
    "\n",
    "# Afficher les modalités et leurs codes\n",
    "print(\"Modalités et leurs codes :\", modalites_et_codes1)\n",
    "\n",
    "#Afficher les colonnes Destination Airport et Destination_encoded\n",
    "print(df[['Destination Airport','Destination_encoded']])\n"
   ]
  },
  {
   "cell_type": "markdown",
   "metadata": {},
   "source": [
    "<span style=\"color:darkcyan;\">**Suppression des variables non porteurs de sens à notre problématique**</span>"
   ]
  }
 ],
 "metadata": {
  "kernelspec": {
   "display_name": "base",
   "language": "python",
   "name": "python3"
  },
  "language_info": {
   "codemirror_mode": {
    "name": "ipython",
    "version": 3
   },
   "file_extension": ".py",
   "mimetype": "text/x-python",
   "name": "python",
   "nbconvert_exporter": "python",
   "pygments_lexer": "ipython3",
   "version": "3.12.7"
  }
 },
 "nbformat": 4,
 "nbformat_minor": 2
}
