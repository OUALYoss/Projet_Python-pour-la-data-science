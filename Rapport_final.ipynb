{
 "cells": [
  {
   "cell_type": "markdown",
   "metadata": {},
   "source": [
    "### **Prédiction des retards des vols au départ de l'aéroport de JFK en fonction des conditions météorologiques ✈️**\n"
   ]
  },
  {
   "cell_type": "markdown",
   "metadata": {},
   "source": [
    "<small> GHORAFI Manal • ED-DAZAZI Khawla • OUALY Oussama</small>"
   ]
  },
  {
   "cell_type": "markdown",
   "metadata": {},
   "source": [
    "<small>Ce projet est réalisé dans le cadre du cours de Python pour la datascience à l'ENSAE pour l'année 2024-2025</small>"
   ]
  },
  {
   "cell_type": "markdown",
   "metadata": {},
   "source": [
    "#### **Introduction**\n",
    "\n",
    "<small> Le transport aérien tient une place centrale dans notre société moderne, reliant des régions du monde entier de manière rapide et efficace. Cependant, cette efficacité est régulièrement compromise par un problème persistant : **les retards de vols**. Ces retards affectent non seulement les passagers, mais aussi les compagnies aériennes et l'économie en général, entraînant des pertes de temps, des surcoûts et une insatisfaction générale.\n",
    "\n",
    "Dans ce contexte, les aéroports sont confrontés à la nécessité de mieux comprendre et anticiper les causes des retards pour optimiser leurs opérations. Parmi les facteurs influençant les retards, **les conditions météorologiques** jouent un rôle crucial. Le brouillard, les vents violents, les précipitations ou les tempêtes peuvent perturber les horaires, réduire les capacités des pistes et accroître la congestion dans les aéroports. Par conséquent, intégrer l'impact des variables météorologiques dans les systèmes de gestion des vols est essentiel pour minimiser les perturbations et améliorer la planification. Ainsi, notre étude s’avère importante car elle propose de **prédire les probabilités de retard des vols au départ en tenant compte de l’impact des conditions météorologiques**.\n",
    "\n",
    "En s’appuyant sur un ensemble de données combinant des informations sur les vols et des variables météorologiques (comme la température, les précipitations et la visibilité), cette étude vise à développer un modèle prédictif précis. Ce modèle peut être utilisé pour mieux planifier les opérations aéroportuaires, réduire les retards et, par conséquent, améliorer l'expérience des usagers.\n",
    "\n",
    "Pour réaliser cette étude, nous nous concentrerons sur les vols de la compagnie aérienne **American Airlines** à départ de **l'aéroport international John F. Kennedy (JFK) à New York**, l'un des hubs les plus importants et les plus actifs au monde. Cet aéroport offre un contexte riche en données. Nous nous sommes intéressés aux vols de \n",
    "\n",
    "Pour identifier les facteurs influençant les retards des vols, nous avons mené une recherche préliminaire dans la littérature spécialisée, dont les références seront détaillées dans la partie **Sources** à la fin du rapport. Ces études mettent en évidence plusieurs types de variables pertinentes que nous avons essayé de regrouper en trois grandes catégories : \n",
    "\n",
    "**Variables liées aux vols**\n",
    "\n",
    "<span style=\"margin-left: 50px;\">**Heure de départ prévue :** Les retards peuvent être plus fréquents à certaines heures (par exemple, le soir).</span>\n",
    "\n",
    "<span style=\"margin-left: 50px;\">**Jour de la semaine :** Les week-ends ou jours de semaine peuvent influencer la ponctualité.</span>\n",
    "\n",
    "<span style=\"margin-left: 50px;\">**Saison ou mois de l’année :** Les conditions météorologiques ou les vacances peuvent affecter les vols.</span>\n",
    "\n",
    "\n",
    "**Variables liées à la météo**\n",
    "\n",
    "<span style=\"margin-left: 50px;\">**Conditions météorologiques défavorables :** Des phénomènes tels qu'une faible visibilité et des vents forts sont connus pour être des facteurs susceptibles de provoquer des retards au décollage et de retarder le départ du vol de son parking.</span>\n",
    "\n",
    "**Variables liées aux facteurs opérationnels**\n",
    "\n",
    "<span style=\"margin-left: 50px;\">**Problèmes techniques :** Des défaillances mécaniques ou des besoins de maintenance imprévus peuvent retarder le départ d'un vol.</span>\n",
    "\n",
    "<span style=\"margin-left: 50px;\">**Procédures de sécurité :** Des contrôles de sécurité renforcés ou des protocoles supplémentaires peuvent allonger le temps avant le décollage.</span>\n",
    "\n",
    "**Variables liées au logistique aéroportuaire**\n",
    "\n",
    "<span style=\"margin-left: 50px;\">**Services au sol :** Des délais dans le ravitaillement en carburant, le chargement des bagages ou le dégivrage de l'appareil peuvent également contribuer aux retards.</span>\n",
    "\n",
    "Afin de structurer cette étude, nous avons adopté une démarche en trois grandes étapes :\n",
    "\n",
    "<span style=\"margin-left: 50px;\">**Récupération et traitement des bases de données**</span>\n",
    "\n",
    "<span style=\"margin-left: 70px;\">**A. Base de Données vols**</span>\n",
    "\n",
    "<span style=\"margin-left: 70px;\">**B. Base de Données météo**</span>\n",
    "\n",
    "<span style=\"margin-left: 70px;\">**C. Fusion et construction de la base de données finale**</span>\n",
    "\n",
    "<span style=\"margin-left: 50px;\">**Analyse descriptive et représentation graphique**</span>\n",
    "\n",
    "<span style=\"margin-left: 50px;\">**Modélisation**</span>\n",
    "\n",
    "<span style=\"margin-left: 70px;\">**A. Régression Logistique**</span>\n",
    "\n",
    "<span style=\"margin-left: 70px;\">**B. Forêts Aléatoires**</span>\n",
    "\n",
    "<span style=\"margin-left: 70px;\">**C. Comparaison entre les deux modèles**</span>\n",
    "\n",
    " </small>\n",
    "\n"
   ]
  },
  {
   "cell_type": "markdown",
   "metadata": {},
   "source": []
  }
 ],
 "metadata": {
  "language_info": {
   "name": "python"
  }
 },
 "nbformat": 4,
 "nbformat_minor": 2
}
