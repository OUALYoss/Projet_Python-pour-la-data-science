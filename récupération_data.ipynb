{
 "cells": [
  {
   "cell_type": "code",
   "execution_count": 1,
   "metadata": {},
   "outputs": [
    {
     "name": "stdout",
     "output_type": "stream",
     "text": [
      "Defaulting to user installation because normal site-packages is not writeable\n",
      "Collecting pandas\n",
      "  Downloading pandas-2.2.3-cp310-cp310-manylinux_2_17_x86_64.manylinux2014_x86_64.whl (13.1 MB)\n",
      "\u001b[2K     \u001b[90m━━━━━━━━━━━━━━━━━━━━━━━━━━━━━━━━━━━━━━━━\u001b[0m \u001b[32m13.1/13.1 MB\u001b[0m \u001b[31m53.1 MB/s\u001b[0m eta \u001b[36m0:00:00\u001b[0m00:01\u001b[0m0:01\u001b[0m\n",
      "\u001b[?25hRequirement already satisfied: python-dateutil>=2.8.2 in /home/onyxia/.local/lib/python3.10/site-packages (from pandas) (2.9.0.post0)\n",
      "Collecting tzdata>=2022.7\n",
      "  Downloading tzdata-2024.2-py2.py3-none-any.whl (346 kB)\n",
      "\u001b[2K     \u001b[90m━━━━━━━━━━━━━━━━━━━━━━━━━━━━━━━━━━━━━━\u001b[0m \u001b[32m346.6/346.6 KB\u001b[0m \u001b[31m33.3 MB/s\u001b[0m eta \u001b[36m0:00:00\u001b[0m\n",
      "\u001b[?25hCollecting numpy>=1.22.4\n",
      "  Downloading numpy-2.1.3-cp310-cp310-manylinux_2_17_x86_64.manylinux2014_x86_64.whl (16.3 MB)\n",
      "\u001b[2K     \u001b[90m━━━━━━━━━━━━━━━━━━━━━━━━━━━━━━━━━━━━━━━━\u001b[0m \u001b[32m16.3/16.3 MB\u001b[0m \u001b[31m63.0 MB/s\u001b[0m eta \u001b[36m0:00:00\u001b[0m00:01\u001b[0m00:01\u001b[0m\n",
      "\u001b[?25hCollecting pytz>=2020.1\n",
      "  Downloading pytz-2024.2-py2.py3-none-any.whl (508 kB)\n",
      "\u001b[2K     \u001b[90m━━━━━━━━━━━━━━━━━━━━━━━━━━━━━━━━━━━━━━\u001b[0m \u001b[32m508.0/508.0 KB\u001b[0m \u001b[31m65.6 MB/s\u001b[0m eta \u001b[36m0:00:00\u001b[0m\n",
      "\u001b[?25hRequirement already satisfied: six>=1.5 in /usr/lib/python3/dist-packages (from python-dateutil>=2.8.2->pandas) (1.16.0)\n",
      "Installing collected packages: pytz, tzdata, numpy, pandas\n",
      "Successfully installed numpy-2.1.3 pandas-2.2.3 pytz-2024.2 tzdata-2024.2\n"
     ]
    }
   ],
   "source": [
    "!pip install pandas"
   ]
  },
  {
   "cell_type": "code",
   "execution_count": null,
   "metadata": {},
   "outputs": [
    {
     "name": "stdout",
     "output_type": "stream",
     "text": [
      "                  time  temperature_2m (°C)  relative_humidity_2m (%)  \\\n",
      "0  2020-11-01 06:00:00                  5.9                        82   \n",
      "\n",
      "   dew_point_2m (°C)  apparent_temperature (°C)  precipitation (mm)  \\\n",
      "0                3.1                        3.0                 0.0   \n",
      "\n",
      "   rain (mm)  snowfall (cm)  snow_depth (m)  weather_code (wmo code)  ...  \\\n",
      "0        0.0            0.0             0.0                        0  ...   \n",
      "\n",
      "   Scheduled elapsed time (Minutes)  Actual elapsed time (Minutes)  \\\n",
      "0                             392.0                          378.0   \n",
      "\n",
      "   Departure delay (Minutes)  Wheels-off time  Taxi-Out time (Minutes)  \\\n",
      "0                       -9.0         06:11:00                     20.0   \n",
      "\n",
      "   Delay Carrier (Minutes)  Delay Weather (Minutes)  \\\n",
      "0                      0.0                      0.0   \n",
      "\n",
      "   Delay National Aviation System (Minutes)  Delay Security (Minutes)  \\\n",
      "0                                       0.0                       0.0   \n",
      "\n",
      "   Delay Late Aircraft Arrival (Minutes)  \n",
      "0                                    0.0  \n",
      "\n",
      "[1 rows x 48 columns]\n"
     ]
    }
   ],
   "source": [
    "import pandas as pd\n",
    "\n",
    "# Charger le fichier CSV\n",
    "df = pd.read_csv(\"data.csv\")  # Remplacez \"data.csv\" par le chemin exact de votre fichier\n",
    "\n",
    "# Afficher les 6 premières lignes\n",
    "print(df.head(1))\n"
   ]
  },
  {
   "cell_type": "code",
   "execution_count": 4,
   "metadata": {},
   "outputs": [
    {
     "name": "stdout",
     "output_type": "stream",
     "text": [
      "Defaulting to user installation because normal site-packages is not writeable\n",
      "Requirement already satisfied: pandas in /home/onyxia/.local/lib/python3.10/site-packages (2.2.3)\n",
      "Collecting openpyxl\n",
      "  Downloading openpyxl-3.1.5-py2.py3-none-any.whl (250 kB)\n",
      "\u001b[2K     \u001b[90m━━━━━━━━━━━━━━━━━━━━━━━━━━━━━━━━━━━━━━━\u001b[0m \u001b[32m250.9/250.9 KB\u001b[0m \u001b[31m5.4 MB/s\u001b[0m eta \u001b[36m0:00:00\u001b[0ma \u001b[36m0:00:01\u001b[0m\n",
      "\u001b[?25hRequirement already satisfied: pytz>=2020.1 in /home/onyxia/.local/lib/python3.10/site-packages (from pandas) (2024.2)\n",
      "Requirement already satisfied: numpy>=1.22.4 in /home/onyxia/.local/lib/python3.10/site-packages (from pandas) (2.1.3)\n",
      "Requirement already satisfied: python-dateutil>=2.8.2 in /home/onyxia/.local/lib/python3.10/site-packages (from pandas) (2.9.0.post0)\n",
      "Requirement already satisfied: tzdata>=2022.7 in /home/onyxia/.local/lib/python3.10/site-packages (from pandas) (2024.2)\n",
      "Collecting et-xmlfile\n",
      "  Downloading et_xmlfile-2.0.0-py3-none-any.whl (18 kB)\n",
      "Requirement already satisfied: six>=1.5 in /usr/lib/python3/dist-packages (from python-dateutil>=2.8.2->pandas) (1.16.0)\n",
      "Installing collected packages: et-xmlfile, openpyxl\n",
      "Successfully installed et-xmlfile-2.0.0 openpyxl-3.1.5\n"
     ]
    }
   ],
   "source": [
    "!pip install pandas openpyxl"
   ]
  },
  {
   "cell_type": "code",
   "execution_count": 8,
   "metadata": {},
   "outputs": [
    {
     "name": "stdout",
     "output_type": "stream",
     "text": [
      "  <B>Detailed Statistics Departures<B>  <BR>Origin Airport: New York  \\\n",
      "0                                               <tr>                   \n",
      "1  <th scope=\"col\">Carrier Code</th><th scope=\"co...                   \n",
      "2                                          </tr><tr>                   \n",
      "3  <td>AA</td><td>01/01/2020</td><td>0001</td><td...                   \n",
      "4                                          </tr><tr>                   \n",
      "5  <td>AA</td><td>01/01/2020</td><td>0003</td><td...                   \n",
      "\n",
      "   NY: John F. Kennedy International (JFK)<BR>Airline: American Airlines Inc. (AA)<BR>Month(s): January  \\\n",
      "0                                                NaN                                                      \n",
      "1                                                NaN                                                      \n",
      "2                                                NaN                                                      \n",
      "3                                                NaN                                                      \n",
      "4                                                NaN                                                      \n",
      "5                                                NaN                                                      \n",
      "\n",
      "   February  March  April  May  June  July  August  September  ...  24  25  \\\n",
      "0       NaN    NaN    NaN  NaN   NaN   NaN     NaN        NaN  ... NaN NaN   \n",
      "1       NaN    NaN    NaN  NaN   NaN   NaN     NaN        NaN  ... NaN NaN   \n",
      "2       NaN    NaN    NaN  NaN   NaN   NaN     NaN        NaN  ... NaN NaN   \n",
      "3       NaN    NaN    NaN  NaN   NaN   NaN     NaN        NaN  ... NaN NaN   \n",
      "4       NaN    NaN    NaN  NaN   NaN   NaN     NaN        NaN  ... NaN NaN   \n",
      "5       NaN    NaN    NaN  NaN   NaN   NaN     NaN        NaN  ... NaN NaN   \n",
      "\n",
      "   26  27  28  29  30 and 31<br>Year(s): 2020  2021  2022  \\\n",
      "0 NaN NaN NaN NaN                         NaN   NaN   NaN   \n",
      "1 NaN NaN NaN NaN                         NaN   NaN   NaN   \n",
      "2 NaN NaN NaN NaN                         NaN   NaN   NaN   \n",
      "3 NaN NaN NaN NaN                         NaN   NaN   NaN   \n",
      "4 NaN NaN NaN NaN                         NaN   NaN   NaN   \n",
      "5 NaN NaN NaN NaN                         NaN   NaN   NaN   \n",
      "\n",
      "   2023 and 2024<br><BR><table rules=\"all\" border=\"1\">  \n",
      "0                                                NaN    \n",
      "1                                                NaN    \n",
      "2                                                NaN    \n",
      "3                                                NaN    \n",
      "4                                                NaN    \n",
      "5                                                NaN    \n",
      "\n",
      "[6 rows x 45 columns]\n"
     ]
    }
   ],
   "source": [
    "import pandas as pd\n",
    "\n",
    "# Charger le fichier Excel\n",
    "df = pd.read_excel(\"/home/onyxia/work/Projet_Python-pour-la-data-science/Detailed_Statistics_Departures.xlsx\")  # Remplacez \"fichier.xlsx\" par le chemin de votre fichier\n",
    "\n",
    "# Afficher les 6 premières lignes\n",
    "print(df.head(6))\n"
   ]
  }
 ],
 "metadata": {
  "kernelspec": {
   "display_name": "Python 3",
   "language": "python",
   "name": "python3"
  },
  "language_info": {
   "codemirror_mode": {
    "name": "ipython",
    "version": 3
   },
   "file_extension": ".py",
   "mimetype": "text/x-python",
   "name": "python",
   "nbconvert_exporter": "python",
   "pygments_lexer": "ipython3",
   "version": "3.10.12"
  }
 },
 "nbformat": 4,
 "nbformat_minor": 2
}
